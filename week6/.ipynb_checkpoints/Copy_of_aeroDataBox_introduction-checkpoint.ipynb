{
 "cells": [
  {
   "cell_type": "markdown",
   "metadata": {
    "id": "Wu99MtE0j0za"
   },
   "source": [
    "So far we've learnt how to scrape the web, and how to make a request for information from an API. Some websites make APIs even easier. Check out [RapidAPI](https://rapidapi.com/) they take care of writing most of the code for you.\n",
    "\n",
    "We will use the [AeroDataBox API](https://rapidapi.com/aedbx-aedbx/api/aerodatabox/), which can retrieve all sorts of information about flights and airports. We will show you how to retrieve information about the airports, and then it's up to you to apply this, along with what you've already learnt this week, to **produce a function, which retrieves tomorrows flight information for the major airports in the cities you web scapped**."
   ]
  },
  {
   "cell_type": "code",
   "execution_count": null,
   "metadata": {
    "id": "lIYdn1woOS1n"
   },
   "outputs": [],
   "source": [
    "import pandas as pd\n",
    "import requests"
   ]
  },
  {
   "cell_type": "markdown",
   "metadata": {
    "id": "_xaphJ-ElsfW"
   },
   "source": [
    "On the left hand side of the AeroDataBox API page, you'll see a list of options for information that you can retrieve:\n",
    "> - Flights API\n",
    "- Subsciption / PUSH API\n",
    "- Airport API\n",
    "- Aircraft API\n",
    "- Healthcheck & Status API\n",
    "\n",
    "1. We want to select `Airport API`\n",
    "\n",
    "2. Then within Airport API we want to select `Search airports by location`\n",
    "\n",
    "3. Now in the middle third you'll want to enter the `latitude` and `longitude` of any city to test... we chose Berlin: latitude 52.31 longitude 13.24. Next we changed the `radiusKM` to only 50km. And finally set `withFlightInfoOnly` to true, so it will only return airports which have flight data (scheduled or live) available.\n",
    "\n",
    "4. On the right hand third of the screen you should see a block of code that looks pretty unfamiliar. This is because by default the code is probably set to *(Node.js) Axios*. However, we have the power to change this to familiar python. Select the dropdown box at the top of the code and select `python > requests`.\n",
    "\n",
    "Now you can copy the code to your notebook and it should look a little something like the cell below:"
   ]
  },
  {
   "cell_type": "code",
   "execution_count": null,
   "metadata": {
    "colab": {
     "base_uri": "https://localhost:8080/"
    },
    "id": "ZDlUQxEZicBS",
    "outputId": "63bf3951-3482-4ff0-c4ec-932132c06808"
   },
   "outputs": [
    {
     "name": "stdout",
     "output_type": "stream",
     "text": [
      "{\"icao\":\"EHAM\",\"iata\":\"AMS\",\"shortName\":\"Schiphol\",\"fullName\":\"Amsterdam, Amsterdam Schiphol\",\"municipalityName\":\"Amsterdam\",\"location\":{\"lat\":52.3086,\"lon\":4.763889},\"country\":{\"code\":\"NL\",\"name\":\"Netherlands\"},\"continent\":{\"code\":\"EU\",\"name\":\"Europe\"},\"timeZone\":\"Europe/Amsterdam\",\"urls\":{\"webSite\":\"http://www.schiphol.nl/\",\"wikipedia\":\"https://en.wikipedia.org/wiki/Amsterdam_Schiphol_Airport\",\"twitter\":\"http://twitter.com/Schiphol\",\"googleMaps\":\"https://www.google.com/maps/@52.308601,4.763889,14z\",\"liveAtc\":\"http://www.liveatc.net/search/?icao=EHAM\",\"flightRadar\":\"https://www.flightradar24.com/52.31,4.76/14\"}}\n"
     ]
    }
   ],
   "source": [
    "import requests\n",
    "\n",
    "url = \"https://aerodatabox.p.rapidapi.com/airports/iata/AMS\"\n",
    "\n",
    "headers = {\n",
    "\t\"X-RapidAPI-Key\": \"YOUR-API-KEY\",\n",
    "\t\"X-RapidAPI-Host\": \"aerodatabox.p.rapidapi.com\"\n",
    "}\n",
    "\n",
    "response = requests.request(\"GET\", url, headers=headers)\n",
    "\n",
    "print(response.text)"
   ]
  },
  {
   "cell_type": "markdown",
   "metadata": {
    "id": "yAI0OyJpopkG"
   },
   "source": [
    "Let's view the response as `.json()` instead of `.text` so that it's easier to read"
   ]
  },
  {
   "cell_type": "code",
   "execution_count": null,
   "metadata": {
    "colab": {
     "base_uri": "https://localhost:8080/"
    },
    "id": "iYctxSRWo22l",
    "outputId": "ccea92e3-096f-48ea-cdb1-98fa56af404b"
   },
   "outputs": [
    {
     "data": {
      "text/plain": [
       "{'icao': 'EHAM',\n",
       " 'iata': 'AMS',\n",
       " 'shortName': 'Schiphol',\n",
       " 'fullName': 'Amsterdam, Amsterdam Schiphol',\n",
       " 'municipalityName': 'Amsterdam',\n",
       " 'location': {'lat': 52.3086, 'lon': 4.763889},\n",
       " 'country': {'code': 'NL', 'name': 'Netherlands'},\n",
       " 'continent': {'code': 'EU', 'name': 'Europe'},\n",
       " 'timeZone': 'Europe/Amsterdam',\n",
       " 'urls': {'webSite': 'http://www.schiphol.nl/',\n",
       "  'wikipedia': 'https://en.wikipedia.org/wiki/Amsterdam_Schiphol_Airport',\n",
       "  'twitter': 'http://twitter.com/Schiphol',\n",
       "  'googleMaps': 'https://www.google.com/maps/@52.308601,4.763889,14z',\n",
       "  'liveAtc': 'http://www.liveatc.net/search/?icao=EHAM',\n",
       "  'flightRadar': 'https://www.flightradar24.com/52.31,4.76/14'}}"
      ]
     },
     "execution_count": 21,
     "metadata": {},
     "output_type": "execute_result"
    }
   ],
   "source": [
    "response.json()"
   ]
  },
  {
   "cell_type": "markdown",
   "metadata": {
    "id": "mPPVXqoDpiJ0"
   },
   "source": [
    "We can now turn this into a dataframe using `.json_normalize()`"
   ]
  },
  {
   "cell_type": "code",
   "execution_count": null,
   "metadata": {
    "colab": {
     "base_uri": "https://localhost:8080/",
     "height": 179
    },
    "id": "L8l3G1wRpESW",
    "outputId": "f17b414f-ebbc-46a7-ef32-a7113c316cbf"
   },
   "outputs": [
    {
     "data": {
      "text/html": [
       "\n",
       "  <div id=\"df-f6a6dd07-4cdd-4515-87a1-881985576eba\">\n",
       "    <div class=\"colab-df-container\">\n",
       "      <div>\n",
       "<style scoped>\n",
       "    .dataframe tbody tr th:only-of-type {\n",
       "        vertical-align: middle;\n",
       "    }\n",
       "\n",
       "    .dataframe tbody tr th {\n",
       "        vertical-align: top;\n",
       "    }\n",
       "\n",
       "    .dataframe thead th {\n",
       "        text-align: right;\n",
       "    }\n",
       "</style>\n",
       "<table border=\"1\" class=\"dataframe\">\n",
       "  <thead>\n",
       "    <tr style=\"text-align: right;\">\n",
       "      <th></th>\n",
       "      <th>icao</th>\n",
       "      <th>iata</th>\n",
       "      <th>shortName</th>\n",
       "      <th>fullName</th>\n",
       "      <th>municipalityName</th>\n",
       "      <th>timeZone</th>\n",
       "      <th>location.lat</th>\n",
       "      <th>location.lon</th>\n",
       "      <th>country.code</th>\n",
       "      <th>country.name</th>\n",
       "      <th>continent.code</th>\n",
       "      <th>continent.name</th>\n",
       "      <th>urls.webSite</th>\n",
       "      <th>urls.wikipedia</th>\n",
       "      <th>urls.twitter</th>\n",
       "      <th>urls.googleMaps</th>\n",
       "      <th>urls.liveAtc</th>\n",
       "      <th>urls.flightRadar</th>\n",
       "    </tr>\n",
       "  </thead>\n",
       "  <tbody>\n",
       "    <tr>\n",
       "      <th>0</th>\n",
       "      <td>EHAM</td>\n",
       "      <td>AMS</td>\n",
       "      <td>Schiphol</td>\n",
       "      <td>Amsterdam, Amsterdam Schiphol</td>\n",
       "      <td>Amsterdam</td>\n",
       "      <td>Europe/Amsterdam</td>\n",
       "      <td>52.3086</td>\n",
       "      <td>4.763889</td>\n",
       "      <td>NL</td>\n",
       "      <td>Netherlands</td>\n",
       "      <td>EU</td>\n",
       "      <td>Europe</td>\n",
       "      <td>http://www.schiphol.nl/</td>\n",
       "      <td>https://en.wikipedia.org/wiki/Amsterdam_Schiph...</td>\n",
       "      <td>http://twitter.com/Schiphol</td>\n",
       "      <td>https://www.google.com/maps/@52.308601,4.76388...</td>\n",
       "      <td>http://www.liveatc.net/search/?icao=EHAM</td>\n",
       "      <td>https://www.flightradar24.com/52.31,4.76/14</td>\n",
       "    </tr>\n",
       "  </tbody>\n",
       "</table>\n",
       "</div>\n",
       "      <button class=\"colab-df-convert\" onclick=\"convertToInteractive('df-f6a6dd07-4cdd-4515-87a1-881985576eba')\"\n",
       "              title=\"Convert this dataframe to an interactive table.\"\n",
       "              style=\"display:none;\">\n",
       "        \n",
       "  <svg xmlns=\"http://www.w3.org/2000/svg\" height=\"24px\"viewBox=\"0 0 24 24\"\n",
       "       width=\"24px\">\n",
       "    <path d=\"M0 0h24v24H0V0z\" fill=\"none\"/>\n",
       "    <path d=\"M18.56 5.44l.94 2.06.94-2.06 2.06-.94-2.06-.94-.94-2.06-.94 2.06-2.06.94zm-11 1L8.5 8.5l.94-2.06 2.06-.94-2.06-.94L8.5 2.5l-.94 2.06-2.06.94zm10 10l.94 2.06.94-2.06 2.06-.94-2.06-.94-.94-2.06-.94 2.06-2.06.94z\"/><path d=\"M17.41 7.96l-1.37-1.37c-.4-.4-.92-.59-1.43-.59-.52 0-1.04.2-1.43.59L10.3 9.45l-7.72 7.72c-.78.78-.78 2.05 0 2.83L4 21.41c.39.39.9.59 1.41.59.51 0 1.02-.2 1.41-.59l7.78-7.78 2.81-2.81c.8-.78.8-2.07 0-2.86zM5.41 20L4 18.59l7.72-7.72 1.47 1.35L5.41 20z\"/>\n",
       "  </svg>\n",
       "      </button>\n",
       "      \n",
       "  <style>\n",
       "    .colab-df-container {\n",
       "      display:flex;\n",
       "      flex-wrap:wrap;\n",
       "      gap: 12px;\n",
       "    }\n",
       "\n",
       "    .colab-df-convert {\n",
       "      background-color: #E8F0FE;\n",
       "      border: none;\n",
       "      border-radius: 50%;\n",
       "      cursor: pointer;\n",
       "      display: none;\n",
       "      fill: #1967D2;\n",
       "      height: 32px;\n",
       "      padding: 0 0 0 0;\n",
       "      width: 32px;\n",
       "    }\n",
       "\n",
       "    .colab-df-convert:hover {\n",
       "      background-color: #E2EBFA;\n",
       "      box-shadow: 0px 1px 2px rgba(60, 64, 67, 0.3), 0px 1px 3px 1px rgba(60, 64, 67, 0.15);\n",
       "      fill: #174EA6;\n",
       "    }\n",
       "\n",
       "    [theme=dark] .colab-df-convert {\n",
       "      background-color: #3B4455;\n",
       "      fill: #D2E3FC;\n",
       "    }\n",
       "\n",
       "    [theme=dark] .colab-df-convert:hover {\n",
       "      background-color: #434B5C;\n",
       "      box-shadow: 0px 1px 3px 1px rgba(0, 0, 0, 0.15);\n",
       "      filter: drop-shadow(0px 1px 2px rgba(0, 0, 0, 0.3));\n",
       "      fill: #FFFFFF;\n",
       "    }\n",
       "  </style>\n",
       "\n",
       "      <script>\n",
       "        const buttonEl =\n",
       "          document.querySelector('#df-f6a6dd07-4cdd-4515-87a1-881985576eba button.colab-df-convert');\n",
       "        buttonEl.style.display =\n",
       "          google.colab.kernel.accessAllowed ? 'block' : 'none';\n",
       "\n",
       "        async function convertToInteractive(key) {\n",
       "          const element = document.querySelector('#df-f6a6dd07-4cdd-4515-87a1-881985576eba');\n",
       "          const dataTable =\n",
       "            await google.colab.kernel.invokeFunction('convertToInteractive',\n",
       "                                                     [key], {});\n",
       "          if (!dataTable) return;\n",
       "\n",
       "          const docLinkHtml = 'Like what you see? Visit the ' +\n",
       "            '<a target=\"_blank\" href=https://colab.research.google.com/notebooks/data_table.ipynb>data table notebook</a>'\n",
       "            + ' to learn more about interactive tables.';\n",
       "          element.innerHTML = '';\n",
       "          dataTable['output_type'] = 'display_data';\n",
       "          await google.colab.output.renderOutput(dataTable, element);\n",
       "          const docLink = document.createElement('div');\n",
       "          docLink.innerHTML = docLinkHtml;\n",
       "          element.appendChild(docLink);\n",
       "        }\n",
       "      </script>\n",
       "    </div>\n",
       "  </div>\n",
       "  "
      ],
      "text/plain": [
       "   icao iata shortName                       fullName municipalityName  \\\n",
       "0  EHAM  AMS  Schiphol  Amsterdam, Amsterdam Schiphol        Amsterdam   \n",
       "\n",
       "           timeZone  location.lat  location.lon country.code country.name  \\\n",
       "0  Europe/Amsterdam       52.3086      4.763889           NL  Netherlands   \n",
       "\n",
       "  continent.code continent.name             urls.webSite  \\\n",
       "0             EU         Europe  http://www.schiphol.nl/   \n",
       "\n",
       "                                      urls.wikipedia  \\\n",
       "0  https://en.wikipedia.org/wiki/Amsterdam_Schiph...   \n",
       "\n",
       "                  urls.twitter  \\\n",
       "0  http://twitter.com/Schiphol   \n",
       "\n",
       "                                     urls.googleMaps  \\\n",
       "0  https://www.google.com/maps/@52.308601,4.76388...   \n",
       "\n",
       "                               urls.liveAtc  \\\n",
       "0  http://www.liveatc.net/search/?icao=EHAM   \n",
       "\n",
       "                              urls.flightRadar  \n",
       "0  https://www.flightradar24.com/52.31,4.76/14  "
      ]
     },
     "execution_count": 22,
     "metadata": {},
     "output_type": "execute_result"
    }
   ],
   "source": [
    "pd.json_normalize(response.json())"
   ]
  },
  {
   "cell_type": "markdown",
   "metadata": {
    "id": "Q47nbbH0I3Xt"
   },
   "source": [
    "Let's now use this for the latitude and longitude of multiple cities"
   ]
  },
  {
   "cell_type": "code",
   "execution_count": null,
   "metadata": {
    "id": "q0VCPFOmH3vl"
   },
   "outputs": [],
   "source": [
    "def icao_airport_codes(latitudes, longitudes):\n",
    "\n",
    "  #assert len(latitudes) == len(longitudes)\n",
    "  \n",
    "  list_for_df = []\n",
    "\n",
    "  for i in range(len(latitudes)):\n",
    "\n",
    "    url = f\"https://aerodatabox.p.rapidapi.com/airports/search/location/{latitudes[i]}/{longitudes[i]}/km/100/16\"\n",
    "\n",
    "    querystring = {\"withFlightInfoOnly\":\"true\"}\n",
    "\n",
    "    headers = {\n",
    "      \"X-RapidAPI-Host\": \"aerodatabox.p.rapidapi.com\",\n",
    "      \"X-RapidAPI-Key\": \"YOUR-API-KEY\"\n",
    "    }\n",
    "\n",
    "    response = requests.request(\"GET\", url, headers=headers, params=querystring)\n",
    "\n",
    "    list_for_df.append(pd.json_normalize(response.json()['items']))\n",
    "\n",
    "  return pd.concat(list_for_df, ignore_index=True)"
   ]
  },
  {
   "cell_type": "code",
   "execution_count": null,
   "metadata": {
    "colab": {
     "base_uri": "https://localhost:8080/",
     "height": 143
    },
    "id": "X7lxem4AqhaP",
    "outputId": "9cdc1206-4d81-4f14-b376-e8412418f8ce"
   },
   "outputs": [
    {
     "data": {
      "text/html": [
       "\n",
       "  <div id=\"df-3c87c88e-3a90-4839-a98a-035bba56a0fc\">\n",
       "    <div class=\"colab-df-container\">\n",
       "      <div>\n",
       "<style scoped>\n",
       "    .dataframe tbody tr th:only-of-type {\n",
       "        vertical-align: middle;\n",
       "    }\n",
       "\n",
       "    .dataframe tbody tr th {\n",
       "        vertical-align: top;\n",
       "    }\n",
       "\n",
       "    .dataframe thead th {\n",
       "        text-align: right;\n",
       "    }\n",
       "</style>\n",
       "<table border=\"1\" class=\"dataframe\">\n",
       "  <thead>\n",
       "    <tr style=\"text-align: right;\">\n",
       "      <th></th>\n",
       "      <th>icao</th>\n",
       "      <th>iata</th>\n",
       "      <th>name</th>\n",
       "      <th>shortName</th>\n",
       "      <th>municipalityName</th>\n",
       "      <th>countryCode</th>\n",
       "      <th>location.lat</th>\n",
       "      <th>location.lon</th>\n",
       "    </tr>\n",
       "  </thead>\n",
       "  <tbody>\n",
       "    <tr>\n",
       "      <th>0</th>\n",
       "      <td>EDDB</td>\n",
       "      <td>BER</td>\n",
       "      <td>Berlin, Berlin Brandenburg</td>\n",
       "      <td>Brandenburg</td>\n",
       "      <td>Berlin</td>\n",
       "      <td>DE</td>\n",
       "      <td>52.35139</td>\n",
       "      <td>13.493889</td>\n",
       "    </tr>\n",
       "    <tr>\n",
       "      <th>1</th>\n",
       "      <td>EHAM</td>\n",
       "      <td>AMS</td>\n",
       "      <td>Amsterdam, Amsterdam Schiphol</td>\n",
       "      <td>Schiphol</td>\n",
       "      <td>Amsterdam</td>\n",
       "      <td>NL</td>\n",
       "      <td>52.30860</td>\n",
       "      <td>4.763889</td>\n",
       "    </tr>\n",
       "    <tr>\n",
       "      <th>2</th>\n",
       "      <td>EHRD</td>\n",
       "      <td>RTM</td>\n",
       "      <td>Rotterdam, Rotterdam The Hague</td>\n",
       "      <td>The Hague</td>\n",
       "      <td>Rotterdam</td>\n",
       "      <td>NL</td>\n",
       "      <td>51.95690</td>\n",
       "      <td>4.437220</td>\n",
       "    </tr>\n",
       "  </tbody>\n",
       "</table>\n",
       "</div>\n",
       "      <button class=\"colab-df-convert\" onclick=\"convertToInteractive('df-3c87c88e-3a90-4839-a98a-035bba56a0fc')\"\n",
       "              title=\"Convert this dataframe to an interactive table.\"\n",
       "              style=\"display:none;\">\n",
       "        \n",
       "  <svg xmlns=\"http://www.w3.org/2000/svg\" height=\"24px\"viewBox=\"0 0 24 24\"\n",
       "       width=\"24px\">\n",
       "    <path d=\"M0 0h24v24H0V0z\" fill=\"none\"/>\n",
       "    <path d=\"M18.56 5.44l.94 2.06.94-2.06 2.06-.94-2.06-.94-.94-2.06-.94 2.06-2.06.94zm-11 1L8.5 8.5l.94-2.06 2.06-.94-2.06-.94L8.5 2.5l-.94 2.06-2.06.94zm10 10l.94 2.06.94-2.06 2.06-.94-2.06-.94-.94-2.06-.94 2.06-2.06.94z\"/><path d=\"M17.41 7.96l-1.37-1.37c-.4-.4-.92-.59-1.43-.59-.52 0-1.04.2-1.43.59L10.3 9.45l-7.72 7.72c-.78.78-.78 2.05 0 2.83L4 21.41c.39.39.9.59 1.41.59.51 0 1.02-.2 1.41-.59l7.78-7.78 2.81-2.81c.8-.78.8-2.07 0-2.86zM5.41 20L4 18.59l7.72-7.72 1.47 1.35L5.41 20z\"/>\n",
       "  </svg>\n",
       "      </button>\n",
       "      \n",
       "  <style>\n",
       "    .colab-df-container {\n",
       "      display:flex;\n",
       "      flex-wrap:wrap;\n",
       "      gap: 12px;\n",
       "    }\n",
       "\n",
       "    .colab-df-convert {\n",
       "      background-color: #E8F0FE;\n",
       "      border: none;\n",
       "      border-radius: 50%;\n",
       "      cursor: pointer;\n",
       "      display: none;\n",
       "      fill: #1967D2;\n",
       "      height: 32px;\n",
       "      padding: 0 0 0 0;\n",
       "      width: 32px;\n",
       "    }\n",
       "\n",
       "    .colab-df-convert:hover {\n",
       "      background-color: #E2EBFA;\n",
       "      box-shadow: 0px 1px 2px rgba(60, 64, 67, 0.3), 0px 1px 3px 1px rgba(60, 64, 67, 0.15);\n",
       "      fill: #174EA6;\n",
       "    }\n",
       "\n",
       "    [theme=dark] .colab-df-convert {\n",
       "      background-color: #3B4455;\n",
       "      fill: #D2E3FC;\n",
       "    }\n",
       "\n",
       "    [theme=dark] .colab-df-convert:hover {\n",
       "      background-color: #434B5C;\n",
       "      box-shadow: 0px 1px 3px 1px rgba(0, 0, 0, 0.15);\n",
       "      filter: drop-shadow(0px 1px 2px rgba(0, 0, 0, 0.3));\n",
       "      fill: #FFFFFF;\n",
       "    }\n",
       "  </style>\n",
       "\n",
       "      <script>\n",
       "        const buttonEl =\n",
       "          document.querySelector('#df-3c87c88e-3a90-4839-a98a-035bba56a0fc button.colab-df-convert');\n",
       "        buttonEl.style.display =\n",
       "          google.colab.kernel.accessAllowed ? 'block' : 'none';\n",
       "\n",
       "        async function convertToInteractive(key) {\n",
       "          const element = document.querySelector('#df-3c87c88e-3a90-4839-a98a-035bba56a0fc');\n",
       "          const dataTable =\n",
       "            await google.colab.kernel.invokeFunction('convertToInteractive',\n",
       "                                                     [key], {});\n",
       "          if (!dataTable) return;\n",
       "\n",
       "          const docLinkHtml = 'Like what you see? Visit the ' +\n",
       "            '<a target=\"_blank\" href=https://colab.research.google.com/notebooks/data_table.ipynb>data table notebook</a>'\n",
       "            + ' to learn more about interactive tables.';\n",
       "          element.innerHTML = '';\n",
       "          dataTable['output_type'] = 'display_data';\n",
       "          await google.colab.output.renderOutput(dataTable, element);\n",
       "          const docLink = document.createElement('div');\n",
       "          docLink.innerHTML = docLinkHtml;\n",
       "          element.appendChild(docLink);\n",
       "        }\n",
       "      </script>\n",
       "    </div>\n",
       "  </div>\n",
       "  "
      ],
      "text/plain": [
       "   icao iata                            name    shortName municipalityName  \\\n",
       "0  EDDB  BER      Berlin, Berlin Brandenburg  Brandenburg           Berlin   \n",
       "1  EHAM  AMS   Amsterdam, Amsterdam Schiphol     Schiphol        Amsterdam   \n",
       "2  EHRD  RTM  Rotterdam, Rotterdam The Hague    The Hague        Rotterdam   \n",
       "\n",
       "  countryCode  location.lat  location.lon  \n",
       "0          DE      52.35139     13.493889  \n",
       "1          NL      52.30860      4.763889  \n",
       "2          NL      51.95690      4.437220  "
      ]
     },
     "execution_count": 26,
     "metadata": {},
     "output_type": "execute_result"
    }
   ],
   "source": [
    "icao_airport_codes([52.31, 52.37], [13.24, 4.89])"
   ]
  },
  {
   "cell_type": "markdown",
   "metadata": {
    "id": "q3DS1gbq3xG8"
   },
   "source": [
    "###### **Challenge 1:** Icao codes\n",
    "If you use the above for all of your cities, you can create a DataFrame of all the airports and their associated `icao` codes. Perfect for a relational database.\n",
    "\n",
    "###### **Challenge 2:** Arrivals information\n",
    "Using what you have been shown above, plus the skills you've learnt in the last couple of days:\n",
    "1. In `AeroDataBox API` use the `Flight API` > `FIDS/Schedules: Airport departures and arrivals by airport ICAO code` section\n",
    "2. Fill out the parameters in the middle third and then copy the `python: requests` code from the right hand third\n",
    "3. Explore the data you get back. What would be useful in your DataFrame and what can be excluded? Remember Gans wants to know about when people are arriving in the city\n",
    "4. Make a DataFrame from the information you see as important\n",
    "5. Condense everything you did above into a function that can take a list of ICAO codes as an input, and as an output gives you a DataFrame with the information for *tomorrows arrivals*"
   ]
  },
  {
   "cell_type": "code",
   "execution_count": 3,
   "metadata": {
    "id": "4xFK3kVd4w5A"
   },
   "outputs": [
    {
     "name": "stdout",
     "output_type": "stream",
     "text": [
      "403\n"
     ]
    },
    {
     "ename": "KeyError",
     "evalue": "'departures'",
     "output_type": "error",
     "traceback": [
      "\u001b[0;31m---------------------------------------------------------------------------\u001b[0m",
      "\u001b[0;31mKeyError\u001b[0m                                  Traceback (most recent call last)",
      "\u001b[0;32m/var/folders/qk/tw9hw7y536n3q312492k3k3m0000gn/T/ipykernel_63119/1075505289.py\u001b[0m in \u001b[0;36m<module>\u001b[0;34m\u001b[0m\n\u001b[1;32m     27\u001b[0m \u001b[0mflight_data\u001b[0m \u001b[0;34m=\u001b[0m \u001b[0mresponse\u001b[0m\u001b[0;34m.\u001b[0m\u001b[0mjson\u001b[0m\u001b[0;34m(\u001b[0m\u001b[0;34m)\u001b[0m\u001b[0;34m\u001b[0m\u001b[0;34m\u001b[0m\u001b[0m\n\u001b[1;32m     28\u001b[0m \u001b[0mprint\u001b[0m\u001b[0;34m(\u001b[0m\u001b[0mresponse\u001b[0m\u001b[0;34m.\u001b[0m\u001b[0mstatus_code\u001b[0m\u001b[0;34m)\u001b[0m\u001b[0;34m\u001b[0m\u001b[0;34m\u001b[0m\u001b[0m\n\u001b[0;32m---> 29\u001b[0;31m \u001b[0mdepartures_df\u001b[0m \u001b[0;34m=\u001b[0m \u001b[0mbuild_departures_df\u001b[0m\u001b[0;34m(\u001b[0m\u001b[0mflight_data\u001b[0m\u001b[0;34m[\u001b[0m\u001b[0;34m'departures'\u001b[0m\u001b[0;34m]\u001b[0m\u001b[0;34m,\u001b[0m\u001b[0micao\u001b[0m\u001b[0;34m)\u001b[0m\u001b[0;34m\u001b[0m\u001b[0;34m\u001b[0m\u001b[0m\n\u001b[0m\u001b[1;32m     30\u001b[0m \u001b[0mdisplay\u001b[0m\u001b[0;34m(\u001b[0m\u001b[0mdepartures_df\u001b[0m\u001b[0;34m)\u001b[0m\u001b[0;34m\u001b[0m\u001b[0;34m\u001b[0m\u001b[0m\n",
      "\u001b[0;31mKeyError\u001b[0m: 'departures'"
     ]
    }
   ],
   "source": [
    "# your code here\n",
    "import requests\n",
    "import pandas as pd\n",
    "\n",
    "headers = {\n",
    "\"X-RapidAPI-Key\": \"APIKEY\",\n",
    "\"X-RapidAPI-Host\": \"aerodatabox.p.rapidapi.com\"\n",
    "}\n",
    "def build_departures_df(data,icao):\n",
    "    departures_df = pd.DataFrame()\n",
    "\n",
    "    for f in range(len(data)):\n",
    "        flight_num = data[f]['number']\n",
    "        dep_date = data[f]['movement']['scheduledTimeLocal']\n",
    "        destination = data[f]['movement']['airport']['name']\n",
    "        status = data[f]['status']\n",
    "        flight = pd.DataFrame({'depart_date':dep_date,'city_iso':[icao],'flight':flight_num,'destination':destination,'status':status})\n",
    "        departures_df = pd.concat([departures_df,flight],axis=0)\n",
    "    return departures_df\n",
    "\n",
    "to_local_time = '2023-02-08T00:00'\n",
    "from_local_time = '2023-02-08T08:00'\n",
    "icao = 'EGLL' #london\n",
    "flights_url = f'https://aerodatabox.p.rapidapi.com/flights/airports/icao/{icao}/{to_local_time}/{from_local_time}'\n",
    "response = requests.request(\"GET\", flights_url, headers=headers)\n",
    "\n",
    "flight_data = response.json()\n",
    "print(response.status_code)\n",
    "departures_df = build_departures_df(flight_data['departures'],icao)\n",
    "display(departures_df)"
   ]
  },
  {
   "cell_type": "code",
   "execution_count": null,
   "metadata": {},
   "outputs": [],
   "source": [
    "def build_params(city):\n",
    "    if city == 'Rome':\n",
    "        return {\n",
    "            \"lat\":41.8947,\n",
    "            \"lon\":12.4839,\n",
    "#             \"appid\":\"\"\n",
    "            \"appid\":\"\"\n",
    "        }\n",
    "    if city == 'Paris':\n",
    "        return {\n",
    "            \"lat\":48.8534, \n",
    "            \"lon\":2.388,\n",
    "            \"appid\":\"\"\n",
    "        }"
   ]
  },
  {
   "cell_type": "code",
   "execution_count": 5,
   "metadata": {},
   "outputs": [
    {
     "name": "stdout",
     "output_type": "stream",
     "text": [
      "200\n",
      "281.7\n"
     ]
    },
    {
     "data": {
      "text/html": [
       "<div>\n",
       "<style scoped>\n",
       "    .dataframe tbody tr th:only-of-type {\n",
       "        vertical-align: middle;\n",
       "    }\n",
       "\n",
       "    .dataframe tbody tr th {\n",
       "        vertical-align: top;\n",
       "    }\n",
       "\n",
       "    .dataframe thead th {\n",
       "        text-align: right;\n",
       "    }\n",
       "</style>\n",
       "<table border=\"1\" class=\"dataframe\">\n",
       "  <thead>\n",
       "    <tr style=\"text-align: right;\">\n",
       "      <th></th>\n",
       "      <th>date</th>\n",
       "      <th>city</th>\n",
       "      <th>city_iso</th>\n",
       "      <th>outlook</th>\n",
       "      <th>temp</th>\n",
       "      <th>temp_max</th>\n",
       "      <th>temp_min</th>\n",
       "    </tr>\n",
       "  </thead>\n",
       "  <tbody>\n",
       "    <tr>\n",
       "      <th>0</th>\n",
       "      <td>2023-02-09 12:56:27</td>\n",
       "      <td>Rome</td>\n",
       "      <td>LIRF</td>\n",
       "      <td>clear sky</td>\n",
       "      <td>282.7</td>\n",
       "      <td>284.08</td>\n",
       "      <td>281.7</td>\n",
       "    </tr>\n",
       "  </tbody>\n",
       "</table>\n",
       "</div>"
      ],
      "text/plain": [
       "                 date  city city_iso    outlook   temp  temp_max  temp_min\n",
       "0 2023-02-09 12:56:27  Rome     LIRF  clear sky  282.7    284.08     281.7"
      ]
     },
     "metadata": {},
     "output_type": "display_data"
    }
   ],
   "source": [
    "# https://openweathermap.org/current\n",
    "# url = \"https://api.openweathermap.org/data/2.5/weather?lat={lat}&lon={long}&appid={token}\n",
    "weather_df=pd.DataFrame()\n",
    "current_weather = 'https://api.openweathermap.org/data/2.5/weather'\n",
    "\n",
    "params = build_params('Rome')\n",
    "response = requests.request(\"GET\", current_weather, params=params)\n",
    "try:\n",
    "    weather_data =response.json()\n",
    "    print(response.status_code)\n",
    "    description_weather = weather_data['weather'][0]['description']\n",
    "    dtime = weather_data['dt']\n",
    "    time = pd.to_datetime(dtime, unit='s')\n",
    "    # print(time)\n",
    "    # print(data['main'])\n",
    "    currtemp = weather_data['main']['temp']\n",
    "    temp_min = weather_data['main']['temp_min']\n",
    "    temp_max = weather_data['main']['temp_max']\n",
    "    print(temp_min)\n",
    "\n",
    "\n",
    "    current_df=pd.DataFrame({'date':time,'city':[\"Rome\"],'city_iso':[\"LIRF\"],'outlook':description_weather,'temp':currtemp,'temp_max':temp_max,'temp_min':temp_min})\n",
    "    weather_df = pd.concat([weather_df,current_df],axis=0)\n",
    "    display(weather_df)\n",
    "except:\n",
    "    print(\"Error from server: \" + str(response.content))\n",
    "\n",
    "\n"
   ]
  },
  {
   "cell_type": "code",
   "execution_count": null,
   "metadata": {},
   "outputs": [],
   "source": []
  }
 ],
 "metadata": {
  "colab": {
   "provenance": []
  },
  "kernelspec": {
   "display_name": "Python 3 (ipykernel)",
   "language": "python",
   "name": "python3"
  },
  "language_info": {
   "codemirror_mode": {
    "name": "ipython",
    "version": 3
   },
   "file_extension": ".py",
   "mimetype": "text/x-python",
   "name": "python",
   "nbconvert_exporter": "python",
   "pygments_lexer": "ipython3",
   "version": "3.9.13"
  }
 },
 "nbformat": 4,
 "nbformat_minor": 1
}
