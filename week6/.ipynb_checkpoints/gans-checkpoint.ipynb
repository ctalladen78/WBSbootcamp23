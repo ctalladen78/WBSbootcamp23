{
 "cells": [
  {
   "cell_type": "code",
   "execution_count": 3,
   "id": "36ce26ff",
   "metadata": {},
   "outputs": [],
   "source": [
    "from bs4 import BeautifulSoup\n",
    "import urllib.request\n",
    "import pandas as pd\n"
   ]
  },
  {
   "cell_type": "code",
   "execution_count": null,
   "id": "866c742e-40af-46cf-bb20-9733839f88e9",
   "metadata": {},
   "outputs": [],
   "source": [
    "# wikipedia static page\n",
    "# open weather api\n",
    "# areal flights deal base api\n",
    "# pd.read_html\n",
    "\n"
   ]
  },
  {
   "cell_type": "code",
   "execution_count": null,
   "id": "5774d497-fdfc-41bc-8740-e684ba458fde",
   "metadata": {},
   "outputs": [],
   "source": [
    "# automated AWS scraper weather, cities, flights\n",
    "# https://medium.com/@raoshashank/free-cloud-based-data-scraping-using-aws-e111a950e6b5\n",
    "# https://towardsdatascience.com/get-your-own-data-building-a-scalable-web-scraper-with-aws-654feb9fdad7\n",
    "\n",
    "\n"
   ]
  },
  {
   "cell_type": "code",
   "execution_count": 14,
   "id": "21c17099",
   "metadata": {},
   "outputs": [],
   "source": [
    "# url = 'https://en.wikipedia.org/wiki/London'\n",
    "url = 'https://en.wikipedia.org/wiki/List_of_cities_in_the_European_Union_by_population_within_city_limits'"
   ]
  },
  {
   "cell_type": "code",
   "execution_count": 15,
   "id": "851a5566-0b60-4e73-bc72-c510385202ce",
   "metadata": {},
   "outputs": [],
   "source": [
    "source = urllib.request.urlopen(url).read()\n",
    "soup = BeautifulSoup(source,'lxml')\n",
    "\n"
   ]
  },
  {
   "cell_type": "code",
   "execution_count": 1,
   "id": "b63c1a92",
   "metadata": {},
   "outputs": [],
   "source": [
    "# print(soup.prettify())"
   ]
  },
  {
   "cell_type": "code",
   "execution_count": 62,
   "id": "2861fec3",
   "metadata": {},
   "outputs": [],
   "source": [
    "# soup.select(\"tr\") # all the info about all the movies"
   ]
  },
  {
   "cell_type": "code",
   "execution_count": 60,
   "id": "773ff1f0",
   "metadata": {},
   "outputs": [
    {
     "name": "stdout",
     "output_type": "stream",
     "text": [
      "['', 'Rank', '', 'City', 'Member state', '', 'Officialpopulation', '', 'Date', '', 'Reference', '', 'Photography', '']\n",
      "['', '1', '', 'Berlin', 'Germany', '', '3,677,472', '', '31 December 2021', '', '[1]', '', '', '']\n",
      "['', '2', '', 'Madrid', 'Spain', '', '3,305,408', '', '1 January 2021', '', '[2]', '', '', '']\n",
      "['', '3', '', 'Rome', 'Italy', '', '2,761,632', '', '1 January 2022', '', '[3]', '', '', '']\n",
      "['', '4', '', 'Paris', 'France', '', '2,139,907', '', '1 January 2022', '', '[4]', '', '', '']\n",
      "['', '5', '', 'Vienna', 'Austria', '', '1,962,779', '', '1 July 2022', '', '[5]', '', '', '']\n",
      "['', '6', '', 'Warsaw', 'Poland', '', '1,863,056', '', '31 December 2021', '', '[6]', '', '', '']\n",
      "['', '7', '', 'Hamburg', 'Germany', '', '1,853,935', '', '31 December 2021', '', '[1]', '', '', '']\n",
      "['', '8', '', 'Bucharest', 'Romania', '', '1,716,983', '', '1 December 2021', '', '[7]', '', '', '']\n",
      "['', '9', '', 'Budapest', 'Hungary', '', '1,706,851', '', '1 January 2022', '', '[8]', '', '', '']\n"
     ]
    }
   ],
   "source": [
    "\n",
    "for c in range(10):\n",
    "    trow = soup.select(\"tr\")[c].get_text()\n",
    "    print(str(trow).split('\\n'))\n",
    "\n"
   ]
  },
  {
   "cell_type": "code",
   "execution_count": 2,
   "id": "4e28ee1d",
   "metadata": {},
   "outputs": [],
   "source": [
    "# italy airport\n",
    "italy_airport = 'https://www.world-airport-codes.com/italy/leonardo-da-vinci-international-11489.html'"
   ]
  },
  {
   "cell_type": "code",
   "execution_count": 58,
   "id": "14541b5a",
   "metadata": {},
   "outputs": [
    {
     "data": {
      "text/plain": [
       "[<span>FCO</span>,\n",
       " <span>LIRF</span>,\n",
       " <span></span>,\n",
       " <span>41.8044444</span>,\n",
       " <span>12.2508333</span>,\n",
       " <span>Europe/Vatican (GMT +1:00)</span>,\n",
       " <span><a href=\"https://twitter.com/intent/user?screen_name=AeroportidiRoma\" rel=\"external nofollow\">@AeroportidiRoma</a></span>]"
      ]
     },
     "execution_count": 58,
     "metadata": {},
     "output_type": "execute_result"
    }
   ],
   "source": [
    "source = urllib.request.urlopen(italy_airport).read()\n",
    "soup = BeautifulSoup(source,'lxml')\n",
    "soup.select(\"div.airport-info-table span\")"
   ]
  },
  {
   "cell_type": "code",
   "execution_count": 61,
   "id": "e24211d7",
   "metadata": {},
   "outputs": [
    {
     "name": "stdout",
     "output_type": "stream",
     "text": [
      "<span>Europe/Vatican (GMT +1:00)</span>\n",
      "<span>12.2508333</span>\n",
      "<span>41.8044444</span>\n",
      "<span>FCO</span>\n",
      "<span>LIRF</span>\n"
     ]
    }
   ],
   "source": [
    "iata = soup.select(\"div.airport-info-table span\")[0]\n",
    "icao = soup.select(\"div.airport-info-table span\")[1]\n",
    "tzone = soup.select(\"div.airport-info-table span\")[5]\n",
    "lat = soup.select(\"div.airport-info-table span\")[4]\n",
    "long = soup.select(\"div.airport-info-table span\")[3]\n",
    "print(tzone)\n",
    "print(lat)\n",
    "print(long)\n",
    "print(iata)\n",
    "print(icao)"
   ]
  },
  {
   "cell_type": "code",
   "execution_count": 37,
   "id": "423b17eb",
   "metadata": {},
   "outputs": [],
   "source": [
    "# print(soup.prettify())"
   ]
  },
  {
   "cell_type": "code",
   "execution_count": null,
   "id": "f7af242a",
   "metadata": {},
   "outputs": [],
   "source": []
  },
  {
   "cell_type": "code",
   "execution_count": 4,
   "id": "4ed668b0",
   "metadata": {},
   "outputs": [],
   "source": [
    "cdg = 'https://www.world-airport-codes.com/france/charles-de-gaulle-5672.html'"
   ]
  },
  {
   "cell_type": "code",
   "execution_count": 5,
   "id": "51bf515c",
   "metadata": {},
   "outputs": [
    {
     "data": {
      "text/plain": [
       "[<span>CDG</span>,\n",
       " <span>LFPG</span>,\n",
       " <span></span>,\n",
       " <span>49.0127983</span>,\n",
       " <span>2.55</span>,\n",
       " <span>Europe/Paris (GMT +1:00)</span>,\n",
       " <span>+33 1 48 62 12 12</span>,\n",
       " <span><a href=\"https://twitter.com/intent/user?screen_name=AeroportsParis\" rel=\"external nofollow\">@AeroportsParis</a></span>]"
      ]
     },
     "execution_count": 5,
     "metadata": {},
     "output_type": "execute_result"
    }
   ],
   "source": [
    "source = urllib.request.urlopen(cdg).read()\n",
    "soup = BeautifulSoup(source,'lxml')\n",
    "soup.select(\"div.airport-info-table span\")"
   ]
  },
  {
   "cell_type": "code",
   "execution_count": 6,
   "id": "96e1942f",
   "metadata": {},
   "outputs": [
    {
     "name": "stdout",
     "output_type": "stream",
     "text": [
      "<span>Europe/Paris (GMT +1:00)</span>\n",
      "<span>2.55</span>\n",
      "<span>49.0127983</span>\n",
      "<span>CDG</span>\n",
      "<span>LFPG</span>\n"
     ]
    }
   ],
   "source": [
    "iata = soup.select(\"div.airport-info-table span\")[0]\n",
    "icao = soup.select(\"div.airport-info-table span\")[1]\n",
    "tzone = soup.select(\"div.airport-info-table span\")[5]\n",
    "lat = soup.select(\"div.airport-info-table span\")[4]\n",
    "long = soup.select(\"div.airport-info-table span\")[3]\n",
    "print(tzone)\n",
    "print(lat)\n",
    "print(long)\n",
    "print(iata)\n",
    "print(icao)"
   ]
  },
  {
   "cell_type": "code",
   "execution_count": null,
   "id": "12211a38",
   "metadata": {},
   "outputs": [],
   "source": []
  },
  {
   "cell_type": "code",
   "execution_count": 47,
   "id": "3dd1f310",
   "metadata": {},
   "outputs": [],
   "source": [
    "lhr = 'https://www.world-airport-codes.com/united-kingdom/london-heathrow-4171.html'"
   ]
  },
  {
   "cell_type": "code",
   "execution_count": 48,
   "id": "97298f6c",
   "metadata": {},
   "outputs": [
    {
     "data": {
      "text/plain": [
       "[<span>LHR</span>,\n",
       " <span>EGLL</span>,\n",
       " <span></span>,\n",
       " <span>51.4706001</span>,\n",
       " <span>-0.461941</span>,\n",
       " <span>Europe/London (GMT +0:00)</span>,\n",
       " <span>+44 (0) 20 3368 8968</span>,\n",
       " <span>+44 (0) 2087 45 4290</span>,\n",
       " <span><a href=\"mailto:info@heathrowairport.com\">info@heathrowairport.com</a></span>,\n",
       " <span><a href=\"https://twitter.com/intent/user?screen_name=HeathrowAirport\" rel=\"external nofollow\">@HeathrowAirport</a></span>,\n",
       " <span><a href=\"https://www.facebook.com/HeathrowAirport\" rel=\"external nofollow\">Facebook Page</a></span>]"
      ]
     },
     "execution_count": 48,
     "metadata": {},
     "output_type": "execute_result"
    }
   ],
   "source": [
    "source = urllib.request.urlopen(lhr).read()\n",
    "soup = BeautifulSoup(source,'lxml')\n",
    "soup.select(\"div.airport-info-table span\")"
   ]
  },
  {
   "cell_type": "code",
   "execution_count": 60,
   "id": "9424b538",
   "metadata": {},
   "outputs": [
    {
     "name": "stdout",
     "output_type": "stream",
     "text": [
      "<span>Europe/Vatican (GMT +1:00)</span>\n",
      "<span>12.2508333</span>\n",
      "<span>41.8044444</span>\n",
      "<span>FCO</span>\n",
      "<span>LIRF</span>\n"
     ]
    }
   ],
   "source": [
    "iata = soup.select(\"div.airport-info-table span\")[0]\n",
    "icao = soup.select(\"div.airport-info-table span\")[1]\n",
    "tzone = soup.select(\"div.airport-info-table span\")[5]\n",
    "lat = soup.select(\"div.airport-info-table span\")[4]\n",
    "long = soup.select(\"div.airport-info-table span\")[3]\n",
    "print(tzone)\n",
    "print(lat)\n",
    "print(long)\n",
    "print(iata)\n",
    "print(icao)"
   ]
  },
  {
   "cell_type": "code",
   "execution_count": 6,
   "id": "db33da85-de3b-43ac-9752-0a8631ee4c7d",
   "metadata": {},
   "outputs": [],
   "source": [
    "from datetime import datetime, timedelta\n",
    "import requests\n",
    "import json"
   ]
  },
  {
   "cell_type": "code",
   "execution_count": null,
   "id": "3bc98c88",
   "metadata": {},
   "outputs": [],
   "source": []
  },
  {
   "cell_type": "code",
   "execution_count": 106,
   "id": "0d9ca2b7",
   "metadata": {},
   "outputs": [
    {
     "data": {
      "text/html": [
       "<div>\n",
       "<style scoped>\n",
       "    .dataframe tbody tr th:only-of-type {\n",
       "        vertical-align: middle;\n",
       "    }\n",
       "\n",
       "    .dataframe tbody tr th {\n",
       "        vertical-align: top;\n",
       "    }\n",
       "\n",
       "    .dataframe thead th {\n",
       "        text-align: right;\n",
       "    }\n",
       "</style>\n",
       "<table border=\"1\" class=\"dataframe\">\n",
       "  <thead>\n",
       "    <tr style=\"text-align: right;\">\n",
       "      <th></th>\n",
       "      <th>date</th>\n",
       "      <th>city</th>\n",
       "      <th>city_iso</th>\n",
       "      <th>outlook</th>\n",
       "      <th>temp</th>\n",
       "      <th>temp_max</th>\n",
       "      <th>temp_min</th>\n",
       "    </tr>\n",
       "  </thead>\n",
       "  <tbody>\n",
       "    <tr>\n",
       "      <th>0</th>\n",
       "      <td>2023-02-07 15:30:39</td>\n",
       "      <td>Rome</td>\n",
       "      <td>FCO</td>\n",
       "      <td>clear sky</td>\n",
       "      <td>283.38</td>\n",
       "      <td>284.43</td>\n",
       "      <td>281.66</td>\n",
       "    </tr>\n",
       "  </tbody>\n",
       "</table>\n",
       "</div>"
      ],
      "text/plain": [
       "                 date  city city_iso    outlook    temp  temp_max  temp_min\n",
       "0 2023-02-07 15:30:39  Rome      FCO  clear sky  283.38    284.43    281.66"
      ]
     },
     "metadata": {},
     "output_type": "display_data"
    }
   ],
   "source": [
    "import json\n",
    "# local json parsing\n",
    "raw = '{\"coord\":{\"lon\":12.4839,\"lat\":41.8947},\"weather\":[{\"id\":800,\"main\":\"Clear\",\"description\":\"clear sky\",\"icon\":\"01d\"}],\"base\":\"stations\",\"main\":{\"temp\":283.38,\"feels_like\":281.14,\"temp_min\":281.66,\"temp_max\":284.43,\"pressure\":1028,\"humidity\":26},\"visibility\":10000,\"wind\":{\"speed\":1.03,\"deg\":0},\"clouds\":{\"all\":0},\"dt\":1675783839,\"sys\":{\"type\":2,\"id\":2037790,\"country\":\"IT\",\"sunrise\":1675750602,\"sunset\":1675787502},\"timezone\":3600,\"id\":3169070,\"name\":\"Rome\",\"cod\":200}'\n",
    "\n",
    "data = json.loads(raw)\n",
    "# print(data['main'])\n",
    "\n",
    "\n",
    "# description_weather = data['weather'][0]['description']\n",
    "# dtime = data['dt']\n",
    "# time = pd.to_datetime(dtime, unit='s')\n",
    "# # print(time)\n",
    "# currtemp = data['main']['temp']\n",
    "# temp_min = data['main']['temp_min']\n",
    "# temp_max = data['main']['temp_max']\n",
    "\n",
    "# weather_df=pd.DataFrame({'date':time,'city':[\"Rome\"],'city_iso':[\"FCO\"],'outlook':description_weather,'temp':currtemp,'temp_max':temp_max,'temp_min':temp_min})\n",
    "# display(weather_df)\n"
   ]
  },
  {
   "cell_type": "code",
   "execution_count": null,
   "id": "7b9105fd",
   "metadata": {},
   "outputs": [],
   "source": [
    "def add_to_weather_df(weather_data):\n",
    "    description_weather = weather_data['weather'][0]['description']\n",
    "    dtime = weather_data['dt']\n",
    "    time = pd.to_datetime(dtime, unit='s')\n",
    "    \n",
    "    currtemp = weather_data['main']['temp']\n",
    "    temp_min = weather_data['main']['temp_min']\n",
    "    temp_max = weather_data['main']['temp_max']\n",
    "    # print(time)\n",
    "#     print(temp_min)\n",
    "    # print(data['main'])\n",
    "    weather_df=pd.DataFrame({'date':time,'city':[\"Rome\"],'city_iso':[\"FCO\"],'outlook':description_weather,'temp':currtemp,'temp_max':temp_max,'temp_min':temp_min})\n",
    "    weather_df = pd.concat([weather_df,rome_df2],axis=0)\n",
    "    display(weather_df)\n",
    "\n",
    "\n",
    "\n"
   ]
  },
  {
   "cell_type": "code",
   "execution_count": null,
   "id": "2dabc6d8",
   "metadata": {},
   "outputs": [],
   "source": [
    "# rome current weather\n",
    "\n",
    "params = {\n",
    "    \"lat\":41.8947,\n",
    "    \"lon\":12.4839,\n",
    "    \"appid\":\"\"\n",
    "}"
   ]
  },
  {
   "cell_type": "code",
   "execution_count": 139,
   "id": "c6ae20df",
   "metadata": {},
   "outputs": [],
   "source": [
    "def build_params(city):\n",
    "    if city == 'Rome':\n",
    "        return {\n",
    "            \"lat\":41.8947,\n",
    "            \"lon\":12.4839,\n",
    "            \"appid\":\"\"\n",
    "        }\n",
    "    if city == 'Paris':\n",
    "        return {\n",
    "            \"lat\":48.8534, \n",
    "            \"lon\":2.388,\n",
    "            \"appid\":\"\"\n",
    "        }"
   ]
  },
  {
   "cell_type": "code",
   "execution_count": 210,
   "id": "ce768804",
   "metadata": {},
   "outputs": [
    {
     "name": "stdout",
     "output_type": "stream",
     "text": [
      "200\n",
      "281.7\n"
     ]
    },
    {
     "data": {
      "text/html": [
       "<div>\n",
       "<style scoped>\n",
       "    .dataframe tbody tr th:only-of-type {\n",
       "        vertical-align: middle;\n",
       "    }\n",
       "\n",
       "    .dataframe tbody tr th {\n",
       "        vertical-align: top;\n",
       "    }\n",
       "\n",
       "    .dataframe thead th {\n",
       "        text-align: right;\n",
       "    }\n",
       "</style>\n",
       "<table border=\"1\" class=\"dataframe\">\n",
       "  <thead>\n",
       "    <tr style=\"text-align: right;\">\n",
       "      <th></th>\n",
       "      <th>date</th>\n",
       "      <th>city</th>\n",
       "      <th>city_iso</th>\n",
       "      <th>outlook</th>\n",
       "      <th>temp</th>\n",
       "      <th>temp_max</th>\n",
       "      <th>temp_min</th>\n",
       "    </tr>\n",
       "  </thead>\n",
       "  <tbody>\n",
       "    <tr>\n",
       "      <th>0</th>\n",
       "      <td>2023-02-08 14:58:06</td>\n",
       "      <td>Rome</td>\n",
       "      <td>LIRF</td>\n",
       "      <td>scattered clouds</td>\n",
       "      <td>282.66</td>\n",
       "      <td>283.14</td>\n",
       "      <td>281.93</td>\n",
       "    </tr>\n",
       "    <tr>\n",
       "      <th>0</th>\n",
       "      <td>2023-02-07 15:30:39</td>\n",
       "      <td>Rome</td>\n",
       "      <td>FCO</td>\n",
       "      <td>clear sky</td>\n",
       "      <td>281.66</td>\n",
       "      <td>284.43</td>\n",
       "      <td>NaN</td>\n",
       "    </tr>\n",
       "    <tr>\n",
       "      <th>0</th>\n",
       "      <td>2023-02-08 14:59:02</td>\n",
       "      <td>Rome</td>\n",
       "      <td>LIRF</td>\n",
       "      <td>scattered clouds</td>\n",
       "      <td>282.66</td>\n",
       "      <td>283.14</td>\n",
       "      <td>281.93</td>\n",
       "    </tr>\n",
       "    <tr>\n",
       "      <th>0</th>\n",
       "      <td>2023-02-08 15:01:29</td>\n",
       "      <td>Paris</td>\n",
       "      <td>LFPG</td>\n",
       "      <td>clear sky</td>\n",
       "      <td>280.00</td>\n",
       "      <td>281.00</td>\n",
       "      <td>279.18</td>\n",
       "    </tr>\n",
       "    <tr>\n",
       "      <th>0</th>\n",
       "      <td>2023-02-09 12:56:27</td>\n",
       "      <td>Rome</td>\n",
       "      <td>LIRF</td>\n",
       "      <td>clear sky</td>\n",
       "      <td>282.70</td>\n",
       "      <td>284.08</td>\n",
       "      <td>281.70</td>\n",
       "    </tr>\n",
       "  </tbody>\n",
       "</table>\n",
       "</div>"
      ],
      "text/plain": [
       "                 date   city city_iso           outlook    temp  temp_max  \\\n",
       "0 2023-02-08 14:58:06   Rome     LIRF  scattered clouds  282.66    283.14   \n",
       "0 2023-02-07 15:30:39   Rome      FCO         clear sky  281.66    284.43   \n",
       "0 2023-02-08 14:59:02   Rome     LIRF  scattered clouds  282.66    283.14   \n",
       "0 2023-02-08 15:01:29  Paris     LFPG         clear sky  280.00    281.00   \n",
       "0 2023-02-09 12:56:27   Rome     LIRF         clear sky  282.70    284.08   \n",
       "\n",
       "   temp_min  \n",
       "0    281.93  \n",
       "0       NaN  \n",
       "0    281.93  \n",
       "0    279.18  \n",
       "0    281.70  "
      ]
     },
     "metadata": {},
     "output_type": "display_data"
    }
   ],
   "source": [
    "# https://openweathermap.org/current\n",
    "# url = \"https://api.openweathermap.org/data/2.5/weather?lat={lat}&lon={long}&appid={token}\n",
    "\n",
    "# current_weather = f'https://api.openweathermap.org/data/2.5/weather'\n",
    "current_weather = f'https://api.openweathermap.org/data/2.5/forecast'\n",
    "\n",
    "params = build_params('Rome')\n",
    "response = requests.request(\"GET\", current_weather, params=params)\n",
    "try:\n",
    "    weather_data =response.json()\n",
    "    print(response.status_code)\n",
    "    description_weather = weather_data['weather'][0]['description']\n",
    "    dtime = weather_data['dt']\n",
    "    time = pd.to_datetime(dtime, unit='s')\n",
    "    # print(time)\n",
    "    # print(data['main'])\n",
    "    currtemp = weather_data['main']['temp']\n",
    "    temp_min = weather_data['main']['temp_min']\n",
    "    temp_max = weather_data['main']['temp_max']\n",
    "    print(temp_min)\n",
    "\n",
    "\n",
    "    current_df=pd.DataFrame({'date':time,'city':[\"Rome\"],'city_iso':[\"LIRF\"],'outlook':description_weather,'temp':currtemp,'temp_max':temp_max,'temp_min':temp_min})\n",
    "    weather_df = pd.concat([weather_df,current_df],axis=0)\n",
    "    display(weather_df)\n",
    "except:\n",
    "    print(\"Error from server: \" + str(response.content))\n",
    "\n"
   ]
  },
  {
   "cell_type": "code",
   "execution_count": null,
   "id": "09f7c902",
   "metadata": {},
   "outputs": [],
   "source": []
  },
  {
   "cell_type": "code",
   "execution_count": 148,
   "id": "6888c1ee",
   "metadata": {},
   "outputs": [
    {
     "name": "stdout",
     "output_type": "stream",
     "text": [
      "200\n",
      "279.18\n"
     ]
    },
    {
     "data": {
      "text/html": [
       "<div>\n",
       "<style scoped>\n",
       "    .dataframe tbody tr th:only-of-type {\n",
       "        vertical-align: middle;\n",
       "    }\n",
       "\n",
       "    .dataframe tbody tr th {\n",
       "        vertical-align: top;\n",
       "    }\n",
       "\n",
       "    .dataframe thead th {\n",
       "        text-align: right;\n",
       "    }\n",
       "</style>\n",
       "<table border=\"1\" class=\"dataframe\">\n",
       "  <thead>\n",
       "    <tr style=\"text-align: right;\">\n",
       "      <th></th>\n",
       "      <th>date</th>\n",
       "      <th>city</th>\n",
       "      <th>city_iso</th>\n",
       "      <th>outlook</th>\n",
       "      <th>temp</th>\n",
       "      <th>temp_max</th>\n",
       "      <th>temp_min</th>\n",
       "    </tr>\n",
       "  </thead>\n",
       "  <tbody>\n",
       "    <tr>\n",
       "      <th>0</th>\n",
       "      <td>2023-02-08 14:58:06</td>\n",
       "      <td>Rome</td>\n",
       "      <td>LIRF</td>\n",
       "      <td>scattered clouds</td>\n",
       "      <td>282.66</td>\n",
       "      <td>283.14</td>\n",
       "      <td>281.93</td>\n",
       "    </tr>\n",
       "    <tr>\n",
       "      <th>0</th>\n",
       "      <td>2023-02-07 15:30:39</td>\n",
       "      <td>Rome</td>\n",
       "      <td>FCO</td>\n",
       "      <td>clear sky</td>\n",
       "      <td>281.66</td>\n",
       "      <td>284.43</td>\n",
       "      <td>NaN</td>\n",
       "    </tr>\n",
       "    <tr>\n",
       "      <th>0</th>\n",
       "      <td>2023-02-08 14:59:02</td>\n",
       "      <td>Rome</td>\n",
       "      <td>LIRF</td>\n",
       "      <td>scattered clouds</td>\n",
       "      <td>282.66</td>\n",
       "      <td>283.14</td>\n",
       "      <td>281.93</td>\n",
       "    </tr>\n",
       "    <tr>\n",
       "      <th>0</th>\n",
       "      <td>2023-02-08 15:01:29</td>\n",
       "      <td>Paris</td>\n",
       "      <td>LFPG</td>\n",
       "      <td>clear sky</td>\n",
       "      <td>280.00</td>\n",
       "      <td>281.00</td>\n",
       "      <td>279.18</td>\n",
       "    </tr>\n",
       "  </tbody>\n",
       "</table>\n",
       "</div>"
      ],
      "text/plain": [
       "                 date   city city_iso           outlook    temp  temp_max  \\\n",
       "0 2023-02-08 14:58:06   Rome     LIRF  scattered clouds  282.66    283.14   \n",
       "0 2023-02-07 15:30:39   Rome      FCO         clear sky  281.66    284.43   \n",
       "0 2023-02-08 14:59:02   Rome     LIRF  scattered clouds  282.66    283.14   \n",
       "0 2023-02-08 15:01:29  Paris     LFPG         clear sky  280.00    281.00   \n",
       "\n",
       "   temp_min  \n",
       "0    281.93  \n",
       "0       NaN  \n",
       "0    281.93  \n",
       "0    279.18  "
      ]
     },
     "metadata": {},
     "output_type": "display_data"
    }
   ],
   "source": [
    "# https://openweathermap.org/current\n",
    "# url = \"https://api.openweathermap.org/data/2.5/weather?lat={lat}&lon={long}&appid={token}\n",
    "# current_weather = f'https://api.openweathermap.org/data/2.5/weather'\n",
    "current_weather = f'https://api.openweathermap.org/data/2.5/forecast'\n",
    "\n",
    "\n",
    "params = build_params('Paris')\n",
    "response = requests.request(\"GET\", current_weather, params=params)\n",
    "try:\n",
    "    weather_data =response.json()\n",
    "    print(response.status_code)\n",
    "    description_weather = weather_data['weather'][0]['description']\n",
    "    dtime = weather_data['dt']\n",
    "    time = pd.to_datetime(dtime, unit='s')\n",
    "    # print(time)\n",
    "    # print(data['main'])\n",
    "    currtemp = weather_data['main']['temp']\n",
    "    temp_min = weather_data['main']['temp_min']\n",
    "    temp_max = weather_data['main']['temp_max']\n",
    "    print(temp_min)\n",
    "\n",
    "    current_df=pd.DataFrame({'date':time,'city':[\"Paris\"],'city_iso':[\"LFPG\"],'outlook':description_weather,'temp':currtemp,'temp_max':temp_max,'temp_min':temp_min})\n",
    "    weather_df = pd.concat([weather_df,current_df],axis=0)\n",
    "    display(weather_df)\n",
    "except:\n",
    "    print(\"Error from server: \" + str(response.content))"
   ]
  },
  {
   "cell_type": "code",
   "execution_count": null,
   "id": "422829db",
   "metadata": {},
   "outputs": [],
   "source": []
  },
  {
   "cell_type": "code",
   "execution_count": 4,
   "id": "139b5226",
   "metadata": {},
   "outputs": [
    {
     "name": "stdout",
     "output_type": "stream",
     "text": [
      "2023-02-14T00:00\n",
      "2023-02-14T08:00\n"
     ]
    }
   ],
   "source": [
    "from datetime import datetime, timedelta\n",
    "\n",
    "# https://doc.aerodatabox.com/#tag/Flight-API/operation/GetAirportFlights\n",
    "# url = f\"https://aerodatabox.p.rapidapi.com/flights/airports/icao/{berlin_icao}/{to_local_time}/{from_local_time}\"\n",
    "\n",
    "# (local time, format: YYYY-MM-DDTHH:mm). \n",
    "# from local time : Should be more than beginning of the search range, \n",
    "# but by no more than 12 hours\n",
    "# 2023-02-08T00:00/2023-02-08T06:00\n",
    "to_local_time = datetime.now().strftime('%Y-%m-%dT00:00')\n",
    "from_local_time = (pd.to_datetime(to_local_time) + timedelta(hours=8)).strftime('%Y-%m-%dT%H:00')\n",
    "print(to_local_time)\n",
    "print(from_local_time)\n",
    "\n",
    "# delete key before commit\n",
    "headers = {\n",
    "\"X-RapidAPI-Key\": \"\",\n",
    "\"X-RapidAPI-Host\": \"aerodatabox.p.rapidapi.com\"\n",
    "}"
   ]
  },
  {
   "cell_type": "code",
   "execution_count": 128,
   "id": "229f7444",
   "metadata": {},
   "outputs": [],
   "source": [
    "def build_routes_url(icao):\n",
    "    return f'https://aerodatabox.p.rapidapi.com/airports/icao/{icao}/stats/routes/daily'\n",
    " "
   ]
  },
  {
   "cell_type": "code",
   "execution_count": null,
   "id": "9cc18b51",
   "metadata": {},
   "outputs": [],
   "source": [
    "# local routes json\n",
    "routes_json = '{\"routes\":[{\"destination\":{\"icao\":\"LSGG\",\"iata\":\"GVA\",\"name\":\"Geneva Cointrin, Geneva\",\"shortName\":\"Cointrin\",\"municipalityName\":\"Geneva\",\"location\":{\"lat\":46.2381,\"lon\":6.10895},\"countryCode\":\"CH\"},\"averageDailyFlights\":16.29,\"operators\":[{\"name\":\"British Airways\"},{\"name\":\"SWISS\"}]},{\"destination\":{\"icao\":\"EIDW\",\"iata\":\"DUB\",\"name\":\"Dublin, Dublin\",\"municipalityName\":\"Dublin\",\"location\":{\"lat\":53.4213,\"lon\":-6.27007},\"countryCode\":\"IE\"},\"averageDailyFlights\":15.71,\"operators\":[{\"name\":\"Aer Lingus\"},{\"name\":\"British Airways\"}]},{\"destination\":{\"icao\":\"EHAM\",\"iata\":\"AMS\",\"name\":\"Amsterdam Schiphol, Amsterdam\",\"shortName\":\"Schiphol\",\"municipalityName\":\"Amsterdam\",\"location\":{\"lat\":52.3086,\"lon\":4.763889},\"countryCode\":\"NL\"},\"averageDailyFlights\":14.87,\"operators\":[{\"name\":\"EAT Leipzig\"},{\"name\":\"British Airways\"},{\"name\":\"KLM\"}]},{\"destination\":{\"icao\":\"KJFK\",\"iata\":\"JFK\",\"name\":\"John F Kennedy, New York\",\"shortName\":\"John F Kennedy\",\"municipalityName\":\"New York\",\"location\":{\"lat\":40.6398,\"lon\":-73.7789},\"countryCode\":\"US\"},\"averageDailyFlights\":13.94,\"operators\":[{\"name\":\"British Airways\"},{\"name\":\"Delta Air Lines\"},{\"name\":\"American\"},{\"name\":\"JetBlue Airways\"},{\"name\":\"Virgin Atlantic\"}]},{\"destination\":{\"icao\":\"LEMD\",\"iata\":\"MAD\",\"name\":\"Adolfo Suárez Madrid–Barajas, Madrid\",\"shortName\":\"Adolfo Suárez –Barajas\",\"municipalityName\":\"Madrid\",\"location\":{\"lat\":40.4936,\"lon\":-3.56676},\"countryCode\":\"ES\"},\"averageDailyFlights\":13.57,\"operators\":[{\"name\":\"British Airways\"},{\"name\":\"Iberia\"}]},{\"destination\":{\"icao\":\"EDDF\",\"iata\":\"FRA\",\"name\":\"Frankfurt-am-Main, Frankfurt-am-Main\",\"municipalityName\":\"Frankfurt-am-Main\",\"location\":{\"lat\":50.0264,\"lon\":8.543129},\"countryCode\":\"DE\"},\"averageDailyFlights\":13.0,\"operators\":[{\"name\":\"British Airways\"},{\"name\":\"Lufthansa\"}]},{\"destination\":{\"icao\":\"LSZH\",\"iata\":\"ZRH\",\"name\":\"Kloten, Zurich\",\"shortName\":\"Kloten\",\"municipalityName\":\"Zurich\",\"location\":{\"lat\":47.4647,\"lon\":8.549169},\"countryCode\":\"CH\"},\"averageDailyFlights\":13.0,\"operators\":[{\"name\":\"British Airways\"},{\"name\":\"SWISS\"}]},{\"destination\":{\"icao\":\"EDDM\",\"iata\":\"MUC\",\"name\":\"Munich, Munich\",\"municipalityName\":\"Munich\",\"location\":{\"lat\":48.3538,\"lon\":11.7861},\"countryCode\":\"DE\"},\"averageDailyFlights\":11.29,\"operators\":[{\"name\":\"British Airways\"},{\"name\":\"Lufthansa\"}]},{\"destination\":{\"icao\":\"LFPG\",\"iata\":\"CDG\",\"name\":\"Charles de Gaulle, Paris\",\"shortName\":\"Charles de Gaulle\",\"municipalityName\":\"Paris\",\"location\":{\"lat\":49.0128,\"lon\":2.549999},\"countryCode\":\"FR\"},\"averageDailyFlights\":11.14,\"operators\":[{\"name\":\"Air France\"},{\"name\":\"British Airways\"}]},{\"destination\":{\"icao\":\"EGPH\",\"iata\":\"EDI\",\"name\":\"Edinburgh, Edinburgh\",\"municipalityName\":\"Edinburgh\",\"location\":{\"lat\":55.95,\"lon\":-3.372499},\"countryCode\":\"GB\"},\"averageDailyFlights\":10.57,\"operators\":[{\"name\":\"British Airways\"}]},{\"destination\":{\"icao\":\"LPPT\",\"iata\":\"LIS\",\"name\":\"Lisbon Portela, Lisbon\",\"shortName\":\"Portela\",\"municipalityName\":\"Lisbon\",\"location\":{\"lat\":38.7813,\"lon\":-9.135919},\"countryCode\":\"PT\"},\"averageDailyFlights\":10.0,\"operators\":[{\"name\":\"British Airways\"},{\"name\":\"TAP Air Portugal\"}]},{\"destination\":{\"icao\":\"EKCH\",\"iata\":\"CPH\",\"name\":\"Copenhagen Kastrup, Copenhagen\",\"shortName\":\"Kastrup\",\"municipalityName\":\"Copenhagen\",\"location\":{\"lat\":55.6179,\"lon\":12.656},\"countryCode\":\"DK\"},\"averageDailyFlights\":9.29,\"operators\":[{\"name\":\"British Airways\"},{\"name\":\"SAS\"}]},{\"destination\":{\"icao\":\"OMDB\",\"iata\":\"DXB\",\"name\":\"Dubai, Dubai City\",\"shortName\":\"Dubai\",\"municipalityName\":\"Dubai City\",\"location\":{\"lat\":25.252798,\"lon\":55.3644},\"countryCode\":\"AE\"},\"averageDailyFlights\":9.18,\"operators\":[{\"name\":\"Royal Brunei\"},{\"name\":\"British Airways\"},{\"name\":\"Emirates\"}]},{\"destination\":{\"icao\":\"EGPF\",\"iata\":\"GLA\",\"name\":\"Glasgow, Glasgow\",\"municipalityName\":\"Glasgow\",\"location\":{\"lat\":55.8719,\"lon\":-4.43306},\"countryCode\":\"GB\"},\"averageDailyFlights\":8.57,\"operators\":[{\"name\":\"British Airways\"}]},{\"destination\":{\"icao\":\"ESSA\",\"iata\":\"ARN\",\"name\":\"Stockholm-Arlanda, Stockholm\",\"shortName\":\"Arlanda\",\"municipalityName\":\"Stockholm\",\"location\":{\"lat\":59.6519,\"lon\":17.9186},\"countryCode\":\"SE\"},\"averageDailyFlights\":8.14,\"operators\":[{\"name\":\"British Airways\"},{\"name\":\"SAS\"}]},{\"destination\":{\"icao\":\"KEWR\",\"iata\":\"EWR\",\"name\":\"Newark Liberty, Newark\",\"shortName\":\"Liberty\",\"municipalityName\":\"Newark\",\"location\":{\"lat\":40.6925,\"lon\":-74.1687},\"countryCode\":\"US\"},\"averageDailyFlights\":8.0,\"operators\":[{\"name\":\"British Airways\"},{\"name\":\"United\"}]},{\"destination\":{\"icao\":\"KLAX\",\"iata\":\"LAX\",\"name\":\"Los Angeles, Los Angeles\",\"municipalityName\":\"Los Angeles\",\"location\":{\"lat\":33.9425,\"lon\":-118.408},\"countryCode\":\"US\"},\"averageDailyFlights\":7.43,\"operators\":[{\"name\":\"American\"},{\"name\":\"British Airways\"},{\"name\":\"United\"},{\"name\":\"Virgin Atlantic\"}]},{\"destination\":{\"icao\":\"LTFM\",\"iata\":\"IST\",\"name\":\"Istanbul, Istanbul\",\"municipalityName\":\"Istanbul\",\"location\":{\"lat\":41.275276,\"lon\":28.751944},\"countryCode\":\"TR\"},\"averageDailyFlights\":7.29,\"operators\":[{\"name\":\"British Airways\"},{\"name\":\"Turkish\"}]},{\"destination\":{\"icao\":\"VIDP\",\"iata\":\"DEL\",\"name\":\"Indira Gandhi, New Delhi\",\"shortName\":\"Indira Gandhi\",\"municipalityName\":\"New Delhi\",\"location\":{\"lat\":28.5665,\"lon\":77.1031},\"countryCode\":\"IN\"},\"averageDailyFlights\":7.14,\"operators\":[{\"name\":\"Air India\"},{\"name\":\"American\"},{\"name\":\"British Airways\"},{\"name\":\"Virgin Atlantic\"},{\"name\":\"Vistara\"}]},{\"destination\":{\"icao\":\"EDDL\",\"iata\":\"DUS\",\"name\":\"Düsseldorf, Duesseldorf\",\"shortName\":\"Düsseldorf\",\"municipalityName\":\"Duesseldorf\",\"location\":{\"lat\":51.2895,\"lon\":6.766779},\"countryCode\":\"DE\"},\"averageDailyFlights\":7.14,\"operators\":[{\"name\":\"British Airways\"},{\"name\":\"Eurowings\"}]},{\"destination\":{\"icao\":\"EGPD\",\"iata\":\"ABZ\",\"name\":\"Aberdeen Dyce, Aberdeen\",\"shortName\":\"Dyce\",\"municipalityName\":\"Aberdeen\",\"location\":{\"lat\":57.2019,\"lon\":-2.197779},\"countryCode\":\"GB\"},\"averageDailyFlights\":7.0,\"operators\":[{\"name\":\"British Airways\"}]},{\"destination\":{\"icao\":\"EBBR\",\"iata\":\"BRU\",\"name\":\"Brussels, Brussels\",\"municipalityName\":\"Brussels\",\"location\":{\"lat\":50.9014,\"lon\":4.484439},\"countryCode\":\"BE\"},\"averageDailyFlights\":7.0,\"operators\":[{\"name\":\"British Airways\"},{\"name\":\"Brussels\"},{\"name\":\"Tunisair\"}]},{\"destination\":{\"icao\":\"WSSS\",\"iata\":\"SIN\",\"name\":\"Singapore Changi, Singapore\",\"shortName\":\"Changi\",\"municipalityName\":\"Singapore\",\"location\":{\"lat\":1.35019,\"lon\":103.994},\"countryCode\":\"SG\"},\"averageDailyFlights\":7.0,\"operators\":[{\"name\":\"British Airways\"},{\"name\":\"Singapore\"},{\"name\":\"Qantas\"}]},{\"destination\":{\"icao\":\"LEBL\",\"iata\":\"BCN\",\"name\":\"Barcelona, Barcelona\",\"municipalityName\":\"Barcelona\",\"location\":{\"lat\":41.2971,\"lon\":2.078459},\"countryCode\":\"ES\"},\"averageDailyFlights\":6.86,\"operators\":[{\"name\":\"British Airways\"}]},{\"destination\":{\"icao\":\"KBOS\",\"iata\":\"BOS\",\"name\":\"General Edward Lawrence Logan, Boston\",\"shortName\":\"General Edward Lawrence Logan\",\"municipalityName\":\"Boston\",\"location\":{\"lat\":42.3643,\"lon\":-71.0052},\"countryCode\":\"US\"},\"averageDailyFlights\":6.86,\"operators\":[{\"name\":\"American\"},{\"name\":\"British Airways\"},{\"name\":\"JetBlue Airways\"},{\"name\":\"United\"},{\"name\":\"Virgin Atlantic\"}]},{\"destination\":{\"icao\":\"VABB\",\"iata\":\"BOM\",\"name\":\"Chhatrapati Shivaji, Mumbai\",\"shortName\":\"Chhatrapati Shivaji\",\"municipalityName\":\"Mumbai\",\"location\":{\"lat\":19.0887,\"lon\":72.8679},\"countryCode\":\"IN\"},\"averageDailyFlights\":6.86,\"operators\":[{\"name\":\"Air Canada\"},{\"name\":\"Air India\"},{\"name\":\"British Airways\"},{\"name\":\"Virgin Atlantic\"}]},{\"destination\":{\"icao\":\"ENGM\",\"iata\":\"OSL\",\"name\":\"Oslo Gardermoen, Oslo\",\"shortName\":\"Gardermoen\",\"municipalityName\":\"Oslo\",\"location\":{\"lat\":60.1939,\"lon\":11.100399},\"countryCode\":\"NO\"},\"averageDailyFlights\":6.71,\"operators\":[{\"name\":\"British Airways\"},{\"name\":\"SAS\"}]},{\"destination\":{\"icao\":\"EGAC\",\"iata\":\"BHD\",\"name\":\"George Best Belfast City, Belfast\",\"shortName\":\"George Best  City\",\"municipalityName\":\"Belfast\",\"location\":{\"lat\":54.6181,\"lon\":-5.872499},\"countryCode\":\"GB\"},\"averageDailyFlights\":6.61,\"operators\":[{\"name\":\"EUK\"},{\"name\":\"Aer Lingus\"},{\"name\":\"British Airways\"}]},{\"destination\":{\"icao\":\"LGAV\",\"iata\":\"ATH\",\"name\":\"Eleftherios Venizelos, Athens\",\"shortName\":\"Eleftherios Venizelos\",\"municipalityName\":\"Athens\",\"location\":{\"lat\":37.9364,\"lon\":23.944498},\"countryCode\":\"GR\"},\"averageDailyFlights\":6.57,\"operators\":[{\"name\":\"Aegean\"},{\"name\":\"British Airways\"},{\"name\":\"Sky Express\"}]},{\"destination\":{\"icao\":\"OTHH\",\"iata\":\"DOH\",\"name\":\"Hamad, Doha\",\"shortName\":\"Hamad\",\"municipalityName\":\"Doha\",\"location\":{\"lat\":25.273056,\"lon\":51.608055},\"countryCode\":\"QA\"},\"averageDailyFlights\":6.43,\"operators\":[{\"name\":\"British Airways\"},{\"name\":\"Qatar Airways\"}]},{\"destination\":{\"icao\":\"EGCC\",\"iata\":\"MAN\",\"name\":\"Manchester, Manchester\",\"municipalityName\":\"Manchester\",\"location\":{\"lat\":53.3537,\"lon\":-2.27495},\"countryCode\":\"GB\"},\"averageDailyFlights\":6.29,\"operators\":[{\"name\":\"British Airways\"}]},{\"destination\":{\"icao\":\"LIRF\",\"iata\":\"FCO\",\"name\":\"Leonardo da Vinci–Fiumicino, Rome\",\"shortName\":\"Leonardo da Vinci–Fiumicino\",\"municipalityName\":\"Rome\",\"location\":{\"lat\":41.8045,\"lon\":12.2508},\"countryCode\":\"IT\"},\"averageDailyFlights\":6.29,\"operators\":[{\"name\":\"Alitalia\"},{\"name\":\"British Airways\"}]},{\"destination\":{\"icao\":\"EDDH\",\"iata\":\"HAM\",\"name\":\"Hamburg, Hamburg\",\"municipalityName\":\"Hamburg\",\"location\":{\"lat\":53.6304,\"lon\":9.988229},\"countryCode\":\"DE\"},\"averageDailyFlights\":6.0,\"operators\":[{\"name\":\"British Airways\"},{\"name\":\"Eurowings\"}]},{\"destination\":{\"icao\":\"EDDB\",\"iata\":\"BER\",\"name\":\"Berlin Brandenburg, Berlin\",\"shortName\":\"Brandenburg\",\"municipalityName\":\"Berlin\",\"location\":{\"lat\":52.35139,\"lon\":13.493889},\"countryCode\":\"DE\"},\"averageDailyFlights\":5.86,\"operators\":[{\"name\":\"British Airways\"}]},{\"destination\":{\"icao\":\"LOWW\",\"iata\":\"VIE\",\"name\":\"Schwechat, Vienna\",\"shortName\":\"Schwechat\",\"municipalityName\":\"Vienna\",\"location\":{\"lat\":48.1103,\"lon\":16.5697},\"countryCode\":\"AT\"},\"averageDailyFlights\":5.86,\"operators\":[{\"name\":\"Austrian\"},{\"name\":\"British Airways\"}]},{\"destination\":{\"icao\":\"LIML\",\"iata\":\"LIN\",\"name\":\"Linate, Milan\",\"shortName\":\"Linate\",\"municipalityName\":\"Milan\",\"location\":{\"lat\":45.4451,\"lon\":9.27674},\"countryCode\":\"IT\"},\"averageDailyFlights\":5.5,\"operators\":[{\"name\":\"ITY\"},{\"name\":\"Alitalia\"},{\"name\":\"British Airways\"}]},{\"destination\":{\"icao\":\"LFMN\",\"iata\":\"NCE\",\"name\":\"Nice-Côte d'Azur, Nice\",\"shortName\":\"Côte d'Azur\",\"municipalityName\":\"Nice\",\"location\":{\"lat\":43.6584,\"lon\":7.215869},\"countryCode\":\"FR\"},\"averageDailyFlights\":5.0,\"operators\":[{\"name\":\"Air France\"},{\"name\":\"British Airways\"}]},{\"destination\":{\"icao\":\"CYYZ\",\"iata\":\"YYZ\",\"name\":\"Lester B. Pearson, Toronto\",\"shortName\":\"Lester B. Pearson\",\"municipalityName\":\"Toronto\",\"location\":{\"lat\":43.6772,\"lon\":-79.6306},\"countryCode\":\"CA\"},\"averageDailyFlights\":5.0,\"operators\":[{\"name\":\"Air Canada\"},{\"name\":\"British Airways\"}]},{\"destination\":{\"icao\":\"EPWA\",\"iata\":\"WAW\",\"name\":\"Warsaw Chopin, Warsaw\",\"shortName\":\"Chopin\",\"municipalityName\":\"Warsaw\",\"location\":{\"lat\":52.1657,\"lon\":20.9671},\"countryCode\":\"PL\"},\"averageDailyFlights\":5.0,\"operators\":[{\"name\":\"British Airways\"},{\"name\":\"LOT - Polish\"}]},{\"destination\":{\"icao\":\"EGNT\",\"iata\":\"NCL\",\"name\":\"Newcastle, Newcastle upon Tyne\",\"shortName\":\"Newcastle\",\"municipalityName\":\"Newcastle upon Tyne\",\"location\":{\"lat\":55.0375,\"lon\":-1.691669},\"countryCode\":\"GB\"},\"averageDailyFlights\":4.86,\"operators\":[{\"name\":\"British Airways\"}]},{\"destination\":{\"icao\":\"KMIA\",\"iata\":\"MIA\",\"name\":\"Miami, Miami\",\"municipalityName\":\"Miami\",\"location\":{\"lat\":25.7932,\"lon\":-80.2906},\"countryCode\":\"US\"},\"averageDailyFlights\":4.71,\"operators\":[{\"name\":\"American\"},{\"name\":\"British Airways\"},{\"name\":\"Virgin Atlantic\"}]},{\"destination\":{\"icao\":\"KIAD\",\"iata\":\"IAD\",\"name\":\"Washington Dulles, District of Columbia\",\"shortName\":\"Washington Dulles\",\"municipalityName\":\"District of Columbia\",\"location\":{\"lat\":38.9445,\"lon\":-77.4558},\"countryCode\":\"US\"},\"averageDailyFlights\":4.71,\"operators\":[{\"name\":\"British Airways\"},{\"name\":\"United\"},{\"name\":\"Virgin Atlantic\"}]},{\"destination\":{\"icao\":\"KORD\",\"iata\":\"ORD\",\"name\":\"Chicago O'Hare, Chicago\",\"shortName\":\"O'Hare\",\"municipalityName\":\"Chicago\",\"location\":{\"lat\":41.9786,\"lon\":-87.9048},\"countryCode\":\"US\"},\"averageDailyFlights\":4.57,\"operators\":[{\"name\":\"American\"},{\"name\":\"British Airways\"},{\"name\":\"United\"}]},{\"destination\":{\"icao\":\"LLBG\",\"iata\":\"TLV\",\"name\":\"Ben Gurion, Tel Aviv Yafo\",\"shortName\":\"Ben Gurion\",\"municipalityName\":\"Tel Aviv Yafo\",\"location\":{\"lat\":32.0114,\"lon\":34.8867},\"countryCode\":\"IL\"},\"averageDailyFlights\":4.57,\"operators\":[{\"name\":\"British Airways\"},{\"name\":\"El Al\"},{\"name\":\"Virgin Atlantic\"}]},{\"destination\":{\"icao\":\"EDDS\",\"iata\":\"STR\",\"name\":\"Stuttgart, Stuttgart\",\"municipalityName\":\"Stuttgart\",\"location\":{\"lat\":48.6899,\"lon\":9.22196},\"countryCode\":\"DE\"},\"averageDailyFlights\":4.43,\"operators\":[{\"name\":\"British Airways\"},{\"name\":\"Eurowings\"}]},{\"destination\":{\"icao\":\"OMAA\",\"iata\":\"AUH\",\"name\":\"Abu Dhabi, Abu Dhabi Island and Internal Islands City\",\"shortName\":\"Abu Dhabi\",\"municipalityName\":\"Abu Dhabi Island and Internal Islands City\",\"location\":{\"lat\":24.433,\"lon\":54.6511},\"countryCode\":\"AE\"},\"averageDailyFlights\":4.0,\"operators\":[{\"name\":\"Etihad Airways\"}]},{\"destination\":{\"icao\":\"HECA\",\"iata\":\"CAI\",\"name\":\"Cairo, Cairo\",\"municipalityName\":\"Cairo\",\"location\":{\"lat\":30.1219,\"lon\":31.4056},\"countryCode\":\"EG\"},\"averageDailyFlights\":4.0,\"operators\":[{\"name\":\"British Airways\"},{\"name\":\"EgyptAir\"}]},{\"destination\":{\"icao\":\"EFHK\",\"iata\":\"HEL\",\"name\":\"Helsinki Vantaa, Helsinki\",\"shortName\":\"Vantaa\",\"municipalityName\":\"Helsinki\",\"location\":{\"lat\":60.3172,\"lon\":24.9633},\"countryCode\":\"FI\"},\"averageDailyFlights\":4.0,\"operators\":[{\"name\":\"Finnair\"}]},{\"destination\":{\"icao\":\"KSFO\",\"iata\":\"SFO\",\"name\":\"San Francisco, San Francisco\",\"municipalityName\":\"San Francisco\",\"location\":{\"lat\":37.619,\"lon\":-122.375},\"countryCode\":\"US\"},\"averageDailyFlights\":4.0,\"operators\":[{\"name\":\"British Airways\"},{\"name\":\"United\"},{\"name\":\"Virgin Atlantic\"}]},{\"destination\":{\"icao\":\"KATL\",\"iata\":\"ATL\",\"name\":\"Hartsfield Jackson Atlanta, Atlanta\",\"shortName\":\"Hartsfield Jackson\",\"municipalityName\":\"Atlanta\",\"location\":{\"lat\":33.6367,\"lon\":-84.4281},\"countryCode\":\"US\"},\"averageDailyFlights\":3.86,\"operators\":[{\"name\":\"British Airways\"},{\"name\":\"Delta Air Lines\"},{\"name\":\"Virgin Atlantic\"}]},{\"destination\":{\"icao\":\"LKPR\",\"iata\":\"PRG\",\"name\":\"Ruzyně, Prague\",\"shortName\":\"Ruzyně\",\"municipalityName\":\"Prague\",\"location\":{\"lat\":50.1008,\"lon\":14.26},\"countryCode\":\"CZ\"},\"averageDailyFlights\":3.86,\"operators\":[{\"name\":\"British Airways\"}]},{\"destination\":{\"icao\":\"RJTT\",\"iata\":\"HND\",\"name\":\"Tokyo, Tokyo\",\"municipalityName\":\"Tokyo\",\"location\":{\"lat\":35.5523,\"lon\":139.78},\"countryCode\":\"JP\"},\"averageDailyFlights\":3.86,\"operators\":[{\"name\":\"ANA\"},{\"name\":\"British Airways\"},{\"name\":\"Japan Airlines\"}]},{\"destination\":{\"icao\":\"EICK\",\"iata\":\"ORK\",\"name\":\"Cork, Cork\",\"municipalityName\":\"Cork\",\"location\":{\"lat\":51.8413,\"lon\":-8.491109},\"countryCode\":\"IE\"},\"averageDailyFlights\":3.71,\"operators\":[{\"name\":\"Aer Lingus\"}]},{\"destination\":{\"icao\":\"LFSB\",\"iata\":\"BSL\",\"name\":\"Euro Basel-Mulhouse-Freiburg, Bâle/Mulhouse\",\"shortName\":\"Euro Basel-Mulhouse-Freiburg\",\"municipalityName\":\"Bâle/Mulhouse\",\"location\":{\"lat\":47.5896,\"lon\":7.52991},\"countryCode\":\"FR\"},\"averageDailyFlights\":3.71,\"operators\":[{\"name\":\"British Airways\"}]},{\"destination\":{\"icao\":\"VHHH\",\"iata\":\"HKG\",\"name\":\"Chek Lap Kok, Hong Kong\",\"shortName\":\"Chek Lap Kok\",\"municipalityName\":\"Hong Kong\",\"location\":{\"lat\":22.3089,\"lon\":113.915},\"countryCode\":\"HK\"},\"averageDailyFlights\":3.29,\"operators\":[{\"name\":\"British Airways\"},{\"name\":\"Cathay Pacific\"}]},{\"destination\":{\"icao\":\"EGJJ\",\"iata\":\"JER\",\"name\":\"Jersey, St Helier\",\"shortName\":\"Jersey\",\"municipalityName\":\"St Helier\",\"location\":{\"lat\":49.2079,\"lon\":-2.195509},\"countryCode\":\"JE\"},\"averageDailyFlights\":3.29,\"operators\":[{\"name\":\"British Airways\"}]},{\"destination\":{\"icao\":\"KDFW\",\"iata\":\"DFW\",\"name\":\"Dallas Fort Worth, Dallas-Fort Worth\",\"shortName\":\"Dallas Fort Worth\",\"municipalityName\":\"Dallas-Fort Worth\",\"location\":{\"lat\":32.8968,\"lon\":-97.038},\"countryCode\":\"US\"},\"averageDailyFlights\":3.15,\"operators\":[{\"name\":\"American\"},{\"name\":\"British Airways\"},{\"name\":\"American Airlines\"}]},{\"destination\":{\"icao\":\"LFLL\",\"iata\":\"LYS\",\"name\":\"Lyon Saint-Exupéry, Lyon\",\"shortName\":\"Saint-Exupéry\",\"municipalityName\":\"Lyon\",\"location\":{\"lat\":45.7264,\"lon\":5.090829},\"countryCode\":\"FR\"},\"averageDailyFlights\":3.14,\"operators\":[{\"name\":\"British Airways\"}]},{\"destination\":{\"icao\":\"KSEA\",\"iata\":\"SEA\",\"name\":\"Seattle Tacoma, Seattle\",\"shortName\":\"Tacoma\",\"municipalityName\":\"Seattle\",\"location\":{\"lat\":47.449,\"lon\":-122.309},\"countryCode\":\"US\"},\"averageDailyFlights\":3.07,\"operators\":[{\"name\":\"American\"},{\"name\":\"British Airways\"},{\"name\":\"Delta Air Lines\"},{\"name\":\"Virgin Atlantic\"}]},{\"destination\":{\"icao\":\"OBBI\",\"iata\":\"BAH\",\"name\":\"Bahrain, Manama\",\"shortName\":\"Bahrain\",\"municipalityName\":\"Manama\",\"location\":{\"lat\":26.2708,\"lon\":50.6336},\"countryCode\":\"BH\"},\"averageDailyFlights\":3.0,\"operators\":[{\"name\":\"British Airways\"},{\"name\":\"Gulf Air\"}]},{\"destination\":{\"icao\":\"VTBS\",\"iata\":\"BKK\",\"name\":\"Suvarnabhumi, Bangkok\",\"shortName\":\"Suvarnabhumi\",\"municipalityName\":\"Bangkok\",\"location\":{\"lat\":13.681099,\"lon\":100.747},\"countryCode\":\"TH\"},\"averageDailyFlights\":3.0,\"operators\":[{\"name\":\"Thai Airways International\"},{\"name\":\"EVA Air\"}]},{\"destination\":{\"icao\":\"FACT\",\"iata\":\"CPT\",\"name\":\"Cape Town, Cape Town\",\"municipalityName\":\"Cape Town\",\"location\":{\"lat\":-33.9648,\"lon\":18.6017},\"countryCode\":\"ZA\"},\"averageDailyFlights\":3.0,\"operators\":[{\"name\":\"British Airways\"},{\"name\":\"Virgin Atlantic\"}]},{\"destination\":{\"icao\":\"LIMC\",\"iata\":\"MXP\",\"name\":\"Malpensa, Milan\",\"shortName\":\"Malpensa\",\"municipalityName\":\"Milan\",\"location\":{\"lat\":45.6306,\"lon\":8.72811},\"countryCode\":\"IT\"},\"averageDailyFlights\":3.0,\"operators\":[{\"name\":\"British Airways\"}]},{\"destination\":{\"icao\":\"BIKF\",\"iata\":\"KEF\",\"name\":\"Keflavik, Reykjavik\",\"shortName\":\"Keflavik\",\"municipalityName\":\"Reykjavik\",\"location\":{\"lat\":63.985,\"lon\":-22.6056},\"countryCode\":\"IS\"},\"averageDailyFlights\":3.0,\"operators\":[{\"name\":\"British Airways\"},{\"name\":\"Icelandair\"}]},{\"destination\":{\"icao\":\"OERK\",\"iata\":\"RUH\",\"name\":\"King Khaled, Riyadh\",\"shortName\":\"King Khaled\",\"municipalityName\":\"Riyadh\",\"location\":{\"lat\":24.9576,\"lon\":46.6988},\"countryCode\":\"SA\"},\"averageDailyFlights\":3.0,\"operators\":[{\"name\":\"British Airways\"},{\"name\":\"Saudia\"}]},{\"destination\":{\"icao\":\"LIPZ\",\"iata\":\"VCE\",\"name\":\"Venice Marco Polo, Venice\",\"shortName\":\"Marco Polo\",\"municipalityName\":\"Venice\",\"location\":{\"lat\":45.5053,\"lon\":12.3519},\"countryCode\":\"IT\"},\"averageDailyFlights\":3.0,\"operators\":[{\"name\":\"British Airways\"}]},{\"destination\":{\"icao\":\"FAOR\",\"iata\":\"JNB\",\"name\":\"OR Tambo, Jo'anna\",\"shortName\":\"OR Tambo\",\"municipalityName\":\"Jo'anna\",\"location\":{\"lat\":-26.1392,\"lon\":28.246},\"countryCode\":\"ZA\"},\"averageDailyFlights\":2.86,\"operators\":[{\"name\":\"British Airways\"},{\"name\":\"Virgin Atlantic\"}]},{\"destination\":{\"icao\":\"KIAH\",\"iata\":\"IAH\",\"name\":\"George Bush Intercontinental Houston, Houston\",\"shortName\":\"George Bush Intercontinental\",\"municipalityName\":\"Houston\",\"location\":{\"lat\":29.9844,\"lon\":-95.3414},\"countryCode\":\"US\"},\"averageDailyFlights\":2.72,\"operators\":[{\"name\":\"British Airways\"},{\"name\":\"United\"},{\"name\":\"United Airlines\"}]},{\"destination\":{\"icao\":\"LFBO\",\"iata\":\"TLS\",\"name\":\"Toulouse-Blagnac, Toulouse-Blagnac\",\"municipalityName\":\"Toulouse-Blagnac\",\"location\":{\"lat\":43.6291,\"lon\":1.363819},\"countryCode\":\"FR\"},\"averageDailyFlights\":2.71,\"operators\":[{\"name\":\"British Airways\"}]},{\"destination\":{\"icao\":\"LIPE\",\"iata\":\"BLQ\",\"name\":\"Bologna Guglielmo Marconi, Bologna\",\"shortName\":\"Guglielmo Marconi\",\"municipalityName\":\"Bologna\",\"location\":{\"lat\":44.5354,\"lon\":11.2887},\"countryCode\":\"IT\"},\"averageDailyFlights\":2.57,\"operators\":[{\"name\":\"British Airways\"}]},{\"destination\":{\"icao\":\"OKBK\",\"iata\":\"KWI\",\"name\":\"Kuwait, Kuwait City\",\"shortName\":\"Kuwait\",\"municipalityName\":\"Kuwait City\",\"location\":{\"lat\":29.2266,\"lon\":47.9689},\"countryCode\":\"KW\"},\"averageDailyFlights\":2.57,\"operators\":[{\"name\":\"British Airways\"},{\"name\":\"Kuwait Airways\"}]},{\"destination\":{\"icao\":\"HKJK\",\"iata\":\"NBO\",\"name\":\"Jomo Kenyatta, Nairobi\",\"shortName\":\"Jomo Kenyatta\",\"municipalityName\":\"Nairobi\",\"location\":{\"lat\":-1.319239,\"lon\":36.9278},\"countryCode\":\"KE\"},\"averageDailyFlights\":2.57,\"operators\":[{\"name\":\"British Airways\"},{\"name\":\"Kenya Airways\"}]},{\"destination\":{\"icao\":\"EDDK\",\"iata\":\"CGN\",\"name\":\"Cologne Bonn, Cologne\",\"shortName\":\"Bonn\",\"municipalityName\":\"Cologne\",\"location\":{\"lat\":50.8659,\"lon\":7.142739},\"countryCode\":\"DE\"},\"averageDailyFlights\":2.45,\"operators\":[{\"name\":\"EAT Leipzig\"},{\"name\":\"Eurowings\"}]},{\"destination\":{\"icao\":\"EINN\",\"iata\":\"SNN\",\"name\":\"Shannon, Limerick city\",\"shortName\":\"Shannon\",\"municipalityName\":\"Limerick city\",\"location\":{\"lat\":52.702,\"lon\":-8.924819},\"countryCode\":\"IE\"},\"averageDailyFlights\":2.43,\"operators\":[{\"name\":\"Aer Lingus\"}]},{\"destination\":{\"icao\":\"LROP\",\"iata\":\"OTP\",\"name\":\"Henri Coandă, Bucharest\",\"shortName\":\"Henri Coandă\",\"municipalityName\":\"Bucharest\",\"location\":{\"lat\":44.5722,\"lon\":26.1022},\"countryCode\":\"RO\"},\"averageDailyFlights\":2.29,\"operators\":[{\"name\":\"British Airways\"},{\"name\":\"TAROM\"}]},{\"destination\":{\"icao\":\"TBPB\",\"iata\":\"BGI\",\"name\":\"Sir Grantley Adams, Bridgetown\",\"shortName\":\"Sir Grantley Adams\",\"municipalityName\":\"Bridgetown\",\"location\":{\"lat\":13.0746,\"lon\":-59.4925},\"countryCode\":\"BB\"},\"averageDailyFlights\":2.24,\"operators\":[{\"name\":\"British Airways\"},{\"name\":\"Virgin Atlantic\"}]},{\"destination\":{\"icao\":\"LHBP\",\"iata\":\"BUD\",\"name\":\"Budapest Ferenc Liszt, Budapest\",\"shortName\":\"Ferenc Liszt\",\"municipalityName\":\"Budapest\",\"location\":{\"lat\":47.4369,\"lon\":19.255598},\"countryCode\":\"HU\"},\"averageDailyFlights\":2.14,\"operators\":[{\"name\":\"British Airways\"}]},{\"destination\":{\"icao\":\"ESGG\",\"iata\":\"GOT\",\"name\":\"Gothenburg-Landvetter, Goteborg\",\"shortName\":\"Gothenburg-Landvetter\",\"municipalityName\":\"Goteborg\",\"location\":{\"lat\":57.6628,\"lon\":12.2798},\"countryCode\":\"SE\"},\"averageDailyFlights\":2.14,\"operators\":[{\"name\":\"British Airways\"}]},{\"destination\":{\"icao\":\"OLBA\",\"iata\":\"BEY\",\"name\":\"Beirut Rafic Hariri, Beirut\",\"shortName\":\"Rafic Hariri\",\"municipalityName\":\"Beirut\",\"location\":{\"lat\":33.8209,\"lon\":35.4884},\"countryCode\":\"LB\"},\"averageDailyFlights\":2.0,\"operators\":[{\"name\":\"Middle East\"}]},{\"destination\":{\"icao\":\"KCLT\",\"iata\":\"CLT\",\"name\":\"Charlotte Douglas, Charlotte\",\"shortName\":\"Douglas\",\"municipalityName\":\"Charlotte\",\"location\":{\"lat\":35.214,\"lon\":-80.9431},\"countryCode\":\"US\"},\"averageDailyFlights\":2.0,\"operators\":[{\"name\":\"American\"}]},{\"destination\":{\"icao\":\"KDEN\",\"iata\":\"DEN\",\"name\":\"Denver, Denver\",\"municipalityName\":\"Denver\",\"location\":{\"lat\":39.8617,\"lon\":-104.673},\"countryCode\":\"US\"},\"averageDailyFlights\":2.0,\"operators\":[{\"name\":\"British Airways\"},{\"name\":\"United\"}]},{\"destination\":{\"icao\":\"WMKK\",\"iata\":\"KUL\",\"name\":\"Kuala Lumpur, Kuala Lumpur\",\"municipalityName\":\"Kuala Lumpur\",\"location\":{\"lat\":2.745579,\"lon\":101.71},\"countryCode\":\"MY\"},\"averageDailyFlights\":2.0,\"operators\":[{\"name\":\"Malaysia\"}]},{\"destination\":{\"icao\":\"DNMM\",\"iata\":\"LOS\",\"name\":\"Murtala Muhammed, Lagos\",\"shortName\":\"Murtala Muhammed\",\"municipalityName\":\"Lagos\",\"location\":{\"lat\":6.57737,\"lon\":3.32116},\"countryCode\":\"NG\"},\"averageDailyFlights\":2.0,\"operators\":[{\"name\":\"British Airways\"},{\"name\":\"Virgin Atlantic\"}]},{\"destination\":{\"icao\":\"LCLK\",\"iata\":\"LCA\",\"name\":\"Larnaca, Larnarca\",\"shortName\":\"Larnaca\",\"municipalityName\":\"Larnarca\",\"location\":{\"lat\":34.8751,\"lon\":33.6249},\"countryCode\":\"CY\"},\"averageDailyFlights\":2.0,\"operators\":[{\"name\":\"British Airways\"}]},{\"destination\":{\"icao\":\"KPHL\",\"iata\":\"PHL\",\"name\":\"Philadelphia, Philadelphia\",\"municipalityName\":\"Philadelphia\",\"location\":{\"lat\":39.8719,\"lon\":-75.2411},\"countryCode\":\"US\"},\"averageDailyFlights\":2.0,\"operators\":[{\"name\":\"American\"},{\"name\":\"British Airways\"}]},{\"destination\":{\"icao\":\"KPHX\",\"iata\":\"PHX\",\"name\":\"Phoenix Sky Harbor, Phoenix\",\"shortName\":\"Sky Harbor\",\"municipalityName\":\"Phoenix\",\"location\":{\"lat\":33.4343,\"lon\":-112.012},\"countryCode\":\"US\"},\"averageDailyFlights\":2.0,\"operators\":[{\"name\":\"American\"},{\"name\":\"British Airways\"}]},{\"destination\":{\"icao\":\"CYVR\",\"iata\":\"YVR\",\"name\":\"Vancouver, Vancouver\",\"municipalityName\":\"Vancouver\",\"location\":{\"lat\":49.1939,\"lon\":-123.184},\"countryCode\":\"CA\"},\"averageDailyFlights\":2.0,\"operators\":[{\"name\":\"Air Canada\"},{\"name\":\"British Airways\"}]},{\"destination\":{\"icao\":\"OJAI\",\"iata\":\"AMM\",\"name\":\"Queen Alia, Amman\",\"shortName\":\"Queen Alia\",\"municipalityName\":\"Amman\",\"location\":{\"lat\":31.7226,\"lon\":35.9932},\"countryCode\":\"JO\"},\"averageDailyFlights\":1.86,\"operators\":[{\"name\":\"British Airways\"},{\"name\":\"Royal Jordanian\"}]},{\"destination\":{\"icao\":\"CYYC\",\"iata\":\"YYC\",\"name\":\"Calgary, Calgary\",\"municipalityName\":\"Calgary\",\"location\":{\"lat\":51.1139,\"lon\":-114.02},\"countryCode\":\"CA\"},\"averageDailyFlights\":1.86,\"operators\":[{\"name\":\"Air Canada\"},{\"name\":\"WestJet\"}]},{\"destination\":{\"icao\":\"EGPE\",\"iata\":\"INV\",\"name\":\"Inverness, Inverness\",\"municipalityName\":\"Inverness\",\"location\":{\"lat\":57.5425,\"lon\":-4.0475},\"countryCode\":\"GB\"},\"averageDailyFlights\":1.86,\"operators\":[{\"name\":\"British Airways\"}]},{\"destination\":{\"icao\":\"RKSI\",\"iata\":\"ICN\",\"name\":\"Incheon, Seoul\",\"shortName\":\"Incheon\",\"municipalityName\":\"Seoul\",\"location\":{\"lat\":37.4691,\"lon\":126.451},\"countryCode\":\"KR\"},\"averageDailyFlights\":1.86,\"operators\":[{\"name\":\"Asiana\"},{\"name\":\"Korean Air\"}]},{\"destination\":{\"icao\":\"SBGR\",\"iata\":\"GRU\",\"name\":\"Guarulhos - Governador André Franco Montoro, São Paulo\",\"shortName\":\"Guarulhos - Governador André Franco Montoro\",\"municipalityName\":\"São Paulo\",\"location\":{\"lat\":-23.435556,\"lon\":-46.473057},\"countryCode\":\"BR\"},\"averageDailyFlights\":1.78,\"operators\":[{\"name\":\"British Airways\"},{\"name\":\"LATAM Airlines Brasil\"},{\"name\":\"LATAM\"}]},{\"destination\":{\"icao\":\"EDDV\",\"iata\":\"HAJ\",\"name\":\"Hannover, Hanover\",\"shortName\":\"Hannover\",\"municipalityName\":\"Hanover\",\"location\":{\"lat\":52.4611,\"lon\":9.685079},\"countryCode\":\"DE\"},\"averageDailyFlights\":1.71,\"operators\":[{\"name\":\"British Airways\"}]},{\"destination\":{\"icao\":\"KLAS\",\"iata\":\"LAS\",\"name\":\"McCarran, Las Vegas\",\"shortName\":\"McCarran\",\"municipalityName\":\"Las Vegas\",\"location\":{\"lat\":36.0801,\"lon\":-115.152},\"countryCode\":\"US\"},\"averageDailyFlights\":1.71,\"operators\":[{\"name\":\"British Airways\"},{\"name\":\"Virgin Atlantic\"}]},{\"destination\":{\"icao\":\"ELLX\",\"iata\":\"LUX\",\"name\":\"Luxembourg-Findel, Luxembourg\",\"shortName\":\"Findel\",\"municipalityName\":\"Luxembourg\",\"location\":{\"lat\":49.6266,\"lon\":6.21152},\"countryCode\":\"LU\"},\"averageDailyFlights\":1.71,\"operators\":[{\"name\":\"British Airways\"}]},{\"destination\":{\"icao\":\"LMML\",\"iata\":\"MLA\",\"name\":\"Malta, Luqa\",\"shortName\":\"Malta\",\"municipalityName\":\"Luqa\",\"location\":{\"lat\":35.8575,\"lon\":14.4775},\"countryCode\":\"MT\"},\"averageDailyFlights\":1.71,\"operators\":[{\"name\":\"Air Malta\"}]},{\"destination\":{\"icao\":\"MMMX\",\"iata\":\"MEX\",\"name\":\"Licenciado Benito Juarez, Mexico City\",\"shortName\":\"Licenciado Benito Juarez\",\"municipalityName\":\"Mexico City\",\"location\":{\"lat\":19.4363,\"lon\":-99.0721},\"countryCode\":\"MX\"},\"averageDailyFlights\":1.71,\"operators\":[{\"name\":\"Aeromexico\"},{\"name\":\"British Airways\"}]},{\"destination\":{\"icao\":\"LOWI\",\"iata\":\"INN\",\"name\":\"Innsbruck, Innsbruck\",\"municipalityName\":\"Innsbruck\",\"location\":{\"lat\":47.2602,\"lon\":11.343999},\"countryCode\":\"AT\"},\"averageDailyFlights\":1.57,\"operators\":[{\"name\":\"British Airways\"}]},{\"destination\":{\"icao\":\"LFML\",\"iata\":\"MRS\",\"name\":\"Marseille Provence, Marseille\",\"shortName\":\"Provence\",\"municipalityName\":\"Marseille\",\"location\":{\"lat\":43.43927,\"lon\":5.221424},\"countryCode\":\"FR\"},\"averageDailyFlights\":1.57,\"operators\":[{\"name\":\"British Airways\"}]},{\"destination\":{\"icao\":\"CYUL\",\"iata\":\"YUL\",\"name\":\"Montréal Pierre Elliott Trudeau, Montréal\",\"shortName\":\"Pierre Elliott Trudeau\",\"municipalityName\":\"Montréal\",\"location\":{\"lat\":45.4706,\"lon\":-73.7408},\"countryCode\":\"CA\"},\"averageDailyFlights\":1.57,\"operators\":[{\"name\":\"Air Canada\"},{\"name\":\"British Airways\"}]},{\"destination\":{\"icao\":\"DAAG\",\"iata\":\"ALG\",\"name\":\"Houari Boumediene, Algiers\",\"shortName\":\"Houari Boumediene\",\"municipalityName\":\"Algiers\",\"location\":{\"lat\":36.691,\"lon\":3.215409},\"countryCode\":\"DZ\"},\"averageDailyFlights\":1.43,\"operators\":[{\"name\":\"Air Algerie\"},{\"name\":\"British Airways\"}]},{\"destination\":{\"icao\":\"MYNN\",\"iata\":\"NAS\",\"name\":\"Lynden Pindling, Nassau\",\"shortName\":\"Lynden Pindling\",\"municipalityName\":\"Nassau\",\"location\":{\"lat\":25.039,\"lon\":-77.4662},\"countryCode\":\"BS\"},\"averageDailyFlights\":1.43,\"operators\":[{\"name\":\"British Airways\"},{\"name\":\"Virgin Atlantic\"}]},{\"destination\":{\"icao\":\"VOHS\",\"iata\":\"HYD\",\"name\":\"Rajiv Gandhi, Hyderabad\",\"shortName\":\"Rajiv Gandhi\",\"municipalityName\":\"Hyderabad\",\"location\":{\"lat\":17.231318,\"lon\":78.429855},\"countryCode\":\"IN\"},\"averageDailyFlights\":1.43,\"operators\":[{\"name\":\"Air India\"},{\"name\":\"British Airways\"}]},{\"destination\":{\"icao\":\"EDDN\",\"iata\":\"NUE\",\"name\":\"Nuremberg, Nuremberg\",\"municipalityName\":\"Nuremberg\",\"location\":{\"lat\":49.4987,\"lon\":11.0669},\"countryCode\":\"DE\"},\"averageDailyFlights\":1.43,\"operators\":[{\"name\":\"British Airways\"}]},{\"destination\":{\"icao\":\"LDZA\",\"iata\":\"ZAG\",\"name\":\"Zagreb, Zagreb\",\"municipalityName\":\"Zagreb\",\"location\":{\"lat\":45.7429,\"lon\":16.068798},\"countryCode\":\"HR\"},\"averageDailyFlights\":1.43,\"operators\":[{\"name\":\"British Airways\"},{\"name\":\"Croatia\"}]},{\"destination\":{\"icao\":\"KAUS\",\"iata\":\"AUS\",\"name\":\"Austin Bergstrom, Austin\",\"shortName\":\"Bergstrom\",\"municipalityName\":\"Austin\",\"location\":{\"lat\":30.194498,\"lon\":-97.6699},\"countryCode\":\"US\"},\"averageDailyFlights\":1.29,\"operators\":[{\"name\":\"British Airways\"},{\"name\":\"Virgin Atlantic\"}]},{\"destination\":{\"icao\":\"VCBI\",\"iata\":\"CMB\",\"name\":\"Bandaranaike  Colombo, Colombo\",\"shortName\":\"Bandaranaike\",\"municipalityName\":\"Colombo\",\"location\":{\"lat\":7.180759,\"lon\":79.8841},\"countryCode\":\"LK\"},\"averageDailyFlights\":1.29,\"operators\":[{\"name\":\"SriLankan\"}]},{\"destination\":{\"icao\":\"GMMN\",\"iata\":\"CMN\",\"name\":\"Mohammed V, Casablanca\",\"shortName\":\"Mohammed V\",\"municipalityName\":\"Casablanca\",\"location\":{\"lat\":33.3675,\"lon\":-7.58997},\"countryCode\":\"MA\"},\"averageDailyFlights\":1.14,\"operators\":[{\"name\":\"Royal Air Maroc\"}]},{\"destination\":{\"icao\":\"LXGB\",\"iata\":\"GIB\",\"name\":\"Gibraltar, Gibraltar\",\"municipalityName\":\"Gibraltar\",\"location\":{\"lat\":36.1512,\"lon\":-5.349659},\"countryCode\":\"GI\"},\"averageDailyFlights\":1.14,\"operators\":[{\"name\":\"British Airways\"}]},{\"destination\":{\"icao\":\"OEJN\",\"iata\":\"JED\",\"name\":\"King Abdulaziz, Jeddah\",\"shortName\":\"King Abdulaziz\",\"municipalityName\":\"Jeddah\",\"location\":{\"lat\":21.6796,\"lon\":39.1565},\"countryCode\":\"SA\"},\"averageDailyFlights\":1.14,\"operators\":[{\"name\":\"Saudia\"}]},{\"destination\":{\"icao\":\"DNAA\",\"iata\":\"ABV\",\"name\":\"Nnamdi Azikiwe, Abuja\",\"shortName\":\"Nnamdi Azikiwe\",\"municipalityName\":\"Abuja\",\"location\":{\"lat\":9.00679,\"lon\":7.263169},\"countryCode\":\"NG\"},\"averageDailyFlights\":1.0,\"operators\":[{\"name\":\"British Airways\"}]},{\"destination\":{\"icao\":\"DGAA\",\"iata\":\"ACC\",\"name\":\"Kotoka, Accra\",\"shortName\":\"Kotoka\",\"municipalityName\":\"Accra\",\"location\":{\"lat\":5.605189,\"lon\":-0.166786},\"countryCode\":\"GH\"},\"averageDailyFlights\":1.0,\"operators\":[{\"name\":\"British Airways\"}]},{\"destination\":{\"icao\":\"HAAB\",\"iata\":\"ADD\",\"name\":\"Addis Ababa Bole, Addis Ababa\",\"shortName\":\"Bole\",\"municipalityName\":\"Addis Ababa\",\"location\":{\"lat\":8.97789,\"lon\":38.7993},\"countryCode\":\"ET\"},\"averageDailyFlights\":1.0,\"operators\":[{\"name\":\"Ethiopian\"}]},{\"destination\":{\"icao\":\"VOBL\",\"iata\":\"BLR\",\"name\":\"Bengaluru, Bangalore\",\"shortName\":\"Bengaluru\",\"municipalityName\":\"Bangalore\",\"location\":{\"lat\":13.197899,\"lon\":77.7063},\"countryCode\":\"IN\"},\"averageDailyFlights\":1.0,\"operators\":[{\"name\":\"British Airways\"}]},{\"destination\":{\"icao\":\"EKBI\",\"iata\":\"BLL\",\"name\":\"Billund, Billund\",\"municipalityName\":\"Billund\",\"location\":{\"lat\":55.7403,\"lon\":9.15178},\"countryCode\":\"DK\"},\"averageDailyFlights\":1.0,\"operators\":[{\"name\":\"British Airways\"}]},{\"destination\":{\"icao\":\"SKBO\",\"iata\":\"BOG\",\"name\":\"El Dorado, Bogotá\",\"shortName\":\"El Dorado\",\"municipalityName\":\"Bogotá\",\"location\":{\"lat\":4.70159,\"lon\":-74.1469},\"countryCode\":\"CO\"},\"averageDailyFlights\":1.0,\"operators\":[{\"name\":\"SA AVIANCA\"}]},{\"destination\":{\"icao\":\"VOMM\",\"iata\":\"MAA\",\"name\":\"Chennai, Chennai\",\"municipalityName\":\"Chennai\",\"location\":{\"lat\":12.990005,\"lon\":80.1693},\"countryCode\":\"IN\"},\"averageDailyFlights\":1.0,\"operators\":[{\"name\":\"British Airways\"}]},{\"destination\":{\"icao\":\"LPMA\",\"iata\":\"FNC\",\"name\":\"Madeira, Funchal\",\"shortName\":\"Madeira\",\"municipalityName\":\"Funchal\",\"location\":{\"lat\":32.6979,\"lon\":-16.7745},\"countryCode\":\"PT\"},\"averageDailyFlights\":1.0,\"operators\":[{\"name\":\"British Airways\"}]},{\"destination\":{\"icao\":\"CYHZ\",\"iata\":\"YHZ\",\"name\":\"Halifax / Stanfield, Halifax\",\"shortName\":\"Stanfield\",\"municipalityName\":\"Halifax\",\"location\":{\"lat\":44.8808,\"lon\":-63.5086},\"countryCode\":\"CA\"},\"averageDailyFlights\":1.0,\"operators\":[{\"name\":\"Air Canada\"}]},{\"destination\":{\"icao\":\"OPIS\",\"iata\":\"ISB\",\"name\":\"Islamabad, Islamabad\",\"municipalityName\":\"Islamabad\",\"location\":{\"lat\":33.549,\"lon\":72.82566},\"countryCode\":\"PK\"},\"averageDailyFlights\":1.0,\"operators\":[{\"name\":\"British Airways\"},{\"name\":\"Virgin Atlantic\"}]},{\"destination\":{\"icao\":\"EGNS\",\"iata\":\"IOM\",\"name\":\"Isle of Man, Castletown\",\"shortName\":\"Isle of Man\",\"municipalityName\":\"Castletown\",\"location\":{\"lat\":54.0833,\"lon\":-4.623889},\"countryCode\":\"IM\"},\"averageDailyFlights\":1.0,\"operators\":[{\"name\":\"Loganair\"}]},{\"destination\":{\"icao\":\"VRMM\",\"iata\":\"MLE\",\"name\":\"Malé, Malé\",\"municipalityName\":\"Malé\",\"location\":{\"lat\":4.19183,\"lon\":73.5291},\"countryCode\":\"MV\"},\"averageDailyFlights\":1.0,\"operators\":[{\"name\":\"British Airways\"}]},{\"destination\":{\"icao\":\"OOMS\",\"iata\":\"MCT\",\"name\":\"Muscat, Muscat\",\"municipalityName\":\"Muscat\",\"location\":{\"lat\":23.5933,\"lon\":58.2844},\"countryCode\":\"OM\"},\"averageDailyFlights\":1.0,\"operators\":[{\"name\":\"Oman Air\"}]},{\"destination\":{\"icao\":\"KRDU\",\"iata\":\"RDU\",\"name\":\"Raleigh Durham, Raleigh/Durham\",\"shortName\":\"Raleigh Durham\",\"municipalityName\":\"Raleigh/Durham\",\"location\":{\"lat\":35.8776,\"lon\":-78.7875},\"countryCode\":\"US\"},\"averageDailyFlights\":1.0,\"operators\":[{\"name\":\"American\"}]},{\"destination\":{\"icao\":\"KSAN\",\"iata\":\"SAN\",\"name\":\"San Diego, San Diego\",\"municipalityName\":\"San Diego\",\"location\":{\"lat\":32.7336,\"lon\":-117.19},\"countryCode\":\"US\"},\"averageDailyFlights\":1.0,\"operators\":[{\"name\":\"British Airways\"}]},{\"destination\":{\"icao\":\"LBSF\",\"iata\":\"SOF\",\"name\":\"Sofia, Sofia\",\"municipalityName\":\"Sofia\",\"location\":{\"lat\":42.696693,\"lon\":23.411436},\"countryCode\":\"BG\"},\"averageDailyFlights\":1.0,\"operators\":[{\"name\":\"British Airways\"},{\"name\":\"Bulgaria Air\"}]},{\"destination\":{\"icao\":\"LYBE\",\"iata\":\"BEG\",\"name\":\"Belgrade Nikola Tesla, Belgrade\",\"shortName\":\"Nikola Tesla\",\"municipalityName\":\"Belgrade\",\"location\":{\"lat\":44.8184,\"lon\":20.3091},\"countryCode\":\"RS\"},\"averageDailyFlights\":0.86,\"operators\":[{\"name\":\"Air Serbia\"}]},{\"destination\":{\"icao\":\"LEMG\",\"iata\":\"AGP\",\"name\":\"Málaga, Málaga\",\"municipalityName\":\"Málaga\",\"location\":{\"lat\":36.6749,\"lon\":-4.49911},\"countryCode\":\"ES\"},\"averageDailyFlights\":0.86,\"operators\":[{\"name\":\"British Airways\"}]},{\"destination\":{\"icao\":\"KMSP\",\"iata\":\"MSP\",\"name\":\"Minneapolis-St Paul /Wold-Chamberlain, Minneapolis\",\"shortName\":\"St Paul /Wold-Chamberlain\",\"municipalityName\":\"Minneapolis\",\"location\":{\"lat\":44.882,\"lon\":-93.2218},\"countryCode\":\"US\"},\"averageDailyFlights\":0.86,\"operators\":[{\"name\":\"Delta Air Lines\"}]},{\"destination\":{\"icao\":\"KBNA\",\"iata\":\"BNA\",\"name\":\"Nashville, Nashville\",\"municipalityName\":\"Nashville\",\"location\":{\"lat\":36.1245,\"lon\":-86.6782},\"countryCode\":\"US\"},\"averageDailyFlights\":0.86,\"operators\":[{\"name\":\"British Airways\"}]},{\"destination\":{\"icao\":\"KMCO\",\"iata\":\"MCO\",\"name\":\"Orlando, Orlando\",\"municipalityName\":\"Orlando\",\"location\":{\"lat\":28.4294,\"lon\":-81.309},\"countryCode\":\"US\"},\"averageDailyFlights\":0.86,\"operators\":[{\"name\":\"Virgin Atlantic\"}]},{\"destination\":{\"icao\":\"KTPA\",\"iata\":\"TPA\",\"name\":\"Tampa, Tampa\",\"municipalityName\":\"Tampa\",\"location\":{\"lat\":27.9755,\"lon\":-82.5332},\"countryCode\":\"US\"},\"averageDailyFlights\":0.86,\"operators\":[{\"name\":\"Virgin Atlantic\"}]},{\"destination\":{\"icao\":\"YPPH\",\"iata\":\"PER\",\"name\":\"Perth International, Perth\",\"municipalityName\":\"Perth\",\"location\":{\"lat\":-31.940277,\"lon\":115.96694},\"countryCode\":\"AU\"},\"averageDailyFlights\":0.76,\"operators\":[{\"name\":\"Qantas\"}]},{\"destination\":{\"icao\":\"TAPA\",\"iata\":\"ANU\",\"name\":\"V.C. Bird, St. George\",\"shortName\":\"V.C. Bird\",\"municipalityName\":\"St. George\",\"location\":{\"lat\":17.1367,\"lon\":-61.7927},\"countryCode\":\"AG\"},\"averageDailyFlights\":0.71,\"operators\":[{\"name\":\"Virgin Atlantic\"}]},{\"destination\":{\"icao\":\"KBWI\",\"iata\":\"BWI\",\"name\":\"Baltimore/Washington  Thurgood Marshall, Baltimore\",\"shortName\":\"Washington  Thurgood Marshall\",\"municipalityName\":\"Baltimore\",\"location\":{\"lat\":39.1754,\"lon\":-76.6683},\"countryCode\":\"US\"},\"averageDailyFlights\":0.71,\"operators\":[{\"name\":\"British Airways\"}]},{\"destination\":{\"icao\":\"TXKF\",\"iata\":\"BDA\",\"name\":\"L.F. Wade, Hamilton\",\"shortName\":\"L.F. Wade\",\"municipalityName\":\"Hamilton\",\"location\":{\"lat\":32.364,\"lon\":-64.6787},\"countryCode\":\"BM\"},\"averageDailyFlights\":0.71,\"operators\":[{\"name\":\"British Airways\"}]},{\"destination\":{\"icao\":\"EPKK\",\"iata\":\"KRK\",\"name\":\"John Paul II   Kraków-Balice, Kraków\",\"shortName\":\"John Paul II   -Balice\",\"municipalityName\":\"Kraków\",\"location\":{\"lat\":50.0777,\"lon\":19.7848},\"countryCode\":\"PL\"},\"averageDailyFlights\":0.71,\"operators\":[{\"name\":\"British Airways\"}]},{\"destination\":{\"icao\":\"OPLA\",\"iata\":\"LHE\",\"name\":\"Alama Iqbal, Lahore\",\"shortName\":\"Alama Iqbal\",\"municipalityName\":\"Lahore\",\"location\":{\"lat\":31.5216,\"lon\":74.4036},\"countryCode\":\"PK\"},\"averageDailyFlights\":0.71,\"operators\":[{\"name\":\"Virgin Atlantic\"}]},{\"destination\":{\"icao\":\"FIMP\",\"iata\":\"MRU\",\"name\":\"Sir Seewoosagur Ramgoolam, Port Louis\",\"shortName\":\"Sir Seewoosagur Ramgoolam\",\"municipalityName\":\"Port Louis\",\"location\":{\"lat\":-20.4302,\"lon\":57.6836},\"countryCode\":\"MU\"},\"averageDailyFlights\":0.71,\"operators\":[{\"name\":\"Air Mauritius\"}]},{\"destination\":{\"icao\":\"LIRN\",\"iata\":\"NAP\",\"name\":\"Naples, Nápoli\",\"shortName\":\"Naples\",\"municipalityName\":\"Nápoli\",\"location\":{\"lat\":40.886,\"lon\":14.2908},\"countryCode\":\"IT\"},\"averageDailyFlights\":0.71,\"operators\":[{\"name\":\"British Airways\"}]},{\"destination\":{\"icao\":\"SBGL\",\"iata\":\"GIG\",\"name\":\"RIOgaleão – Tom Jobim, Rio de Janeiro\",\"shortName\":\"RIOgaleão – Tom Jobim\",\"municipalityName\":\"Rio de Janeiro\",\"location\":{\"lat\":-22.81,\"lon\":-43.250557},\"countryCode\":\"BR\"},\"averageDailyFlights\":0.71,\"operators\":[{\"name\":\"British Airways\"}]},{\"destination\":{\"icao\":\"KSLC\",\"iata\":\"SLC\",\"name\":\"Salt Lake City, Salt Lake City\",\"municipalityName\":\"Salt Lake City\",\"location\":{\"lat\":40.7884,\"lon\":-111.978},\"countryCode\":\"US\"},\"averageDailyFlights\":0.71,\"operators\":[{\"name\":\"Delta Air Lines\"}]},{\"destination\":{\"icao\":\"KSJC\",\"iata\":\"SJC\",\"name\":\"Norman Y. Mineta San Jose, San Jose\",\"shortName\":\"Norman Y. Mineta\",\"municipalityName\":\"San Jose\",\"location\":{\"lat\":37.3626,\"lon\":-121.929},\"countryCode\":\"US\"},\"averageDailyFlights\":0.71,\"operators\":[{\"name\":\"British Airways\"}]},{\"destination\":{\"icao\":\"LEVC\",\"iata\":\"VLC\",\"name\":\"Valencia, Valencia\",\"municipalityName\":\"Valencia\",\"location\":{\"lat\":39.4893,\"lon\":-0.481624},\"countryCode\":\"ES\"},\"averageDailyFlights\":0.71,\"operators\":[{\"name\":\"British Airways\"}]},{\"destination\":{\"icao\":\"LIRP\",\"iata\":\"PSA\",\"name\":\"Pisa, Pisa\",\"municipalityName\":\"Pisa\",\"location\":{\"lat\":43.6839,\"lon\":10.3927},\"countryCode\":\"IT\"},\"averageDailyFlights\":0.59,\"operators\":[{\"name\":\"British Airways\"}]},{\"destination\":{\"icao\":\"VAAH\",\"iata\":\"AMD\",\"name\":\"Sardar Vallabhbhai Patel, Ahmedabad\",\"shortName\":\"Sardar Vallabhbhai Patel\",\"municipalityName\":\"Ahmedabad\",\"location\":{\"lat\":23.0772,\"lon\":72.6347},\"countryCode\":\"IN\"},\"averageDailyFlights\":0.57,\"operators\":[{\"name\":\"Air India\"}]},{\"destination\":{\"icao\":\"ENBR\",\"iata\":\"BGO\",\"name\":\"Bergen , Flesland, Bergen\",\"shortName\":\"Flesland\",\"municipalityName\":\"Bergen\",\"location\":{\"lat\":60.2934,\"lon\":5.21814},\"countryCode\":\"NO\"},\"averageDailyFlights\":0.57,\"operators\":[{\"name\":\"Wideroe\"}]},{\"destination\":{\"icao\":\"VGSY\",\"iata\":\"ZYL\",\"name\":\"Osmany, Sylhet\",\"shortName\":\"Osmany\",\"municipalityName\":\"Sylhet\",\"location\":{\"lat\":24.9632,\"lon\":91.8668},\"countryCode\":\"BD\"},\"averageDailyFlights\":0.57,\"operators\":[{\"name\":\"Biman Bangladesh\"}]},{\"destination\":{\"icao\":\"VVNB\",\"iata\":\"HAN\",\"name\":\"Noi Bai, Hanoi\",\"shortName\":\"Noi Bai\",\"municipalityName\":\"Hanoi\",\"location\":{\"lat\":21.2212,\"lon\":105.807},\"countryCode\":\"VN\"},\"averageDailyFlights\":0.57,\"operators\":[{\"name\":\"Vietnam\"}]},{\"destination\":{\"icao\":\"EDDP\",\"iata\":\"LEJ\",\"name\":\"Leipzig Halle, Leipzig\",\"shortName\":\"Halle\",\"municipalityName\":\"Leipzig\",\"location\":{\"lat\":51.4324,\"lon\":12.2416},\"countryCode\":\"DE\"},\"averageDailyFlights\":0.57,\"operators\":[{\"name\":\"EAT Leipzig\"}]},{\"destination\":{\"icao\":\"GMMX\",\"iata\":\"RAK\",\"name\":\"Menara, Marrakech\",\"shortName\":\"Menara\",\"municipalityName\":\"Marrakech\",\"location\":{\"lat\":31.6069,\"lon\":-8.036299},\"countryCode\":\"MA\"},\"averageDailyFlights\":0.57,\"operators\":[{\"name\":\"British Airways\"}]},{\"destination\":{\"icao\":\"KPIT\",\"iata\":\"PIT\",\"name\":\"Pittsburgh, Pittsburgh\",\"municipalityName\":\"Pittsburgh\",\"location\":{\"lat\":40.4915,\"lon\":-80.2329},\"countryCode\":\"US\"},\"averageDailyFlights\":0.57,\"operators\":[{\"name\":\"British Airways\"}]},{\"destination\":{\"icao\":\"KPDX\",\"iata\":\"PDX\",\"name\":\"Portland, Portland\",\"municipalityName\":\"Portland\",\"location\":{\"lat\":45.5887,\"lon\":-122.598},\"countryCode\":\"US\"},\"averageDailyFlights\":0.57,\"operators\":[{\"name\":\"British Airways\"}]},{\"destination\":{\"icao\":\"LPPR\",\"iata\":\"OPO\",\"name\":\"Francisco de Sá Carneiro, Porto\",\"shortName\":\"Francisco de Sá Carneiro\",\"municipalityName\":\"Porto\",\"location\":{\"lat\":41.2481,\"lon\":-8.681389},\"countryCode\":\"PT\"},\"averageDailyFlights\":0.57,\"operators\":[{\"name\":\"British Airways\"}]},{\"destination\":{\"icao\":\"LOWS\",\"iata\":\"SZG\",\"name\":\"Salzburg, Salzburg\",\"municipalityName\":\"Salzburg\",\"location\":{\"lat\":47.7933,\"lon\":13.0043},\"countryCode\":\"AT\"},\"averageDailyFlights\":0.57,\"operators\":[{\"name\":\"British Airways\"}]},{\"destination\":{\"icao\":\"ENZV\",\"iata\":\"SVG\",\"name\":\"Stavanger , Sola, Stavanger\",\"shortName\":\"Sola\",\"municipalityName\":\"Stavanger\",\"location\":{\"lat\":58.8767,\"lon\":5.63778},\"countryCode\":\"NO\"},\"averageDailyFlights\":0.57,\"operators\":[{\"name\":\"SAS\"}]},{\"destination\":{\"icao\":\"RCTP\",\"iata\":\"TPE\",\"name\":\"Taiwan Taoyuan, Taipei\",\"shortName\":\"Taiwan Taoyuan\",\"municipalityName\":\"Taipei\",\"location\":{\"lat\":25.0777,\"lon\":121.233},\"countryCode\":\"TW\"},\"averageDailyFlights\":0.57,\"operators\":[{\"name\":\"China\"}]},{\"destination\":{\"icao\":\"LATI\",\"iata\":\"TIA\",\"name\":\"Tirana   Mother Teresa, Tirana\",\"shortName\":\"Mother Teresa\",\"municipalityName\":\"Tirana\",\"location\":{\"lat\":41.4147,\"lon\":19.7206},\"countryCode\":\"AL\"},\"averageDailyFlights\":0.57,\"operators\":[{\"name\":\"British Airways\"}]},{\"destination\":{\"icao\":\"VIAR\",\"iata\":\"ATQ\",\"name\":\"Sri Guru Ram Dass Jee, Amritsar\",\"shortName\":\"Sri Guru Ram Dass Jee\",\"municipalityName\":\"Amritsar\",\"location\":{\"lat\":31.7096,\"lon\":74.7973},\"countryCode\":\"IN\"},\"averageDailyFlights\":0.43,\"operators\":[{\"name\":\"Air India\"}]},{\"destination\":{\"icao\":\"SAEZ\",\"iata\":\"EZE\",\"name\":\"Ministro Pistarini, Buenos Aires\",\"shortName\":\"Ministro Pistarini\",\"municipalityName\":\"Buenos Aires\",\"location\":{\"lat\":-34.8222,\"lon\":-58.5358},\"countryCode\":\"AR\"},\"averageDailyFlights\":0.43,\"operators\":[{\"name\":\"British Airways\"}]},{\"destination\":{\"icao\":\"VOGO\",\"iata\":\"GOI\",\"name\":\"Dabolim, Vasco da Gama\",\"shortName\":\"Dabolim\",\"municipalityName\":\"Vasco da Gama\",\"location\":{\"lat\":15.3808,\"lon\":73.8314},\"countryCode\":\"IN\"},\"averageDailyFlights\":0.43,\"operators\":[{\"name\":\"Air India\"}]},{\"destination\":{\"icao\":\"VVTS\",\"iata\":\"SGN\",\"name\":\"Tan Son Nhat, Ho Chi Minh City\",\"shortName\":\"Tan Son Nhat\",\"municipalityName\":\"Ho Chi Minh City\",\"location\":{\"lat\":10.818799,\"lon\":106.652},\"countryCode\":\"VN\"},\"averageDailyFlights\":0.43,\"operators\":[{\"name\":\"Vietnam\"}]},{\"destination\":{\"icao\":\"HRYR\",\"iata\":\"KGL\",\"name\":\"Kigali, Kigali\",\"municipalityName\":\"Kigali\",\"location\":{\"lat\":-1.968629,\"lon\":30.1395},\"countryCode\":\"RW\"},\"averageDailyFlights\":0.43,\"operators\":[{\"name\":\"RwandAir\"}]},{\"destination\":{\"icao\":\"VOCI\",\"iata\":\"COK\",\"name\":\"Cochin, Kochi\",\"shortName\":\"Cochin\",\"municipalityName\":\"Kochi\",\"location\":{\"lat\":10.152,\"lon\":76.4019},\"countryCode\":\"IN\"},\"averageDailyFlights\":0.43,\"operators\":[{\"name\":\"Air India\"}]},{\"destination\":{\"icao\":\"MKJS\",\"iata\":\"MBJ\",\"name\":\"Sangster, Montego Bay\",\"shortName\":\"Sangster\",\"municipalityName\":\"Montego Bay\",\"location\":{\"lat\":18.5037,\"lon\":-77.9134},\"countryCode\":\"JM\"},\"averageDailyFlights\":0.43,\"operators\":[{\"name\":\"Virgin Atlantic\"}]},{\"destination\":{\"icao\":\"KMSY\",\"iata\":\"MSY\",\"name\":\"Louis Armstrong New Orleans, New Orleans\",\"shortName\":\"Louis Armstrong\",\"municipalityName\":\"New Orleans\",\"location\":{\"lat\":29.9934,\"lon\":-90.258},\"countryCode\":\"US\"},\"averageDailyFlights\":0.43,\"operators\":[{\"name\":\"British Airways\"}]},{\"destination\":{\"icao\":\"SCEL\",\"iata\":\"SCL\",\"name\":\"Comodoro Arturo Merino Benítez, Santiago\",\"shortName\":\"Comodoro Arturo Merino Benítez\",\"municipalityName\":\"Santiago\",\"location\":{\"lat\":-33.393,\"lon\":-70.7858},\"countryCode\":\"CL\"},\"averageDailyFlights\":0.43,\"operators\":[{\"name\":\"British Airways\"}]},{\"destination\":{\"icao\":\"TLPL\",\"iata\":\"UVF\",\"name\":\"Hewanorra, Vieux Fort\",\"shortName\":\"Hewanorra\",\"municipalityName\":\"Vieux Fort\",\"location\":{\"lat\":13.7332,\"lon\":-60.9526},\"countryCode\":\"LC\"},\"averageDailyFlights\":0.43,\"operators\":[{\"name\":\"Virgin Atlantic\"}]},{\"destination\":{\"icao\":\"GCTS\",\"iata\":\"TFS\",\"name\":\"Tenerife South, Tenerife Island\",\"shortName\":\"Tenerife South\",\"municipalityName\":\"Tenerife Island\",\"location\":{\"lat\":28.0445,\"lon\":-16.5725},\"countryCode\":\"ES\"},\"averageDailyFlights\":0.43,\"operators\":[{\"name\":\"British Airways\"}]},{\"destination\":{\"icao\":\"DTTA\",\"iata\":\"TUN\",\"name\":\"Tunis Carthage, Tunis\",\"shortName\":\"Carthage\",\"municipalityName\":\"Tunis\",\"location\":{\"lat\":36.851,\"lon\":10.227199},\"countryCode\":\"TN\"},\"averageDailyFlights\":0.43,\"operators\":[{\"name\":\"Tunisair\"}]},{\"destination\":{\"icao\":\"UATE\",\"iata\":\"SCO\",\"localCode\":\"ААУ\",\"name\":\"Aktau, Aktau\",\"municipalityName\":\"Aktau\",\"location\":{\"lat\":43.8601,\"lon\":51.092},\"countryCode\":\"KZ\"},\"averageDailyFlights\":0.29,\"operators\":[{\"name\":\"Air Astana\"}]},{\"destination\":{\"icao\":\"UBBB\",\"iata\":\"GYD\",\"localCode\":\"БАК\",\"name\":\"Heydar Aliyev, Baku\",\"shortName\":\"Heydar Aliyev\",\"municipalityName\":\"Baku\",\"location\":{\"lat\":40.4675,\"lon\":50.0467},\"countryCode\":\"AZ\"},\"averageDailyFlights\":0.29,\"operators\":[{\"name\":\"AZAL Azerbaijan\"}]},{\"destination\":{\"icao\":\"LFLS\",\"iata\":\"GNB\",\"name\":\"Grenoble-Isère, Grenoble/Saint-Geoirs\",\"shortName\":\"Grenoble-Isère\",\"municipalityName\":\"Grenoble/Saint-Geoirs\",\"location\":{\"lat\":45.3629,\"lon\":5.32937},\"countryCode\":\"FR\"},\"averageDailyFlights\":0.29,\"operators\":[{\"name\":\"British Airways\"}]},{\"destination\":{\"icao\":\"ZSPD\",\"iata\":\"PVG\",\"name\":\"Shanghai Pudong, Shanghai\",\"shortName\":\"Pudong\",\"municipalityName\":\"Shanghai\",\"location\":{\"lat\":31.1434,\"lon\":121.805},\"countryCode\":\"CN\"},\"averageDailyFlights\":0.29,\"operators\":[{\"name\":\"Air China LTD\"},{\"name\":\"China Eastern\"}]},{\"destination\":{\"icao\":\"UTTT\",\"iata\":\"TAS\",\"localCode\":\"ТАС\",\"name\":\"Tashkent, Tashkent\",\"municipalityName\":\"Tashkent\",\"location\":{\"lat\":41.2579,\"lon\":69.2812},\"countryCode\":\"UZ\"},\"averageDailyFlights\":0.29,\"operators\":[{\"name\":\"Uzbekistan Airways\"}]},{\"destination\":{\"icao\":\"WBSB\",\"iata\":\"BWN\",\"name\":\"Brunei, Bandar Seri Begawan\",\"shortName\":\"Brunei\",\"municipalityName\":\"Bandar Seri Begawan\",\"location\":{\"lat\":4.9442,\"lon\":114.928},\"countryCode\":\"BN\"},\"averageDailyFlights\":0.14,\"operators\":[{\"name\":\"Royal Brunei\"}]},{\"destination\":{\"icao\":\"ZBAA\",\"iata\":\"PEK\",\"name\":\"Beijing Capital, Beijing\",\"shortName\":\"Capital\",\"municipalityName\":\"Beijing\",\"location\":{\"lat\":40.0801,\"lon\":116.585},\"countryCode\":\"CN\"},\"averageDailyFlights\":0.14,\"operators\":[{\"name\":\"Air China LTD\"}]},{\"destination\":{\"icao\":\"ZGGG\",\"iata\":\"CAN\",\"name\":\"Guangzhou Baiyun, Guangzhou\",\"shortName\":\"Baiyun\",\"municipalityName\":\"Guangzhou\",\"location\":{\"lat\":23.3924,\"lon\":113.299},\"countryCode\":\"CN\"},\"averageDailyFlights\":0.14,\"operators\":[{\"name\":\"China Southern\"}]},{\"destination\":{\"icao\":\"HELX\",\"iata\":\"LXR\",\"name\":\"Luxor, Luxor\",\"municipalityName\":\"Luxor\",\"location\":{\"lat\":25.671,\"lon\":32.7066},\"countryCode\":\"EG\"},\"averageDailyFlights\":0.14,\"operators\":[{\"name\":\"EgyptAir\"}]},{\"destination\":{\"icao\":\"ZSQD\",\"iata\":\"TAO\",\"name\":\"Liuting, Qingdao\",\"shortName\":\"Liuting\",\"municipalityName\":\"Qingdao\",\"location\":{\"lat\":36.2661,\"lon\":120.374},\"countryCode\":\"CN\"},\"averageDailyFlights\":0.14,\"operators\":[{\"name\":\"Beijing Capital\"}]},{\"destination\":{\"icao\":\"TVSV\",\"iata\":\"SVD\",\"name\":\"E. T. Joshua, Kingstown\",\"shortName\":\"E. T. Joshua\",\"municipalityName\":\"Kingstown\",\"location\":{\"lat\":13.1443,\"lon\":-61.2109},\"countryCode\":\"VC\"},\"averageDailyFlights\":0.14,\"operators\":[{\"name\":\"Virgin Atlantic\"}]},{\"destination\":{\"name\":\"Neom Bay\"},\"averageDailyFlights\":0.14,\"operators\":[{\"name\":\"Saudia\"}]}]}'"
   ]
  },
  {
   "cell_type": "code",
   "execution_count": 151,
   "id": "0cf77fd8",
   "metadata": {
    "collapsed": true
   },
   "outputs": [
    {
     "ename": "SyntaxError",
     "evalue": "invalid syntax (2661254570.py, line 10)",
     "output_type": "error",
     "traceback": [
      "\u001b[0;36m  File \u001b[0;32m\"/var/folders/qk/tw9hw7y536n3q312492k3k3m0000gn/T/ipykernel_54019/2661254570.py\"\u001b[0;36m, line \u001b[0;32m10\u001b[0m\n\u001b[0;31m    build_routes_df(data):\u001b[0m\n\u001b[0m                          ^\u001b[0m\n\u001b[0;31mSyntaxError\u001b[0m\u001b[0;31m:\u001b[0m invalid syntax\n"
     ]
    }
   ],
   "source": [
    "# routes\n",
    "# routes = 'https://aerodatabox.p.rapidapi.com/airports/icao/LFPG/stats/routes/daily'\n",
    "\n",
    "routes = build_routes_url(\"LFPG\")\n",
    "response = requests.request(\"GET\", routes, headers=headers)\n",
    "try:\n",
    "    route_data = response.json()\n",
    "    print(route_data)\n",
    "#     get data\n",
    "    build_routes_df(route_data.json())\n",
    "\n",
    "except:\n",
    "    print(\"Error from server: \" + str(response.content))\n"
   ]
  },
  {
   "cell_type": "code",
   "execution_count": 33,
   "id": "cf124847",
   "metadata": {},
   "outputs": [],
   "source": [
    "# dep date, ICAO, flight num, destination, arr date, status, terminal, gate\n",
    "def build_departures_df(data,icao):\n",
    "    departures_df = pd.DataFrame()\n",
    "\n",
    "    for f in range(len(data)):\n",
    "        flight_num = data[f]['number']\n",
    "        dep_date = data[f]['movement']['scheduledTimeLocal']\n",
    "        destination = data[f]['movement']['airport']['name']\n",
    "        status = data[f]['status']\n",
    "        flight = pd.DataFrame({'depart_date':dep_date,'city_iso':[icao],'flight':flight_num,'destination':destination,'status':status})\n",
    "        departures_df = pd.concat([departures_df,flight],axis=0)\n",
    "    return departures_df\n",
    "\n"
   ]
  },
  {
   "cell_type": "code",
   "execution_count": 175,
   "id": "c55e7560",
   "metadata": {},
   "outputs": [],
   "source": []
  },
  {
   "cell_type": "code",
   "execution_count": 34,
   "id": "3461fab3",
   "metadata": {},
   "outputs": [],
   "source": [
    "#  date, ICAO, flight num, origin, arr date, status\n",
    "def build_arrivals_df(data,icao):\n",
    "    arrivals_df = pd.DataFrame()\n",
    "    for f in range(len(data)):\n",
    "        flight_num = data[f]['number']\n",
    "        arr_date = data[f]['movement']['scheduledTimeLocal']\n",
    "        origin = data[f]['movement']['airport']['name']\n",
    "        status = data[f]['status']\n",
    "        flight = pd.DataFrame({'arrival_date':arr_date,'city_iso':[icao],'flight':flight_num,'origin':origin,'status':status})\n",
    "        arrivals_df = pd.concat([arrivals_df,flight],axis=0)\n",
    "    return arrivals_df\n",
    "    \n",
    "    "
   ]
  },
  {
   "cell_type": "code",
   "execution_count": 193,
   "id": "20b41836",
   "metadata": {},
   "outputs": [],
   "source": [
    " "
   ]
  },
  {
   "cell_type": "code",
   "execution_count": null,
   "id": "b6634b0e",
   "metadata": {},
   "outputs": [],
   "source": [
    "# local flights json\n",
    "arrivals_json = {\"arrivals\":[{\"movement\":{\"airport\":{\"icao\":\"FACT\",\"iata\":\"CPT\",\"name\":\"Cape Town\"},\"scheduledTimeLocal\":\"2023-02-08 04:45+00:00\",\"actualTimeLocal\":\"2023-02-08 04:37+00:00\",\"runwayTimeLocal\":\"2023-02-08 04:37+00:00\",\"scheduledTimeUtc\":\"2023-02-08 04:45Z\",\"actualTimeUtc\":\"2023-02-08 04:37Z\",\"runwayTimeUtc\":\"2023-02-08 04:37Z\",\"terminal\":\"5\",\"baggageBelt\":\"10\",\"quality\":[\"Basic\",\"Live\"]},\"number\":\"AA 6448\",\"status\":\"Arrived\",\"codeshareStatus\":\"IsCodeshared\",\"isCargo\":\"false\",\"aircraft\":{\"model\":\"Boeing 777-200 / 200ER Passenger\"},\"airline\":{\"name\":\"American\",\"iata\":\"AA\",\"icao\":\"AAL\"}},{\"movement\":{\"airport\":{\"icao\":\"FACT\",\"iata\":\"CPT\",\"name\":\"Cape Town\"},\"scheduledTimeLocal\":\"2023-02-08 04:45+00:00\",\"actualTimeLocal\":\"2023-02-08 04:37+00:00\",\"runwayTimeLocal\":\"2023-02-08 04:37+00:00\",\"scheduledTimeUtc\":\"2023-02-08 04:45Z\",\"actualTimeUtc\":\"2023-02-08 04:37Z\",\"runwayTimeUtc\":\"2023-02-08 04:37Z\",\"terminal\":\"5\",\"baggageBelt\":\"10\",\"quality\":[\"Basic\",\"Live\"]},\"number\":\"AY 5948\",\"status\":\"Arrived\",\"codeshareStatus\":\"IsCodeshared\",\"isCargo\":\"false\",\"aircraft\":{\"model\":\"Boeing 777-200 / 200ER Passenger\"},\"airline\":{\"name\":\"Finnair\",\"iata\":\"AY\",\"icao\":\"FIN\"}},{\"movement\":{\"airport\":{\"icao\":\"FACT\",\"iata\":\"CPT\",\"name\":\"Cape Town\"},\"scheduledTimeLocal\":\"2023-02-08 04:45+00:00\",\"actualTimeLocal\":\"2023-02-08 04:37+00:00\",\"runwayTimeLocal\":\"2023-02-08 04:37+00:00\",\"scheduledTimeUtc\":\"2023-02-08 04:45Z\",\"actualTimeUtc\":\"2023-02-08 04:37Z\",\"runwayTimeUtc\":\"2023-02-08 04:37Z\",\"terminal\":\"5\",\"baggageBelt\":\"10\",\"quality\":[\"Basic\",\"Live\"]},\"number\":\"BA 58\",\"callSign\":\"BAW58L\",\"status\":\"Arrived\",\"codeshareStatus\":\"IsOperator\",\"isCargo\":\"false\",\"aircraft\":{\"reg\":\"G-YMMG\",\"modeS\":\"4007F2\",\"model\":\"Boeing 777-200 / 200ER Passenger\"},\"airline\":{\"name\":\"British Airways\",\"iata\":\"BA\",\"icao\":\"BAW\"}},{\"movement\":{\"airport\":{\"icao\":\"DNMM\",\"iata\":\"LOS\",\"name\":\"Lagos\"},\"scheduledTimeLocal\":\"2023-02-08 04:50+00:00\",\"actualTimeLocal\":\"2023-02-08 04:32+00:00\",\"runwayTimeLocal\":\"2023-02-08 04:32+00:00\",\"scheduledTimeUtc\":\"2023-02-08 04:50Z\",\"actualTimeUtc\":\"2023-02-08 04:32Z\",\"runwayTimeUtc\":\"2023-02-08 04:32Z\",\"terminal\":\"5\",\"baggageBelt\":\"8\",\"quality\":[\"Basic\",\"Live\"]},\"number\":\"BA 74\",\"callSign\":\"BAW74\",\"status\":\"Arrived\",\"codeshareStatus\":\"IsOperator\",\"isCargo\":\"false\",\"aircraft\":{\"reg\":\"G-VIIC\",\"modeS\":\"4005BB\",\"model\":\"Boeing 777-200 / 200ER Passenger\"},\"airline\":{\"name\":\"British Airways\",\"iata\":\"BA\",\"icao\":\"BAW\"}},{\"movement\":{\"airport\":{\"icao\":\"FACT\",\"iata\":\"CPT\",\"name\":\"Cape Town\"},\"scheduledTimeLocal\":\"2023-02-08 04:45+00:00\",\"actualTimeLocal\":\"2023-02-08 04:37+00:00\",\"runwayTimeLocal\":\"2023-02-08 04:37+00:00\",\"scheduledTimeUtc\":\"2023-02-08 04:45Z\",\"actualTimeUtc\":\"2023-02-08 04:37Z\",\"runwayTimeUtc\":\"2023-02-08 04:37Z\",\"terminal\":\"5\",\"baggageBelt\":\"10\",\"quality\":[\"Basic\",\"Live\"]},\"number\":\"IB 7320\",\"status\":\"Arrived\",\"codeshareStatus\":\"IsCodeshared\",\"isCargo\":\"false\",\"aircraft\":{\"model\":\"Boeing 777-200 / 200ER Passenger\"},\"airline\":{\"name\":\"Iberia\",\"iata\":\"IB\",\"icao\":\"IBE\"}},{\"movement\":{\"airport\":{\"icao\":\"FAOR\",\"iata\":\"JNB\",\"name\":\"Joanna\"},\"scheduledTimeLocal\":\"2023-02-08 04:55+00:00\",\"actualTimeLocal\":\"2023-02-08 04:34+00:00\",\"runwayTimeLocal\":\"2023-02-08 04:34+00:00\",\"scheduledTimeUtc\":\"2023-02-08 04:55Z\",\"actualTimeUtc\":\"2023-02-08 04:34Z\",\"runwayTimeUtc\":\"2023-02-08 04:34Z\",\"terminal\":\"3\",\"baggageBelt\":\"02\",\"quality\":[\"Basic\",\"Live\"]},\"number\":\"VS 450\",\"callSign\":\"VIR450\",\"status\":\"Arrived\",\"codeshareStatus\":\"IsOperator\",\"isCargo\":\"false\",\"aircraft\":{\"reg\":\"G-VBEL\",\"modeS\":\"4073CE\",\"model\":\"Boeing 787-9\"},\"airline\":{\"name\":\"Virgin Atlantic\",\"iata\":\"VS\",\"icao\":\"VIR\"}},{\"movement\":{\"airport\":{\"icao\":\"DGAA\",\"iata\":\"ACC\",\"name\":\"Accra\"},\"scheduledTimeLocal\":\"2023-02-08 05:30+00:00\",\"actualTimeLocal\":\"2023-02-08 05:00+00:00\",\"runwayTimeLocal\":\"2023-02-08 05:00+00:00\",\"scheduledTimeUtc\":\"2023-02-08 05:30Z\",\"actualTimeUtc\":\"2023-02-08 05:00Z\",\"runwayTimeUtc\":\"2023-02-08 05:00Z\",\"terminal\":\"5\",\"baggageBelt\":\"4\",\"quality\":[\"Basic\",\"Live\"]},\"number\":\"AA 6414\",\"status\":\"Arrived\",\"codeshareStatus\":\"IsCodeshared\",\"isCargo\":\"false\",\"aircraft\":{\"model\":\"Airbus A350-1000\"},\"airline\":{\"name\":\"American\",\"iata\":\"AA\",\"icao\":\"AAL\"}},{\"movement\":{\"airport\":{\"icao\":\"FAOR\",\"iata\":\"JNB\",\"name\":\"Joanna\"},\"scheduledTimeLocal\":\"2023-02-08 05:30+00:00\",\"actualTimeLocal\":\"2023-02-08 04:48+00:00\",\"runwayTimeLocal\":\"2023-02-08 04:48+00:00\",\"scheduledTimeUtc\":\"2023-02-08 05:30Z\",\"actualTimeUtc\":\"2023-02-08 04:48Z\",\"runwayTimeUtc\":\"2023-02-08 04:48Z\",\"terminal\":\"5\",\"baggageBelt\":\"5\",\"quality\":[\"Basic\",\"Live\"]},\"number\":\"AA 6446\",\"status\":\"Arrived\",\"codeshareStatus\":\"IsCodeshared\",\"isCargo\":\"false\",\"aircraft\":{\"model\":\"Airbus A380-800\"},\"airline\":{\"name\":\"American\",\"iata\":\"AA\",\"icao\":\"AAL\"}},{\"movement\":{\"airport\":{\"icao\":\"WSSS\",\"iata\":\"SIN\",\"name\":\"Singapore\"},\"scheduledTimeLocal\":\"2023-02-08 05:35+00:00\",\"actualTimeLocal\":\"2023-02-08 05:24+00:00\",\"runwayTimeLocal\":\"2023-02-08 05:24+00:00\",\"scheduledTimeUtc\":\"2023-02-08 05:35Z\",\"actualTimeUtc\":\"2023-02-08 05:24Z\",\"runwayTimeUtc\":\"2023-02-08 05:24Z\",\"terminal\":\"5\",\"baggageBelt\":\"3\",\"quality\":[\"Basic\",\"Live\"]},\"number\":\"AA 6836\",\"status\":\"Arrived\",\"codeshareStatus\":\"IsCodeshared\",\"isCargo\":\"false\",\"aircraft\":{\"model\":\"Boeing 787-9\"},\"airline\":{\"name\":\"American\",\"iata\":\"AA\",\"icao\":\"AAL\"}},{\"movement\":{\"airport\":{\"icao\":\"WSSS\",\"iata\":\"SIN\",\"name\":\"Singapore\"},\"scheduledTimeLocal\":\"2023-02-08 05:25+00:00\",\"actualTimeLocal\":\"2023-02-08 04:51+00:00\",\"runwayTimeLocal\":\"2023-02-08 04:51+00:00\",\"scheduledTimeUtc\":\"2023-02-08 05:25Z\",\"actualTimeUtc\":\"2023-02-08 04:51Z\",\"runwayTimeUtc\":\"2023-02-08 04:51Z\",\"terminal\":\"5\",\"baggageBelt\":\"9\",\"quality\":[\"Basic\",\"Live\"]},\"number\":\"AA 6874\",\"status\":\"Arrived\",\"codeshareStatus\":\"IsCodeshared\",\"isCargo\":\"false\",\"aircraft\":{\"model\":\"Boeing 777-300ER Passenger\"},\"airline\":{\"name\":\"American\",\"iata\":\"AA\",\"icao\":\"AAL\"}},{\"movement\":{\"airport\":{\"icao\":\"KBOS\",\"iata\":\"BOS\",\"name\":\"Boston\"},\"scheduledTimeLocal\":\"2023-02-08 05:55+00:00\",\"actualTimeLocal\":\"2023-02-08 05:27+00:00\",\"runwayTimeLocal\":\"2023-02-08 05:27+00:00\",\"scheduledTimeUtc\":\"2023-02-08 05:55Z\",\"actualTimeUtc\":\"2023-02-08 05:27Z\",\"runwayTimeUtc\":\"2023-02-08 05:27Z\",\"terminal\":\"2\",\"baggageBelt\":\"3\",\"runway\":\"27R\",\"quality\":[\"Basic\",\"Live\"]},\"number\":\"B6 1620\",\"callSign\":\"JBU1620\",\"status\":\"Arrived\",\"codeshareStatus\":\"IsOperator\",\"aircraft\":{\"reg\":\"N4058J\",\"modeS\":\"A4C2AD\",\"model\":\"Airbus A321 NEO\"},\"airline\":{\"name\":\"JetBlue Airways\",\"iata\":\"B6\",\"icao\":\"JBU\"}},{\"movement\":{\"airport\":{\"icao\":\"WSSS\",\"iata\":\"SIN\",\"name\":\"Singapore\"},\"scheduledTimeLocal\":\"2023-02-08 05:35+00:00\",\"actualTimeLocal\":\"2023-02-08 05:24+00:00\",\"runwayTimeLocal\":\"2023-02-08 05:24+00:00\",\"scheduledTimeUtc\":\"2023-02-08 05:35Z\",\"actualTimeUtc\":\"2023-02-08 05:24Z\",\"runwayTimeUtc\":\"2023-02-08 05:24Z\",\"terminal\":\"5\",\"baggageBelt\":\"3\",\"runway\":\"27R\",\"quality\":[\"Basic\",\"Live\"]},\"number\":\"BA 12\",\"callSign\":\"BAW12\",\"status\":\"Arrived\",\"codeshareStatus\":\"IsOperator\",\"aircraft\":{\"reg\":\"G-ZBKM\",\"modeS\":\"406F79\",\"model\":\"Boeing 787-9\"},\"airline\":{\"name\":\"British Airways\",\"iata\":\"BA\",\"icao\":\"BAW\"}},{\"movement\":{\"airport\":{\"icao\":\"WSSS\",\"iata\":\"SIN\",\"name\":\"Singapore\"},\"scheduledTimeLocal\":\"2023-02-08 05:25+00:00\",\"actualTimeLocal\":\"2023-02-08 04:51+00:00\",\"runwayTimeLocal\":\"2023-02-08 04:51+00:00\",\"scheduledTimeUtc\":\"2023-02-08 05:25Z\",\"actualTimeUtc\":\"2023-02-08 04:51Z\",\"runwayTimeUtc\":\"2023-02-08 04:51Z\",\"terminal\":\"5\",\"baggageBelt\":\"9\",\"runway\":\"27R\",\"quality\":[\"Basic\",\"Live\"]},\"number\":\"BA 16\",\"callSign\":\"BAW16\",\"status\":\"Arrived\",\"codeshareStatus\":\"IsOperator\",\"aircraft\":{\"reg\":\"G-STBP\",\"modeS\":\"407995\",\"model\":\"Boeing 777-300ER Passenger\"},\"airline\":{\"name\":\"British Airways\",\"iata\":\"BA\",\"icao\":\"BAW\"}},{\"movement\":{\"airport\":{\"icao\":\"TBPB\",\"iata\":\"BGI\",\"name\":\"Bridgetown\"},\"scheduledTimeLocal\":\"2023-02-08 05:50+00:00\",\"actualTimeLocal\":\"2023-02-08 05:51+00:00\",\"runwayTimeLocal\":\"2023-02-08 05:51+00:00\",\"scheduledTimeUtc\":\"2023-02-08 05:50Z\",\"actualTimeUtc\":\"2023-02-08 05:51Z\",\"runwayTimeUtc\":\"2023-02-08 05:51Z\",\"terminal\":\"5\",\"baggageBelt\":\"4\",\"quality\":[\"Basic\",\"Live\"]},\"number\":\"BA 254\",\"callSign\":\"BAW25GP\",\"status\":\"Arrived\",\"codeshareStatus\":\"IsOperator\",\"aircraft\":{\"reg\":\"G-STBB\",\"modeS\":\"40621C\",\"model\":\"Boeing 777-300ER Passenger\"},\"airline\":{\"name\":\"British Airways\",\"iata\":\"BA\",\"icao\":\"BAW\"}},{\"movement\":{\"airport\":{\"icao\":\"OERK\",\"iata\":\"RUH\",\"name\":\"Riyadh\"},\"scheduledTimeLocal\":\"2023-02-08 05:20+00:00\",\"actualTimeLocal\":\"2023-02-08 04:44+00:00\",\"runwayTimeLocal\":\"2023-02-08 04:44+00:00\",\"scheduledTimeUtc\":\"2023-02-08 05:20Z\",\"actualTimeUtc\":\"2023-02-08 04:44Z\",\"runwayTimeUtc\":\"2023-02-08 04:44Z\",\"terminal\":\"5\",\"baggageBelt\":\"6\",\"quality\":[\"Basic\",\"Live\"]},\"number\":\"BA 262\",\"callSign\":\"BAW262\",\"status\":\"Arrived\",\"codeshareStatus\":\"IsOperator\",\"aircraft\":{\"reg\":\"G-VIID\",\"modeS\":\"4005BC\",\"model\":\"Boeing 777-200 / 200ER Passenger\"},\"airline\":{\"name\":\"British Airways\",\"iata\":\"BA\",\"icao\":\"BAW\"}},{\"movement\":{\"airport\":{\"icao\":\"VHHH\",\"iata\":\"HKG\",\"name\":\"Hong Kong\"},\"scheduledTimeLocal\":\"2023-02-08 05:50+00:00\",\"actualTimeLocal\":\"2023-02-08 05:15+00:00\",\"runwayTimeLocal\":\"2023-02-08 05:15+00:00\",\"scheduledTimeUtc\":\"2023-02-08 05:50Z\",\"actualTimeUtc\":\"2023-02-08 05:15Z\",\"runwayTimeUtc\":\"2023-02-08 05:15Z\",\"terminal\":\"5\",\"baggageBelt\":\"7\",\"quality\":[\"Basic\",\"Live\"]},\"number\":\"BA 32\",\"callSign\":\"BAW32\",\"status\":\"Arrived\",\"codeshareStatus\":\"IsOperator\",\"aircraft\":{\"reg\":\"G-ZBKK\",\"modeS\":\"406F77\",\"model\":\"Boeing 787-9\"},\"airline\":{\"name\":\"British Airways\",\"iata\":\"BA\",\"icao\":\"BAW\"}},{\"movement\":{\"airport\":{\"icao\":\"FAOR\",\"iata\":\"JNB\",\"name\":\"Joanna\"},\"scheduledTimeLocal\":\"2023-02-08 05:30+00:00\",\"actualTimeLocal\":\"2023-02-08 04:48+00:00\",\"runwayTimeLocal\":\"2023-02-08 04:48+00:00\",\"scheduledTimeUtc\":\"2023-02-08 05:30Z\",\"actualTimeUtc\":\"2023-02-08 04:48Z\",\"runwayTimeUtc\":\"2023-02-08 04:48Z\",\"terminal\":\"5\",\"baggageBelt\":\"5\",\"runway\":\"27R\",\"quality\":[\"Basic\",\"Live\"]},\"number\":\"BA 56\",\"callSign\":\"BAW56\",\"status\":\"Arrived\",\"codeshareStatus\":\"IsOperator\",\"aircraft\":{\"reg\":\"G-XLEG\",\"modeS\":\"406B20\",\"model\":\"Airbus A380-800\"},\"airline\":{\"name\":\"British Airways\",\"iata\":\"BA\",\"icao\":\"BAW\"}},{\"movement\":{\"airport\":{\"icao\":\"DGAA\",\"iata\":\"ACC\",\"name\":\"Accra\"},\"scheduledTimeLocal\":\"2023-02-08 05:30+00:00\",\"actualTimeLocal\":\"2023-02-08 05:00+00:00\",\"runwayTimeLocal\":\"2023-02-08 05:00+00:00\",\"scheduledTimeUtc\":\"2023-02-08 05:30Z\",\"actualTimeUtc\":\"2023-02-08 05:00Z\",\"runwayTimeUtc\":\"2023-02-08 05:00Z\",\"terminal\":\"5\",\"baggageBelt\":\"4\",\"quality\":[\"Basic\",\"Live\"]},\"number\":\"BA 78\",\"callSign\":\"BAW78\",\"status\":\"Arrived\",\"codeshareStatus\":\"IsOperator\",\"aircraft\":{\"reg\":\"G-XWBM\",\"modeS\":\"407CD2\",\"model\":\"Airbus A350-1000\"},\"airline\":{\"name\":\"British Airways\",\"iata\":\"BA\",\"icao\":\"BAW\"}},{\"movement\":{\"airport\":{\"icao\":\"VHHH\",\"iata\":\"HKG\",\"name\":\"Hong Kong\"},\"scheduledTimeLocal\":\"2023-02-08 05:00+00:00\",\"actualTimeLocal\":\"2023-02-08 04:39+00:00\",\"runwayTimeLocal\":\"2023-02-08 04:39+00:00\",\"scheduledTimeUtc\":\"2023-02-08 05:00Z\",\"actualTimeUtc\":\"2023-02-08 04:39Z\",\"runwayTimeUtc\":\"2023-02-08 04:39Z\",\"terminal\":\"3\",\"baggageBelt\":\"06\",\"quality\":[\"Basic\",\"Live\"]},\"number\":\"CX 251\",\"callSign\":\"CPA251\",\"status\":\"Arrived\",\"codeshareStatus\":\"IsOperator\",\"aircraft\":{\"reg\":\"B-KPE\",\"modeS\":\"780205\",\"model\":\"Boeing 777-300ER Passenger\"},\"airline\":{\"name\":\"Cathay Pacific\",\"iata\":\"CX\",\"icao\":\"CPA\"}},{\"movement\":{\"airport\":{\"icao\":\"WSSS\",\"iata\":\"SIN\",\"name\":\"Singapore\"},\"scheduledTimeLocal\":\"2023-02-08 05:55+00:00\",\"actualTimeLocal\":\"2023-02-08 05:44+00:00\",\"runwayTimeLocal\":\"2023-02-08 05:44+00:00\",\"scheduledTimeUtc\":\"2023-02-08 05:55Z\",\"actualTimeUtc\":\"2023-02-08 05:44Z\",\"runwayTimeUtc\":\"2023-02-08 05:44Z\",\"terminal\":\"2\",\"baggageBelt\":\"10\",\"quality\":[\"Basic\",\"Live\"]},\"number\":\"FJ 5901\",\"status\":\"Arrived\",\"codeshareStatus\":\"IsCodeshared\",\"aircraft\":{\"model\":\"Airbus A380-800\"},\"airline\":{\"name\":\"Fiji Airways\",\"iata\":\"FJ\",\"icao\":\"FJI\"}},{\"movement\":{\"airport\":{\"icao\":\"WSSS\",\"iata\":\"SIN\",\"name\":\"Singapore\"},\"scheduledTimeLocal\":\"2023-02-08 05:55+00:00\",\"actualTimeLocal\":\"2023-02-08 05:44+00:00\",\"runwayTimeLocal\":\"2023-02-08 05:44+00:00\",\"scheduledTimeUtc\":\"2023-02-08 05:55Z\",\"actualTimeUtc\":\"2023-02-08 05:44Z\",\"runwayTimeUtc\":\"2023-02-08 05:44Z\",\"terminal\":\"2\",\"baggageBelt\":\"10\",\"quality\":[\"Basic\",\"Live\"]},\"number\":\"GA 8970\",\"status\":\"Arrived\",\"codeshareStatus\":\"IsCodeshared\",\"aircraft\":{\"model\":\"Airbus A380-800\"},\"airline\":{\"name\":\"Garuda Indonesia\",\"iata\":\"GA\",\"icao\":\"GIA\"}},{\"movement\":{\"airport\":{\"icao\":\"WSSS\",\"iata\":\"SIN\",\"name\":\"Singapore\"},\"scheduledTimeLocal\":\"2023-02-08 05:35+00:00\",\"actualTimeLocal\":\"2023-02-08 05:24+00:00\",\"runwayTimeLocal\":\"2023-02-08 05:24+00:00\",\"scheduledTimeUtc\":\"2023-02-08 05:35Z\",\"actualTimeUtc\":\"2023-02-08 05:24Z\",\"runwayTimeUtc\":\"2023-02-08 05:24Z\",\"terminal\":\"5\",\"baggageBelt\":\"3\",\"quality\":[\"Basic\",\"Live\"]},\"number\":\"IB 7305\",\"status\":\"Arrived\",\"codeshareStatus\":\"IsCodeshared\",\"aircraft\":{\"model\":\"Boeing 787-9\"},\"airline\":{\"name\":\"Iberia\",\"iata\":\"IB\",\"icao\":\"IBE\"}},{\"movement\":{\"airport\":{\"icao\":\"WSSS\",\"iata\":\"SIN\",\"name\":\"Singapore\"},\"scheduledTimeLocal\":\"2023-02-08 05:25+00:00\",\"actualTimeLocal\":\"2023-02-08 04:51+00:00\",\"runwayTimeLocal\":\"2023-02-08 04:51+00:00\",\"scheduledTimeUtc\":\"2023-02-08 05:25Z\",\"actualTimeUtc\":\"2023-02-08 04:51Z\",\"runwayTimeUtc\":\"2023-02-08 04:51Z\",\"terminal\":\"5\",\"baggageBelt\":\"9\",\"quality\":[\"Basic\",\"Live\"]},\"number\":\"IB 7307\",\"status\":\"Arrived\",\"codeshareStatus\":\"IsCodeshared\",\"aircraft\":{\"model\":\"Boeing 777-300ER Passenger\"},\"airline\":{\"name\":\"Iberia\",\"iata\":\"IB\",\"icao\":\"IBE\"}},{\"movement\":{\"airport\":{\"icao\":\"FAOR\",\"iata\":\"JNB\",\"name\":\"Joanna\"},\"scheduledTimeLocal\":\"2023-02-08 05:30+00:00\",\"actualTimeLocal\":\"2023-02-08 04:48+00:00\",\"runwayTimeLocal\":\"2023-02-08 04:48+00:00\",\"scheduledTimeUtc\":\"2023-02-08 05:30Z\",\"actualTimeUtc\":\"2023-02-08 04:48Z\",\"runwayTimeUtc\":\"2023-02-08 04:48Z\",\"terminal\":\"5\",\"baggageBelt\":\"5\",\"quality\":[\"Basic\",\"Live\"]},\"number\":\"IB 7318\",\"status\":\"Arrived\",\"codeshareStatus\":\"IsCodeshared\",\"aircraft\":{\"model\":\"Airbus A380-800\"},\"airline\":{\"name\":\"Iberia\",\"iata\":\"IB\",\"icao\":\"IBE\"}},{\"movement\":{\"airport\":{\"icao\":\"OERK\",\"iata\":\"RUH\",\"name\":\"Riyadh\"},\"scheduledTimeLocal\":\"2023-02-08 05:20+00:00\",\"actualTimeLocal\":\"2023-02-08 04:44+00:00\",\"runwayTimeLocal\":\"2023-02-08 04:44+00:00\",\"scheduledTimeUtc\":\"2023-02-08 05:20Z\",\"actualTimeUtc\":\"2023-02-08 04:44Z\",\"runwayTimeUtc\":\"2023-02-08 04:44Z\",\"terminal\":\"5\",\"baggageBelt\":\"6\",\"quality\":[\"Basic\",\"Live\"]},\"number\":\"IB 7426\",\"status\":\"Arrived\",\"codeshareStatus\":\"IsCodeshared\",\"aircraft\":{\"model\":\"Boeing 777-200 / 200ER Passenger\"},\"airline\":{\"name\":\"Iberia\",\"iata\":\"IB\",\"icao\":\"IBE\"}},{\"movement\":{\"airport\":{\"icao\":\"WMKK\",\"iata\":\"KUL\",\"name\":\"Kuala Lumpur\"},\"scheduledTimeLocal\":\"2023-02-08 05:35+00:00\",\"actualTimeLocal\":\"2023-02-08 04:57+00:00\",\"runwayTimeLocal\":\"2023-02-08 04:57+00:00\",\"scheduledTimeUtc\":\"2023-02-08 05:35Z\",\"actualTimeUtc\":\"2023-02-08 04:57Z\",\"runwayTimeUtc\":\"2023-02-08 04:57Z\",\"terminal\":\"4\",\"baggageBelt\":\"3\",\"quality\":[\"Basic\",\"Live\"]},\"number\":\"MH 2\",\"callSign\":\"MAS2\",\"status\":\"Arrived\",\"codeshareStatus\":\"IsOperator\",\"aircraft\":{\"reg\":\"9M-MAD\",\"modeS\":\"75044B\",\"model\":\"Airbus A350-900\"},\"airline\":{\"name\":\"Malaysia\",\"iata\":\"MH\",\"icao\":\"MAS\"}},{\"movement\":{\"airport\":{\"icao\":\"WSSS\",\"iata\":\"SIN\",\"name\":\"Singapore\"},\"scheduledTimeLocal\":\"2023-02-08 05:55+00:00\",\"actualTimeLocal\":\"2023-02-08 05:44+00:00\",\"runwayTimeLocal\":\"2023-02-08 05:44+00:00\",\"scheduledTimeUtc\":\"2023-02-08 05:55Z\",\"actualTimeUtc\":\"2023-02-08 05:44Z\",\"runwayTimeUtc\":\"2023-02-08 05:44Z\",\"terminal\":\"2\",\"baggageBelt\":\"10\",\"quality\":[\"Basic\",\"Live\"]},\"number\":\"NZ 3322\",\"status\":\"Arrived\",\"codeshareStatus\":\"IsCodeshared\",\"aircraft\":{\"model\":\"Airbus A380-800\"},\"airline\":{\"name\":\"Air New Zealand\",\"iata\":\"NZ\",\"icao\":\"ANZ\"}},{\"movement\":{\"airport\":{\"icao\":\"WSSS\",\"iata\":\"SIN\",\"name\":\"Singapore\"},\"scheduledTimeLocal\":\"2023-02-08 05:55+00:00\",\"actualTimeLocal\":\"2023-02-08 05:44+00:00\",\"runwayTimeLocal\":\"2023-02-08 05:44+00:00\",\"scheduledTimeUtc\":\"2023-02-08 05:55Z\",\"actualTimeUtc\":\"2023-02-08 05:44Z\",\"runwayTimeUtc\":\"2023-02-08 05:44Z\",\"terminal\":\"2\",\"baggageBelt\":\"10\",\"quality\":[\"Basic\",\"Live\"]},\"number\":\"SK 8042\",\"status\":\"Arrived\",\"codeshareStatus\":\"IsCodeshared\",\"aircraft\":{\"model\":\"Airbus A380-800\"},\"airline\":{\"name\":\"SAS\",\"iata\":\"SK\",\"icao\":\"SAS\"}},{\"movement\":{\"airport\":{\"icao\":\"WSSS\",\"iata\":\"SIN\",\"name\":\"Singapore\"},\"scheduledTimeLocal\":\"2023-02-08 05:55+00:00\",\"actualTimeLocal\":\"2023-02-08 05:44+00:00\",\"runwayTimeLocal\":\"2023-02-08 05:44+00:00\",\"scheduledTimeUtc\":\"2023-02-08 05:55Z\",\"actualTimeUtc\":\"2023-02-08 05:44Z\",\"runwayTimeUtc\":\"2023-02-08 05:44Z\",\"terminal\":\"2\",\"baggageBelt\":\"10\",\"quality\":[\"Basic\",\"Live\"]},\"number\":\"SQ 322\",\"callSign\":\"SIA322\",\"status\":\"Arrived\",\"codeshareStatus\":\"IsOperator\",\"aircraft\":{\"reg\":\"9V-SKR\",\"modeS\":\"76CD72\",\"model\":\"Airbus A380-800\"},\"airline\":{\"name\":\"Singapore\",\"iata\":\"SQ\",\"icao\":\"SIA\"}},{\"movement\":{\"airport\":{\"icao\":\"WMKK\",\"iata\":\"KUL\",\"name\":\"Kuala Lumpur\"},\"scheduledTimeLocal\":\"2023-02-08 05:35+00:00\",\"actualTimeLocal\":\"2023-02-08 04:57+00:00\",\"runwayTimeLocal\":\"2023-02-08 04:57+00:00\",\"scheduledTimeUtc\":\"2023-02-08 05:35Z\",\"actualTimeUtc\":\"2023-02-08 04:57Z\",\"runwayTimeUtc\":\"2023-02-08 04:57Z\",\"terminal\":\"4\",\"baggageBelt\":\"3\",\"quality\":[\"Basic\",\"Live\"]},\"number\":\"SQ 5652\",\"status\":\"Arrived\",\"codeshareStatus\":\"IsCodeshared\",\"aircraft\":{\"model\":\"Airbus A350-900\"},\"airline\":{\"name\":\"Singapore\",\"iata\":\"SQ\",\"icao\":\"SIA\"}},{\"movement\":{\"airport\":{\"icao\":\"WSSS\",\"iata\":\"SIN\",\"name\":\"Singapore\"},\"scheduledTimeLocal\":\"2023-02-08 05:55+00:00\",\"actualTimeLocal\":\"2023-02-08 05:44+00:00\",\"runwayTimeLocal\":\"2023-02-08 05:44+00:00\",\"scheduledTimeUtc\":\"2023-02-08 05:55Z\",\"actualTimeUtc\":\"2023-02-08 05:44Z\",\"runwayTimeUtc\":\"2023-02-08 05:44Z\",\"terminal\":\"2\",\"baggageBelt\":\"10\",\"quality\":[\"Basic\",\"Live\"]},\"number\":\"TP 8404\",\"status\":\"Arrived\",\"codeshareStatus\":\"IsCodeshared\",\"aircraft\":{\"model\":\"Airbus A380-800\"},\"airline\":{\"name\":\"TAP Air Portugal\",\"iata\":\"TP\",\"icao\":\"TAP\"}},{\"movement\":{\"airport\":{\"icao\":\"WSSS\",\"iata\":\"SIN\",\"name\":\"Singapore\"},\"scheduledTimeLocal\":\"2023-02-08 05:55+00:00\",\"actualTimeLocal\":\"2023-02-08 05:44+00:00\",\"runwayTimeLocal\":\"2023-02-08 05:44+00:00\",\"scheduledTimeUtc\":\"2023-02-08 05:55Z\",\"actualTimeUtc\":\"2023-02-08 05:44Z\",\"runwayTimeUtc\":\"2023-02-08 05:44Z\",\"terminal\":\"2\",\"baggageBelt\":\"10\",\"quality\":[\"Basic\",\"Live\"]},\"number\":\"VS 7969\",\"status\":\"Arrived\",\"codeshareStatus\":\"IsCodeshared\",\"aircraft\":{\"model\":\"Airbus A380-800\"},\"airline\":{\"name\":\"Virgin Atlantic\",\"iata\":\"VS\",\"icao\":\"VIR\"}},{\"movement\":{\"airport\":{\"icao\":\"KDFW\",\"iata\":\"DFW\",\"name\":\"Dallas-Fort Worth\"},\"scheduledTimeLocal\":\"2023-02-08 06:20+00:00\",\"actualTimeLocal\":\"2023-02-08 05:34+00:00\",\"runwayTimeLocal\":\"2023-02-08 05:34+00:00\",\"scheduledTimeUtc\":\"2023-02-08 06:20Z\",\"actualTimeUtc\":\"2023-02-08 05:34Z\",\"runwayTimeUtc\":\"2023-02-08 05:34Z\",\"terminal\":\"3\",\"baggageBelt\":\"11\",\"quality\":[\"Basic\",\"Live\"]},\"number\":\"AA 20\",\"callSign\":\"AAL20\",\"status\":\"Arrived\",\"codeshareStatus\":\"IsOperator\",\"aircraft\":{\"reg\":\"N732AN\",\"modeS\":\"A9D286\",\"model\":\"Boeing 777-300ER Passenger\"},\"airline\":{\"name\":\"American\",\"iata\":\"AA\",\"icao\":\"AAL\"}},{\"movement\":{\"airport\":{\"icao\":\"OBBI\",\"iata\":\"BAH\",\"name\":\"Manama\"},\"scheduledTimeLocal\":\"2023-02-08 06:40+00:00\",\"actualTimeLocal\":\"2023-02-08 05:48+00:00\",\"runwayTimeLocal\":\"2023-02-08 05:48+00:00\",\"scheduledTimeUtc\":\"2023-02-08 06:40Z\",\"actualTimeUtc\":\"2023-02-08 05:48Z\",\"runwayTimeUtc\":\"2023-02-08 05:48Z\",\"terminal\":\"5\",\"baggageBelt\":\"6\",\"quality\":[\"Basic\",\"Live\"]},\"number\":\"AA 6442\",\"status\":\"Arrived\",\"codeshareStatus\":\"IsCodeshared\",\"aircraft\":{\"model\":\"Boeing 777-200 / 200ER Passenger\"},\"airline\":{\"name\":\"American\",\"iata\":\"AA\",\"icao\":\"AAL\"}},{\"movement\":{\"airport\":{\"icao\":\"CYYZ\",\"iata\":\"YYZ\",\"name\":\"Toronto\"},\"scheduledTimeLocal\":\"2023-02-08 06:15+00:00\",\"actualTimeLocal\":\"2023-02-08 05:32+00:00\",\"runwayTimeLocal\":\"2023-02-08 05:32+00:00\",\"scheduledTimeUtc\":\"2023-02-08 06:15Z\",\"actualTimeUtc\":\"2023-02-08 05:32Z\",\"runwayTimeUtc\":\"2023-02-08 05:32Z\",\"terminal\":\"5\",\"baggageBelt\":\"6\",\"quality\":[\"Basic\",\"Live\"]},\"number\":\"AA 6917\",\"status\":\"Arrived\",\"codeshareStatus\":\"IsCodeshared\",\"aircraft\":{\"model\":\"Airbus A350-1000\"},\"airline\":{\"name\":\"American\",\"iata\":\"AA\",\"icao\":\"AAL\"}},{\"movement\":{\"airport\":{\"icao\":\"KJFK\",\"iata\":\"JFK\",\"name\":\"New York\"},\"scheduledTimeLocal\":\"2023-02-08 06:25+00:00\",\"actualTimeLocal\":\"2023-02-08 05:42+00:00\",\"runwayTimeLocal\":\"2023-02-08 05:42+00:00\",\"scheduledTimeUtc\":\"2023-02-08 06:25Z\",\"actualTimeUtc\":\"2023-02-08 05:42Z\",\"runwayTimeUtc\":\"2023-02-08 05:42Z\",\"terminal\":\"5\",\"baggageBelt\":\"9\",\"quality\":[\"Basic\",\"Live\"]},\"number\":\"AA 6925\",\"status\":\"Arrived\",\"codeshareStatus\":\"IsCodeshared\",\"aircraft\":{\"model\":\"Boeing 777-200 / 200ER Passenger\"},\"airline\":{\"name\":\"American\",\"iata\":\"AA\",\"icao\":\"AAL\"}},{\"movement\":{\"airport\":{\"icao\":\"KBOS\",\"iata\":\"BOS\",\"name\":\"Boston\"},\"scheduledTimeLocal\":\"2023-02-08 06:25+00:00\",\"actualTimeLocal\":\"2023-02-08 05:57+00:00\",\"runwayTimeLocal\":\"2023-02-08 05:57+00:00\",\"scheduledTimeUtc\":\"2023-02-08 06:25Z\",\"actualTimeUtc\":\"2023-02-08 05:57Z\",\"runwayTimeUtc\":\"2023-02-08 05:57Z\",\"terminal\":\"5\",\"baggageBelt\":\"5\",\"quality\":[\"Basic\",\"Live\"]},\"number\":\"AA 6963\",\"status\":\"Arrived\",\"codeshareStatus\":\"IsCodeshared\",\"aircraft\":{\"model\":\"Boeing 777-300ER Passenger\"},\"airline\":{\"name\":\"American\",\"iata\":\"AA\",\"icao\":\"AAL\"}},{\"movement\":{\"airport\":{\"icao\":\"KORD\",\"iata\":\"ORD\",\"name\":\"Chicago\"},\"scheduledTimeLocal\":\"2023-02-08 06:40+00:00\",\"actualTimeLocal\":\"2023-02-08 05:53+00:00\",\"runwayTimeLocal\":\"2023-02-08 05:53+00:00\",\"scheduledTimeUtc\":\"2023-02-08 06:40Z\",\"actualTimeUtc\":\"2023-02-08 05:53Z\",\"runwayTimeUtc\":\"2023-02-08 05:53Z\",\"terminal\":\"5\",\"baggageBelt\":\"8\",\"quality\":[\"Basic\",\"Live\"]},\"number\":\"AA 7003\",\"status\":\"Arrived\",\"codeshareStatus\":\"IsCodeshared\",\"aircraft\":{\"model\":\"Boeing 777-200 / 200ER Passenger\"},\"airline\":{\"name\":\"American\",\"iata\":\"AA\",\"icao\":\"AAL\"}},{\"movement\":{\"airport\":{\"icao\":\"KIAD\",\"iata\":\"IAD\",\"name\":\"District of Columbia\"},\"scheduledTimeLocal\":\"2023-02-08 06:20+00:00\",\"actualTimeLocal\":\"2023-02-08 06:00+00:00\",\"runwayTimeLocal\":\"2023-02-08 06:00+00:00\",\"scheduledTimeUtc\":\"2023-02-08 06:20Z\",\"actualTimeUtc\":\"2023-02-08 06:00Z\",\"runwayTimeUtc\":\"2023-02-08 06:00Z\",\"terminal\":\"2\",\"baggageBelt\":\"5\",\"quality\":[\"Basic\",\"Live\"]},\"number\":\"AC 5346\",\"status\":\"Arrived\",\"codeshareStatus\":\"IsCodeshared\",\"aircraft\":{\"model\":\"Boeing 777-200 / 200ER Passenger\"},\"airline\":{\"name\":\"Air Canada\",\"iata\":\"AC\",\"icao\":\"ACA\"}},{\"movement\":{\"airport\":{\"icao\":\"CYYZ\",\"iata\":\"YYZ\",\"name\":\"Toronto\"},\"scheduledTimeLocal\":\"2023-02-08 06:30+00:00\",\"actualTimeLocal\":\"2023-02-08 05:58+00:00\",\"runwayTimeLocal\":\"2023-02-08 05:58+00:00\",\"scheduledTimeUtc\":\"2023-02-08 06:30Z\",\"actualTimeUtc\":\"2023-02-08 05:58Z\",\"runwayTimeUtc\":\"2023-02-08 05:58Z\",\"terminal\":\"2\",\"baggageBelt\":\"3\",\"quality\":[\"Basic\",\"Live\"]},\"number\":\"AC 854\",\"callSign\":\"ACA854\",\"status\":\"Arrived\",\"codeshareStatus\":\"IsOperator\",\"aircraft\":{\"reg\":\"C-FIUW\",\"modeS\":\"C0173F\",\"model\":\"Boeing 777-300ER Passenger\"},\"airline\":{\"name\":\"Air Canada\",\"iata\":\"AC\",\"icao\":\"ACA\"}},{\"movement\":{\"airport\":{\"icao\":\"KJFK\",\"iata\":\"JFK\",\"name\":\"New York\"},\"scheduledTimeLocal\":\"2023-02-08 06:30+00:00\",\"actualTimeLocal\":\"2023-02-08 05:55+00:00\",\"runwayTimeLocal\":\"2023-02-08 05:55+00:00\",\"scheduledTimeUtc\":\"2023-02-08 06:30Z\",\"actualTimeUtc\":\"2023-02-08 05:55Z\",\"runwayTimeUtc\":\"2023-02-08 05:55Z\",\"terminal\":\"3\",\"baggageBelt\":\"04\",\"quality\":[\"Basic\",\"Live\"]},\"number\":\"AF 6753\",\"status\":\"Arrived\",\"codeshareStatus\":\"IsCodeshared\",\"aircraft\":{\"model\":\"Airbus A350-1000\"},\"airline\":{\"name\":\"Air France\",\"iata\":\"AF\",\"icao\":\"AFR\"}},{\"movement\":{\"airport\":{\"icao\":\"KJFK\",\"iata\":\"JFK\",\"name\":\"New York\"},\"scheduledTimeLocal\":\"2023-02-08 06:30+00:00\",\"actualTimeLocal\":\"2023-02-08 05:55+00:00\",\"runwayTimeLocal\":\"2023-02-08 05:55+00:00\",\"scheduledTimeUtc\":\"2023-02-08 06:30Z\",\"actualTimeUtc\":\"2023-02-08 05:55Z\",\"runwayTimeUtc\":\"2023-02-08 05:55Z\",\"terminal\":\"3\",\"baggageBelt\":\"04\",\"quality\":[\"Basic\",\"Live\"]},\"number\":\"AM 7666\",\"status\":\"Arrived\",\"codeshareStatus\":\"IsCodeshared\",\"aircraft\":{\"model\":\"Airbus A350-1000\"},\"airline\":{\"name\":\"Aeromexico\",\"iata\":\"AM\",\"icao\":\"AMX\"}},{\"movement\":{\"airport\":{\"icao\":\"KDFW\",\"iata\":\"DFW\",\"name\":\"Dallas-Fort Worth\"},\"scheduledTimeLocal\":\"2023-02-08 06:20+00:00\",\"actualTimeLocal\":\"2023-02-08 05:34+00:00\",\"runwayTimeLocal\":\"2023-02-08 05:34+00:00\",\"scheduledTimeUtc\":\"2023-02-08 06:20Z\",\"actualTimeUtc\":\"2023-02-08 05:34Z\",\"runwayTimeUtc\":\"2023-02-08 05:34Z\",\"terminal\":\"3\",\"baggageBelt\":\"11\",\"quality\":[\"Basic\",\"Live\"]},\"number\":\"AY 4176\",\"status\":\"Arrived\",\"codeshareStatus\":\"IsCodeshared\",\"aircraft\":{\"model\":\"Boeing 777-300ER Passenger\"},\"airline\":{\"name\":\"Finnair\",\"iata\":\"AY\",\"icao\":\"FIN\"}},{\"movement\":{\"airport\":{\"icao\":\"KBOS\",\"iata\":\"BOS\",\"name\":\"Boston\"},\"scheduledTimeLocal\":\"2023-02-08 06:25+00:00\",\"actualTimeLocal\":\"2023-02-08 05:57+00:00\",\"runwayTimeLocal\":\"2023-02-08 05:57+00:00\",\"scheduledTimeUtc\":\"2023-02-08 06:25Z\",\"actualTimeUtc\":\"2023-02-08 05:57Z\",\"runwayTimeUtc\":\"2023-02-08 05:57Z\",\"terminal\":\"5\",\"baggageBelt\":\"5\",\"quality\":[\"Basic\",\"Live\"]},\"number\":\"AY 5412\",\"status\":\"Arrived\",\"codeshareStatus\":\"IsCodeshared\",\"aircraft\":{\"model\":\"Boeing 777-300ER Passenger\"},\"airline\":{\"name\":\"Finnair\",\"iata\":\"AY\",\"icao\":\"FIN\"}},{\"movement\":{\"airport\":{\"icao\":\"KJFK\",\"iata\":\"JFK\",\"name\":\"New York\"},\"scheduledTimeLocal\":\"2023-02-08 06:25+00:00\",\"actualTimeLocal\":\"2023-02-08 05:42+00:00\",\"runwayTimeLocal\":\"2023-02-08 05:42+00:00\",\"scheduledTimeUtc\":\"2023-02-08 06:25Z\",\"actualTimeUtc\":\"2023-02-08 05:42Z\",\"runwayTimeUtc\":\"2023-02-08 05:42Z\",\"terminal\":\"5\",\"baggageBelt\":\"9\",\"quality\":[\"Basic\",\"Live\"]},\"number\":\"AY 5512\",\"status\":\"Arrived\",\"codeshareStatus\":\"IsCodeshared\",\"aircraft\":{\"model\":\"Boeing 777-200 / 200ER Passenger\"},\"airline\":{\"name\":\"Finnair\",\"iata\":\"AY\",\"icao\":\"FIN\"}},{\"movement\":{\"airport\":{\"icao\":\"KORD\",\"iata\":\"ORD\",\"name\":\"Chicago\"},\"scheduledTimeLocal\":\"2023-02-08 06:40+00:00\",\"actualTimeLocal\":\"2023-02-08 05:53+00:00\",\"runwayTimeLocal\":\"2023-02-08 05:53+00:00\",\"scheduledTimeUtc\":\"2023-02-08 06:40Z\",\"actualTimeUtc\":\"2023-02-08 05:53Z\",\"runwayTimeUtc\":\"2023-02-08 05:53Z\",\"terminal\":\"5\",\"baggageBelt\":\"8\",\"quality\":[\"Basic\",\"Live\"]},\"number\":\"AY 5534\",\"status\":\"Arrived\",\"codeshareStatus\":\"IsCodeshared\",\"aircraft\":{\"model\":\"Boeing 777-200 / 200ER Passenger\"},\"airline\":{\"name\":\"Finnair\",\"iata\":\"AY\",\"icao\":\"FIN\"}},{\"movement\":{\"airport\":{\"icao\":\"CYYZ\",\"iata\":\"YYZ\",\"name\":\"Toronto\"},\"scheduledTimeLocal\":\"2023-02-08 06:15+00:00\",\"actualTimeLocal\":\"2023-02-08 05:32+00:00\",\"runwayTimeLocal\":\"2023-02-08 05:32+00:00\",\"scheduledTimeUtc\":\"2023-02-08 06:15Z\",\"actualTimeUtc\":\"2023-02-08 05:32Z\",\"runwayTimeUtc\":\"2023-02-08 05:32Z\",\"terminal\":\"5\",\"baggageBelt\":\"6\",\"quality\":[\"Basic\",\"Live\"]},\"number\":\"AY 5992\",\"status\":\"Arrived\",\"codeshareStatus\":\"IsCodeshared\",\"aircraft\":{\"model\":\"Airbus A350-1000\"},\"airline\":{\"name\":\"Finnair\",\"iata\":\"AY\",\"icao\":\"FIN\"}},{\"movement\":{\"airport\":{\"icao\":\"KJFK\",\"iata\":\"JFK\",\"name\":\"New York\"},\"scheduledTimeLocal\":\"2023-02-08 06:25+00:00\",\"actualTimeLocal\":\"2023-02-08 05:42+00:00\",\"runwayTimeLocal\":\"2023-02-08 05:42+00:00\",\"scheduledTimeUtc\":\"2023-02-08 06:25Z\",\"actualTimeUtc\":\"2023-02-08 05:42Z\",\"runwayTimeUtc\":\"2023-02-08 05:42Z\",\"terminal\":\"5\",\"baggageBelt\":\"9\",\"runway\":\"27L\",\"quality\":[\"Basic\",\"Live\"]},\"number\":\"BA 112\",\"callSign\":\"BAW176A\",\"status\":\"Arrived\",\"codeshareStatus\":\"IsOperator\",\"aircraft\":{\"reg\":\"G-VIIL\",\"modeS\":\"400684\",\"model\":\"Boeing 777-200 / 200ER Passenger\"},\"airline\":{\"name\":\"British Airways\",\"iata\":\"BA\",\"icao\":\"BAW\"}},{\"movement\":{\"airport\":{\"icao\":\"OBBI\",\"iata\":\"BAH\",\"name\":\"Manama\"},\"scheduledTimeLocal\":\"2023-02-08 06:40+00:00\",\"actualTimeLocal\":\"2023-02-08 05:48+00:00\",\"runwayTimeLocal\":\"2023-02-08 05:48+00:00\",\"scheduledTimeUtc\":\"2023-02-08 06:40Z\",\"actualTimeUtc\":\"2023-02-08 05:48Z\",\"runwayTimeUtc\":\"2023-02-08 05:48Z\",\"terminal\":\"5\",\"baggageBelt\":\"6\",\"quality\":[\"Basic\",\"Live\"]},\"number\":\"BA 124\",\"callSign\":\"BAW124\",\"status\":\"Arrived\",\"codeshareStatus\":\"IsOperator\",\"aircraft\":{\"reg\":\"G-VIIB\",\"modeS\":\"4005BA\",\"model\":\"Boeing 777-200 / 200ER Passenger\"},\"airline\":{\"name\":\"British Airways\",\"iata\":\"BA\",\"icao\":\"BAW\"}},{\"movement\":{\"airport\":{\"icao\":\"KDFW\",\"iata\":\"DFW\",\"name\":\"Dallas-Fort Worth\"},\"scheduledTimeLocal\":\"2023-02-08 06:20+00:00\",\"actualTimeLocal\":\"2023-02-08 05:34+00:00\",\"runwayTimeLocal\":\"2023-02-08 05:34+00:00\",\"scheduledTimeUtc\":\"2023-02-08 06:20Z\",\"actualTimeUtc\":\"2023-02-08 05:34Z\",\"runwayTimeUtc\":\"2023-02-08 05:34Z\",\"terminal\":\"3\",\"baggageBelt\":\"11\",\"quality\":[\"Basic\",\"Live\"]},\"number\":\"BA 1589\",\"status\":\"Arrived\",\"codeshareStatus\":\"IsCodeshared\",\"aircraft\":{\"model\":\"Boeing 777-300ER Passenger\"},\"airline\":{\"name\":\"British Airways\",\"iata\":\"BA\",\"icao\":\"BAW\"}},{\"movement\":{\"airport\":{\"icao\":\"KBOS\",\"iata\":\"BOS\",\"name\":\"Boston\"},\"scheduledTimeLocal\":\"2023-02-08 06:25+00:00\",\"actualTimeLocal\":\"2023-02-08 05:57+00:00\",\"runwayTimeLocal\":\"2023-02-08 05:57+00:00\",\"scheduledTimeUtc\":\"2023-02-08 06:25Z\",\"actualTimeUtc\":\"2023-02-08 05:57Z\",\"runwayTimeUtc\":\"2023-02-08 05:57Z\",\"terminal\":\"5\",\"baggageBelt\":\"5\",\"quality\":[\"Basic\",\"Live\"]},\"number\":\"BA 212\",\"callSign\":\"BAW2CM\",\"status\":\"Arrived\",\"codeshareStatus\":\"IsOperator\",\"aircraft\":{\"reg\":\"G-STBN\",\"modeS\":\"407993\",\"model\":\"Boeing 777-300ER Passenger\"},\"airline\":{\"name\":\"British Airways\",\"iata\":\"BA\",\"icao\":\"BAW\"}},{\"movement\":{\"airport\":{\"icao\":\"KORD\",\"iata\":\"ORD\",\"name\":\"Chicago\"},\"scheduledTimeLocal\":\"2023-02-08 06:40+00:00\",\"actualTimeLocal\":\"2023-02-08 05:53+00:00\",\"runwayTimeLocal\":\"2023-02-08 05:53+00:00\",\"scheduledTimeUtc\":\"2023-02-08 06:40Z\",\"actualTimeUtc\":\"2023-02-08 05:53Z\",\"runwayTimeUtc\":\"2023-02-08 05:53Z\",\"terminal\":\"5\",\"baggageBelt\":\"8\",\"quality\":[\"Basic\",\"Live\"]},\"number\":\"BA 294\",\"callSign\":\"BAW20R\",\"status\":\"Arrived\",\"codeshareStatus\":\"IsOperator\",\"aircraft\":{\"reg\":\"G-VIIN\",\"modeS\":\"4006C0\",\"model\":\"Boeing 777-200 / 200ER Passenger\"},\"airline\":{\"name\":\"British Airways\",\"iata\":\"BA\",\"icao\":\"BAW\"}},{\"movement\":{\"airport\":{\"icao\":\"CYYZ\",\"iata\":\"YYZ\",\"name\":\"Toronto\"},\"scheduledTimeLocal\":\"2023-02-08 06:15+00:00\",\"actualTimeLocal\":\"2023-02-08 05:32+00:00\",\"runwayTimeLocal\":\"2023-02-08 05:32+00:00\",\"scheduledTimeUtc\":\"2023-02-08 06:15Z\",\"actualTimeUtc\":\"2023-02-08 05:32Z\",\"runwayTimeUtc\":\"2023-02-08 05:32Z\",\"terminal\":\"5\",\"baggageBelt\":\"6\",\"runway\":\"27R\",\"quality\":[\"Basic\",\"Live\"]},\"number\":\"BA 92\",\"callSign\":\"BAW5CA\",\"status\":\"Arrived\",\"codeshareStatus\":\"IsOperator\",\"aircraft\":{\"reg\":\"G-XWBG\",\"modeS\":\"407943\",\"model\":\"Airbus A350-1000\"},\"airline\":{\"name\":\"British Airways\",\"iata\":\"BA\",\"icao\":\"BAW\"}},{\"movement\":{\"airport\":{\"icao\":\"KIAD\",\"iata\":\"IAD\",\"name\":\"District of Columbia\"},\"scheduledTimeLocal\":\"2023-02-08 06:20+00:00\",\"actualTimeLocal\":\"2023-02-08 06:00+00:00\",\"runwayTimeLocal\":\"2023-02-08 06:00+00:00\",\"scheduledTimeUtc\":\"2023-02-08 06:20Z\",\"actualTimeUtc\":\"2023-02-08 06:00Z\",\"runwayTimeUtc\":\"2023-02-08 06:00Z\",\"terminal\":\"2\",\"baggageBelt\":\"5\",\"quality\":[\"Basic\",\"Live\"]},\"number\":\"CM 2293\",\"status\":\"Arrived\",\"codeshareStatus\":\"IsCodeshared\",\"aircraft\":{\"model\":\"Boeing 777-200 / 200ER Passenger\"},\"airline\":{\"name\":\"CM\"}},{\"movement\":{\"airport\":{\"icao\":\"KJFK\",\"iata\":\"JFK\",\"name\":\"New York\"},\"scheduledTimeLocal\":\"2023-02-08 06:30+00:00\",\"actualTimeLocal\":\"2023-02-08 05:55+00:00\",\"runwayTimeLocal\":\"2023-02-08 05:55+00:00\",\"scheduledTimeUtc\":\"2023-02-08 06:30Z\",\"actualTimeUtc\":\"2023-02-08 05:55Z\",\"runwayTimeUtc\":\"2023-02-08 05:55Z\",\"terminal\":\"3\",\"baggageBelt\":\"04\",\"quality\":[\"Basic\",\"Live\"]},\"number\":\"DL 5994\",\"status\":\"Arrived\",\"codeshareStatus\":\"IsCodeshared\",\"aircraft\":{\"model\":\"Airbus A350-1000\"},\"airline\":{\"name\":\"Delta Air Lines\",\"iata\":\"DL\",\"icao\":\"DAL\"}},{\"movement\":{\"airport\":{\"icao\":\"CYYZ\",\"iata\":\"YYZ\",\"name\":\"Toronto\"},\"scheduledTimeLocal\":\"2023-02-08 06:15+00:00\",\"actualTimeLocal\":\"2023-02-08 05:32+00:00\",\"runwayTimeLocal\":\"2023-02-08 05:32+00:00\",\"scheduledTimeUtc\":\"2023-02-08 06:15Z\",\"actualTimeUtc\":\"2023-02-08 05:32Z\",\"runwayTimeUtc\":\"2023-02-08 05:32Z\",\"terminal\":\"5\",\"baggageBelt\":\"6\",\"quality\":[\"Basic\",\"Live\"]},\"number\":\"EI 8792\",\"status\":\"Arrived\",\"codeshareStatus\":\"IsCodeshared\",\"aircraft\":{\"model\":\"Airbus A350-1000\"},\"airline\":{\"name\":\"Aer Lingus\",\"iata\":\"EI\",\"icao\":\"EIN\"}},{\"movement\":{\"airport\":{\"icao\":\"KJFK\",\"iata\":\"JFK\",\"name\":\"New York\"},\"scheduledTimeLocal\":\"2023-02-08 06:25+00:00\",\"actualTimeLocal\":\"2023-02-08 05:42+00:00\",\"runwayTimeLocal\":\"2023-02-08 05:42+00:00\",\"scheduledTimeUtc\":\"2023-02-08 06:25Z\",\"actualTimeUtc\":\"2023-02-08 05:42Z\",\"runwayTimeUtc\":\"2023-02-08 05:42Z\",\"terminal\":\"5\",\"baggageBelt\":\"9\",\"quality\":[\"Basic\",\"Live\"]},\"number\":\"EI 8812\",\"status\":\"Arrived\",\"codeshareStatus\":\"IsCodeshared\",\"aircraft\":{\"model\":\"Boeing 777-200 / 200ER Passenger\"},\"airline\":{\"name\":\"Aer Lingus\",\"iata\":\"EI\",\"icao\":\"EIN\"}},{\"movement\":{\"airport\":{\"icao\":\"KBOS\",\"iata\":\"BOS\",\"name\":\"Boston\"},\"scheduledTimeLocal\":\"2023-02-08 06:25+00:00\",\"actualTimeLocal\":\"2023-02-08 05:57+00:00\",\"runwayTimeLocal\":\"2023-02-08 05:57+00:00\",\"scheduledTimeUtc\":\"2023-02-08 06:25Z\",\"actualTimeUtc\":\"2023-02-08 05:57Z\",\"runwayTimeUtc\":\"2023-02-08 05:57Z\",\"terminal\":\"5\",\"baggageBelt\":\"5\",\"quality\":[\"Basic\",\"Live\"]},\"number\":\"EI 8912\",\"status\":\"Arrived\",\"codeshareStatus\":\"IsCodeshared\",\"aircraft\":{\"model\":\"Boeing 777-300ER Passenger\"},\"airline\":{\"name\":\"Aer Lingus\",\"iata\":\"EI\",\"icao\":\"EIN\"}},{\"movement\":{\"airport\":{\"icao\":\"KORD\",\"iata\":\"ORD\",\"name\":\"Chicago\"},\"scheduledTimeLocal\":\"2023-02-08 06:40+00:00\",\"actualTimeLocal\":\"2023-02-08 05:53+00:00\",\"runwayTimeLocal\":\"2023-02-08 05:53+00:00\",\"scheduledTimeUtc\":\"2023-02-08 06:40Z\",\"actualTimeUtc\":\"2023-02-08 05:53Z\",\"runwayTimeUtc\":\"2023-02-08 05:53Z\",\"terminal\":\"5\",\"baggageBelt\":\"8\",\"quality\":[\"Basic\",\"Live\"]},\"number\":\"EI 8994\",\"status\":\"Arrived\",\"codeshareStatus\":\"IsCodeshared\",\"aircraft\":{\"model\":\"Boeing 777-200 / 200ER Passenger\"},\"airline\":{\"name\":\"Aer Lingus\",\"iata\":\"EI\",\"icao\":\"EIN\"}},{\"movement\":{\"airport\":{\"icao\":\"KDFW\",\"iata\":\"DFW\",\"name\":\"Dallas-Fort Worth\"},\"scheduledTimeLocal\":\"2023-02-08 06:20+00:00\",\"actualTimeLocal\":\"2023-02-08 05:34+00:00\",\"runwayTimeLocal\":\"2023-02-08 05:34+00:00\",\"scheduledTimeUtc\":\"2023-02-08 06:20Z\",\"actualTimeUtc\":\"2023-02-08 05:34Z\",\"runwayTimeUtc\":\"2023-02-08 05:34Z\",\"terminal\":\"3\",\"baggageBelt\":\"11\",\"quality\":[\"Basic\",\"Live\"]},\"number\":\"GF 4183\",\"status\":\"Arrived\",\"codeshareStatus\":\"IsCodeshared\",\"aircraft\":{\"model\":\"Boeing 777-300ER Passenger\"},\"airline\":{\"name\":\"Gulf Air\",\"iata\":\"GF\",\"icao\":\"GFA\"}},{\"movement\":{\"airport\":{\"icao\":\"KDFW\",\"iata\":\"DFW\",\"name\":\"Dallas-Fort Worth\"},\"scheduledTimeLocal\":\"2023-02-08 06:20+00:00\",\"actualTimeLocal\":\"2023-02-08 05:34+00:00\",\"runwayTimeLocal\":\"2023-02-08 05:34+00:00\",\"scheduledTimeUtc\":\"2023-02-08 06:20Z\",\"actualTimeUtc\":\"2023-02-08 05:34Z\",\"runwayTimeUtc\":\"2023-02-08 05:34Z\",\"terminal\":\"3\",\"baggageBelt\":\"11\",\"quality\":[\"Basic\",\"Live\"]},\"number\":\"IB 4192\",\"status\":\"Arrived\",\"codeshareStatus\":\"IsCodeshared\",\"aircraft\":{\"model\":\"Boeing 777-300ER Passenger\"},\"airline\":{\"name\":\"Iberia\",\"iata\":\"IB\",\"icao\":\"IBE\"}},{\"movement\":{\"airport\":{\"icao\":\"CYYZ\",\"iata\":\"YYZ\",\"name\":\"Toronto\"},\"scheduledTimeLocal\":\"2023-02-08 06:15+00:00\",\"actualTimeLocal\":\"2023-02-08 05:32+00:00\",\"runwayTimeLocal\":\"2023-02-08 05:32+00:00\",\"scheduledTimeUtc\":\"2023-02-08 06:15Z\",\"actualTimeUtc\":\"2023-02-08 05:32Z\",\"runwayTimeUtc\":\"2023-02-08 05:32Z\",\"terminal\":\"5\",\"baggageBelt\":\"6\",\"quality\":[\"Basic\",\"Live\"]},\"number\":\"IB 7336\",\"status\":\"Arrived\",\"codeshareStatus\":\"IsCodeshared\",\"aircraft\":{\"model\":\"Airbus A350-1000\"},\"airline\":{\"name\":\"Iberia\",\"iata\":\"IB\",\"icao\":\"IBE\"}},{\"movement\":{\"airport\":{\"icao\":\"KJFK\",\"iata\":\"JFK\",\"name\":\"New York\"},\"scheduledTimeLocal\":\"2023-02-08 06:25+00:00\",\"actualTimeLocal\":\"2023-02-08 05:42+00:00\",\"runwayTimeLocal\":\"2023-02-08 05:42+00:00\",\"scheduledTimeUtc\":\"2023-02-08 06:25Z\",\"actualTimeUtc\":\"2023-02-08 05:42Z\",\"runwayTimeUtc\":\"2023-02-08 05:42Z\",\"terminal\":\"5\",\"baggageBelt\":\"9\",\"quality\":[\"Basic\",\"Live\"]},\"number\":\"IB 7350\",\"status\":\"Arrived\",\"codeshareStatus\":\"IsCodeshared\",\"aircraft\":{\"model\":\"Boeing 777-200 / 200ER Passenger\"},\"airline\":{\"name\":\"Iberia\",\"iata\":\"IB\",\"icao\":\"IBE\"}},{\"movement\":{\"airport\":{\"icao\":\"OBBI\",\"iata\":\"BAH\",\"name\":\"Manama\"},\"scheduledTimeLocal\":\"2023-02-08 06:40+00:00\",\"actualTimeLocal\":\"2023-02-08 05:48+00:00\",\"runwayTimeLocal\":\"2023-02-08 05:48+00:00\",\"scheduledTimeUtc\":\"2023-02-08 06:40Z\",\"actualTimeUtc\":\"2023-02-08 05:48Z\",\"runwayTimeUtc\":\"2023-02-08 05:48Z\",\"terminal\":\"5\",\"baggageBelt\":\"6\",\"quality\":[\"Basic\",\"Live\"]},\"number\":\"IB 7360\",\"status\":\"Arrived\",\"codeshareStatus\":\"IsCodeshared\",\"aircraft\":{\"model\":\"Boeing 777-200 / 200ER Passenger\"},\"airline\":{\"name\":\"Iberia\",\"iata\":\"IB\",\"icao\":\"IBE\"}},{\"movement\":{\"airport\":{\"icao\":\"KBOS\",\"iata\":\"BOS\",\"name\":\"Boston\"},\"scheduledTimeLocal\":\"2023-02-08 06:25+00:00\",\"actualTimeLocal\":\"2023-02-08 05:57+00:00\",\"runwayTimeLocal\":\"2023-02-08 05:57+00:00\",\"scheduledTimeUtc\":\"2023-02-08 06:25Z\",\"actualTimeUtc\":\"2023-02-08 05:57Z\",\"runwayTimeUtc\":\"2023-02-08 05:57Z\",\"terminal\":\"5\",\"baggageBelt\":\"5\",\"quality\":[\"Basic\",\"Live\"]},\"number\":\"IB 7400\",\"status\":\"Arrived\",\"codeshareStatus\":\"IsCodeshared\",,\"aircraft\":{\"model\":\"Boeing 777-300ER Passenger\"},\"airline\":{\"name\":\"Iberia\",\"iata\":\"IB\",\"icao\":\"IBE\"}},{\"movement\":{\"airport\":{\"icao\":\"KORD\",\"iata\":\"ORD\",\"name\":\"Chicago\"},\"scheduledTimeLocal\":\"2023-02-08 06:40+00:00\",\"actualTimeLocal\":\"2023-02-08 05:53+00:00\",\"runwayTimeLocal\":\"2023-02-08 05:53+00:00\",\"scheduledTimeUtc\":\"2023-02-08 06:40Z\",\"actualTimeUtc\":\"2023-02-08 05:53Z\",\"runwayTimeUtc\":\"2023-02-08 05:53Z\",\"terminal\":\"5\",\"baggageBelt\":\"8\",\"quality\":[\"Basic\",\"Live\"]},\"number\":\"IB 7450\",\"status\":\"Arrived\",\"codeshareStatus\":\"IsCodeshared\",\"\",\"aircraft\":{\"model\":\"Boeing 777-200 / 200ER Passenger\"},\"airline\":{\"name\":\"Iberia\",\"iata\":\"IB\",\"icao\":\"IBE\"}},{\"movement\":{\"airport\":{\"icao\":\"KJFK\",\"iata\":\"JFK\",\"name\":\"New York\"},\"scheduledTimeLocal\":\"2023-02-08 06:30+00:00\",\"actualTimeLocal\":\"2023-02-08 05:55+00:00\",\"runwayTimeLocal\":\"2023-02-08 05:55+00:00\",\"scheduledTimeUtc\":\"2023-02-08 06:30Z\",\"actualTimeUtc\":\"2023-02-08 05:55Z\",\"runwayTimeUtc\":\"2023-02-08 05:55Z\",\"terminal\":\"3\",\"baggageBelt\":\"04\",\"quality\":[\"Basic\",\"Live\"]},\"number\":\"KL 4826\",\"status\":\"Arrived\",\"codeshareStatus\":\"IsCodeshared\",\"\",\"aircraft\":{\"model\":\"Airbus A350-1000\"},\"airline\":{\"name\":\"KLM\",\"iata\":\"KL\",\"icao\":\"KLM\"}},{\"movement\":{\"airport\":{\"icao\":\"CYYZ\",\"iata\":\"YYZ\",\"name\":\"Toronto\"},\"scheduledTimeLocal\":\"2023-02-08 06:30+00:00\",\"actualTimeLocal\":\"2023-02-08 05:58+00:00\",\"runwayTimeLocal\":\"2023-02-08 05:58+00:00\",\"scheduledTimeUtc\":\"2023-02-08 06:30Z\",\"actualTimeUtc\":\"2023-02-08 05:58Z\",\"runwayTimeUtc\":\"2023-02-08 05:58Z\",\"terminal\":\"2\",\"baggageBelt\":\"3\",\"quality\":[\"Basic\",\"Live\"]},\"number\":\"LH 6589\",\"status\":\"Arrived\",\"codeshareStatus\":\"IsCodeshared\",\"\",\"aircraft\":{\"model\":\"Boeing 777-300ER Passenger\"},\"airline\":{\"name\":\"Lufthansa\",\"iata\":\"LH\",\"icao\":\"DLH\"}},{\"movement\":{\"airport\":{\"icao\":\"KIAD\",\"iata\":\"IAD\",\"name\":\"District of Columbia\"},\"scheduledTimeLocal\":\"2023-02-08 06:20+00:00\",\"actualTimeLocal\":\"2023-02-08 06:00+00:00\",\"runwayTimeLocal\":\"2023-02-08 06:00+00:00\",\"scheduledTimeUtc\":\"2023-02-08 06:20Z\",\"actualTimeUtc\":\"2023-02-08 06:00Z\",\"runwayTimeUtc\":\"2023-02-08 06:00Z\",\"terminal\":\"2\",\"baggageBelt\":\"5\",\"quality\":[\"Basic\",\"Live\"]},\"number\":\"LH 9259\",\"status\":\"Arrived\",\"codeshareStatus\":\"IsCodeshared\",\"\",\"aircraft\":{\"model\":\"Boeing 777-200 / 200ER Passenger\"},\"airline\":{\"name\":\"Lufthansa\",\"iata\":\"LH\",\"icao\":\"DLH\"}},{\"movement\":{\"airport\":{\"icao\":\"KIAD\",\"iata\":\"IAD\",\"name\":\"District of Columbia\"},\"scheduledTimeLocal\":\"2023-02-08 06:20+00:00\",\"actualTimeLocal\":\"2023-02-08 06:00+00:00\",\"runwayTimeLocal\":\"2023-02-08 06:00+00:00\",\"scheduledTimeUtc\":\"2023-02-08 06:20Z\",\"actualTimeUtc\":\"2023-02-08 06:00Z\",\"runwayTimeUtc\":\"2023-02-08 06:00Z\",\"terminal\":\"2\",\"baggageBelt\":\"5\",\"quality\":[\"Basic\",\"Live\"]},\"number\":\"LX 3061\",\"status\":\"Arrived\",\"codeshareStatus\":\"IsCodeshared\",\"\",\"aircraft\":{\"model\":\"Boeing 777-200 / 200ER Passenger\"},\"airline\":{\"name\":\"SWISS\",\"iata\":\"LX\",\"icao\":\"SWR\"}},{\"movement\":{\"airport\":{\"icao\":\"KDFW\",\"iata\":\"DFW\",\"name\":\"Dallas-Fort Worth\"},\"scheduledTimeLocal\":\"2023-02-08 06:20+00:00\",\"actualTimeLocal\":\"2023-02-08 05:34+00:00\",\"runwayTimeLocal\":\"2023-02-08 05:34+00:00\",\"scheduledTimeUtc\":\"2023-02-08 06:20Z\",\"actualTimeUtc\":\"2023-02-08 05:34Z\",\"runwayTimeUtc\":\"2023-02-08 05:34Z\",\"terminal\":\"3\",\"baggageBelt\":\"11\",\"quality\":[\"Basic\",\"Live\"]},\"number\":\"LY 8012\",\"status\":\"Arrived\",\"codeshareStatus\":\"IsCodeshared\",\"\",\"aircraft\":{\"model\":\"Boeing 777-300ER Passenger\"},\"airline\":{\"name\":\"El Al\",\"iata\":\"LY\",\"icao\":\"ELY\"}},{\"movement\":{\"airport\":{\"icao\":\"CYYZ\",\"iata\":\"YYZ\",\"name\":\"Toronto\"},\"scheduledTimeLocal\":\"2023-02-08 06:30+00:00\",\"actualTimeLocal\":\"2023-02-08 05:58+00:00\",\"runwayTimeLocal\":\"2023-02-08 05:58+00:00\",\"scheduledTimeUtc\":\"2023-02-08 06:30Z\",\"actualTimeUtc\":\"2023-02-08 05:58Z\",\"runwayTimeUtc\":\"2023-02-08 05:58Z\",\"terminal\":\"2\",\"baggageBelt\":\"3\",\"quality\":[\"Basic\",\"Live\"]},\"number\":\"ME 4520\",\"status\":\"Arrived\",\"codeshareStatus\":\"IsCodeshared\",\"\",\"aircraft\":{\"model\":\"Boeing 777-300ER Passenger\"},\"airline\":{\"name\":\"Middle East\",\"iata\":\"ME\",\"icao\":\"MEA\"}},{\"movement\":{\"airport\":{\"icao\":\"KDFW\",\"iata\":\"DFW\",\"name\":\"Dallas-Fort Worth\"},\"scheduledTimeLocal\":\"2023-02-08 06:20+00:00\",\"actualTimeLocal\":\"2023-02-08 05:34+00:00\",\"runwayTimeLocal\":\"2023-02-08 05:34+00:00\",\"scheduledTimeUtc\":\"2023-02-08 06:20Z\",\"actualTimeUtc\":\"2023-02-08 05:34Z\",\"runwayTimeUtc\":\"2023-02-08 05:34Z\",\"terminal\":\"3\",\"baggageBelt\":\"11\",\"quality\":[\"Basic\",\"Live\"]},\"number\":\"MH 9392\",\"status\":\"Arrived\",\"codeshareStatus\":\"IsCodeshared\",\"\",\"aircraft\":{\"model\":\"Boeing 777-300ER Passenger\"},\"airline\":{\"name\":\"Malaysia\",\"iata\":\"MH\",\"icao\":\"MAS\"}},{\"movement\":{\"airport\":{\"icao\":\"CYYZ\",\"iata\":\"YYZ\",\"name\":\"Toronto\"},\"scheduledTimeLocal\":\"2023-02-08 06:30+00:00\",\"actualTimeLocal\":\"2023-02-08 05:58+00:00\",\"runwayTimeLocal\":\"2023-02-08 05:58+00:00\",\"scheduledTimeUtc\":\"2023-02-08 06:30Z\",\"actualTimeUtc\":\"2023-02-08 05:58Z\",\"runwayTimeUtc\":\"2023-02-08 05:58Z\",\"terminal\":\"2\",\"baggageBelt\":\"3\",\"quality\":[\"Basic\",\"Live\"]},\"number\":\"MS 9605\",\"status\":\"Arrived\",\"codeshareStatus\":\"IsCodeshared\",\"\",\"aircraft\":{\"model\":\"Boeing 777-300ER Passenger\"},\"airline\":{\"name\":\"EgyptAir\",\"iata\":\"MS\",\"icao\":\"MSR\"}},{\"movement\":{\"airport\":{\"icao\":\"KIAD\",\"iata\":\"IAD\",\"name\":\"District of Columbia\"},\"scheduledTimeLocal\":\"2023-02-08 06:20+00:00\",\"actualTimeLocal\":\"2023-02-08 06:00+00:00\",\"runwayTimeLocal\":\"2023-02-08 06:00+00:00\",\"scheduledTimeUtc\":\"2023-02-08 06:20Z\",\"actualTimeUtc\":\"2023-02-08 06:00Z\",\"runwayTimeUtc\":\"2023-02-08 06:00Z\",\"terminal\":\"2\",\"baggageBelt\":\"5\",\"quality\":[\"Basic\",\"Live\"]},\"number\":\"OS 7806\",\"status\":\"Arrived\",\"codeshareStatus\":\"IsCodeshared\",\"\",\"aircraft\":{\"model\":\"Boeing 777-200 / 200ER Passenger\"},\"airline\":{\"name\":\"Austrian\",\"iata\":\"OS\",\"icao\":\"AUA\"}},{\"movement\":{\"airport\":{\"icao\":\"CYYZ\",\"iata\":\"YYZ\",\"name\":\"Toronto\"},\"scheduledTimeLocal\":\"2023-02-08 06:30+00:00\",\"actualTimeLocal\":\"2023-02-08 05:58+00:00\",\"runwayTimeLocal\":\"2023-02-08 05:58+00:00\",\"scheduledTimeUtc\":\"2023-02-08 06:30Z\",\"actualTimeUtc\":\"2023-02-08 05:58Z\",\"runwayTimeUtc\":\"2023-02-08 05:58Z\",\"terminal\":\"2\",\"baggageBelt\":\"3\",\"quality\":[\"Basic\",\"Live\"]},\"number\":\"OS 8286\",\"status\":\"Arrived\",\"codeshareStatus\":\"IsCodeshared\",\"aircraft\":{\"model\":\"Boeing 777-300ER Passenger\"},\"airline\":{\"name\":\"Austrian\",\"iata\":\"OS\",\"icao\":\"AUA\"}},{\"movement\":{\"airport\":{\"icao\":\"KDFW\",\"iata\":\"DFW\",\"name\":\"Dallas-Fort Worth\"},\"scheduledTimeLocal\":\"2023-02-08 06:20+00:00\",\"actualTimeLocal\":\"2023-02-08 05:34+00:00\",\"runwayTimeLocal\":\"2023-02-08 05:34+00:00\",\"scheduledTimeUtc\":\"2023-02-08 06:20Z\",\"actualTimeUtc\":\"2023-02-08 05:34Z\",\"runwayTimeUtc\":\"2023-02-08 05:34Z\",\"terminal\":\"3\",\"baggageBelt\":\"11\",\"quality\":[\"Basic\",\"Live\"]},\"number\":\"QR 2762\",\"status\":\"Arrived\",\"codeshareStatus\":\"IsCodeshared\",\"\",\"aircraft\":{\"model\":\"Boeing 777-300ER Passenger\"},\"airline\":{\"name\":\"Qatar Airways\",\"iata\":\"QR\",\"icao\":\"QTR\"}},{\"movement\":{\"airport\":{\"icao\":\"CYYZ\",\"iata\":\"YYZ\",\"name\":\"Toronto\"},\"scheduledTimeLocal\":\"2023-02-08 06:30+00:00\",\"actualTimeLocal\":\"2023-02-08 05:58+00:00\",\"runwayTimeLocal\":\"2023-02-08 05:58+00:00\",\"scheduledTimeUtc\":\"2023-02-08 06:30Z\",\"actualTimeUtc\":\"2023-02-08 05:58Z\",\"runwayTimeUtc\":\"2023-02-08 05:58Z\",\"terminal\":\"2\",\"baggageBelt\":\"3\",\"quality\":[\"Basic\",\"Live\"]},\"number\":\"SQ 1013\",\"status\":\"Arrived\",\"codeshareStatus\":\"IsCodeshared\",\"\",\"aircraft\":{\"model\":\"Boeing 777-300ER Passenger\"},\"airline\":{\"name\":\"Singapore\",\"iata\":\"SQ\",\"icao\":\"SIA\"}},{\"movement\":{\"airport\":{\"icao\":\"CYYZ\",\"iata\":\"YYZ\",\"name\":\"Toronto\"},\"scheduledTimeLocal\":\"2023-02-08 06:30+00:00\",\"actualTimeLocal\":\"2023-02-08 05:58+00:00\",\"runwayTimeLocal\":\"2023-02-08 05:58+00:00\",\"scheduledTimeUtc\":\"2023-02-08 06:30Z\",\"actualTimeUtc\":\"2023-02-08 05:58Z\",\"runwayTimeUtc\":\"2023-02-08 05:58Z\",\"terminal\":\"2\",\"baggageBelt\":\"3\",\"quality\":[\"Basic\",\"Live\"]},\"number\":\"TG 5806\",\"status\":\"Arrived\",\"codeshareStatus\":\"IsCodeshared\",\"\",\"aircraft\":{\"model\":\"Boeing 777-300ER Passenger\"},\"airline\":{\"name\":\"Thai Airways International\",\"iata\":\"TG\",\"icao\":\"THA\"}},{\"movement\":{\"airport\":{\"icao\":\"CYYZ\",\"iata\":\"YYZ\",\"name\":\"Toronto\"},\"scheduledTimeLocal\":\"2023-02-08 06:30+00:00\",\"actualTimeLocal\":\"2023-02-08 05:58+00:00\",\"runwayTimeLocal\":\"2023-02-08 05:58+00:00\",\"scheduledTimeUtc\":\"2023-02-08 06:30Z\",\"actualTimeUtc\":\"2023-02-08 05:58Z\",\"runwayTimeUtc\":\"2023-02-08 05:58Z\",\"terminal\":\"2\",\"baggageBelt\":\"3\",\"quality\":[\"Basic\",\"Live\"]},\"number\":\"UA 8306\",\"status\":\"Arrived\",\"codeshareStatus\":\"IsCodeshared\",\"\",\"aircraft\":{\"model\":\"Boeing 777-300ER Passenger\"},\"airline\":{\"name\":\"United\",\"iata\":\"UA\",\"icao\":\"UAL\"}},{\"movement\":{\"airport\":{\"icao\":\"KIAD\",\"iata\":\"IAD\",\"name\":\"District of Columbia\"},\"scheduledTimeLocal\":\"2023-02-08 06:20+00:00\",\"actualTimeLocal\":\"2023-02-08 06:00+00:00\",\"runwayTimeLocal\":\"2023-02-08 06:00+00:00\",\"scheduledTimeUtc\":\"2023-02-08 06:20Z\",\"actualTimeUtc\":\"2023-02-08 06:00Z\",\"runwayTimeUtc\":\"2023-02-08 06:00Z\",\"terminal\":\"2\",\"baggageBelt\":\"5\",\"quality\":[\"Basic\",\"Live\"]},\"number\":\"UA 918\",\"callSign\":\"UAL918\",\"status\":\"Arrived\",\"codeshareStatus\":\"IsOperator\",\"isCargo\":\"false\",\"aircraft\":{\"reg\":\"N78013\",\"modeS\":\"AA931D\",\"model\":\"Boeing 777-200 / 200ER Passenger\"},\"airline\":{\"name\":\"United\",\"iata\":\"UA\",\"icao\":\"UAL\"}},{\"movement\":{\"airport\":{\"icao\":\"CYYZ\",\"iata\":\"YYZ\",\"name\":\"Toronto\"},\"scheduledTimeLocal\":\"2023-02-08 06:30+00:00\",\"actualTimeLocal\":\"2023-02-08 05:58+00:00\",\"runwayTimeLocal\":\"2023-02-08 05:58+00:00\",\"scheduledTimeUtc\":\"2023-02-08 06:30Z\",\"actualTimeUtc\":\"2023-02-08 05:58Z\",\"runwayTimeUtc\":\"2023-02-08 05:58Z\",\"terminal\":\"2\",\"baggageBelt\":\"3\",\"quality\":[\"Basic\",\"Live\"]},\"number\":\"UL 2854\",\"status\":\"Arrived\",\"codeshareStatus\":\"IsCodeshared\",\"isCargo\":\"false\",\"aircraft\":{\"model\":\"Boeing 777-300ER Passenger\"},\"airline\":{\"name\":\"SriLankan\",\"iata\":\"UL\",\"icao\":\"ALK\"}},{\"movement\":{\"airport\":{\"icao\":\"KJFK\",\"iata\":\"JFK\",\"name\":\"New York\"},\"scheduledTimeLocal\":\"2023-02-08 06:30+00:00\",\"actualTimeLocal\":\"2023-02-08 05:55+00:00\",\"runwayTimeLocal\":\"2023-02-08 05:55+00:00\",\"scheduledTimeUtc\":\"2023-02-08 06:30Z\",\"actualTimeUtc\":\"2023-02-08 05:55Z\",\"runwayTimeUtc\":\"2023-02-08 05:55Z\",\"terminal\":\"3\",\"baggageBelt\":\"04\",\"quality\":[\"Basic\",\"Live\"]},\"number\":\"VS 4\",\"callSign\":\"VIR4C\",\"status\":\"Arrived\",\"codeshareStatus\":\"IsOperator\",\"isCargo\":\"false\",\"aircraft\":{\"reg\":\"G-VLUX\",\"modeS\":\"4075B3\",\"model\":\"Airbus A350-1000\"},\"airline\":{\"name\":\"Virgin Atlantic\",\"iata\":\"VS\",\"icao\":\"VIR\"}}]}\n",
    "departures_json = {\"departures\":[{\"movement\":{\"airport\":{\"icao\":\"KSEA\",\"iata\":\"SEA\",\"name\":\"Seattle\"},\"scheduledTimeLocal\":\"2023-02-08 00:16+00:00\",\"runwayTimeLocal\":\"2023-02-08 00:16+00:00\",\"scheduledTimeUtc\":\"2023-02-08 00:16Z\",\"runwayTimeUtc\":\"2023-02-08 00:16Z\",\"quality\":[\"Basic\"]},\"number\":\"9E 21\",\"callSign\":\"EDV21\",\"status\":\"Departed\",\"codeshareStatus\":\"IsCodeshared\",\"isCargo\":\"false\",\"aircraft\":{\"reg\":\"N411DX\",\"modeS\":\"A4D838\",\"model\":\"Airbus A330\"},\"airline\":{\"name\":\"Delta Air Lines\",\"iata\":\"DL\",\"icao\":\"DAL\"}},{\"movement\":{\"airport\":{\"icao\":\"KSEA\",\"iata\":\"SEA\",\"name\":\"Seattle\"},\"scheduledTimeLocal\":\"2023-02-08 00:16+00:00\",\"runwayTimeLocal\":\"2023-02-08 00:16+00:00\",\"scheduledTimeUtc\":\"2023-02-08 00:16Z\",\"runwayTimeUtc\":\"2023-02-08 00:16Z\",\"quality\":[\"Basic\"]},\"number\":\"DL 21\",\"callSign\":\"DAL21\",\"status\":\"Departed\",\"codeshareStatus\":\"IsOperator\",\"isCargo\":\"false\",\"aircraft\":{\"reg\":\"N411DX\",\"modeS\":\"A4D838\",\"model\":\"Airbus A330\"},\"airline\":{\"name\":\"Delta Air Lines\"}},{\"movement\":{\"airport\":{\"icao\":\"KJFK\",\"iata\":\"JFK\",\"name\":\"New York\"},\"scheduledTimeLocal\":\"2023-02-08 02:15+00:00\",\"scheduledTimeUtc\":\"2023-02-08 02:15Z\",\"quality\":[\"Basic\"]},\"number\":\"9E 2\",\"callSign\":\"EDV2\",\"status\":\"Unknown\",\"codeshareStatus\":\"IsCodeshared\",\"isCargo\":\"false\",\"aircraft\":{\"reg\":\"N826MH\",\"modeS\":\"AB4840\",\"model\":\"Boeing 767-400\"},\"airline\":{\"name\":\"Delta Air Lines\",\"iata\":\"DL\",\"icao\":\"DAL\"}},{\"movement\":{\"airport\":{\"icao\":\"KJFK\",\"iata\":\"JFK\",\"name\":\"New York\"},\"scheduledTimeLocal\":\"2023-02-08 02:15+00:00\",\"scheduledTimeUtc\":\"2023-02-08 02:15Z\",\"quality\":[\"Basic\"]},\"number\":\"DL 2\",\"callSign\":\"DAL2\",\"status\":\"Unknown\",\"codeshareStatus\":\"IsOperator\",\"isCargo\":\"false\",\"aircraft\":{\"reg\":\"N826MH\",\"modeS\":\"AB4840\",\"model\":\"Boeing 767-400\"},\"airline\":{\"name\":\"Delta Air Lines\"}}]}"
   ]
  },
  {
   "cell_type": "code",
   "execution_count": 37,
   "id": "2245d53b",
   "metadata": {
    "scrolled": true
   },
   "outputs": [
    {
     "name": "stdout",
     "output_type": "stream",
     "text": [
      "2023-02-14T00:00\n",
      "2023-02-14T08:00\n",
      "200\n"
     ]
    },
    {
     "data": {
      "text/html": [
       "<div>\n",
       "<style scoped>\n",
       "    .dataframe tbody tr th:only-of-type {\n",
       "        vertical-align: middle;\n",
       "    }\n",
       "\n",
       "    .dataframe tbody tr th {\n",
       "        vertical-align: top;\n",
       "    }\n",
       "\n",
       "    .dataframe thead th {\n",
       "        text-align: right;\n",
       "    }\n",
       "</style>\n",
       "<table border=\"1\" class=\"dataframe\">\n",
       "  <thead>\n",
       "    <tr style=\"text-align: right;\">\n",
       "      <th></th>\n",
       "      <th>depart_date</th>\n",
       "      <th>city_iso</th>\n",
       "      <th>flight</th>\n",
       "      <th>destination</th>\n",
       "      <th>status</th>\n",
       "    </tr>\n",
       "  </thead>\n",
       "  <tbody>\n",
       "    <tr>\n",
       "      <th>0</th>\n",
       "      <td>2023-02-14 00:40+00:00</td>\n",
       "      <td>EGLL</td>\n",
       "      <td>9E 21</td>\n",
       "      <td>Seattle</td>\n",
       "      <td>Departed</td>\n",
       "    </tr>\n",
       "    <tr>\n",
       "      <th>0</th>\n",
       "      <td>2023-02-14 00:40+00:00</td>\n",
       "      <td>EGLL</td>\n",
       "      <td>DL 21</td>\n",
       "      <td>Seattle</td>\n",
       "      <td>Departed</td>\n",
       "    </tr>\n",
       "    <tr>\n",
       "      <th>0</th>\n",
       "      <td>2023-02-14 02:29+00:00</td>\n",
       "      <td>EGLL</td>\n",
       "      <td>9E 2</td>\n",
       "      <td>New York</td>\n",
       "      <td>Unknown</td>\n",
       "    </tr>\n",
       "    <tr>\n",
       "      <th>0</th>\n",
       "      <td>2023-02-14 02:29+00:00</td>\n",
       "      <td>EGLL</td>\n",
       "      <td>DL 2</td>\n",
       "      <td>New York</td>\n",
       "      <td>Unknown</td>\n",
       "    </tr>\n",
       "    <tr>\n",
       "      <th>0</th>\n",
       "      <td>2023-02-14 06:35+00:00</td>\n",
       "      <td>EGLL</td>\n",
       "      <td>A3 1621</td>\n",
       "      <td>Munich</td>\n",
       "      <td>Departed</td>\n",
       "    </tr>\n",
       "    <tr>\n",
       "      <th>...</th>\n",
       "      <td>...</td>\n",
       "      <td>...</td>\n",
       "      <td>...</td>\n",
       "      <td>...</td>\n",
       "      <td>...</td>\n",
       "    </tr>\n",
       "    <tr>\n",
       "      <th>0</th>\n",
       "      <td>2023-02-14 07:00+00:00</td>\n",
       "      <td>EGLL</td>\n",
       "      <td>UA 9735</td>\n",
       "      <td>Geneva</td>\n",
       "      <td>Departed</td>\n",
       "    </tr>\n",
       "    <tr>\n",
       "      <th>0</th>\n",
       "      <td>2023-02-14 06:00+00:00</td>\n",
       "      <td>EGLL</td>\n",
       "      <td>LX 345</td>\n",
       "      <td>Zurich</td>\n",
       "      <td>Departed</td>\n",
       "    </tr>\n",
       "    <tr>\n",
       "      <th>0</th>\n",
       "      <td>2023-02-14 06:55+00:00</td>\n",
       "      <td>EGLL</td>\n",
       "      <td>BA 710</td>\n",
       "      <td>Zurich</td>\n",
       "      <td>Canceled</td>\n",
       "    </tr>\n",
       "    <tr>\n",
       "      <th>0</th>\n",
       "      <td>2023-02-14 07:05+00:00</td>\n",
       "      <td>EGLL</td>\n",
       "      <td>TK 1988</td>\n",
       "      <td>Istanbul</td>\n",
       "      <td>Departed</td>\n",
       "    </tr>\n",
       "    <tr>\n",
       "      <th>0</th>\n",
       "      <td>2023-02-14 07:05+00:00</td>\n",
       "      <td>EGLL</td>\n",
       "      <td>UA 6922</td>\n",
       "      <td>Istanbul</td>\n",
       "      <td>Departed</td>\n",
       "    </tr>\n",
       "  </tbody>\n",
       "</table>\n",
       "<p>106 rows × 5 columns</p>\n",
       "</div>"
      ],
      "text/plain": [
       "               depart_date city_iso   flight destination    status\n",
       "0   2023-02-14 00:40+00:00     EGLL    9E 21     Seattle  Departed\n",
       "0   2023-02-14 00:40+00:00     EGLL    DL 21     Seattle  Departed\n",
       "0   2023-02-14 02:29+00:00     EGLL     9E 2    New York   Unknown\n",
       "0   2023-02-14 02:29+00:00     EGLL     DL 2    New York   Unknown\n",
       "0   2023-02-14 06:35+00:00     EGLL  A3 1621      Munich  Departed\n",
       "..                     ...      ...      ...         ...       ...\n",
       "0   2023-02-14 07:00+00:00     EGLL  UA 9735      Geneva  Departed\n",
       "0   2023-02-14 06:00+00:00     EGLL   LX 345      Zurich  Departed\n",
       "0   2023-02-14 06:55+00:00     EGLL   BA 710      Zurich  Canceled\n",
       "0   2023-02-14 07:05+00:00     EGLL  TK 1988    Istanbul  Departed\n",
       "0   2023-02-14 07:05+00:00     EGLL  UA 6922    Istanbul  Departed\n",
       "\n",
       "[106 rows x 5 columns]"
      ]
     },
     "metadata": {},
     "output_type": "display_data"
    },
    {
     "data": {
      "text/html": [
       "<div>\n",
       "<style scoped>\n",
       "    .dataframe tbody tr th:only-of-type {\n",
       "        vertical-align: middle;\n",
       "    }\n",
       "\n",
       "    .dataframe tbody tr th {\n",
       "        vertical-align: top;\n",
       "    }\n",
       "\n",
       "    .dataframe thead th {\n",
       "        text-align: right;\n",
       "    }\n",
       "</style>\n",
       "<table border=\"1\" class=\"dataframe\">\n",
       "  <thead>\n",
       "    <tr style=\"text-align: right;\">\n",
       "      <th></th>\n",
       "      <th>arrival_date</th>\n",
       "      <th>city_iso</th>\n",
       "      <th>flight</th>\n",
       "      <th>origin</th>\n",
       "      <th>status</th>\n",
       "    </tr>\n",
       "  </thead>\n",
       "  <tbody>\n",
       "    <tr>\n",
       "      <th>0</th>\n",
       "      <td>2023-02-14 04:45+00:00</td>\n",
       "      <td>EGLL</td>\n",
       "      <td>AA 6448</td>\n",
       "      <td>Cape Town</td>\n",
       "      <td>Arrived</td>\n",
       "    </tr>\n",
       "    <tr>\n",
       "      <th>0</th>\n",
       "      <td>2023-02-14 04:45+00:00</td>\n",
       "      <td>EGLL</td>\n",
       "      <td>AY 5948</td>\n",
       "      <td>Cape Town</td>\n",
       "      <td>Arrived</td>\n",
       "    </tr>\n",
       "    <tr>\n",
       "      <th>0</th>\n",
       "      <td>2023-02-14 04:45+00:00</td>\n",
       "      <td>EGLL</td>\n",
       "      <td>BA 58</td>\n",
       "      <td>Cape Town</td>\n",
       "      <td>Arrived</td>\n",
       "    </tr>\n",
       "    <tr>\n",
       "      <th>0</th>\n",
       "      <td>2023-02-14 04:50+00:00</td>\n",
       "      <td>EGLL</td>\n",
       "      <td>BA 74</td>\n",
       "      <td>Lagos</td>\n",
       "      <td>Arrived</td>\n",
       "    </tr>\n",
       "    <tr>\n",
       "      <th>0</th>\n",
       "      <td>2023-02-14 04:45+00:00</td>\n",
       "      <td>EGLL</td>\n",
       "      <td>IB 7320</td>\n",
       "      <td>Cape Town</td>\n",
       "      <td>Arrived</td>\n",
       "    </tr>\n",
       "    <tr>\n",
       "      <th>...</th>\n",
       "      <td>...</td>\n",
       "      <td>...</td>\n",
       "      <td>...</td>\n",
       "      <td>...</td>\n",
       "      <td>...</td>\n",
       "    </tr>\n",
       "    <tr>\n",
       "      <th>0</th>\n",
       "      <td>2023-02-14 07:20+00:00</td>\n",
       "      <td>EGLL</td>\n",
       "      <td>VS 7975</td>\n",
       "      <td>Singapore</td>\n",
       "      <td>Arrived</td>\n",
       "    </tr>\n",
       "    <tr>\n",
       "      <th>0</th>\n",
       "      <td>2023-02-14 08:15+00:00</td>\n",
       "      <td>EGLL</td>\n",
       "      <td>AA 6632</td>\n",
       "      <td>Prague</td>\n",
       "      <td>Arrived</td>\n",
       "    </tr>\n",
       "    <tr>\n",
       "      <th>0</th>\n",
       "      <td>2023-02-14 08:15+00:00</td>\n",
       "      <td>EGLL</td>\n",
       "      <td>BA 853</td>\n",
       "      <td>Prague</td>\n",
       "      <td>Arrived</td>\n",
       "    </tr>\n",
       "    <tr>\n",
       "      <th>0</th>\n",
       "      <td>2023-02-14 08:00+00:00</td>\n",
       "      <td>EGLL</td>\n",
       "      <td>BE 801</td>\n",
       "      <td>Newquay</td>\n",
       "      <td>Canceled</td>\n",
       "    </tr>\n",
       "    <tr>\n",
       "      <th>0</th>\n",
       "      <td>2023-02-14 08:15+00:00</td>\n",
       "      <td>EGLL</td>\n",
       "      <td>JL 7854</td>\n",
       "      <td>Prague</td>\n",
       "      <td>Arrived</td>\n",
       "    </tr>\n",
       "  </tbody>\n",
       "</table>\n",
       "<p>349 rows × 5 columns</p>\n",
       "</div>"
      ],
      "text/plain": [
       "              arrival_date city_iso   flight     origin    status\n",
       "0   2023-02-14 04:45+00:00     EGLL  AA 6448  Cape Town   Arrived\n",
       "0   2023-02-14 04:45+00:00     EGLL  AY 5948  Cape Town   Arrived\n",
       "0   2023-02-14 04:45+00:00     EGLL    BA 58  Cape Town   Arrived\n",
       "0   2023-02-14 04:50+00:00     EGLL    BA 74      Lagos   Arrived\n",
       "0   2023-02-14 04:45+00:00     EGLL  IB 7320  Cape Town   Arrived\n",
       "..                     ...      ...      ...        ...       ...\n",
       "0   2023-02-14 07:20+00:00     EGLL  VS 7975  Singapore   Arrived\n",
       "0   2023-02-14 08:15+00:00     EGLL  AA 6632     Prague   Arrived\n",
       "0   2023-02-14 08:15+00:00     EGLL   BA 853     Prague   Arrived\n",
       "0   2023-02-14 08:00+00:00     EGLL   BE 801    Newquay  Canceled\n",
       "0   2023-02-14 08:15+00:00     EGLL  JL 7854     Prague   Arrived\n",
       "\n",
       "[349 rows x 5 columns]"
      ]
     },
     "metadata": {},
     "output_type": "display_data"
    }
   ],
   "source": [
    "# flights\n",
    "print(to_local_time)\n",
    "print(from_local_time)\n",
    "\n",
    "icao = 'EGLL' #london\n",
    "# icao = \"LIRF\" # rome\n",
    "# icao = 'LFPG' # paris\n",
    "flights_url = f'https://aerodatabox.p.rapidapi.com/flights/airports/icao/{icao}/{to_local_time}/{from_local_time}'\n",
    "response = requests.request(\"GET\", flights_url, headers=headers)\n",
    "flight_data = response.json()\n",
    "print(response.status_code)\n",
    "# departures_json = departures_json.json()\n",
    "# arrivals_json = arrivals_json.json()\n",
    "\n",
    "departures_df = build_departures_df(flight_data['departures'],icao)\n",
    "arrivals_df = build_arrivals_df(flight_data['arrivals'],icao)\n",
    "# departures_df = build_departures_df(departures_json,icao)\n",
    "# arrivals_df = build_arrivals_df(arrivals_json,icao)\n",
    "\n",
    "display(departures_df)\n",
    "display(arrivals_df)\n",
    "# try:\n",
    "#     flight_data = response.json()\n",
    "#     print(response.status_code)\n",
    "#     print(flight_data)\n",
    "#     departures_df = build_departures_df(flight_data['departures'],icao)\n",
    "#     arrivals_df = build_arrivals_df(flight_data['arrivals'],icao)\n",
    "#     display(departures_df)\n",
    "#     display(departures_df)\n",
    "\n",
    "# except:\n",
    "#     print(\"Error from server: \" + str(response.content))\n"
   ]
  },
  {
   "cell_type": "code",
   "execution_count": 204,
   "id": "4c5c26e1",
   "metadata": {},
   "outputs": [
    {
     "name": "stdout",
     "output_type": "stream",
     "text": [
      "Collecting pymysql\n",
      "  Downloading PyMySQL-1.0.2-py3-none-any.whl (43 kB)\n",
      "\u001b[2K     \u001b[90m━━━━━━━━━━━━━━━━━━━━━━━━━━━━━━━━━━━━━━━━\u001b[0m \u001b[32m43.8/43.8 kB\u001b[0m \u001b[31m1.2 MB/s\u001b[0m eta \u001b[36m0:00:00\u001b[0m\n",
      "\u001b[?25hInstalling collected packages: pymysql\n",
      "Successfully installed pymysql-1.0.2\n"
     ]
    }
   ],
   "source": [
    "!pip install pymysql"
   ]
  },
  {
   "cell_type": "code",
   "execution_count": 205,
   "id": "84496e7c",
   "metadata": {},
   "outputs": [],
   "source": [
    "import numpy as np\n",
    "import pymysql # localhost engine\n",
    "# import sqlalchemy engine for remote aws"
   ]
  },
  {
   "cell_type": "code",
   "execution_count": 209,
   "id": "df765e3f-457d-48a4-965c-0f4777dd0e3d",
   "metadata": {},
   "outputs": [
    {
     "data": {
      "text/plain": [
       "425"
      ]
     },
     "execution_count": 209,
     "metadata": {},
     "output_type": "execute_result"
    }
   ],
   "source": [
    "# save to local mysql workbench\n",
    "# icao = ['EGLL', 'LIRF', 'LFPG']\n",
    "#Joining weather, departures, arrival\n",
    "\n",
    "flights_df = pd.concat([departures_df, arrivals_df], axis=0 )\n",
    "\n",
    "flights_df.reset_index(drop = True, inplace=True)\n",
    "# display(flights_df)\n",
    "# inserting data in our RDS\n",
    "schema=\"magist\"\n",
    "# host=\"gans.czzxdshmvaqk.eu-central-1.rds.amazonaws.com\"\n",
    "host = '127.0.0.1'\n",
    "user=\"root\" \n",
    "password=\"\"\n",
    "port=3306\n",
    "con = f'mysql+pymysql://{user}:{password}@{host}:{port}/{schema}'\n",
    "\n",
    "(\n",
    "    flights_df.replace({np.nan},'unknown')              \n",
    "#          .assign(sched_arr_loc_time = lambda x: pd.to_datetime(x['sched_arr_loc_time']))         \n",
    "         .to_sql('airport', if_exists='append', con=con, index=False)\n",
    ")"
   ]
  },
  {
   "cell_type": "code",
   "execution_count": null,
   "id": "25e82435-7d9a-4b57-b873-ce238470d85d",
   "metadata": {},
   "outputs": [],
   "source": []
  },
  {
   "cell_type": "code",
   "execution_count": null,
   "id": "d4ca65b3-323c-43f8-a128-82a5d967a2f5",
   "metadata": {},
   "outputs": [],
   "source": []
  }
 ],
 "metadata": {
  "kernelspec": {
   "display_name": "Python 3 (ipykernel)",
   "language": "python",
   "name": "python3"
  },
  "language_info": {
   "codemirror_mode": {
    "name": "ipython",
    "version": 3
   },
   "file_extension": ".py",
   "mimetype": "text/x-python",
   "name": "python",
   "nbconvert_exporter": "python",
   "pygments_lexer": "ipython3",
   "version": "3.9.13"
  }
 },
 "nbformat": 4,
 "nbformat_minor": 5
}
