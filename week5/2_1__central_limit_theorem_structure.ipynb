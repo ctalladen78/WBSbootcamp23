{
 "cells": [
  {
   "cell_type": "markdown",
   "metadata": {
    "id": "gQ6c1Mj50zGg"
   },
   "source": [
    "# Central Limit Theorem"
   ]
  },
  {
   "cell_type": "markdown",
   "metadata": {
    "id": "FnMPwGLE0zGi"
   },
   "source": [
    "Sources: \n",
    "\n",
    "* \"Naked statistics\" by  Charles J. Wheelan"
   ]
  },
  {
   "cell_type": "markdown",
   "metadata": {
    "id": "9tKBp_vh0zGj"
   },
   "source": [
    "**A core principle underlying the central limit theorem is that a large, properly drawn sample will resemble the population from which it is drawn.**"
   ]
  },
  {
   "cell_type": "markdown",
   "metadata": {
    "id": "bg6CaGiS0zGj"
   },
   "source": [
    "The central limit theorem enables us to make the following inferences: \n",
    "\n",
    "* If we have detailed information about some population, then we can make inferences about any properly drawn sample from that population. \n",
    "* If we have detailed information about a properly drawn sample (mean and standard deviation), we can make accurate inferences about the population from which that sample was drawn. The central limit tells us that a large sample will not typically deviate  a lot from its population.\n",
    "* The central limit theorem allows us to calculate the probability that a particular sample was drawn from a given population. If that probability is low, then we  can conclude with a high degree of confidence that the sample was not drown from the population in question.\n",
    "* If we know the underlying characteristics of two samples, we can infer whether or not both samples were likley drawn from the same population."
   ]
  },
  {
   "cell_type": "code",
   "execution_count": 2,
   "metadata": {
    "id": "qBfSSRjJ0zGk"
   },
   "outputs": [],
   "source": [
    "import numpy as np\n",
    "import pandas as pd\n",
    "import scipy.stats as stats\n",
    "import random\n",
    "import matplotlib.pyplot as plt"
   ]
  },
  {
   "cell_type": "markdown",
   "metadata": {
    "id": "nIM1MyKbQP93"
   },
   "source": [
    "## Looking at the CLT with simulated data"
   ]
  },
  {
   "cell_type": "markdown",
   "metadata": {
    "id": "vVFdjMIb0zGk"
   },
   "source": [
    "### The normal distribution\n",
    "\n",
    "It is a theoretical distribution defined by mathematical properties.\n",
    "\n",
    "It is a bell shaped-shaped distribution in which:\n",
    "* 68 percent of the observations lie within one standard deviation of the mean\n",
    "* 95 percent lies within two standard deviations\n",
    "\n",
    "We can simulate the normal distribution by generating numbers with `stats.norm.rvs`."
   ]
  },
  {
   "cell_type": "code",
   "execution_count": 3,
   "metadata": {
    "colab": {
     "base_uri": "https://localhost:8080/"
    },
    "id": "kXXQqwrv0zGk",
    "outputId": "d549ef41-f6b9-42e2-f788-49b3318f5a29"
   },
   "outputs": [
    {
     "data": {
      "image/png": "[encoded data removed]",
      "text/plain": [
       "<Figure size 640x480 with 1 Axes>"
      ]
     },
     "metadata": {},
     "output_type": "display_data"
    }
   ],
   "source": [
    "norm_dist = stats.norm.rvs(loc=0, \n",
    "                           scale=1, \n",
    "                           size=100000,\n",
    "                           random_state=123\n",
    "                          )\n",
    "norm_dist = pd.Series(norm_dist)\n",
    "norm_dist.hist(bins=30);"
   ]
  },
  {
   "cell_type": "markdown",
   "metadata": {
    "id": "P_sTwrH3ypd6"
   },
   "source": [
    "#### Percentage of the simulated data that falls between the standard deviations#"
   ]
  },
  {
   "cell_type": "markdown",
   "metadata": {
    "id": "FCRQsdr3y8Y0"
   },
   "source": [
    "Mean of the normal distribution"
   ]
  },
  {
   "cell_type": "code",
   "execution_count": 6,
   "metadata": {
    "colab": {
     "base_uri": "https://localhost:8080/"
    },
    "id": "axMYA9ai0zGl",
    "outputId": "eb6cca8a-879f-4232-e3e2-c067a98affab"
   },
   "outputs": [
    {
     "data": {
      "text/plain": [
       "0.0013148201751476561"
      ]
     },
     "execution_count": 6,
     "metadata": {},
     "output_type": "execute_result"
    }
   ],
   "source": [
    "mean_norm = np.mean(norm_dist)\n",
    "mean_norm"
   ]
  },
  {
   "cell_type": "markdown",
   "metadata": {
    "id": "jBn-f1MFzCl9"
   },
   "source": [
    "Standard deviation of the normal distribution"
   ]
  },
  {
   "cell_type": "code",
   "execution_count": 7,
   "metadata": {
    "colab": {
     "base_uri": "https://localhost:8080/"
    },
    "id": "OJa1VTU70zGl",
    "outputId": "ecc5c204-db01-4779-94d9-5f24dd2873bc"
   },
   "outputs": [
    {
     "data": {
      "text/plain": [
       "0.9995701769427331"
      ]
     },
     "execution_count": 7,
     "metadata": {},
     "output_type": "execute_result"
    }
   ],
   "source": [
    "std_norm = np.std(norm_dist)\n",
    "std_norm"
   ]
  },
  {
   "cell_type": "markdown",
   "metadata": {
    "id": "1PhZToNgzIAu"
   },
   "source": [
    "Our lower boundary for 68% of the data - mean minus the standard deviation"
   ]
  },
  {
   "cell_type": "code",
   "execution_count": 8,
   "metadata": {
    "colab": {
     "base_uri": "https://localhost:8080/"
    },
    "id": "rt0VY26x0zGm",
    "outputId": "c9b8c760-6567-493e-da9e-0e6c5f5901d2"
   },
   "outputs": [
    {
     "data": {
      "text/plain": [
       "-0.9982553567675855"
      ]
     },
     "execution_count": 8,
     "metadata": {},
     "output_type": "execute_result"
    }
   ],
   "source": [
    "sigma_negative = mean_norm - std_norm\n",
    "sigma_negative"
   ]
  },
  {
   "cell_type": "markdown",
   "metadata": {
    "id": "7cjx96FHzQWa"
   },
   "source": [
    "Our upper boundary for 68% of the data - mean plus the standard deviation"
   ]
  },
  {
   "cell_type": "code",
   "execution_count": 9,
   "metadata": {
    "colab": {
     "base_uri": "https://localhost:8080/"
    },
    "id": "EcTn8OqH0zGm",
    "outputId": "ba4642d6-9093-4197-db09-f0d5bc804156"
   },
   "outputs": [
    {
     "data": {
      "text/plain": [
       "1.0008849971178808"
      ]
     },
     "execution_count": 9,
     "metadata": {},
     "output_type": "execute_result"
    }
   ],
   "source": [
    "# find out the 1 standard deviation\n",
    "sigma_positive = mean_norm + std_norm\n",
    "sigma_positive"
   ]
  },
  {
   "cell_type": "markdown",
   "metadata": {
    "id": "TmQgvuGfzlMl"
   },
   "source": [
    "Plotting our boundaries on our simulated data\n",
    "* red lines are one standard deviation - our boundaries for 68% of the data\n",
    "* green lines are two standard deviations - our boundaries for 95% of the data"
   ]
  },
  {
   "cell_type": "code",
   "execution_count": null,
   "metadata": {
    "colab": {
     "base_uri": "https://localhost:8080/",
     "height": 281
    },
    "id": "xbnyytsL0zGn",
    "outputId": "192ac501-a86f-4320-f0d2-34525cb5508f"
   },
   "outputs": [
    {
     "data": {
      "image/png": "[encoded data removed]",
      "text/plain": [
       "<Figure size 432x288 with 1 Axes>"
      ]
     },
     "metadata": {
      "needs_background": "light"
     },
     "output_type": "display_data"
    }
   ],
   "source": [
    "# plot the normal distribution\n",
    "plt.hist(norm_dist, bins=30)\n",
    "\n",
    "# represent the -1 standard deviation\n",
    "plt.axvline(sigma_negative, color = 'r')\n",
    "plt.axvline(sigma_negative*2, color = 'g')\n",
    "\n",
    "# represent the 1 standard deviation\n",
    "plt.axvline(sigma_positive, color = 'r')\n",
    "plt.axvline(sigma_positive*2, color = 'g')\n",
    "\n",
    "plt.title('Representing a normal distribution')\n",
    "plt.show()"
   ]
  },
  {
   "cell_type": "markdown",
   "metadata": {
    "id": "E6B0_lAH0zGn"
   },
   "source": [
    "What proportion of our `norm_dist` falls within 1 standard deviation from the mean?"
   ]
  },
  {
   "cell_type": "code",
   "execution_count": 10,
   "metadata": {
    "colab": {
     "base_uri": "https://localhost:8080/"
    },
    "id": "T3UE523V0zGn",
    "outputId": "307e9564-4ace-4c85-9d2b-b1fd3b2c6f85"
   },
   "outputs": [
    {
     "name": "stdout",
     "output_type": "stream",
     "text": [
      "68.1% lies within one standard deviation of the mean\n"
     ]
    }
   ],
   "source": [
    "sigma_plus = len(norm_dist[(norm_dist > sigma_negative) \n",
    "                          &(norm_dist < sigma_positive)])\n",
    "\n",
    "perc_1_std = sigma_plus/len(norm_dist)\n",
    "\n",
    "print(f\"{round(perc_1_std * 100, 2)}% lies within one standard deviation of the mean\")"
   ]
  },
  {
   "cell_type": "markdown",
   "metadata": {
    "id": "TKDJzC5yTre9"
   },
   "source": [
    "What proportion of our `norm_dist` falls beyond 1 standard deviation from the mean?"
   ]
  },
  {
   "cell_type": "code",
   "execution_count": 14,
   "metadata": {
    "colab": {
     "base_uri": "https://localhost:8080/"
    },
    "id": "cZb6qvCUTng0",
    "outputId": "2a20b8b9-3f34-4ec9-f872-df3687b4f00b"
   },
   "outputs": [
    {
     "name": "stdout",
     "output_type": "stream",
     "text": [
      "31.9% falls outside of one standard deviation of the mean\n"
     ]
    }
   ],
   "source": [
    "sigma_plus_inverted = len(norm_dist[(norm_dist < sigma_negative) \n",
    "                                   |(norm_dist > sigma_positive)])\n",
    "\n",
    "out_1_std = sigma_plus_inverted / len(norm_dist)\n",
    "\n",
    "print(f\"{round(out_1_std * 100, 2)}% falls outside of one standard deviation of the mean\")"
   ]
  },
  {
   "cell_type": "markdown",
   "metadata": {
    "id": "RRB48gZm0zGo"
   },
   "source": [
    "##### **Exercise 1:** \n",
    "\n",
    "What proportion of our `norm_dist` falls beyond two standard deviations of the mean? And beyond three?"
   ]
  },
  {
   "cell_type": "code",
   "execution_count": 18,
   "metadata": {
    "id": "Low15WOy0zGo"
   },
   "outputs": [
    {
     "name": "stdout",
     "output_type": "stream",
     "text": [
      "16.0% falls outside of one standard deviation of the mean\n"
     ]
    }
   ],
   "source": [
    "# your code here\n",
    "sigma_plus_inverted = len(norm_dist[(norm_dist < sigma_negative)*2 \n",
    "                                   |(norm_dist > sigma_positive)*2])\n",
    "\n",
    "out_1_std = sigma_plus_inverted / len(norm_dist)\n",
    "\n",
    "print(f\"{round(out_1_std * 100, 2)}% falls outside of one standard deviation of the mean\")"
   ]
  },
  {
   "cell_type": "markdown",
   "metadata": {
    "id": "NY1B7dcE0zGr"
   },
   "source": [
    "## Looking at the CLT with an actual population\n",
    "\n",
    "Let's move from theoretical distributions to real populations. We generally do not have access to a whole population: we only have access to samples. We use these samples to make guesses about the population. In this exercise we _do_ have access to the population so that we can prove how to make those guesses, and how accurate they can be."
   ]
  },
  {
   "cell_type": "markdown",
   "metadata": {
    "id": "8qZkRv060zGr"
   },
   "source": [
    "Here's the distribution of our population, feel free to make up a story for the numbers"
   ]
  },
  {
   "cell_type": "code",
   "execution_count": 20,
   "metadata": {
    "colab": {
     "base_uri": "https://localhost:8080/",
     "height": 206
    },
    "id": "o8MZRYem0zGr",
    "outputId": "69465145-5197-4ed4-d2b2-e7c537835fdc"
   },
   "outputs": [
    {
     "data": {
      "text/html": [
       "<div>\n",
       "<style scoped>\n",
       "    .dataframe tbody tr th:only-of-type {\n",
       "        vertical-align: middle;\n",
       "    }\n",
       "\n",
       "    .dataframe tbody tr th {\n",
       "        vertical-align: top;\n",
       "    }\n",
       "\n",
       "    .dataframe thead th {\n",
       "        text-align: right;\n",
       "    }\n",
       "</style>\n",
       "<table border=\"1\" class=\"dataframe\">\n",
       "  <thead>\n",
       "    <tr style=\"text-align: right;\">\n",
       "      <th></th>\n",
       "      <th>0</th>\n",
       "    </tr>\n",
       "  </thead>\n",
       "  <tbody>\n",
       "    <tr>\n",
       "      <th>0</th>\n",
       "      <td>1.160131</td>\n",
       "    </tr>\n",
       "    <tr>\n",
       "      <th>1</th>\n",
       "      <td>0.222175</td>\n",
       "    </tr>\n",
       "    <tr>\n",
       "      <th>2</th>\n",
       "      <td>3.101406</td>\n",
       "    </tr>\n",
       "    <tr>\n",
       "      <th>3</th>\n",
       "      <td>0.758150</td>\n",
       "    </tr>\n",
       "    <tr>\n",
       "      <th>4</th>\n",
       "      <td>2.159439</td>\n",
       "    </tr>\n",
       "  </tbody>\n",
       "</table>\n",
       "</div>"
      ],
      "text/plain": [
       "          0\n",
       "0  1.160131\n",
       "1  0.222175\n",
       "2  3.101406\n",
       "3  0.758150\n",
       "4  2.159439"
      ]
     },
     "execution_count": 20,
     "metadata": {},
     "output_type": "execute_result"
    }
   ],
   "source": [
    "# population.csv\n",
    "pop = pd.read_csv(path)\n",
    "\n",
    "pop.head()"
   ]
  },
  {
   "cell_type": "code",
   "execution_count": null,
   "metadata": {
    "colab": {
     "base_uri": "https://localhost:8080/",
     "height": 54
    },
    "id": "ulO__Uhf0zGr",
    "outputId": "21276c67-ecfa-4306-c847-fcd319e3ee40"
   },
   "outputs": [
    {
     "data": {
      "image/png": "[encoded data removed]",
      "text/plain": [
       "<Figure size 1440x720 with 1 Axes>"
      ]
     },
     "metadata": {
      "needs_background": "light"
     },
     "output_type": "display_data"
    }
   ],
   "source": [
    "pop.hist(bins=50, grid=False, color=\"#007398\", figsize=(20,10));\n",
    "plt.axvline(float(pop.mean()), linestyle=\"--\", color=\"#f8485e\");"
   ]
  },
  {
   "cell_type": "markdown",
   "metadata": {
    "id": "EysaEVuo5T0X"
   },
   "source": [
    "Population mean:"
   ]
  },
  {
   "cell_type": "code",
   "execution_count": null,
   "metadata": {
    "colab": {
     "base_uri": "https://localhost:8080/"
    },
    "id": "FlAFDJYN0zGr",
    "outputId": "efb9ff52-f7da-4d25-dbf0-7537085b79af"
   },
   "outputs": [
    {
     "data": {
      "text/plain": [
       "0    3.387146\n",
       "dtype: float64"
      ]
     },
     "execution_count": 43,
     "metadata": {},
     "output_type": "execute_result"
    }
   ],
   "source": [
    "pop_mean = pop.mean()\n",
    "pop_mean"
   ]
  },
  {
   "cell_type": "markdown",
   "metadata": {
    "id": "GgMxl8gZ5X1z"
   },
   "source": [
    "Population Standard Deviation"
   ]
  },
  {
   "cell_type": "code",
   "execution_count": null,
   "metadata": {
    "colab": {
     "base_uri": "https://localhost:8080/"
    },
    "id": "HVV9WKmh0zGr",
    "outputId": "8417b54f-7ade-4799-da95-a7412c6180c3"
   },
   "outputs": [
    {
     "data": {
      "text/plain": [
       "0    2.438371\n",
       "dtype: float64"
      ]
     },
     "execution_count": 44,
     "metadata": {},
     "output_type": "execute_result"
    }
   ],
   "source": [
    "pop_std = np.std(pop)\n",
    "pop_std"
   ]
  },
  {
   "cell_type": "markdown",
   "metadata": {
    "id": "BL5ChtBe5bCx"
   },
   "source": [
    "Number of observations in our population"
   ]
  },
  {
   "cell_type": "code",
   "execution_count": null,
   "metadata": {
    "colab": {
     "base_uri": "https://localhost:8080/"
    },
    "id": "v2vG77V10zGr",
    "outputId": "1cc43db2-4eec-4858-847b-27c431170a21"
   },
   "outputs": [
    {
     "data": {
      "text/plain": [
       "12500"
      ]
     },
     "execution_count": 45,
     "metadata": {},
     "output_type": "execute_result"
    }
   ],
   "source": [
    "len(pop)"
   ]
  },
  {
   "cell_type": "markdown",
   "metadata": {
    "id": "xx3VAlDD0zGs"
   },
   "source": [
    "Let's take a sample from our population:"
   ]
  },
  {
   "cell_type": "code",
   "execution_count": null,
   "metadata": {
    "id": "UHEevCo80zGs"
   },
   "outputs": [],
   "source": [
    "sample = pop.sample(n=50, random_state=4321)"
   ]
  },
  {
   "cell_type": "markdown",
   "metadata": {
    "id": "s2WUKrKP5lnv"
   },
   "source": [
    "Let's plot this sample as a histogram"
   ]
  },
  {
   "cell_type": "code",
   "execution_count": null,
   "metadata": {
    "colab": {
     "base_uri": "https://localhost:8080/",
     "height": 54
    },
    "id": "w8K-Wl1M0zGs",
    "outputId": "eab97148-2596-415a-98a1-5288e43e1676"
   },
   "outputs": [
    {
     "data": {
      "image/png": "[encoded data removed]",
      "text/plain": [
       "<Figure size 432x288 with 1 Axes>"
      ]
     },
     "metadata": {
      "needs_background": "light"
     },
     "output_type": "display_data"
    }
   ],
   "source": [
    "# Histogram\n",
    "sample.hist(bins=50, grid=False, color=\"#007398\");\n",
    "\n",
    "# Vertical red line representing the sample mean\n",
    "plt.axvline(float(sample.mean()), linestyle=\"--\", ymax=0.9, color=\"#f8485e\");"
   ]
  },
  {
   "cell_type": "markdown",
   "metadata": {
    "id": "ZBzSaVQ70zGs"
   },
   "source": [
    "The mean of the sample is similar but not equal to the mean of the population."
   ]
  },
  {
   "cell_type": "code",
   "execution_count": null,
   "metadata": {
    "colab": {
     "base_uri": "https://localhost:8080/"
    },
    "id": "z_aXgtrH0zGs",
    "outputId": "ec22cd91-9393-410c-b324-ae05f261941a"
   },
   "outputs": [
    {
     "name": "stdout",
     "output_type": "stream",
     "text": [
      "sample mean: 2.994229904318285\n",
      "population mean: 3.3871463523736334\n"
     ]
    }
   ],
   "source": [
    "# Sample mean\n",
    "print('sample mean:', float(np.mean(sample)))\n",
    "print('population mean:', float(pop_mean))"
   ]
  },
  {
   "cell_type": "markdown",
   "metadata": {
    "id": "9SGvJfWA0zGs"
   },
   "source": [
    "Let's recap what we know about the sample mean in relation to the population mean\n",
    "\n",
    "According to the central limit theorem, the sample means for any population will be distributed roughly as a normal distribution around the population mean:\n",
    "* Most of the sample means will be close to the population mean. \n",
    "* The sample means will be distributed, approximately, as a normal distribution around the population mean. \n",
    "* All of this will be true no matter what the distribution of the population looks like. The population from which the samples are being drawn does not have to have a normal distribution in order for the sample means to be distributed normally.\n",
    "\n",
    "Some general rules about the central limit theorem to remember:\n",
    "* If the population has extreme outliers and the samples are very small, the CLT may not function.\n",
    "* We may have a population with a higly skewed distribution, the distribution of the sample means will not be skewed.\n",
    "* The larger the number of the samples, the more closely the distribution will approximate the normal distribution."
   ]
  },
  {
   "cell_type": "markdown",
   "metadata": {
    "id": "1f9MEqvb0zGt"
   },
   "source": [
    "### Sampling distributions"
   ]
  },
  {
   "cell_type": "markdown",
   "metadata": {
    "id": "liBj8l2O0zGt"
   },
   "source": [
    "Now, we take 100, 1000 or 10000 samples, each one of size 50"
   ]
  },
  {
   "cell_type": "code",
   "execution_count": null,
   "metadata": {
    "id": "ClAMczNs0zGt"
   },
   "outputs": [],
   "source": [
    "number_of_samples = 10000\n",
    "sample_size = 50\n",
    "samples = []\n",
    "\n",
    "for number in range(number_of_samples): \n",
    "    simple_random_sample = pop.sample(n= sample_size, \n",
    "                                      replace=True\n",
    "                                     )\n",
    "    samples.append([simple_random_sample])"
   ]
  },
  {
   "cell_type": "markdown",
   "metadata": {
    "id": "mfew070z0zGt"
   },
   "source": [
    "Let's make a list of the mean for each sample:"
   ]
  },
  {
   "cell_type": "code",
   "execution_count": null,
   "metadata": {
    "id": "Zx2b4VGq0zGu"
   },
   "outputs": [],
   "source": [
    "sample_means = []\n",
    "\n",
    "for s in samples:\n",
    "    sample_means.append(np.mean(s))"
   ]
  },
  {
   "cell_type": "markdown",
   "metadata": {
    "id": "x8GLjHwB0zGu"
   },
   "source": [
    "The result is the **sampling distribution** of the **sample means**:"
   ]
  },
  {
   "cell_type": "code",
   "execution_count": null,
   "metadata": {
    "colab": {
     "base_uri": "https://localhost:8080/",
     "height": 442
    },
    "id": "zMlU7RKW0zGu",
    "outputId": "e70d4d3f-64b8-4129-9abc-d08df88ce7b6"
   },
   "outputs": [
    {
     "data": {
      "image/png": "[encoded data removed]",
      "text/plain": [
       "<Figure size 1440x720 with 1 Axes>"
      ]
     },
     "metadata": {
      "needs_background": "light"
     },
     "output_type": "display_data"
    }
   ],
   "source": [
    "# Creating a series of the means\n",
    "sampling_dist_sample_means = pd.Series(sample_means)\n",
    "# Finding the mean of the Series\n",
    "sdsm_mean = float(sampling_dist_sample_means.mean())\n",
    "# Finding the Standard Error\n",
    "se = float(sampling_dist_sample_means.std())\n",
    "                \n",
    "# Plotting the Histogram\n",
    "sampling_dist_sample_means.hist(bins=50, grid=False, figsize=(20,10), color=\"#f8485e\");\n",
    "\n",
    "# Plotting the vertical lines\n",
    "plt.axvline(sdsm_mean, linestyle=\"--\",linewidth=3.5, color=\"#EBEBEB\");\n",
    "plt.axvline(sdsm_mean+se, linestyle=\"--\",linewidth=3.5, color=\"#595C5D\");\n",
    "plt.axvline(sdsm_mean-se, linestyle=\"--\",linewidth=3.5, color=\"#595C5D\");"
   ]
  },
  {
   "cell_type": "markdown",
   "metadata": {
    "id": "q28OnLp80zGu"
   },
   "source": [
    "We had a population of 12.500 elements, which had a weird bimodal distribution. We took 10.000 samples, each sample had size of 50. We then looked at the mean of each of the 10.000 samples, giving us 10.000 sample means. This is called a sampling distribution and it approximates the normal distribution.\n",
    "\n",
    "The larger the sample size and the more samples taken, the more closely the distribution of sample means will approximate the normal curve. As a rule of thumb, the sample size must at least 30 for the central limit theorem to hold true.\n",
    "> **Note:** a larger sample is less likely to be affected by a random variation."
   ]
  },
  {
   "cell_type": "markdown",
   "metadata": {
    "id": "XnEFipgL0zGv"
   },
   "source": [
    "The mean of the sampling distribution of the sample means should be pretty close to the true mean of the population:"
   ]
  },
  {
   "cell_type": "code",
   "execution_count": null,
   "metadata": {
    "colab": {
     "base_uri": "https://localhost:8080/"
    },
    "id": "Qv5_yb4X0zGv",
    "outputId": "a8d5a35a-d0c9-464d-cf8a-6d29fc6cdbb3"
   },
   "outputs": [
    {
     "name": "stdout",
     "output_type": "stream",
     "text": [
      "The difference between the population mean and the mean of the sampling distribution is 0.0056\n"
     ]
    }
   ],
   "source": [
    "difference = pop_mean - np.mean(sampling_dist_sample_means)\n",
    "print(f\"The difference between the population mean and the mean of the sampling distribution is {round(difference[0], 4)}\")"
   ]
  },
  {
   "cell_type": "markdown",
   "metadata": {
    "id": "iRB05LTAPxMV"
   },
   "source": [
    "### Standard error"
   ]
  },
  {
   "cell_type": "markdown",
   "metadata": {
    "id": "WdrtyCYQ0zGv"
   },
   "source": [
    "We know that in a normal distribution, 95% of the values fall within 2 standard deviations of the mean. We will check that. But first, a terminology alert:\n",
    "\n",
    "> The *standard deviation of the sampling distribution of the sample means* is called **standard error of the mean** or simply **standard error**.\n",
    "\n"
   ]
  },
  {
   "cell_type": "markdown",
   "metadata": {
    "id": "DBZpGjqM0zGw"
   },
   "source": [
    "What is the difference between the standard error and the standard deviation?\n",
    "\n",
    "* The standard deviation measures the dispersion in the population or sample.\n",
    "* The standard error measures the dispersion of the sampling distribution of sample means.\n",
    "\n",
    "Let's look at the standard error for the samples taken from our popultaion"
   ]
  },
  {
   "cell_type": "code",
   "execution_count": null,
   "metadata": {
    "colab": {
     "base_uri": "https://localhost:8080/"
    },
    "id": "lLGhZIWe0zGv",
    "outputId": "f9ae2a35-c4ae-41da-c140-6798a38cc996"
   },
   "outputs": [
    {
     "data": {
      "text/plain": [
       "0.34768645674285437"
      ]
     },
     "execution_count": 53,
     "metadata": {},
     "output_type": "execute_result"
    }
   ],
   "source": [
    "standard_error = np.std(sampling_dist_sample_means)\n",
    "standard_error"
   ]
  },
  {
   "cell_type": "markdown",
   "metadata": {
    "id": "qaMvMgVLQ9Ae"
   },
   "source": [
    "* We know that the standard error is one standard deviation for our distribution of the sample means. \n",
    "* We know that 95% of values are contained within 2 standard deviations of the mean of our distribution of sample means.\n",
    "* We can therefore conclude that if another sample has a mean that is more than 2 standard deviations away from the mean of our distribution of sample means, it is highly unlikely that they come from the same population - there's less than a 5% chance that they're from the same population"
   ]
  },
  {
   "cell_type": "code",
   "execution_count": null,
   "metadata": {
    "colab": {
     "base_uri": "https://localhost:8080/"
    },
    "id": "iX1EVJx50zGw",
    "outputId": "c5712eca-8f01-4b53-eb5d-61164d8ecfd3"
   },
   "outputs": [
    {
     "name": "stdout",
     "output_type": "stream",
     "text": [
      "2.69 - 4.08\n"
     ]
    }
   ],
   "source": [
    "# mean of distribution of sample means\n",
    "mean_sdsm = np.mean(sampling_dist_sample_means)\n",
    "\n",
    "lower_bound = mean_sdsm - 2*standard_error\n",
    "upper_bound = mean_sdsm + 2*standard_error\n",
    "\n",
    "print(round(lower_bound, 2), \"-\", round(upper_bound, 2))"
   ]
  },
  {
   "cell_type": "code",
   "execution_count": null,
   "metadata": {
    "colab": {
     "base_uri": "https://localhost:8080/"
    },
    "id": "vK0FR2LH0zGw",
    "outputId": "570cb6b4-388f-4ab9-9243-6dc2ce1c274b"
   },
   "outputs": [
    {
     "name": "stdout",
     "output_type": "stream",
     "text": [
      "Percentage of sample means within 2 standard errors of the mean = 95.37\n"
     ]
    }
   ],
   "source": [
    "count = 0\n",
    "for i in sample_means:\n",
    "    if i > lower_bound and i < upper_bound:\n",
    "        count +=1\n",
    "print(f\"Percentage of sample means within 2 standard errors of the mean = { count/len(sample_means)*100 }\")"
   ]
  },
  {
   "cell_type": "markdown",
   "metadata": {
    "id": "i5ExludR0zGw"
   },
   "source": [
    "Another property the standard error is that it can be estimated by taking the standard deviation of the population and dividing it by the square root of the sample size.\n",
    "\n",
    "Let's see how this checks out with our data:"
   ]
  },
  {
   "cell_type": "code",
   "execution_count": null,
   "metadata": {
    "colab": {
     "base_uri": "https://localhost:8080/"
    },
    "id": "elXweibW0zGw",
    "outputId": "73dd5b74-4261-409e-ad6b-9428f4c1e6da"
   },
   "outputs": [
    {
     "data": {
      "text/plain": [
       "50"
      ]
     },
     "execution_count": 56,
     "metadata": {},
     "output_type": "execute_result"
    }
   ],
   "source": [
    "sample_size"
   ]
  },
  {
   "cell_type": "code",
   "execution_count": null,
   "metadata": {
    "colab": {
     "base_uri": "https://localhost:8080/"
    },
    "id": "RY98Oj8B0zGw",
    "outputId": "dd34ac0e-acc8-49e0-a58d-d1ec6fb0a960"
   },
   "outputs": [
    {
     "data": {
      "text/plain": [
       "0.34768645674285437"
      ]
     },
     "execution_count": 57,
     "metadata": {},
     "output_type": "execute_result"
    }
   ],
   "source": [
    "standard_error"
   ]
  },
  {
   "cell_type": "code",
   "execution_count": null,
   "metadata": {
    "colab": {
     "base_uri": "https://localhost:8080/"
    },
    "id": "HsXr6fz_0zGw",
    "outputId": "8ae0c75c-392f-4800-e3f0-2d3dc8870eb8"
   },
   "outputs": [
    {
     "data": {
      "text/plain": [
       "0    2.438371\n",
       "dtype: float64"
      ]
     },
     "execution_count": 58,
     "metadata": {},
     "output_type": "execute_result"
    }
   ],
   "source": [
    "# standard deviation of the population\n",
    "pop_std"
   ]
  },
  {
   "cell_type": "markdown",
   "metadata": {
    "id": "z353iTjS0zGw"
   },
   "source": [
    "The formula of standard error is: \n",
    "\n",
    "$$\\sigma_{M} = \\frac{\\sigma}{\\sqrt(n)}$$\n",
    "\n",
    "* $\\sigma$ is the standard deviation of the population from which sample is drawn.\n",
    "* $n$ is the size of the sample."
   ]
  },
  {
   "cell_type": "code",
   "execution_count": null,
   "metadata": {
    "colab": {
     "base_uri": "https://localhost:8080/"
    },
    "id": "eGqmlGju0zGw",
    "outputId": "650a2027-5164-47ae-feb9-7a0843232bf5",
    "scrolled": true
   },
   "outputs": [
    {
     "data": {
      "text/plain": [
       "0    0.344838\n",
       "dtype: float64"
      ]
     },
     "execution_count": 59,
     "metadata": {},
     "output_type": "execute_result"
    }
   ],
   "source": [
    "# population standard deviation / square root of population size\n",
    "pop_std/np.sqrt(sample_size)"
   ]
  },
  {
   "cell_type": "markdown",
   "metadata": {
    "id": "_Dc_073dXI3N"
   },
   "source": [
    "When we don't have access the population, we estimate the standard error of the mean by taking the standard deviation of the sample:"
   ]
  },
  {
   "cell_type": "code",
   "execution_count": null,
   "metadata": {
    "colab": {
     "base_uri": "https://localhost:8080/"
    },
    "id": "3YM5W3kC0zGx",
    "outputId": "60b9e16a-48cf-4355-c6c5-78b18d51dd79"
   },
   "outputs": [
    {
     "data": {
      "text/plain": [
       "0    0.364068\n",
       "dtype: float64"
      ]
     },
     "execution_count": 60,
     "metadata": {},
     "output_type": "execute_result"
    }
   ],
   "source": [
    "# sample standard deviation / square root of population size\n",
    "sample.std()/np.sqrt(sample_size)"
   ]
  },
  {
   "cell_type": "markdown",
   "metadata": {
    "id": "Zy1n0RB40zGx"
   },
   "source": [
    "In the major part of the cases, we don't know the population standard deviation, so for large samples, we can assume that the standard deviation of the sample is reasonably close to the standard deviation of the population."
   ]
  },
  {
   "cell_type": "markdown",
   "metadata": {
    "id": "MQIZRPJN0zGx"
   },
   "source": [
    "#### **Exercise 2:** \n",
    "Before moving on, repeat the experiment (located under the header `Sampling distributions`) changing a few parameters and note down what happens in the following cases:\n",
    "\n",
    "* With diferent sample sizes (both smaller and greater)\n",
    "* With fewer or more samples.\n",
    "* Adding some extreme outliers to the population.\n",
    "* Sampling without replacement."
   ]
  },
  {
   "cell_type": "code",
   "execution_count": null,
   "metadata": {
    "id": "lbQuiNMJ91TP"
   },
   "outputs": [],
   "source": [
    "# you can copy-paste code from above in this cell\n",
    "# and modify it"
   ]
  },
  {
   "cell_type": "markdown",
   "metadata": {
    "id": "WIoJEKaP0zGx"
   },
   "source": [
    "Summarising the main ideas: \n",
    "\n",
    "* If you draw large, random samples from any population, the means of those samples will be distributed normally around the population mean (regardless of what the distribution of the underlying population looks like).\n",
    "* Most sample means will lie reasonably close to the poulation mean; the standard error is what defines \"reasonably close\".\n",
    "* The central limit theorem tells us the probability that a sample mean will lie within a certain distance of the population mean. It is relatively unlikely that a sample mean willl lie more than two standard errors from the population mean, and extremely unlikely that it will lie three or more standard errors from the population mean. \n",
    "* The less likely it is that an outcome has been observed by change, the more confidence we can in surmising that some other factor is in play. "
   ]
  },
  {
   "cell_type": "markdown",
   "metadata": {
    "id": "LrTtpCS40zGx"
   },
   "source": [
    "## Squirrels example\n",
    "\n",
    "Let's assume that the population values from earlier represent the weights of squirrels. Now, in reality, if we took a sample of squirrels we wouldn't know the mean and the standard deviation of the population - this is normal. We simply go to the forest, take a random sample of 50 squirrels and register their weight:"
   ]
  },
  {
   "cell_type": "code",
   "execution_count": null,
   "metadata": {
    "colab": {
     "base_uri": "https://localhost:8080/"
    },
    "id": "r4zDFJy60zGx",
    "outputId": "6a542df1-550a-430f-dbbe-8d2ab3a472b9"
   },
   "outputs": [
    {
     "data": {
      "image/png": "[encoded data removed]",
      "text/plain": [
       "<Figure size 432x288 with 1 Axes>"
      ]
     },
     "metadata": {
      "needs_background": "light"
     },
     "output_type": "display_data"
    }
   ],
   "source": [
    "squirrels = pop.sample(50, random_state=1990)\n",
    "\n",
    "squirrels.hist();"
   ]
  },
  {
   "cell_type": "markdown",
   "metadata": {
    "id": "XUmJPFqV0zGx"
   },
   "source": [
    "We wonder if the mean of the weights of the squirrels is close to the 'true' mean of the population (which we can't measure)\n"
   ]
  },
  {
   "cell_type": "code",
   "execution_count": null,
   "metadata": {
    "colab": {
     "base_uri": "https://localhost:8080/"
    },
    "id": "OP1yO8yz0zGy",
    "outputId": "745d4d25-731f-4136-a978-c1ae6ee6ec2a"
   },
   "outputs": [
    {
     "data": {
      "text/plain": [
       "3.3492958902381855"
      ]
     },
     "execution_count": 63,
     "metadata": {},
     "output_type": "execute_result"
    }
   ],
   "source": [
    "# mean of our sample\n",
    "mean_squirrels = float(squirrels.mean())\n",
    "mean_squirrels"
   ]
  },
  {
   "cell_type": "markdown",
   "metadata": {
    "id": "wQ7Z1tMm0zGy"
   },
   "source": [
    "The standard error of the mean is an estimate of how far the sample mean is likely to be from the population mean.\n",
    "\n",
    "It is an estimate of the standard deviation of the sampling distribution of the sample means, which, as we've seen, follows a normal ditribution."
   ]
  },
  {
   "cell_type": "code",
   "execution_count": 24,
   "metadata": {
    "colab": {
     "base_uri": "https://localhost:8080/"
    },
    "id": "zDWWvxn_0zGy",
    "outputId": "d17336d6-5ca7-4911-d334-7b6dbfafe321"
   },
   "outputs": [
    {
     "data": {
      "text/plain": [
       "0.3451116917675317"
      ]
     },
     "execution_count": 24,
     "metadata": {},
     "output_type": "execute_result"
    }
   ],
   "source": [
    "# standard error of the mean\n",
    "sem_squirrels = float(squirrels.std()/np.sqrt(len(squirrels)))\n",
    "sem_squirrels"
   ]
  },
  {
   "cell_type": "markdown",
   "metadata": {
    "id": "wcB9FyytZW4b"
   },
   "source": [
    "We can also calculate the standard error using scipy"
   ]
  },
  {
   "cell_type": "code",
   "execution_count": null,
   "metadata": {
    "colab": {
     "base_uri": "https://localhost:8080/"
    },
    "id": "LjrCQJuO0zGy",
    "outputId": "1615ed36-bc47-4a73-dc66-71cdc695e6c1"
   },
   "outputs": [
    {
     "data": {
      "text/plain": [
       "array([0.34511169])"
      ]
     },
     "execution_count": 65,
     "metadata": {},
     "output_type": "execute_result"
    }
   ],
   "source": [
    "stats.sem(squirrels)"
   ]
  },
  {
   "cell_type": "markdown",
   "metadata": {
    "id": "SttG17TR0zGy"
   },
   "source": [
    "We know that no matter the distribution of our sample or the population, the sampling distribution of the sample means is normal (Central Limit Theorem).\n",
    "\n",
    "Knowing that, we can use the properties of the normal distribution to gain information about our sample and how much it might differ from the true population.\n",
    "\n",
    "We have:\n",
    "\n",
    "1. The mean of the sample.\n",
    "2. An estimation of the standard error.\n",
    "\n",
    "With this two elements and knowing the CLT, we can simulate a sampling distribution of sample means built around the mean of our sample.\n",
    "\n",
    "This sampling distribution we will simulate will be, of course, normal. We can plot it and draw the lines within 2 Standard Errors above and below the mean, representing the interval where 95% of the observations fall:"
   ]
  },
  {
   "cell_type": "code",
   "execution_count": null,
   "metadata": {
    "colab": {
     "base_uri": "https://localhost:8080/",
     "height": 54
    },
    "id": "JEi0BB25h5n5",
    "outputId": "ef0e89ce-4804-446d-8458-e51432bf3baa"
   },
   "outputs": [
    {
     "data": {
      "image/png": "[encoded data removed]",
      "text/plain": [
       "<Figure size 1008x576 with 1 Axes>"
      ]
     },
     "metadata": {
      "needs_background": "light"
     },
     "output_type": "display_data"
    }
   ],
   "source": [
    "# generating a normal distribution\n",
    "sampling_dist_squirrels = stats.norm.rvs(loc=mean_squirrels, # The mean of the sample.\n",
    "                                         scale=sem_squirrels, # An estimation of the standard error.\n",
    "                                         size=100000,\n",
    "                                         random_state=123\n",
    "                                         )\n",
    "\n",
    "norm_dist = pd.Series(sampling_dist_squirrels)\n",
    "\n",
    "norm_dist.hist(bins=30, figsize=(14, 8))\n",
    "\n",
    "plt.axvline(mean_squirrels-sem_squirrels*2, color = 'r', linestyle=\"--\")\n",
    "plt.axvline(mean_squirrels+sem_squirrels*2, color = 'r', linestyle=\"--\");"
   ]
  },
  {
   "cell_type": "markdown",
   "metadata": {
    "id": "lXLIHJpSh1eF"
   },
   "source": [
    "What does this distribution and this interval tell us?\n",
    "\n",
    "If we took many samples, and in each sample we drew this interval with the red dotted lines, 95% of the time the true mean would fall inside of the interval. 5% of the time, the mean would fall outside (2.5% in each direction).\n",
    "\n",
    "This is why we call this the 95% confidence interval. A **confidence interval** is a 'plausible range of values' for a population parameter (in this case, the mean).\n",
    "\n",
    "Let's calculate the upper and lower bounds of this interval:"
   ]
  },
  {
   "cell_type": "code",
   "execution_count": null,
   "metadata": {
    "colab": {
     "base_uri": "https://localhost:8080/"
    },
    "id": "TVkP9cq10zGy",
    "outputId": "2b4dc762-bd0e-48b6-e9fd-deb238c5a155"
   },
   "outputs": [
    {
     "data": {
      "text/plain": [
       "0    4.039519\n",
       "dtype: float64"
      ]
     },
     "execution_count": 67,
     "metadata": {},
     "output_type": "execute_result"
    }
   ],
   "source": [
    "# upper bound of the confidence interval\n",
    "np.mean(squirrels) + stats.sem(squirrels)*2\n",
    "\n",
    "# if you want the results to match with the manual calculation below,\n",
    "# change the \"2\" for a \"1.96\""
   ]
  },
  {
   "cell_type": "code",
   "execution_count": null,
   "metadata": {
    "colab": {
     "base_uri": "https://localhost:8080/"
    },
    "id": "LHxMUQzQ0zGy",
    "outputId": "7abee4af-5fe8-43f9-e5c4-e71db845cc3f"
   },
   "outputs": [
    {
     "data": {
      "text/plain": [
       "0    2.659073\n",
       "dtype: float64"
      ]
     },
     "execution_count": 68,
     "metadata": {},
     "output_type": "execute_result"
    }
   ],
   "source": [
    "# lower bound of the confidence interval\n",
    "np.mean(squirrels) - stats.sem(squirrels)*2\n",
    "\n",
    "# if you want the results to match with the manual calculation below,\n",
    "# change the \"2\" for a \"1.96\""
   ]
  },
  {
   "cell_type": "code",
   "execution_count": null,
   "metadata": {
    "colab": {
     "base_uri": "https://localhost:8080/"
    },
    "id": "kHq5RXD40zGy",
    "outputId": "0caf6405-51c0-43e0-bc6e-20a3e1e75986"
   },
   "outputs": [
    {
     "data": {
      "text/plain": [
       "(array([2.6728894]), array([4.02570238]))"
      ]
     },
     "execution_count": 69,
     "metadata": {},
     "output_type": "execute_result"
    }
   ],
   "source": [
    "# using scipy to calculate the confidence interval:\n",
    "stats.norm.interval(alpha=0.95, # the confidence level\n",
    "                 loc=np.mean(squirrels), # mean of our sample\n",
    "                 scale=stats.sem(squirrels)) # standard error of the mean"
   ]
  },
  {
   "cell_type": "markdown",
   "metadata": {
    "id": "gUZEvB0z0zGz"
   },
   "source": [
    "We have made some estimations that might be imperfect, for example when calculating the Standard Error. And our sample is not really big (only 50 squirrels). If we want an extra degree of confidence or, in other words, a more conservative estimate of the confidence interval, we can use a t-distribution instead of a normal distribution.\n",
    "\n",
    "A t distribution is 'flatter' and has 'fat tails' for small populations, and is indistinguishable from a normal distribution for bigger populations.\n",
    "\n"
   ]
  },
  {
   "cell_type": "code",
   "execution_count": null,
   "metadata": {
    "colab": {
     "base_uri": "https://localhost:8080/",
     "height": 54
    },
    "id": "ZsWVzwV8nL62",
    "outputId": "a9274f0f-fabf-4fd9-a787-3e3aa5698831"
   },
   "outputs": [
    {
     "data": {
      "image/png": "[encoded data removed]",
      "text/plain": [
       "<Figure size 1008x576 with 1 Axes>"
      ]
     },
     "metadata": {
      "needs_background": "light"
     },
     "output_type": "display_data"
    }
   ],
   "source": [
    "# generating a t distribution\n",
    "sampling_t_dist_squirrels = stats.t.rvs(loc=mean_squirrels, # The mean of the sample.\n",
    "                                        scale=sem_squirrels, # An estimation of the standard error.\n",
    "                                        df=len(squirrels), # Our sample size\n",
    "                                        size=100000,\n",
    "                                        random_state=123\n",
    "                                         )\n",
    "\n",
    "sampling_t_dist_squirrels = pd.Series(sampling_t_dist_squirrels)\n",
    "\n",
    "sampling_t_dist_squirrels.hist(bins=30, figsize=(14, 8));"
   ]
  },
  {
   "cell_type": "markdown",
   "metadata": {
    "id": "a_i52a6qnMxF"
   },
   "source": [
    "The confidence interval is slightly thinner if we use a normal distribution:"
   ]
  },
  {
   "cell_type": "code",
   "execution_count": null,
   "metadata": {
    "colab": {
     "base_uri": "https://localhost:8080/"
    },
    "id": "iamLy3JL0zGy",
    "outputId": "d0ea3e80-921c-493d-9a49-a0ea1bf7c8a3"
   },
   "outputs": [
    {
     "data": {
      "text/plain": [
       "(array([2.65576798]), array([4.0428238]))"
      ]
     },
     "execution_count": 71,
     "metadata": {},
     "output_type": "execute_result"
    }
   ],
   "source": [
    "# using a t distribution:\n",
    "t_interval = stats.t.interval(\n",
    "            0.95, # the confidence level\n",
    "            len(squirrels)-1, # degrees of freedom = sample size - 1\n",
    "            loc=np.mean(squirrels), # mean of our sample\n",
    "            scale=stats.sem(squirrels) # standard error of the mean\n",
    "            )\n",
    "\n",
    "t_interval"
   ]
  },
  {
   "cell_type": "markdown",
   "metadata": {
    "id": "3Ujg7PSRmnj1"
   },
   "source": [
    "### **Exercise 3:**\n",
    "\n",
    "Did the true mean really fall within the 95% confidence interval?"
   ]
  },
  {
   "cell_type": "code",
   "execution_count": null,
   "metadata": {
    "id": "XeV6AvfA0zGz"
   },
   "outputs": [],
   "source": [
    "# your code here\n",
    "yes (3.34)"
   ]
  },
  {
   "cell_type": "markdown",
   "metadata": {
    "id": "Xyci-4zZ0zGz"
   },
   "source": [
    "Probably yes, but beware: by definition, 5% of the time it will not!\n",
    "\n",
    "### **Exercise 4**: \n",
    "Can you run the experiment 10,000 times and prove it?"
   ]
  },
  {
   "cell_type": "code",
   "execution_count": null,
   "metadata": {},
   "outputs": [],
   "source": []
  },
  {
   "cell_type": "code",
   "execution_count": 22,
   "metadata": {
    "id": "vlEwGVWPmzcG"
   },
   "outputs": [
    {
     "name": "stdout",
     "output_type": "stream",
     "text": [
      "3.349295890238187\n"
     ]
    }
   ],
   "source": [
    "# your code here\n",
    "mean_list = []\n",
    "for i in range(10000):\n",
    "    squirrels = pop.sample(50, random_state=1990)\n",
    "    mean_squirrels = float(squirrels.mean())\n",
    "    mean_list.append(mean_squirrels)\n",
    "\n",
    "fin_mean = np.mean(mean_list)\n",
    "print(fin_mean)"
   ]
  },
  {
   "cell_type": "code",
   "execution_count": 25,
   "metadata": {},
   "outputs": [
    {
     "data": {
      "image/png": "[encoded data removed]",
      "text/plain": [
       "<Figure size 1400x800 with 1 Axes>"
      ]
     },
     "metadata": {},
     "output_type": "display_data"
    }
   ],
   "source": [
    "# generating a t distribution\n",
    "sampling_t_dist_squirrels = stats.t.rvs(loc=fin_mean, # The mean of the sample.\n",
    "                                        scale=sem_squirrels, # An estimation of the standard error.\n",
    "                                        df=len(squirrels), # Our sample size\n",
    "                                        size=100000,\n",
    "                                        random_state=123\n",
    "                                         )\n",
    "\n",
    "sampling_t_dist_squirrels = pd.Series(sampling_t_dist_squirrels)\n",
    "\n",
    "sampling_t_dist_squirrels.hist(bins=30, figsize=(14, 8));"
   ]
  },
  {
   "cell_type": "code",
   "execution_count": null,
   "metadata": {},
   "outputs": [],
   "source": []
  }
 ],
 "metadata": {
  "colab": {
   "provenance": []
  },
  "kernelspec": {
   "display_name": "Python 3 (ipykernel)",
   "language": "python",
   "name": "python3"
  },
  "language_info": {
   "codemirror_mode": {
    "name": "ipython",
    "version": 3
   },
   "file_extension": ".py",
   "mimetype": "text/x-python",
   "name": "python",
   "nbconvert_exporter": "python",
   "pygments_lexer": "ipython3",
   "version": "3.9.13"
  },
  "toc": {
   "base_numbering": 1,
   "nav_menu": {},
   "number_sections": true,
   "sideBar": true,
   "skip_h1_title": false,
   "title_cell": "Table of Contents",
   "title_sidebar": "Contents",
   "toc_cell": false,
   "toc_position": {},
   "toc_section_display": true,
   "toc_window_display": false
  },
  "varInspector": {
   "cols": {
    "lenName": 16,
    "lenType": 16,
    "lenVar": 40
   },
   "kernels_config": {
    "python": {
     "delete_cmd_postfix": "",
     "delete_cmd_prefix": "del ",
     "library": "var_list.py",
     "varRefreshCmd": "print(var_dic_list())"
    },
    "r": {
     "delete_cmd_postfix": ") ",
     "delete_cmd_prefix": "rm(",
     "library": "var_list.r",
     "varRefreshCmd": "cat(var_dic_list()) "
    }
   },
   "types_to_exclude": [
    "module",
    "function",
    "builtin_function_or_method",
    "instance",
    "_Feature"
   ],
   "window_display": false
  }
 },
 "nbformat": 4,
 "nbformat_minor": 1
}
