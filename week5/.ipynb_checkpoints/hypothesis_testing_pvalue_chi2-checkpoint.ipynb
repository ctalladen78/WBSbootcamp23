{
 "cells": [
  {
   "cell_type": "code",
   "execution_count": null,
   "id": "5f2dd319",
   "metadata": {},
   "outputs": [],
   "source": [
    "# hypothesis testing\n",
    "# https://towardsdatascience.com/p-value-method-for-hypothesis-testing-c967c0f78d74\n",
    "# https://online.stat.psu.edu/statprogram/reviews/statistical-concepts/hypothesis-testing/p-value-approach\n",
    "# https://data36.com/statistical-significance-in-ab-testing/\n",
    "\n"
   ]
  },
  {
   "cell_type": "code",
   "execution_count": 3,
   "id": "8c72f0a9",
   "metadata": {},
   "outputs": [],
   "source": [
    "import pandas as pd\n",
    "import numpy as np\n",
    "import matplotlib.pyplot as plt\n",
    "import statsmodels.api as sm # ttest -> test statistic, pvalue, dof\n",
    "from scipy.stats import t,ttest_ind,chisquare,chi2 # plotting, ttest"
   ]
  },
  {
   "cell_type": "code",
   "execution_count": 13,
   "id": "48072845",
   "metadata": {},
   "outputs": [],
   "source": [
    "connect_df = pd.read_csv('~/Downloads/CrazyEgg/connect/Homepage-Connect.csv')\n",
    "help_df = pd.read_csv('~/Downloads/CrazyEgg/help/Homepage-Help.csv')\n",
    "learn_df = pd.read_csv('~/Downloads/CrazyEgg/learn/Homepage-Learn.csv')\n",
    "services_df = pd.read_csv('~/Downloads/CrazyEgg/services/Homepage-Services.csv')\n",
    "interact_df = pd.read_csv('~/Downloads/CrazyEgg/interact/Homepage-Interact.csv')\n",
    "\n"
   ]
  },
  {
   "cell_type": "code",
   "execution_count": 9,
   "id": "8cbd2c61",
   "metadata": {},
   "outputs": [
    {
     "name": "stdout",
     "output_type": "stream",
     "text": [
      "<class 'pandas.core.frame.DataFrame'>\n",
      "RangeIndex: 58 entries, 0 to 57\n",
      "Data columns (total 6 columns):\n",
      " #   Column                Non-Null Count  Dtype \n",
      "---  ------                --------------  ----- \n",
      " 0   Element ID            58 non-null     int64 \n",
      " 1   Tag name              58 non-null     object\n",
      " 2   Name                  58 non-null     object\n",
      " 3   No. clicks            58 non-null     int64 \n",
      " 4   Visible?              58 non-null     bool  \n",
      " 5   Snapshot information  2 non-null      object\n",
      "dtypes: bool(1), int64(2), object(3)\n",
      "memory usage: 2.4+ KB\n"
     ]
    }
   ],
   "source": [
    "connect_df.info()"
   ]
  },
  {
   "cell_type": "code",
   "execution_count": 21,
   "id": "8faefaaa",
   "metadata": {},
   "outputs": [
    {
     "data": {
      "text/html": [
       "<div>\n",
       "<style scoped>\n",
       "    .dataframe tbody tr th:only-of-type {\n",
       "        vertical-align: middle;\n",
       "    }\n",
       "\n",
       "    .dataframe tbody tr th {\n",
       "        vertical-align: top;\n",
       "    }\n",
       "\n",
       "    .dataframe thead th {\n",
       "        text-align: right;\n",
       "    }\n",
       "</style>\n",
       "<table border=\"1\" class=\"dataframe\">\n",
       "  <thead>\n",
       "    <tr style=\"text-align: right;\">\n",
       "      <th></th>\n",
       "      <th>Element ID</th>\n",
       "      <th>Tag name</th>\n",
       "      <th>Name</th>\n",
       "      <th>No. clicks</th>\n",
       "      <th>Visible?</th>\n",
       "      <th>Snapshot information</th>\n",
       "    </tr>\n",
       "  </thead>\n",
       "  <tbody>\n",
       "    <tr>\n",
       "      <th>0</th>\n",
       "      <td>74</td>\n",
       "      <td>a</td>\n",
       "      <td>FIND</td>\n",
       "      <td>502</td>\n",
       "      <td>True</td>\n",
       "      <td>Homepage Version 2 - Connect   •   http://www....</td>\n",
       "    </tr>\n",
       "    <tr>\n",
       "      <th>1</th>\n",
       "      <td>66</td>\n",
       "      <td>input</td>\n",
       "      <td>s.q</td>\n",
       "      <td>357</td>\n",
       "      <td>True</td>\n",
       "      <td>created 5-29-2013   •   20 days 7 hours 34 min...</td>\n",
       "    </tr>\n",
       "    <tr>\n",
       "      <th>2</th>\n",
       "      <td>72</td>\n",
       "      <td>a</td>\n",
       "      <td>lib.montana.edu/find/</td>\n",
       "      <td>171</td>\n",
       "      <td>True</td>\n",
       "      <td>NaN</td>\n",
       "    </tr>\n",
       "    <tr>\n",
       "      <th>3</th>\n",
       "      <td>133</td>\n",
       "      <td>area</td>\n",
       "      <td>Montana State University Libraries - Home</td>\n",
       "      <td>83</td>\n",
       "      <td>False</td>\n",
       "      <td>NaN</td>\n",
       "    </tr>\n",
       "    <tr>\n",
       "      <th>4</th>\n",
       "      <td>103</td>\n",
       "      <td>a</td>\n",
       "      <td>Hours</td>\n",
       "      <td>74</td>\n",
       "      <td>True</td>\n",
       "      <td>NaN</td>\n",
       "    </tr>\n",
       "  </tbody>\n",
       "</table>\n",
       "</div>"
      ],
      "text/plain": [
       "   Element ID Tag name                                       Name  No. clicks  \\\n",
       "0          74        a                                       FIND         502   \n",
       "1          66    input                                        s.q         357   \n",
       "2          72        a                      lib.montana.edu/find/         171   \n",
       "3         133     area  Montana State University Libraries - Home          83   \n",
       "4         103        a                                      Hours          74   \n",
       "\n",
       "   Visible?                               Snapshot information  \n",
       "0      True  Homepage Version 2 - Connect   •   http://www....  \n",
       "1      True  created 5-29-2013   •   20 days 7 hours 34 min...  \n",
       "2      True                                                NaN  \n",
       "3     False                                                NaN  \n",
       "4      True                                                NaN  "
      ]
     },
     "execution_count": 21,
     "metadata": {},
     "output_type": "execute_result"
    }
   ],
   "source": [
    "connect_df.head()\n",
    "\n"
   ]
  },
  {
   "cell_type": "code",
   "execution_count": 23,
   "id": "8fff9caa",
   "metadata": {},
   "outputs": [
    {
     "data": {
      "text/html": [
       "<div>\n",
       "<style scoped>\n",
       "    .dataframe tbody tr th:only-of-type {\n",
       "        vertical-align: middle;\n",
       "    }\n",
       "\n",
       "    .dataframe tbody tr th {\n",
       "        vertical-align: top;\n",
       "    }\n",
       "\n",
       "    .dataframe thead th {\n",
       "        text-align: right;\n",
       "    }\n",
       "</style>\n",
       "<table border=\"1\" class=\"dataframe\">\n",
       "  <thead>\n",
       "    <tr style=\"text-align: right;\">\n",
       "      <th></th>\n",
       "      <th>Element ID</th>\n",
       "      <th>Tag name</th>\n",
       "      <th>Name</th>\n",
       "      <th>No. clicks</th>\n",
       "      <th>Visible?</th>\n",
       "      <th>Snapshot information</th>\n",
       "    </tr>\n",
       "  </thead>\n",
       "  <tbody>\n",
       "    <tr>\n",
       "      <th>6</th>\n",
       "      <td>92</td>\n",
       "      <td>a</td>\n",
       "      <td>CONNECT</td>\n",
       "      <td>53</td>\n",
       "      <td>True</td>\n",
       "      <td>NaN</td>\n",
       "    </tr>\n",
       "  </tbody>\n",
       "</table>\n",
       "</div>"
      ],
      "text/plain": [
       "   Element ID Tag name     Name  No. clicks  Visible? Snapshot information\n",
       "6          92        a  CONNECT          53      True                  NaN"
      ]
     },
     "execution_count": 23,
     "metadata": {},
     "output_type": "execute_result"
    }
   ],
   "source": [
    "connect_df[connect_df['Name']=='CONNECT']"
   ]
  },
  {
   "cell_type": "code",
   "execution_count": 24,
   "id": "cdc87d37",
   "metadata": {},
   "outputs": [
    {
     "data": {
      "text/html": [
       "<div>\n",
       "<style scoped>\n",
       "    .dataframe tbody tr th:only-of-type {\n",
       "        vertical-align: middle;\n",
       "    }\n",
       "\n",
       "    .dataframe tbody tr th {\n",
       "        vertical-align: top;\n",
       "    }\n",
       "\n",
       "    .dataframe thead th {\n",
       "        text-align: right;\n",
       "    }\n",
       "</style>\n",
       "<table border=\"1\" class=\"dataframe\">\n",
       "  <thead>\n",
       "    <tr style=\"text-align: right;\">\n",
       "      <th></th>\n",
       "      <th>Element ID</th>\n",
       "      <th>Tag name</th>\n",
       "      <th>Name</th>\n",
       "      <th>No. clicks</th>\n",
       "      <th>Visible?</th>\n",
       "      <th>Snapshot information</th>\n",
       "    </tr>\n",
       "  </thead>\n",
       "  <tbody>\n",
       "    <tr>\n",
       "      <th>0</th>\n",
       "      <td>74</td>\n",
       "      <td>a</td>\n",
       "      <td>FIND</td>\n",
       "      <td>502</td>\n",
       "      <td>True</td>\n",
       "      <td>Homepage Version 2 - Connect   •   http://www....</td>\n",
       "    </tr>\n",
       "  </tbody>\n",
       "</table>\n",
       "</div>"
      ],
      "text/plain": [
       "   Element ID Tag name  Name  No. clicks  Visible?  \\\n",
       "0          74        a  FIND         502      True   \n",
       "\n",
       "                                Snapshot information  \n",
       "0  Homepage Version 2 - Connect   •   http://www....  "
      ]
     },
     "execution_count": 24,
     "metadata": {},
     "output_type": "execute_result"
    }
   ],
   "source": [
    "connect_df[connect_df['Name']=='FIND']"
   ]
  },
  {
   "cell_type": "code",
   "execution_count": 27,
   "id": "cc98a62f",
   "metadata": {},
   "outputs": [
    {
     "data": {
      "text/html": [
       "<div>\n",
       "<style scoped>\n",
       "    .dataframe tbody tr th:only-of-type {\n",
       "        vertical-align: middle;\n",
       "    }\n",
       "\n",
       "    .dataframe tbody tr th {\n",
       "        vertical-align: top;\n",
       "    }\n",
       "\n",
       "    .dataframe thead th {\n",
       "        text-align: right;\n",
       "    }\n",
       "</style>\n",
       "<table border=\"1\" class=\"dataframe\">\n",
       "  <thead>\n",
       "    <tr style=\"text-align: right;\">\n",
       "      <th></th>\n",
       "      <th>Element ID</th>\n",
       "      <th>Tag name</th>\n",
       "      <th>Name</th>\n",
       "      <th>No. clicks</th>\n",
       "      <th>Visible?</th>\n",
       "      <th>Snapshot information</th>\n",
       "    </tr>\n",
       "  </thead>\n",
       "  <tbody>\n",
       "  </tbody>\n",
       "</table>\n",
       "</div>"
      ],
      "text/plain": [
       "Empty DataFrame\n",
       "Columns: [Element ID, Tag name, Name, No. clicks, Visible?, Snapshot information]\n",
       "Index: []"
      ]
     },
     "execution_count": 27,
     "metadata": {},
     "output_type": "execute_result"
    }
   ],
   "source": [
    "# connect_df[connect_df['Name']=='SERVICES']"
   ]
  },
  {
   "cell_type": "code",
   "execution_count": 20,
   "id": "4834ef01",
   "metadata": {},
   "outputs": [
    {
     "data": {
      "text/html": [
       "<div>\n",
       "<style scoped>\n",
       "    .dataframe tbody tr th:only-of-type {\n",
       "        vertical-align: middle;\n",
       "    }\n",
       "\n",
       "    .dataframe tbody tr th {\n",
       "        vertical-align: top;\n",
       "    }\n",
       "\n",
       "    .dataframe thead th {\n",
       "        text-align: right;\n",
       "    }\n",
       "</style>\n",
       "<table border=\"1\" class=\"dataframe\">\n",
       "  <thead>\n",
       "    <tr style=\"text-align: right;\">\n",
       "      <th></th>\n",
       "      <th>Element ID</th>\n",
       "      <th>Tag name</th>\n",
       "      <th>Name</th>\n",
       "      <th>No. clicks</th>\n",
       "      <th>Visible?</th>\n",
       "      <th>Snapshot information</th>\n",
       "    </tr>\n",
       "  </thead>\n",
       "  <tbody>\n",
       "    <tr>\n",
       "      <th>0</th>\n",
       "      <td>74</td>\n",
       "      <td>a</td>\n",
       "      <td>FIND</td>\n",
       "      <td>502</td>\n",
       "      <td>True</td>\n",
       "      <td>Homepage Version 2 - Connect   •   http://www....</td>\n",
       "    </tr>\n",
       "  </tbody>\n",
       "</table>\n",
       "</div>"
      ],
      "text/plain": [
       "   Element ID Tag name  Name  No. clicks  Visible?  \\\n",
       "0          74        a  FIND         502      True   \n",
       "\n",
       "                                Snapshot information  \n",
       "0  Homepage Version 2 - Connect   •   http://www....  "
      ]
     },
     "execution_count": 20,
     "metadata": {},
     "output_type": "execute_result"
    }
   ],
   "source": [
    "df = connect_df[connect_df['Snapshot information'].notna()]\n",
    "df.loc[df['Snapshot information'].str.contains('Homepage Version')]\n",
    "\n"
   ]
  },
  {
   "cell_type": "code",
   "execution_count": 118,
   "id": "529bf6c0",
   "metadata": {},
   "outputs": [],
   "source": [
    "# help_df.info()"
   ]
  },
  {
   "cell_type": "code",
   "execution_count": 29,
   "id": "c35018a8",
   "metadata": {},
   "outputs": [
    {
     "data": {
      "text/html": [
       "<div>\n",
       "<style scoped>\n",
       "    .dataframe tbody tr th:only-of-type {\n",
       "        vertical-align: middle;\n",
       "    }\n",
       "\n",
       "    .dataframe tbody tr th {\n",
       "        vertical-align: top;\n",
       "    }\n",
       "\n",
       "    .dataframe thead th {\n",
       "        text-align: right;\n",
       "    }\n",
       "</style>\n",
       "<table border=\"1\" class=\"dataframe\">\n",
       "  <thead>\n",
       "    <tr style=\"text-align: right;\">\n",
       "      <th></th>\n",
       "      <th>Element ID</th>\n",
       "      <th>Tag name</th>\n",
       "      <th>Name</th>\n",
       "      <th>No. clicks</th>\n",
       "      <th>Visible?</th>\n",
       "      <th>Snapshot information</th>\n",
       "    </tr>\n",
       "  </thead>\n",
       "  <tbody>\n",
       "    <tr>\n",
       "      <th>0</th>\n",
       "      <td>74</td>\n",
       "      <td>a</td>\n",
       "      <td>FIND</td>\n",
       "      <td>631</td>\n",
       "      <td>True</td>\n",
       "      <td>Homepage Version 4 - Help   •   http://www.lib...</td>\n",
       "    </tr>\n",
       "  </tbody>\n",
       "</table>\n",
       "</div>"
      ],
      "text/plain": [
       "   Element ID Tag name  Name  No. clicks  Visible?  \\\n",
       "0          74        a  FIND         631      True   \n",
       "\n",
       "                                Snapshot information  \n",
       "0  Homepage Version 4 - Help   •   http://www.lib...  "
      ]
     },
     "execution_count": 29,
     "metadata": {},
     "output_type": "execute_result"
    }
   ],
   "source": [
    "help_df[help_df['Name']=='FIND']"
   ]
  },
  {
   "cell_type": "code",
   "execution_count": 30,
   "id": "48bd26fd",
   "metadata": {},
   "outputs": [
    {
     "data": {
      "text/html": [
       "<div>\n",
       "<style scoped>\n",
       "    .dataframe tbody tr th:only-of-type {\n",
       "        vertical-align: middle;\n",
       "    }\n",
       "\n",
       "    .dataframe tbody tr th {\n",
       "        vertical-align: top;\n",
       "    }\n",
       "\n",
       "    .dataframe thead th {\n",
       "        text-align: right;\n",
       "    }\n",
       "</style>\n",
       "<table border=\"1\" class=\"dataframe\">\n",
       "  <thead>\n",
       "    <tr style=\"text-align: right;\">\n",
       "      <th></th>\n",
       "      <th>Element ID</th>\n",
       "      <th>Tag name</th>\n",
       "      <th>Name</th>\n",
       "      <th>No. clicks</th>\n",
       "      <th>Visible?</th>\n",
       "      <th>Snapshot information</th>\n",
       "    </tr>\n",
       "  </thead>\n",
       "  <tbody>\n",
       "    <tr>\n",
       "      <th>7</th>\n",
       "      <td>92</td>\n",
       "      <td>a</td>\n",
       "      <td>HELP</td>\n",
       "      <td>38</td>\n",
       "      <td>True</td>\n",
       "      <td>NaN</td>\n",
       "    </tr>\n",
       "  </tbody>\n",
       "</table>\n",
       "</div>"
      ],
      "text/plain": [
       "   Element ID Tag name  Name  No. clicks  Visible? Snapshot information\n",
       "7          92        a  HELP          38      True                  NaN"
      ]
     },
     "execution_count": 30,
     "metadata": {},
     "output_type": "execute_result"
    }
   ],
   "source": [
    "help_df[help_df['Name']=='HELP']"
   ]
  },
  {
   "cell_type": "code",
   "execution_count": 119,
   "id": "ade4efb6",
   "metadata": {},
   "outputs": [],
   "source": [
    "# learn_df.info()"
   ]
  },
  {
   "cell_type": "code",
   "execution_count": 120,
   "id": "181bb5e3",
   "metadata": {},
   "outputs": [],
   "source": [
    "# services_df.info()"
   ]
  },
  {
   "cell_type": "code",
   "execution_count": 13,
   "id": "632b1d88",
   "metadata": {},
   "outputs": [
    {
     "name": "stdout",
     "output_type": "stream",
     "text": [
      "27.362068965517242\n",
      "30.12280701754386\n",
      "26.64516129032258\n",
      "25.433962264150942\n",
      "53.82608695652174\n"
     ]
    }
   ],
   "source": [
    "# clicks\n",
    "print(connect_df['No. clicks'].mean())\n",
    "print(help_df['No. clicks'].mean())\n",
    "print(learn_df['No. clicks'].mean())\n",
    "print(services_df['No. clicks'].mean())\n",
    "print(interact_df['No. clicks'].mean())\n",
    "\n",
    "# interact has the most CTR"
   ]
  },
  {
   "cell_type": "code",
   "execution_count": null,
   "id": "f1992ec8",
   "metadata": {},
   "outputs": [],
   "source": [
    "alpha = .05 # t-test"
   ]
  },
  {
   "cell_type": "code",
   "execution_count": 23,
   "id": "e459530a",
   "metadata": {},
   "outputs": [],
   "source": [
    "con_se = connect_df['No. clicks']\n",
    "hel_se = help_df['No. clicks']\n",
    "le_se = learn_df['No. clicks']\n",
    "ser_se = services_df['No. clicks']\n",
    "int_se = interact_df['No. clicks']\n"
   ]
  },
  {
   "cell_type": "code",
   "execution_count": 31,
   "id": "c032d483",
   "metadata": {
    "scrolled": true
   },
   "outputs": [
    {
     "name": "stdout",
     "output_type": "stream",
     "text": [
      "tscore, pval, dof\n",
      "(-0.16409092293682248, 0.8699527129702564, 113.0)\n",
      "(0.046493383555106176, 0.9629956019734648, 118.0)\n",
      "(0.13118419444524448, 0.8958714224255175, 109.0)\n",
      "(-0.9740469572622015, 0.33191441425351087, 125.0)\n"
     ]
    }
   ],
   "source": [
    "print('tscore, pval, dof')\n",
    "print(sm.stats.ttest_ind(con_se,hel_se))\n",
    "print(sm.stats.ttest_ind(con_se,le_se))\n",
    "print(sm.stats.ttest_ind(con_se,ser_se))\n",
    "print(sm.stats.ttest_ind(con_se,int_se))\n",
    "\n",
    "# comparing pvalue\n",
    "# con vs all\n",
    "# pval > alpha -> not reject H0\n",
    "# pval < alpha ->  reject H0"
   ]
  },
  {
   "cell_type": "code",
   "execution_count": 28,
   "id": "a0412de9",
   "metadata": {},
   "outputs": [
    {
     "name": "stdout",
     "output_type": "stream",
     "text": [
      "(0.16409092293682248, 0.8699527129702564, 113.0)\n",
      "(-0.8446068413681795, 0.3999570032479679, 124.0)\n",
      "(0.2867680701994167, 0.774839340838325, 108.0)\n",
      "(0.20690297241059266, 0.8364452901947725, 117.0)\n"
     ]
    }
   ],
   "source": [
    "# help vs all\n",
    "print(sm.stats.ttest_ind(hel_se,con_se))\n",
    "print(sm.stats.ttest_ind(hel_se,int_se))\n",
    "print(sm.stats.ttest_ind(hel_se,ser_se))\n",
    "print(sm.stats.ttest_ind(hel_se,le_se))\n",
    "\n"
   ]
  },
  {
   "cell_type": "code",
   "execution_count": 29,
   "id": "57fd2a27",
   "metadata": {},
   "outputs": [
    {
     "name": "stdout",
     "output_type": "stream",
     "text": [
      "(-0.13118419444524448, 0.8958714224255175, 109.0)\n",
      "(-1.0210986532335857, 0.30926185388653743, 120.0)\n",
      "(-0.2867680701994167, 0.774839340838325, 108.0)\n",
      "(-0.08143966744286986, 0.9352363760090467, 113.0)\n"
     ]
    }
   ],
   "source": [
    "# services vs all\n",
    "print(sm.stats.ttest_ind(ser_se,con_se))\n",
    "print(sm.stats.ttest_ind(ser_se,int_se))\n",
    "print(sm.stats.ttest_ind(ser_se,hel_se))\n",
    "print(sm.stats.ttest_ind(ser_se,le_se))\n",
    "\n"
   ]
  },
  {
   "cell_type": "code",
   "execution_count": 30,
   "id": "4a741494",
   "metadata": {},
   "outputs": [
    {
     "name": "stdout",
     "output_type": "stream",
     "text": [
      "(-0.046493383555106176, 0.9629956019734648, 118.0)\n",
      "(-1.0237360143562562, 0.30787591805945347, 129.0)\n",
      "(-0.20690297241059266, 0.8364452901947725, 117.0)\n",
      "(0.08143966744286986, 0.9352363760090467, 113.0)\n"
     ]
    }
   ],
   "source": [
    "# learn vs all\n",
    "print(sm.stats.ttest_ind(le_se,con_se))\n",
    "print(sm.stats.ttest_ind(le_se,int_se))\n",
    "print(sm.stats.ttest_ind(le_se,hel_se))\n",
    "print(sm.stats.ttest_ind(le_se,ser_se))"
   ]
  },
  {
   "cell_type": "code",
   "execution_count": 56,
   "id": "08c95d8e",
   "metadata": {},
   "outputs": [
    {
     "data": {
      "image/png": "[encoded data removed]",
      "text/plain": [
       "<Figure size 1200x600 with 1 Axes>"
      ]
     },
     "metadata": {},
     "output_type": "display_data"
    }
   ],
   "source": [
    "dof = 120\n",
    "# ztable lookup\n",
    "cv = 2.02\n",
    "t_score = 0.9629956019734648\n",
    "xt = np.linspace(-5,5,90)\n",
    "\n",
    "\n",
    "\n",
    "plt.figure(figsize=(12,6))\n",
    "# Plot a t-distribution with the degrees of freedom from our sample.\n",
    "plt.plot(xt, t.pdf(xt,dof), label=\"t-distribution\")\n",
    "# Add a vertical line for the t-score.\n",
    "plt.vlines(t_score, ymin=0, ymax=max(t.pdf(xt,dof)), color=\"red\", label=\"t-score\")\n",
    "# Shade the region in the tails that is more extreme than the +/-t-score (= p-value).\n",
    "plt.fill_between(xt, t.pdf(xt,dof), where=(-abs(t_score)>xt)|(xt>abs(t_score)), color= \"r\", label=\"p-value\")\n",
    "# Add vertical lines for the critical values.\n",
    "plt.vlines(-2.08, ymin=0, ymax=max(t.pdf(xt,dof)), color=\"blue\", label=\"critical values\")\n",
    "plt.vlines(2.08, ymin=0, ymax=max(t.pdf(xt,dof)), color=\"blue\")\n",
    "# Shade the area under the curve for values more extreme than +/-2.08 (= alpha).\n",
    "plt.fill_between(xt, t.pdf(xt,dof), where=(-2.08>xt)|(xt>2.08), color= \"b\", alpha=0.5, label=\"alpha / critical region\")\n",
    "plt.legend()\n",
    "plt.show()\n",
    "\n",
    "\n"
   ]
  },
  {
   "cell_type": "code",
   "execution_count": null,
   "id": "4c417475",
   "metadata": {},
   "outputs": [],
   "source": [
    "from scipy.stats import chi2_contingency\n",
    "import numpy as np"
   ]
  },
  {
   "cell_type": "code",
   "execution_count": null,
   "id": "fe3d8a01",
   "metadata": {},
   "outputs": [],
   "source": [
    "# contigency table for clicks, non-clicks, visits,\n",
    "# experimental vs control group\n",
    "# std_err, stdev, mean, median, "
   ]
  },
  {
   "cell_type": "code",
   "execution_count": 65,
   "id": "f742b0a4",
   "metadata": {},
   "outputs": [
    {
     "data": {
      "text/plain": [
       "[53, 38, 21, 45, 42]"
      ]
     },
     "execution_count": 65,
     "metadata": {},
     "output_type": "execute_result"
    }
   ],
   "source": [
    "# from clicks csv\n",
    "con_cl = connect_df[connect_df['Name']=='CONNECT']['No. clicks'].iloc[0]\n",
    "help_cl = help_df[help_df['Name']=='HELP']['No. clicks'].iloc[0]\n",
    "learn_cl = learn_df[learn_df['Name']=='LEARN']['No. clicks'].iloc[0]\n",
    "services_cl = services_df[services_df['Name']=='SERVICES']['No. clicks'].iloc[0]\n",
    "interact_cl = interact_df[interact_df['Name']=='INTERACT']['No. clicks'].iloc[0]\n",
    "click_ls = [con_cl,help_cl,learn_cl,services_cl,interact_cl]\n",
    "# ctrl_cl = np.mean(click_ls)\n",
    "# click_ls.append(ctrl_cl)\n",
    "click_ls"
   ]
  },
  {
   "cell_type": "code",
   "execution_count": 111,
   "id": "02b3f2f7",
   "metadata": {},
   "outputs": [
    {
     "data": {
      "text/html": [
       "<div>\n",
       "<style scoped>\n",
       "    .dataframe tbody tr th:only-of-type {\n",
       "        vertical-align: middle;\n",
       "    }\n",
       "\n",
       "    .dataframe tbody tr th {\n",
       "        vertical-align: top;\n",
       "    }\n",
       "\n",
       "    .dataframe thead th {\n",
       "        text-align: right;\n",
       "    }\n",
       "</style>\n",
       "<table border=\"1\" class=\"dataframe\">\n",
       "  <thead>\n",
       "    <tr style=\"text-align: right;\">\n",
       "      <th></th>\n",
       "      <th>A</th>\n",
       "      <th>B</th>\n",
       "      <th>C</th>\n",
       "      <th>D</th>\n",
       "      <th>E</th>\n",
       "    </tr>\n",
       "  </thead>\n",
       "  <tbody>\n",
       "    <tr>\n",
       "      <th>Button</th>\n",
       "      <td>Connect</td>\n",
       "      <td>Help</td>\n",
       "      <td>Learn</td>\n",
       "      <td>Services</td>\n",
       "      <td>Interact</td>\n",
       "    </tr>\n",
       "    <tr>\n",
       "      <th>Click</th>\n",
       "      <td>53</td>\n",
       "      <td>38</td>\n",
       "      <td>21</td>\n",
       "      <td>45</td>\n",
       "      <td>42</td>\n",
       "    </tr>\n",
       "    <tr>\n",
       "      <th>No-click</th>\n",
       "      <td>1534</td>\n",
       "      <td>1679</td>\n",
       "      <td>1631</td>\n",
       "      <td>1303</td>\n",
       "      <td>3672</td>\n",
       "    </tr>\n",
       "  </tbody>\n",
       "</table>\n",
       "</div>"
      ],
      "text/plain": [
       "                A     B      C         D         E\n",
       "Button    Connect  Help  Learn  Services  Interact\n",
       "Click          53    38     21        45        42\n",
       "No-click     1534  1679   1631      1303      3672"
      ]
     },
     "execution_count": 111,
     "metadata": {},
     "output_type": "execute_result"
    }
   ],
   "source": [
    "# experimental group\n",
    "con_nc = connect_df['No. clicks'].sum() - con_cl\n",
    "help_nc = help_df['No. clicks'].sum() - help_cl\n",
    "learn_nc = learn_df['No. clicks'].sum() - learn_cl\n",
    "serv_nc = services_df['No. clicks'].sum() - services_cl\n",
    "int_nc = interact_df['No. clicks'].sum() - interact_cl\n",
    "\n",
    "non_click_ls = [con_nc,help_nc,learn_nc,serv_nc,int_nc]\n",
    "name = ['Connect','Help','Learn','Services','Interact']\n",
    "cols = ['A','B','C','D','E']\n",
    "observed_contigency = pd.DataFrame([name,click_ls, non_click_ls],\n",
    "                           columns = cols,\n",
    "                           index = ['Button',\"Click\", \"No-click\"])\n",
    "\n",
    "observed_contigency"
   ]
  },
  {
   "cell_type": "code",
   "execution_count": 117,
   "id": "f6b80929",
   "metadata": {},
   "outputs": [
    {
     "data": {
      "text/html": [
       "<div>\n",
       "<style scoped>\n",
       "    .dataframe tbody tr th:only-of-type {\n",
       "        vertical-align: middle;\n",
       "    }\n",
       "\n",
       "    .dataframe tbody tr th {\n",
       "        vertical-align: top;\n",
       "    }\n",
       "\n",
       "    .dataframe thead th {\n",
       "        text-align: right;\n",
       "    }\n",
       "</style>\n",
       "<table border=\"1\" class=\"dataframe\">\n",
       "  <thead>\n",
       "    <tr style=\"text-align: right;\">\n",
       "      <th></th>\n",
       "      <th>A</th>\n",
       "      <th>B</th>\n",
       "      <th>C</th>\n",
       "      <th>D</th>\n",
       "      <th>E</th>\n",
       "      <th>Control</th>\n",
       "    </tr>\n",
       "  </thead>\n",
       "  <tbody>\n",
       "    <tr>\n",
       "      <th>Button</th>\n",
       "      <td>Connect</td>\n",
       "      <td>Help</td>\n",
       "      <td>Learn</td>\n",
       "      <td>Services</td>\n",
       "      <td>Interact</td>\n",
       "      <td>NaN</td>\n",
       "    </tr>\n",
       "    <tr>\n",
       "      <th>Click</th>\n",
       "      <td>53</td>\n",
       "      <td>38</td>\n",
       "      <td>21</td>\n",
       "      <td>45</td>\n",
       "      <td>42</td>\n",
       "      <td>20</td>\n",
       "    </tr>\n",
       "    <tr>\n",
       "      <th>No-click</th>\n",
       "      <td>1534</td>\n",
       "      <td>1679</td>\n",
       "      <td>1631</td>\n",
       "      <td>1303</td>\n",
       "      <td>3672</td>\n",
       "      <td>980</td>\n",
       "    </tr>\n",
       "  </tbody>\n",
       "</table>\n",
       "</div>"
      ],
      "text/plain": [
       "                A     B      C         D         E Control\n",
       "Button    Connect  Help  Learn  Services  Interact     NaN\n",
       "Click          53    38     21        45        42      20\n",
       "No-click     1534  1679   1631      1303      3672     980"
      ]
     },
     "execution_count": 117,
     "metadata": {},
     "output_type": "execute_result"
    }
   ],
   "source": [
    "# control group\n",
    "\n",
    "click_sum = observed_contigency.iloc[1,:].sum()\n",
    "noclick_sum = observed_contigency.iloc[2,:].sum()\n",
    "allclick_rate = click_sum / (click_sum+noclick_sum)\n",
    "# print(click_sum)\n",
    "# print(noclick_sum)\n",
    "# print(allclick_rate)\n",
    "ac = allclick_rate*1000\n",
    "act = 1000-(allclick_rate*1000)\n",
    "# print(ac)\n",
    "# print(act)\n",
    "observed_contigency['Control'] = pd.Series({'Name':'Control','Click':20,'No-click':980})\n",
    "\n",
    "pd.to_numeric(observed_contigency['Control'])\n",
    "observed_contigency"
   ]
  },
  {
   "cell_type": "code",
   "execution_count": 100,
   "id": "0d4d7bc1",
   "metadata": {},
   "outputs": [
    {
     "name": "stdout",
     "output_type": "stream",
     "text": [
      "46.309320568326676\n",
      "7.855963369112916e-09\n",
      "5\n",
      "[[  31.54410964   34.12806317   32.8360864    26.79361046   73.82156471\n",
      "    19.87656562]\n",
      " [1555.45589036 1682.87193683 1619.1639136  1321.20638954 3640.17843529\n",
      "   980.12343438]]\n"
     ]
    }
   ],
   "source": [
    "# experimental group\n",
    "chisq, pvalue, dof, expected = chi2_contingency(observed_contigency)\n",
    "print(chisq)\n",
    "print(pvalue)\n",
    "print(dof)\n",
    "print(expected)"
   ]
  },
  {
   "cell_type": "code",
   "execution_count": 68,
   "id": "e1136ad4",
   "metadata": {},
   "outputs": [],
   "source": [
    "from scipy.stats import norm\n"
   ]
  },
  {
   "cell_type": "code",
   "execution_count": 101,
   "id": "971ff8d2",
   "metadata": {},
   "outputs": [
    {
     "data": {
      "image/png": "[encoded data removed]",
      "text/plain": [
       "<Figure size 1200x600 with 1 Axes>"
      ]
     },
     "metadata": {},
     "output_type": "display_data"
    }
   ],
   "source": [
    "dof = 4\n",
    "# ztable lookup\n",
    "cv = 2.02\n",
    "t_score = pvalue\n",
    "xt = np.linspace(-5,5,90)\n",
    "\n",
    "# chi-distribution\n",
    "plt.figure(figsize=(12,6))\n",
    "# Plot a t-distribution with the degrees of freedom from our sample.\n",
    "plt.plot(xt, chi2.pdf(xt,dof), label=\"Chi-squared distribution\")\n",
    "# plt.vlines(-2.0, ymin=0, ymax=max(chi2.pdf(xt,dof)), color=\"blue\", label=\"critical values\")\n",
    "# plt.vlines(2.0, ymin=0, ymax=max(chi2.pdf(xt,dof)), color=\"blue\")\n",
    "# Shade the area under the curve for values more extreme than +/-2.08 (= alpha).\n",
    "plt.fill_between(xt, chi2.pdf(xt,dof), where=(xt>cv), color= \"b\", alpha=0.5, label=\"alpha / critical region\")\n",
    "\n",
    "# Add vertical line for the critical value.\n",
    "plt.vlines(cv, ymin=0, ymax=max(chi2.pdf(xt,dof)), color=\"blue\", label=\"critical value\")\n",
    "\n",
    "# Shade the area under the curve for values more extreme than 4.6 (= alpha).\n",
    "plt.fill_between(xt, chi2.pdf(xt,dof), where=(xt>cv), color= \"b\", label=\"alpha / critical region\")\n",
    "\n",
    "\n",
    "# Add a vertical line for the t-score.\n",
    "plt.vlines(t_score, ymin=0, ymax=max(chi2.pdf(xt,dof)), color=\"red\", label=\"t-score\")\n",
    "plt.legend()\n",
    "plt.show()"
   ]
  },
  {
   "cell_type": "code",
   "execution_count": null,
   "id": "9de2271b",
   "metadata": {},
   "outputs": [],
   "source": []
  },
  {
   "cell_type": "code",
   "execution_count": 66,
   "id": "89bf9320",
   "metadata": {},
   "outputs": [],
   "source": [
    "# Null Hypothesis: all versions have the same CTR.\n",
    "# Alternative Hypothesis: there is a difference in the CTR for the different variants of call to action.\n"
   ]
  },
  {
   "cell_type": "code",
   "execution_count": 39,
   "id": "0228398d",
   "metadata": {},
   "outputs": [],
   "source": [
    "# p < alpha : reject H0\n",
    "# p > alpha : not reject H0"
   ]
  },
  {
   "cell_type": "markdown",
   "id": "cde50c8e",
   "metadata": {},
   "source": [
    "### Since the p-value is smaller than the alpha, we reject the Null Hypothesis.\n",
    "* variant changes in CTR is related to button call to action (dependent)\n",
    "* Versions A and D performed better than control group"
   ]
  },
  {
   "cell_type": "code",
   "execution_count": null,
   "id": "adad5783",
   "metadata": {},
   "outputs": [],
   "source": []
  },
  {
   "cell_type": "code",
   "execution_count": null,
   "id": "aa6d9d10",
   "metadata": {},
   "outputs": [],
   "source": []
  },
  {
   "cell_type": "code",
   "execution_count": null,
   "id": "c76f4393",
   "metadata": {},
   "outputs": [],
   "source": [
    "# Would you include all suggested variants in the experiment (Connect, Learn, Help, Services)?\n",
    "# no because the suggestions are limited to linguistic/verbal differences.\n",
    "# these have minimal effect how people interpret them differently.\n",
    "# there are better ways to increase website engagement\n",
    "# such as chatbots, hero headers, animation, gamification, etc\n",
    "\n",
    "# What is the “business value” that performing this experiment would add within the broader strategy of the University?\n",
    "# Engagement means that the customer who spends more time attending to\n",
    "# the website the greater chances they are to spend money to continue this engagement.\n",
    "\n",
    "# Which main metric would you choose to measure the success of a variant and perform the experiment on?\n",
    "# click trhough rate\n",
    "# Which additional metrics would you choose to track?\n",
    "# user churn\n",
    "\n",
    "# How would you define the null and the alternative hypotheses?\n",
    "# H0 : CTR doesnt change among all variants\n",
    "# H1 : There is quantitative change among any variants\n",
    "\n",
    "# What threshold for statistical significance would you set?\n",
    "# 30% change in CTR per LMS\n",
    "\n",
    "\n",
    "# What is the minimum detectable effect (the smallest improvement you would care about) that you expect to detect?\n",
    "# 30% change in CTR per LMS\n",
    "\n",
    "\n",
    "\n",
    "\n",
    "# Do you think this experiment would require a software engineering team to develop a custom platform, or could it be developed with external tools such as Google Optimize?\n",
    "# Google optimize should be sufficient to determine the effectiveness of\n",
    "# a website button in terms of user engagement\n",
    "\n"
   ]
  },
  {
   "cell_type": "code",
   "execution_count": null,
   "id": "efecbf76",
   "metadata": {},
   "outputs": [],
   "source": []
  },
  {
   "cell_type": "code",
   "execution_count": null,
   "id": "436b3053",
   "metadata": {},
   "outputs": [],
   "source": []
  },
  {
   "cell_type": "code",
   "execution_count": null,
   "id": "1e4969a4",
   "metadata": {},
   "outputs": [],
   "source": []
  }
 ],
 "metadata": {
  "kernelspec": {
   "display_name": "Python 3 (ipykernel)",
   "language": "python",
   "name": "python3"
  },
  "language_info": {
   "codemirror_mode": {
    "name": "ipython",
    "version": 3
   },
   "file_extension": ".py",
   "mimetype": "text/x-python",
   "name": "python",
   "nbconvert_exporter": "python",
   "pygments_lexer": "ipython3",
   "version": "3.9.13"
  }
 },
 "nbformat": 4,
 "nbformat_minor": 5
}
