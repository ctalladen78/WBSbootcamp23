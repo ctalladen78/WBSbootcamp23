{
 "cells": [
  {
   "cell_type": "code",
   "execution_count": 4,
   "id": "31d74086-dcc2-45b2-8bc8-5cac1e0ab092",
   "metadata": {},
   "outputs": [
    {
     "name": "stdout",
     "output_type": "stream",
     "text": [
      "<class 'pandas.core.frame.DataFrame'>\n",
      "RangeIndex: 9742 entries, 0 to 9741\n",
      "Data columns (total 3 columns):\n",
      " #   Column   Non-Null Count  Dtype \n",
      "---  ------   --------------  ----- \n",
      " 0   movieId  9742 non-null   int64 \n",
      " 1   title    9742 non-null   object\n",
      " 2   genres   9742 non-null   object\n",
      "dtypes: int64(1), object(2)\n",
      "memory usage: 228.5+ KB\n"
     ]
    }
   ],
   "source": [
    "import pandas as pd\n",
    "import numpy as np\n",
    "import seaborn as sns\n",
    "import matplotlib.pyplot as plt\n",
    "\n",
    "movies = pd.read_csv('~/Documents/datacamp/WBS-School/wbsflix/wbsflix_movies.csv')\n",
    "links = pd.read_csv('~/Documents/datacamp/WBS-School/wbsflix/wbsflix_links.csv')\n",
    "ratings = pd.read_csv('~/Documents/datacamp/WBS-School/wbsflix/wbsflix_ratings.csv')\n",
    "tags = pd.read_csv('~/Documents/datacamp/WBS-School/wbsflix/wbsflix_tags.csv')\n",
    "\n",
    "\n",
    "movies.info()\n",
    "# movies.head(5)"
   ]
  },
  {
   "cell_type": "code",
   "execution_count": 5,
   "id": "aa5b8ab5-8179-4110-86e8-1947306981b2",
   "metadata": {},
   "outputs": [
    {
     "name": "stdout",
     "output_type": "stream",
     "text": [
      "[     0      1      2 ... 233210 233211 233212]\n"
     ]
    }
   ],
   "source": [
    "# combine all tables\n",
    "\n",
    "maindf = movies.merge(links,on='movieId').merge(ratings,on='movieId').merge(tags,on='movieId')\n",
    "maindf.reset_index()\n",
    "print(maindf.index.values)\n",
    "# maindf.info()\n",
    "# maindf.head(10)\n"
   ]
  },
  {
   "cell_type": "code",
   "execution_count": 6,
   "id": "a3dc00df-3607-4aec-9f75-0a884ef042bc",
   "metadata": {},
   "outputs": [],
   "source": [
    "# sns.pairplot(df)"
   ]
  },
  {
   "cell_type": "code",
   "execution_count": 6,
   "id": "daf8d97b-11bd-4958-9752-d6ef466ac4b6",
   "metadata": {},
   "outputs": [],
   "source": [
    "from sklearn.model_selection import train_test_split\n",
    "from sklearn.metrics.pairwise import cosine_similarity\n",
    "from sklearn.feature_extraction.text import CountVectorizer\n",
    "from scipy import sparse\n",
    "import sklearn.metrics.pairwise as pw\n"
   ]
  },
  {
   "cell_type": "code",
   "execution_count": 10,
   "id": "ac1135a9-b147-468c-a299-9a084ba13ec8",
   "metadata": {},
   "outputs": [
    {
     "name": "stdout",
     "output_type": "stream",
     "text": [
      "['Oklahoma! (1955)', 'Clear and Present Danger (1994)', 'Shine (1996)', 'Grease (1978)', 'Indiana Jones and the Last Crusade (1989)', 'Mystic River (2003)', 'Philadelphia Story, The (1940)', 'Arachnophobia (1990)', 'Wonderful, Horrible Life of Leni Riefenstahl, The (Macht der Bilder: Leni Riefenstahl, Die) (1993)', 'Network (1976)', '12 Angry Men (1957)', 'Mystery Science Theater 3000: The Movie (1996)', 'Birdman of Alcatraz (1962)', 'Modern Times (1936)', 'Mary Poppins (1964)', \"Mr. Holland's Opus (1995)\", \"Breakfast at Tiffany's (1961)\", 'Waiting for Guffman (1996)', 'Laputa: Castle in the Sky (Tenkû no shiro Rapyuta) (1986)', 'Guerrilla: The Taking of Patty Hearst (2004)', 'Ransom (1996)', 'Grifters, The (1990)', 'Throw Momma from the Train (1987)', 'Cowboy Bebop: The Movie (Cowboy Bebop: Tengoku no Tobira) (2001)', 'Platoon (1986)', 'Galaxy Quest (1999)', 'Fog of War: Eleven Lessons from the Life of Robert S. McNamara, The (2003)', 'Wedding Singer, The (1998)', 'Children of Heaven, The (Bacheha-Ye Aseman) (1997)', 'High and Low (Tengoku to jigoku) (1963)', 'American in Paris, An (1951)', 'French Connection, The (1971)', 'Scream (1996)', 'Strictly Ballroom (1992)', 'Prime of Miss Jean Brodie, The (1969)', 'Finding Forrester (2000)', 'Monster (2003)', \"Ferris Bueller's Day Off (1986)\", 'Nicholas Nickleby (2002)', 'Stripes (1981)', 'Chain Reaction (1996)', 'South Pacific (1958)', 'Wedding Banquet, The (Xi yan) (1993)', 'In the Name of the Father (1993)', 'Indochine (1992)', 'Hoop Dreams (1994)', 'Flawless (1999)', 'Yojimbo (1961)', '13 Going on 30 (2004)', 'Ice Storm, The (1997)', 'Infernal Affairs (Mou gaan dou) (2002)', 'Fahrenheit 9/11 (2004)', 'Benny & Joon (1993)', 'Grease 2 (1982)', 'Friday the 13th Part V: A New Beginning (1985)', 'Anastasia (1956)', \"Carlito's Way (1993)\", 'Hustler, The (1961)', 'Fisher King, The (1991)', 'Scream 2 (1997)', 'Amadeus (1984)', \"Kiki's Delivery Service (Majo no takkyûbin) (1989)\", 'Waco: The Rules of Engagement (1997)', '2001: A Space Odyssey (1968)', 'Ray (2004)', 'Catch Me If You Can (2002)', 'Passion of the Christ, The (2004)', 'Educating Rita (1983)', 'Inherit the Wind (1960)', 'Gone with the Wind (1939)', 'Copycat (1995)', 'Requiem for a Dream (2000)', 'Owning Mahowny (2003)', 'Official Story, The (La historia oficial) (1985)', 'Before Sunset (2004)', 'You Can Count on Me (2000)', 'Apocalypse Now (1979)', 'House of 1000 Corpses (2003)', 'When Harry Met Sally... (1989)', 'Maria Full of Grace (Maria, Llena eres de gracia) (2004)', 'Beauty and the Beast (1991)', 'The Importance of Being Earnest (1952)', 'Twins (1988)', 'Chinatown (1974)', 'Sydney (Hard Eight) (1996)', 'Babe (1995)', 'Leaving Las Vegas (1995)', 'Blood Simple (1984)', 'Fargo (1996)', 'WarGames (1983)', 'Paper, The (1994)', 'Star Wars: Episode I - The Phantom Menace (1999)', 'It Could Happen to You (1994)', 'Batman (1989)', 'Legal Eagles (1986)', 'Never Been Kissed (1999)', 'Addams Family Values (1993)', 'My Fair Lady (1964)', 'Random Harvest (1942)', 'Tootsie (1982)', 'Places in the Heart (1984)', 'Lost Horizon (1937)', 'Eternal Sunshine of the Spotless Mind (2004)', 'Desk Set (1957)', 'Mildred Pierce (1945)', 'Game, The (1997)', 'I Capture the Castle (2003)', 'Murder on a Sunday Morning (Un coupable idéal) (2001)', 'American Splendor (2003)', 'Picnic at Hanging Rock (1975)', 'Minority Report (2002)', 'Rocky (1976)', 'Invasion of the Body Snatchers (1956)', 'Sling Blade (1996)', 'Broadcast News (1987)', 'Europa Europa (Hitlerjunge Salomon) (1990)', 'Gattaca (1997)', 'Star Wars: Episode IV - A New Hope (1977)', \"Man Who Wasn't There, The (2001)\", 'Shattered Glass (2003)', 'Salo, or The 120 Days of Sodom (Salò o le 120 giornate di Sodoma) (1976)', 'Widow of St. Pierre, The (Veuve de Saint-Pierre, La) (2000)', 'Sleepy Hollow (1999)', 'Cat People (1942)', 'Mission, The (1986)', 'Saved! (2004)', 'Manhattan (1979)', 'Ox-Bow Incident, The (1943)', 'One Hour Photo (2002)', 'Father of the Bride (1991)', 'Siege, The (1998)', 'National Velvet (1944)', 'It Happened One Night (1934)', 'Jaws (1975)', 'Oliver Twist (1948)', 'Godfather, The (1972)', 'Men in Black (a.k.a. MIB) (1997)', 'Mrs. Doubtfire (1993)', 'Jurassic Park III (2001)', 'Raising Victor Vargas (2002)', 'Enigma (2001)', 'Tender Mercies (1983)', 'Stone Reader (2002)', 'Finding Neverland (2004)', 'American Movie (1999)', 'Wonder Boys (2000)', 'Frailty (2001)', \"Sophie's Choice (1982)\", 'Graduate, The (1967)', 'Mrs. Brown (a.k.a. Her Majesty, Mrs. Brown) (1997)', 'When a Man Loves a Woman (1994)', 'Christmas Story, A (1983)', 'American History X (1998)', 'Fistful of Dollars, A (Per un pugno di dollari) (1964)', 'Princess Bride, The (1987)', 'Notebook, The (2004)', 'Shrek (2001)', 'After the Thin Man (1936)', 'Terrorist, The (a.k.a. Malli) (Theeviravaathi) (1998)', 'Spellbound (2002)', 'Planet of the Apes (1968)', 'Haunting, The (1963)', 'Witness (1985)', 'Old School (2003)', 'Throne of Blood (Kumonosu jô) (1957)', 'Star Wars: Episode VI - Return of the Jedi (1983)', 'Risky Business (1983)', \"River's Edge (1986)\", 'House of Mirth, The (2000)', 'Kiss of the Spider Woman (1985)', 'Into the Woods (1991)', 'Lord of the Flies (1963)', 'Heathers (1989)', \"Mary Shelley's Frankenstein (Frankenstein) (1994)\", 'Fantasia (1940)', 'Renaissance Man (1994)', 'Dummy (2002)', \"What's Eating Gilbert Grape (1993)\", 'Madness of King George, The (1994)', 'Jetée, La (1962)', 'And the Band Played On (1993)', 'Air Force One (1997)', 'Gospel According to St. Matthew, The (Vangelo secondo Matteo, Il) (1964)', 'Richard III (1995)', 'Dark Victory (1939)', 'Shadow of a Doubt (1943)', 'Panic Room (2002)', 'Seven Year Itch, The (1955)', 'Patch Adams (1998)', 'Cape Fear (1962)', 'Coming to America (1988)', 'Iron Giant, The (1999)', 'Poltergeist II: The Other Side (1986)', 'Ran (1985)', 'Trading Places (1983)', 'Serendipity (2001)', 'Capturing the Friedmans (2003)', 'Once Bitten (1985)', 'Phone Booth (2002)', 'Sliver (1993)', 'Space Jam (1996)', 'Unvanquished, The (Aparajito) (1957)', 'Kids (1995)', 'Splash (1984)', 'Sixth Sense, The (1999)', 'Dead Man Walking (1995)', 'Victor/Victoria (1982)', 'Fugitive, The (1993)', 'Ringu (Ring) (1998)', 'Lady and the Tramp (1955)', 'Born Free (1966)', 'Boot, Das (Boat, The) (1981)', 'Christine (1983)', 'Oliver! (1968)', \"Harry Potter and the Sorcerer's Stone (a.k.a. Harry Potter and the Philosopher's Stone) (2001)\", '11\\'09\"01 - September 11 (2002)', 'Primer (2004)', 'Tale of Two Cities, A (1935)', 'You Only Live Once (1937)', 'Producers, The (1968)', 'Mean Girls (2004)', 'A.I. Artificial Intelligence (2001)', 'Heavenly Creatures (1994)', 'Lilya 4-Ever (Lilja 4-ever) (2002)', 'Letter to Three Wives, A (1949)', 'Three Faces of Eve, The (1957)', 'Black Narcissus (1947)', 'Blue Angel, The (Blaue Engel, Der) (1930)', 'Blue Car (2002)', 'Black Beauty (1994)', 'Following (1998)', 'Primary Colors (1998)', 'Dark City (1998)', 'Blue Sky (1994)', 'Omen, The (1976)', 'Kid, The (1921)', 'Real Women Have Curves (2002)', 'How to Steal a Million (1966)', 'Man in the Iron Mask, The (1998)', 'Sleuth (1972)', 'Wait Until Dark (1967)', 'Mississippi Masala (1991)', \"You've Got Mail (1998)\", \"Muriel's Wedding (1994)\", 'Rocky III (1982)', 'Very Brady Sequel, A (1996)', 'Au Hasard Balthazar (1966)', 'My Cousin Vinny (1992)', 'L.A. Confidential (1997)', 'Lady Vanishes, The (1938)', 'Chaplin (1992)', 'Lost Weekend, The (1945)', \"Coal Miner's Daughter (1980)\", 'Matchstick Men (2003)', 'Once Were Warriors (1994)', 'Signs (2002)', 'Day of the Jackal, The (1973)', 'House of Sand and Fog (2003)', \"What's Love Got to Do with It? (1993)\", 'Night of the Living Dead (1968)', 'Scarface (1983)', 'Heaven (2002)', 'Palm Beach Story, The (1942)', 'Face/Off (1997)', 'Weather Underground, The (2002)', 'Dick Tracy (1990)', 'Love Liza (2002)', 'Witness for the Prosecution (1957)', 'Macbeth (a.k.a. Tragedy of Macbeth, The) (1971)', 'Sense and Sensibility (1995)', 'Great Dictator, The (1940)', 'Reversal of Fortune (1990)', 'One, Two, Three (1961)', 'Ice Castles (1978)', 'Mask (1985)', 'Flying Down to Rio (1933)', 'Miracle Worker, The (1962)', 'Client, The (1994)', 'Meet John Doe (1941)', 'Pat and Mike (1952)', 'Don Juan DeMarco (1995)', '25th Hour (2002)', 'Shrek 2 (2004)', 'Forrest Gump (1994)', 'Little Foxes, The (1941)', 'Back to the Future (1985)', 'Twelve Monkeys (a.k.a. 12 Monkeys) (1995)', 'Tom Jones (1963)', 'Lord of the Rings: The Return of the King, The (2003)', '28 Days Later (2002)', 'Spider-Man 2 (2004)', 'Clockwork Orange, A (1971)', 'Kramer vs. Kramer (1979)', 'Seven (a.k.a. Se7en) (1995)', 'Decade Under the Influence, A (2003)', 'English Patient, The (1996)', 'Batman Returns (1992)', 'Young Frankenstein (1974)', 'Days of Wine and Roses (1962)', 'Lady Eve, The (1941)', 'Lost in Translation (2003)', \"That's Entertainment (1974)\", 'G.I. Jane (1997)', 'My Flesh and Blood (2003)', 'Cinderella (1950)', 'Billy Elliot (2000)', 'Big Top Pee-Wee (1988)', 'Double Indemnity (1944)', 'Blue Velvet (1986)', 'Arsenic and Old Lace (1944)', 'Harry Potter and the Prisoner of Azkaban (2004)', 'Gladiator (2000)', 'Big Night (1996)', 'Midnight in the Garden of Good and Evil (1997)', 'Toy Story (1995)', 'Silk Stockings (1957)', 'Yentl (1983)', 'Paper Clips (2004)', 'Jurassic Park (1993)', 'Little Voice (1998)', 'Natural, The (1984)', 'Pi (1998)', 'Day the Earth Stood Still, The (1951)', 'Lord of the Rings, The (1978)', 'While You Were Sleeping (1995)', 'Mystery Men (1999)', 'Monsoon Wedding (2001)', 'Dark Days (2000)', 'Millennium Actress (Sennen joyû) (2001)', \"Bridget Jones's Diary (2001)\", 'In Love and War (1996)', 'Giant (1956)', 'Glory (1989)', 'Ginger Snaps (2000)', 'Royal Tenenbaums, The (2001)', 'Irreversible (Irréversible) (2002)', 'Around the World in 80 Days (1956)', \"Babette's Feast (Babettes gæstebud) (1987)\", 'Circle of Friends (1995)', 'Unbreakable (2000)', 'Blade II (2002)', 'Black Orpheus (Orfeu Negro) (1959)', 'Breaking the Waves (1996)', 'War Room, The (1993)', 'Waterboy, The (1998)', 'Midnight Cowboy (1969)', 'Tarnation (2003)', 'Star Trek VI: The Undiscovered Country (1991)', 'Black Stallion, The (1979)', 'Lady from Shanghai, The (1947)', 'Cannonball Run, The (1981)', 'Nightmare Before Christmas, The (1993)', 'Lone Star (1996)', 'Saw (2004)', 'Clerks (1994)', 'Snow White and the Seven Dwarfs (1937)', 'Parent Trap, The (1961)', 'Silkwood (1983)', \"Himalaya (Himalaya - l'enfance d'un chef) (1999)\", 'Raising Arizona (1987)', 'Out of Africa (1985)', 'Angie (1994)', 'Begotten (1990)', 'Final Fantasy: The Spirits Within (2001)', 'Children of a Lesser God (1986)', 'My Neighbor Totoro (Tonari no Totoro) (1988)', 'Terminator, The (1984)', 'Halloween III: Season of the Witch (1982)', 'Lord of the Rings: The Fellowship of the Ring, The (2001)', 'Pretty Woman (1990)', 'UHF (1989)', 'Session 9 (2001)', 'Godfather: Part II, The (1974)', 'White Christmas (1954)', 'Lost World: Jurassic Park, The (1997)', \"Look Who's Talking (1989)\", 'Other Sister, The (1999)', 'It Takes Two (1995)', 'Dirty Dancing (1987)', 'In Cold Blood (1967)', 'Titus (1999)', 'Superman II (1980)', 'Evita (1996)', 'Follow the Fleet (1936)', 'Candidate, The (1972)', 'Honey, I Shrunk the Kids (1989)', 'Midnight Express (1978)', \"America's Sweethearts (2001)\", 'Father of the Bride (1950)', \"One Flew Over the Cuckoo's Nest (1975)\", 'Donnie Darko (2001)', 'Talented Mr. Ripley, The (1999)', 'Titanic (1997)', 'Bonnie and Clyde (1967)', 'Eyes Wide Shut (1999)', 'Up Close and Personal (1996)', 'Legally Blonde (2001)', 'Running on Empty (1988)', \"The Devil's Advocate (1997)\", 'Z (1969)', 'Grapes of Wrath, The (1940)', 'Punisher, The (2004)', 'Pygmalion (1938)', 'Invisible Man, The (1933)', 'Rashomon (Rashômon) (1950)', 'Dark Passage (1947)', 'Othello (1995)', 'Parenthood (1989)', 'State and Main (2000)', 'Lord of the Rings: The Two Towers, The (2002)', 'With a Friend Like Harry... (Harry, un ami qui vous veut du bien) (2000)', 'Paths of Glory (1957)', 'City Lights (1931)', 'Straight Story, The (1999)', 'Horse Feathers (1932)', 'Friday the 13th Part IV: The Final Chapter (1984)', 'Shall We Dance? (Shall We Dansu?) (1996)', 'Everest (1998)', 'Get Shorty (1995)', 'Say Anything... (1989)', 'Nosferatu (Nosferatu, eine Symphonie des Grauens) (1922)', 'More (1998)', 'Far from Heaven (2002)', 'Our Hospitality (1923)', 'Roger & Me (1989)', 'Grand Day Out with Wallace and Gromit, A (1989)', 'Funny Thing Happened on the Way to the Forum, A (1966)', 'Auntie Mame (1958)', 'JFK (1991)', 'Star Trek: Generations (1994)', 'Lifeboat (1944)', 'Gay Divorcee, The (1934)', 'Road to Perdition (2002)', 'Emma (1996)', 'Eye, The (Gin gwai) (Jian gui) (2002)', \"Once Upon a Time in the West (C'era una volta il West) (1968)\", 'Lara Croft Tomb Raider: The Cradle of Life (2003)', 'Léon: The Professional (a.k.a. The Professional) (Léon) (1994)', 'Red Dragon (2002)', 'Hunt for Red October, The (1990)', 'Sabrina (1995)', 'Zoolander (2001)', 'Brandon Teena Story, The (1998)', 'Raiders of the Lost Ark (Indiana Jones and the Raiders of the Lost Ark) (1981)', 'Pride of the Yankees, The (1942)', 'Unforgiven (1992)', 'Doors, The (1991)', 'Batman Forever (1995)', 'Big Sleep, The (1946)', 'Rain Man (1988)', 'Raging Bull (1980)', 'Washington Square (1997)', 'Jungle Book, The (1967)', 'Crumb (1994)', 'Friendly Persuasion (1956)', 'Untouchables, The (1987)', 'Women, The (1939)', 'eXistenZ (1999)', 'In the Mood For Love (Fa yeung nin wa) (2000)', 'So I Married an Axe Murderer (1993)', 'Elmer Gantry (1960)', 'Last Emperor, The (1987)', 'Airheads (1994)', 'Citizen Kane (1941)', 'They Drive by Night (1940)', 'Circus, The (1928)', 'Watch on the Rhine (1943)', 'X2: X-Men United (2003)', 'Stand by Me (1986)', 'Paper Moon (1973)', 'Persuasion (1995)', '8MM (1999)', 'Santa Clause, The (1994)', 'X-Men (2000)', 'Kolya (Kolja) (1996)', 'Two Family House (2000)', 'Come Back, Little Sheba (1952)', 'Wallace & Gromit: The Best of Aardman Animation (1996)', \"Monster's Ball (2001)\", 'Apartment, The (1960)', 'Monty Python Live at the Hollywood Bowl (1982)', \"Man on the Train (Homme du train, L') (2002)\", 'Red Shoes, The (1948)', 'Just Cause (1995)', 'My Life Without Me (2003)', 'Insider, The (1999)', 'My Favorite Year (1982)', 'Going Places (Valseuses, Les) (1974)', 'City of God (Cidade de Deus) (2002)', 'Ponette (1996)', 'Love Story (1970)', 'All About Eve (1950)', 'Stargate (1994)', 'Romper Stomper (1992)', 'Gentlemen Prefer Blondes (1953)', 'Crossfire (1947)', 'Seabiscuit (2003)', 'Americanization of Emily, The (1964)', 'Big (1988)', 'He Loves Me... He Loves Me Not (À la folie... pas du tout) (2002)', 'M. Butterfly (1993)', 'Dirty Pretty Things (2002)', 'Rear Window (1954)', 'Fast Times at Ridgemont High (1982)', 'Magdalene Sisters, The (2002)', 'Simply Irresistible (1999)', 'Jezebel (1938)', 'Private Benjamin (1980)', 'Night and Day (1946)', 'Talk of the Town, The (1942)', 'Grave of the Fireflies (Hotaru no haka) (1988)', 'Promises (2001)', 'North by Northwest (1959)', 'Cape Fear (1991)', 'Greed (1924)', 'Something Wicked This Way Comes (1983)', 'Broadway Danny Rose (1984)', 'How to Make an American Quilt (1995)', 'Night of the Shooting Stars (Notte di San Lorenzo, La) (1982)', 'Better Luck Tomorrow (2002)', 'Billy Madison (1995)', 'Courage Under Fire (1996)', 'Treasure of the Sierra Madre, The (1948)', 'Grumpier Old Men (1995)', 'Beautiful Mind, A (2001)', 'Luzhin Defence, The (2000)', 'Karate Kid, The (1984)', 'Simple Plan, A (1998)', 'Raise the Red Lantern (Da hong deng long gao gao gua) (1991)', 'Corrina, Corrina (1994)', 'Frankenstein (1931)', 'Jonah: A VeggieTales Movie (2002)', 'Home Alone 2: Lost in New York (1992)', '...And Justice for All (1979)', 'Scrooged (1988)', 'Full Metal Jacket (1987)', 'Exorcist, The (1973)', 'Vanishing, The (1993)', 'Mark of Zorro, The (1940)', 'Twister (1996)', 'End of the Affair, The (1999)', 'This Is Spinal Tap (1984)', 'Gia (1998)', 'Dancer in the Dark (2000)', 'Roman Holiday (1953)', '42 Up (1998)', 'Mission: Impossible (1996)', 'Kill Bill: Vol. 1 (2003)', 'My Family (1995)', 'Marat/Sade (1966)', 'Star Wars: Episode V - The Empire Strikes Back (1980)', 'Lawrence of Arabia (1962)', 'Spartacus (1960)', \"Long Night's Journey Into Day (2000)\", 'Basketball Diaries, The (1995)', 'Blade (1998)', 'Scream 3 (2000)', 'Battle Royale (Batoru rowaiaru) (2000)', 'Ed Wood (1994)', 'Mulholland Falls (1996)', 'Amen. (2002)', 'Crucible, The (1996)', 'Thirteen (2003)', 'Third Man, The (1949)', 'Touching the Void (2003)', 'Return to Me (2000)', 'Spider (2002)', \"Dude, Where's My Car? (2000)\", 'Almost Famous (2000)', 'Zulu (1964)', 'Letter, The (1940)', 'Wall Street (1987)', 'Manhunter (1986)', 'K-PAX (2001)', 'Roger Dodger (2002)', 'Godfather: Part III, The (1990)', 'Shop Around the Corner, The (1940)', 'Final Destination 2 (2003)', 'Kiss Me Goodbye (1982)', 'In America (2002)', 'Come and See (Idi i smotri) (1985)', 'African Queen, The (1951)', 'West Side Story (1961)', 'Barton Fink (1991)', 'Poltergeist III (1988)', 'Sliding Doors (1998)', 'Haunting, The (1999)', 'Anne Frank Remembered (1995)', 'Pianist, The (2002)', 'Tin Cup (1996)', 'Staying Alive (1983)', 'Punchline (1988)', 'My Stepmother Is an Alien (1988)', 'Believer, The (2001)', 'Stray Dog (Nora inu) (1949)', 'Wages of Fear, The (Salaire de la peur, Le) (1953)', 'Alive (1993)', 'Presumed Innocent (1990)', '39 Steps, The (1935)', 'Gallipoli (1981)', 'X-Files: Fight the Future, The (1998)', 'Three Colors: White (Trzy kolory: Bialy) (1994)', \"Walk, Don't Run (1966)\", 'Vertigo (1958)', 'The Count of Monte Cristo (2002)', 'Passion Fish (1992)', 'L.A. Story (1991)', 'Indiana Jones and the Temple of Doom (1984)', 'Howards End (1992)', 'Good bye, Lenin! (2003)', 'Chariots of Fire (1981)', 'Yankee Doodle Dandy (1942)', 'Children of the Damned (1963)', 'Control Room (2004)', 'Secret Garden, The (1993)', 'Incredibles, The (2004)', \"Pee-wee's Big Adventure (1985)\", 'Muppet Treasure Island (1996)', 'Prince of Egypt, The (1998)', 'Bad Seed, The (1956)', 'Fish Called Wanda, A (1988)', 'Trekkies (1997)', 'About a Boy (2002)', 'Halloween II (1981)', 'Enchanted April (1992)', 'Princess and the Warrior, The (Krieger und die Kaiserin, Der) (2000)', 'Mississippi Burning (1988)', 'Brief Encounter (1946)', 'Notorious (1946)', 'Virtuosity (1995)', 'Shape of Things, The (2003)', 'Deer Hunter, The (1978)', 'Dark Water (Honogurai mizu no soko kara) (2002)', 'Red Badge of Courage, The (1951)', 'Goodfellas (1990)', 'Imitation of Life (1959)', 'All the Real Girls (2003)', 'Nixon (1995)', 'And Then There Were None (1945)', 'Revenge of the Nerds (1984)', 'Gigantic (A Tale of Two Johns) (2002)', 'Ruthless People (1986)', 'School of Rock (2003)', 'Radio Days (1987)', 'My Demon Lover (1987)', 'Better Off Dead... (1985)', 'Mirror Has Two Faces, The (1996)', 'Pretty in Pink (1986)', 'Sands of Iwo Jima (1949)', 'Shakespeare in Love (1998)', 'Anne of the Thousand Days (1969)', 'Welcome to the Dollhouse (1995)', 'Series 7: The Contenders (2001)', 'Sneakers (1992)', 'Glass Menagerie, The (1987)', 'Michael Collins (1996)', 'Hulk (2003)', 'My Man Godfrey (1936)', 'Hudsucker Proxy, The (1994)', 'Wings of the Dove, The (1997)', 'Ghost and Mrs. Muir, The (1947)', 'Postman Always Rings Twice, The (1946)', 'Aristocats, The (1970)', 'Born Yesterday (1950)', \"Schindler's List (1993)\", 'Bend It Like Beckham (2002)', 'Bridge on the River Kwai, The (1957)', 'Cold Comfort Farm (1995)', 'Few Good Men, A (1992)', 'Impostors, The (1998)', 'Gandhi (1982)', 'Spellbound (1945)', 'Father of the Bride Part II (1995)', 'Primal Fear (1996)', 'Truth About Cats & Dogs, The (1996)', 'Caddyshack (1980)', 'Odd Couple, The (1968)', 'Hearts and Minds (1996)', 'Cinemania (2002)', 'Rocky V (1990)', 'Friday the 13th Part 2 (1981)', 'In the Bleak Midwinter (1995)', 'Gigi (1958)', 'Field of Dreams (1989)', 'Serpico (1973)', 'Daredevil (2003)', 'Shadow of the Thin Man (1941)', 'Hook (1991)', 'Passage to India, A (1984)', 'Karate Kid, Part III, The (1989)', \"Guess Who's Coming to Dinner (1967)\", 'Standing in the Shadows of Motown (2002)', 'Sister Act (1992)', 'Igby Goes Down (2002)', 'Great Escape, The (1963)', 'Donnie Brasco (1997)', 'That Thing You Do! (1996)', 'Memento (2000)', 'Mary Reilly (1996)', 'Steel Magnolias (1989)', 'Anchorman: The Legend of Ron Burgundy (2004)', 'Rabbit-Proof Fence (2002)', 'Big Daddy (1999)', 'Yearling, The (1946)', 'Danny Deckchair (2003)', 'Miss Congeniality (2000)', 'Foreign Correspondent (1940)', 'Garden State (2004)', 'Celebration, The (Festen) (1998)', 'Alfie (1966)', 'Net, The (1995)', 'Pink Panther, The (1963)', 'Cat on a Hot Tin Roof (1958)', 'Tupac: Resurrection (2003)', 'Night of the Hunter, The (1955)', 'Femme Nikita, La (Nikita) (1990)', 'Blair Witch Project, The (1999)', 'Song of the Thin Man (1947)', 'Eat Drink Man Woman (Yin shi nan nu) (1994)', 'Dream for an Insomniac (1996)', 'People vs. Larry Flynt, The (1996)', 'Gaslight (1944)', 'Triplets of Belleville, The (Les triplettes de Belleville) (2003)', 'Pieces of April (2003)', 'Sure Thing, The (1985)', 'Jumanji (1995)', 'Lion King, The (1994)', 'Ghostbusters II (1989)', 'Punch-Drunk Love (2002)', 'Pirates of the Caribbean: The Curse of the Black Pearl (2003)', 'Magnolia (1999)', 'Star Trek: First Contact (1996)', 'Spanish Prisoner, The (1997)', 'Night at the Roxbury, A (1998)', 'Very Bad Things (1998)', 'Black Robe (1991)', 'Sansho the Bailiff (Sanshô dayû) (1954)', 'Great Expectations (1998)', 'Usual Suspects, The (1995)', 'Taking of Pelham One Two Three, The (1974)', 'Anna Karenina (1997)', \"Miller's Crossing (1990)\", 'Blade Runner (1982)', 'Frida (2002)', 'Six Degrees of Separation (1993)', 'Adventures of Robin Hood, The (1938)', 'Animatrix, The (2003)', 'Akira (1988)', 'Seven Samurai (Shichinin no samurai) (1954)', 'Battle of Algiers, The (La battaglia di Algeri) (1966)', 'Grand Illusion (La grande illusion) (1937)', 'Wallace & Gromit: The Wrong Trousers (1993)', 'Hard-Boiled (Lat sau san taam) (1992)', 'Night at the Opera, A (1935)', 'Friday the 13th Part 3: 3D (1982)', 'Grosse Pointe Blank (1997)', \"Alice Doesn't Live Here Anymore (1974)\", 'Thin Man, The (1934)', 'Age of Innocence, The (1993)', 'Dogville (2003)', 'Lavender Hill Mob, The (1951)', 'Hilary and Jackie (1998)', 'Coming Home (1978)', 'Little Women (1994)', \"Diary of a Country Priest (Journal d'un curé de campagne) (1951)\", 'Purple Rose of Cairo, The (1985)', 'Score, The (2001)', 'Fiddler on the Roof (1971)', 'Rocky IV (1985)', 'Cool Hand Luke (1967)', 'Shenandoah (1965)', 'Grey Zone, The (2001)', 'Me Myself I (2000)', 'Music Box (1989)', 'Cutting Edge, The (1992)', 'Crocodile Dundee (1986)', \"St. Elmo's Fire (1985)\", 'Dr. Strangelove or: How I Learned to Stop Worrying and Love the Bomb (1964)', 'Thin Man Goes Home, The (1945)', 'Tokyo Godfathers (2003)', 'Strada, La (1954)', 'Hiroshima Mon Amour (1959)', 'Death Becomes Her (1992)', 'Sting, The (1973)', 'Man Without a Past, The (Mies vailla menneisyyttä) (2002)', 'Toy Story 2 (1999)', 'Captain Blood (1935)', 'Umbrellas of Cherbourg, The (Parapluies de Cherbourg, Les) (1964)', 'Far and Away (1992)', 'Casino (1995)', 'Postman, The (1997)', 'Bottle Rocket (1996)', 'Last Days of Disco, The (1998)', 'Next Stop Wonderland (1998)', \"Ocean's Eleven (2001)\", 'The Machinist (2004)', \"It's a Wonderful Life (1946)\", 'Guys and Dolls (1955)', 'Insomnia (2002)', 'Man on the Moon (1999)', 'Sound of Music, The (1965)', 'Name of the Rose, The (Name der Rose, Der) (1986)', 'Last of the Mohicans, The (1992)', '84 Charing Cross Road (1987)', 'Being There (1979)', 'House of Flying Daggers (Shi mian mai fu) (2004)', 'Nell (1994)', 'Airplane! (1980)', 'Dolores Claiborne (1995)', 'Fight Club (1999)', 'Bruce Almighty (2003)', 'Short Cuts (1993)', 'Jerry Maguire (1996)', 'Independence Day (a.k.a. ID4) (1996)', \"Singin' in the Rain (1952)\", 'Porco Rosso (Crimson Pig) (Kurenai no buta) (1992)', 'Searching for Bobby Fischer (1993)', 'Thing from Another World, The (1951)', 'Conversation, The (1974)', 'Congo (1995)', 'Winged Migration (Peuple migrateur, Le) (2001)', 'Bill Cosby, Himself (1983)', \"Devil's Backbone, The (Espinazo del diablo, El) (2001)\", 'Some Like It Hot (1959)', \"Bill & Ted's Bogus Journey (1991)\", 'Elephant Man, The (1980)', 'Speed (1994)', \"Monty Python's Life of Brian (1979)\", 'Breaker Morant (1980)', 'Outsiders, The (1983)', 'Shining, The (1980)', 'To Die For (1995)', 'Rainmaker, The (1997)', 'Restoration (1995)', 'Terminator 2: Judgment Day (1991)', 'Time to Kill, A (1996)', 'Pelican Brief, The (1993)', 'Luther (2003)', 'Hunchback of Notre Dame, The (1939)', 'Woman of the Year (1942)', 'My Blue Heaven (1990)', \"William Shakespeare's Romeo + Juliet (1996)\", 'Dead Zone, The (1983)', 'Out of the Past (1947)', 'Apollo 13 (1995)', 'Place in the Sun, A (1951)', 'First Wives Club, The (1996)', 'SpaceCamp (1986)', 'Elephant (2003)', 'M (1931)', 'Harry Potter and the Chamber of Secrets (2002)', 'Oh, God! Book II (1980)', 'Return of the Secaucus 7 (1980)', 'Salaam Bombay! (1988)', 'Quiz Show (1994)', 'Killing Fields, The (1984)', 'Back to the Future Part II (1989)', 'Turner & Hooch (1989)', 'Matrix, The (1999)', 'Hamlet (1990)', 'Room with a View, A (1986)', 'Ninotchka (1939)', 'Fahrenheit 451 (1966)', 'Divorcee, The (1930)', 'O Brother, Where Art Thou? (2000)', 'Driving Miss Daisy (1989)', 'Bad News Bears, The (1976)', \"Bill & Ted's Excellent Adventure (1989)\", 'Fox and the Hound, The (1981)', 'When We Were Kings (1996)', 'Three Musketeers, The (1993)', 'Rosencrantz and Guildenstern Are Dead (1990)', 'Accused, The (1988)', 'Rebecca (1940)', 'Annie Hall (1977)', \"Man Bites Dog (C'est arrivé près de chez vous) (1992)\", 'Commitments, The (1991)', 'Murder on the Orient Express (1974)', 'Shanghai Knights (2003)', 'Possession (2002)', 'To Live (Huozhe) (1994)', 'Lady Jane (1986)', 'Taming of the Shrew, The (1967)', 'In a Lonely Place (1950)', 'Negotiator, The (1998)', 'Year of Living Dangerously, The (1982)', \"White Men Can't Jump (1992)\", 'Spring, Summer, Fall, Winter... and Spring (Bom yeoreum gaeul gyeoul geurigo bom) (2003)', 'Predator (1987)', 'Adventures of Priscilla, Queen of the Desert, The (1994)', 'Big Kahuna, The (2000)', 'Great Santini, The (1979)', 'Missing (1982)', '101 Dalmatians (One Hundred and One Dalmatians) (1961)', 'Stage Fright (1950)', 'Monty Python and the Holy Grail (1975)', 'Confessions of a Dangerous Mind (2002)', 'Spider-Man (2002)', 'Home Alone (1990)', 'His Girl Friday (1940)', 'Love Bug, The (1969)', 'Deliverance (1972)', 'Major League (1989)', 'Four Weddings and a Funeral (1994)', 'Paradise Lost: The Child Murders at Robin Hood Hills (1996)', 'Divided We Fall (Musíme si pomáhat) (2000)', 'Hope and Glory (1987)', 'Dear Frankie (2004)', 'Andalusian Dog, An (Chien andalou, Un) (1929)', 'High Noon (1952)', 'Rebel Without a Cause (1955)', 'Nowhere in Africa (Nirgendwo in Afrika) (2001)', 'Wit (2001)', 'Stand and Deliver (1988)', 'Faust (1926)', \"I'm Not Scared (Io non ho paura) (2003)\", 'Fatal Attraction (1987)', 'Eraserhead (1977)', 'Much Ado About Nothing (1993)', 'Shot in the Dark, A (1964)', '400 Blows, The (Les quatre cents coups) (1959)', 'Braveheart (1995)', 'Requiem for a Heavyweight (1962)', 'Red River (1948)', 'Sweet Charity (1969)', 'Rudy (1993)', 'Central Station (Central do Brasil) (1998)', 'Necessary Roughness (1991)', 'Village of the Damned (1960)', 'Hero (Ying xiong) (2002)', 'Gross Anatomy (a.k.a. A Cut Above) (1989)', 'Moonstruck (1987)', 'Defiant Ones, The (1958)', 'American President, The (1995)', 'Ghost (1990)', 'Zelig (1983)', \"They Shoot Horses, Don't They? (1969)\", 'Last Days, The (1998)', 'Evolution (2001)', 'My Life (1993)', 'In the Line of Fire (1993)', 'Sleeping with the Enemy (1991)', 'Elf (2003)', 'Silence of the Lambs, The (1991)', 'Time Bandits (1981)', \"Amelie (Fabuleux destin d'Amélie Poulain, Le) (2001)\", 'Down and Out in Beverly Hills (1986)', 'Who Framed Roger Rabbit? (1988)', 'Personal Velocity (2002)', \"Buffalo '66 (a.k.a. Buffalo 66) (1998)\", 'Right Stuff, The (1983)', 'Shame (Skammen) (1968)', 'Animal House (1978)', 'Star Trek: Insurrection (1998)', 'Buena Vista Social Club (1999)', 'Johnny Belinda (1948)', 'Parent Trap, The (1998)', 'Girl, Interrupted (1999)', 'Children of the Corn (1984)', 'Cujo (1983)', 'Crimson Tide (1995)', 'In the Heat of the Night (1967)', 'Green Mile, The (1999)', 'Chamber, The (1996)', \"Gentleman's Agreement (1947)\", 'Evil Dead, The (1981)', \"My Best Friend's Wedding (1997)\", 'Good, the Bad and the Ugly, The (Buono, il brutto, il cattivo, Il) (1966)', 'Freaks (1932)', 'Edward Scissorhands (1990)', 'Misery (1990)', 'Arrival, The (1996)', 'Being Julia (2004)', 'World of Apu, The (Apur Sansar) (1959)', 'Legally Blonde 2: Red, White & Blonde (2003)', 'Spirited Away (Sen to Chihiro no kamikakushi) (2001)', 'Whale Rider (2002)', 'Chicago (2002)', 'Ordet (Word, The) (1955)', 'Married to the Mob (1988)', 'Princess Mononoke (Mononoke-hime) (1997)', 'Sideways (2004)', 'Dangerous Liaisons (1988)', 'Roberta (1935)', \"Cat's Eye (1985)\", 'Wallace & Gromit: A Close Shave (1995)', 'Birds, The (1963)', 'Maltese Falcon, The (1941)', 'Down with Love (2003)', 'Little Man Tate (1991)', 'Soapdish (1991)', 'Murder in the First (1995)', 'Patch of Blue, A (1965)', 'Office Space (1999)', 'Dead Poets Society (1989)', 'Cold Mountain (2003)', 'Quiet American, The (2002)', 'Psycho (1960)', 'Cry, the Beloved Country (1995)', 'Life Is Beautiful (La Vita è bella) (1997)', 'Erin Brockovich (2000)', \"Astronaut's Wife, The (1999)\", 'Ghost World (2001)', \"Passion of Joan of Arc, The (Passion de Jeanne d'Arc, La) (1928)\", 'Little Princess, A (1995)', 'Italian Job, The (2003)', 'Enemy at the Gates (2001)', 'Philadelphia (1993)', 'Stage Door (1937)', 'Hunting of the President, The (2004)', 'Tetsuo, the Ironman (Tetsuo) (1988)', 'Avalon (1990)', 'Twelfth Night (1996)', 'Big Business (1988)', 'Beyond Silence (Jenseits der Stille) (1996)', 'On the Waterfront (1954)', 'Dumbo (1941)', 'Shadowlands (1993)', 'Mighty Aphrodite (1995)', 'Armageddon (1998)', 'Sunset Blvd. (a.k.a. Sunset Boulevard) (1950)', 'Jungle2Jungle (a.k.a. Jungle 2 Jungle) (1997)', 'On Golden Pond (1981)', 'Happy Gilmore (1996)', \"Preacher's Wife, The (1996)\", 'Lust for Life (1956)', 'The Spiral Staircase (1945)', 'Sabrina (1954)', 'Truman Show, The (1998)', 'Sweet Hereafter, The (1997)', 'Purple Rain (1984)', 'Secret of NIMH, The (1982)', 'Meet Me in St. Louis (1944)', 'Taxi Driver (1976)', \"Losin' It (1983)\", 'Now, Voyager (1942)', 'Caine Mutiny, The (1954)', 'Jaws 3-D (1983)', 'Midnight Clear, A (1992)', 'Woman Under the Influence, A (1974)', 'Kid Stays in the Picture, The (2002)', 'Rose Red (2002)', 'The Butterfly Effect (2004)', 'Remains of the Day, The (1993)', 'Return of the Pink Panther, The (1975)', 'Shawshank Redemption, The (1994)', 'Bringing Up Baby (1938)', \"All the King's Men (1949)\", 'Liar Liar (1997)', 'Pierrot le fou (1965)', 'Sinbad: Legend of the Seven Seas (2003)', 'Pumpkin (2002)', 'Ikiru (1952)', 'Miracle on 34th Street (1994)', 'Eyes of Tammy Faye, The (2000)', '21 Grams (2003)', 'Station Agent, The (2003)', 'Ghosts of the Abyss (2003)', 'Star Trek IV: The Voyage Home (1986)', 'Mighty Wind, A (2003)', 'E.T. the Extra-Terrestrial (1982)', 'Bowling for Columbine (2002)', 'Alien (1979)', 'Make Way for Tomorrow (1937)', 'Finding Nemo (2003)', 'Billabong Odyssey (2003)', 'Star Trek II: The Wrath of Khan (1982)', 'Do the Right Thing (1989)', 'Cyrano de Bergerac (1990)', 'Super Size Me (2004)', 'World of Henry Orient, The (1964)', 'Awful Truth, The (1937)', 'Red Beard (Akahige) (1965)', 'Houseguest (1994)', 'Vera Drake (2004)', 'Lagaan: Once Upon a Time in India (2001)', 'Anatomy of a Murder (1959)', 'Bob Roberts (1992)', 'Suspicion (1941)', 'Hello Again (1987)', 'Dangerous Minds (1995)', 'Hello, Dolly! (1969)', 'Run Lola Run (Lola rennt) (1998)', 'Kill Bill: Vol. 2 (2004)', 'High Fidelity (2000)', 'King and I, The (1956)', 'Firm, The (1993)', 'Northfork (2003)', 'Rome, Open City (a.k.a. Open City) (Roma, città aperta) (1945)', 'Hoosiers (a.k.a. Best Shot) (1986)', 'Kind Hearts and Coronets (1949)', 'Saving Private Ryan (1998)', 'Forbidden Planet (1956)', 'Secret Lives of Dentists, The (2002)', \"There's Something About Mary (1998)\", 'What Ever Happened to Baby Jane? (1962)', 'Jack and Sarah (1995)', 'Good Earth, The (1937)', 'Aliens (1986)', 'Ghostbusters (a.k.a. Ghost Busters) (1984)', 'Henry V (1989)', 'Talk to Her (Hable con Ella) (2002)', \"Caveman's Valentine, The (2001)\", 'Neon Genesis Evangelion: The End of Evangelion (Shin seiki Evangelion Gekijô-ban: Air/Magokoro wo, kimi ni) (1997)', 'Alice Adams (1935)', 'Song of the Little Road (Pather Panchali) (1955)', 'Lovely & Amazing (2001)', \"Hard Day's Night, A (1964)\", 'Men in Black II (a.k.a. MIIB) (a.k.a. MIB 2) (2002)', 'Crocodile Dundee II (1988)', 'Country Girl, The (1954)', 'Dresser, The (1983)', 'Whole Wide World, The (1996)', 'Karate Kid, Part II, The (1986)', 'Napoleon Dynamite (2004)', 'Blues Brothers, The (1980)', 'Dances with Wolves (1990)', 'Mr. Smith Goes to Washington (1939)', 'Hamlet (1996)', 'Dave (1993)', \"Monty Python's The Meaning of Life (1983)\", 'Dogma (1999)', 'Jane Eyre (1970)', 'Another Thin Man (1939)', 'Man Who Would Be King, The (1975)', 'Mask of Zorro, The (1998)', 'Alice in Wonderland (1951)', \"Cookie's Fortune (1999)\", 'Excalibur (1981)', 'Sphere (1998)', 'True Lies (1994)', 'Beat the Devil (1953)', \"Christmas Vacation (National Lampoon's Christmas Vacation) (1989)\", 'Good Girl, The (2002)', 'Swing Time (1936)', 'Reservoir Dogs (1992)', 'Penny Serenade (1941)', 'Last Picture Show, The (1971)', \"Bishop's Wife, The (1947)\", 'Butch Cassidy and the Sundance Kid (1969)', 'Sanjuro (Tsubaki Sanjûrô) (1962)', 'Fury (1936)', 'Sword in the Stone, The (1963)', 'Hannah and Her Sisters (1986)', 'Seven Brides for Seven Brothers (1954)', 'Killing, The (1956)', 'Long, Hot Summer, The (1958)', \"Adam's Rib (1949)\", 'Creature Comforts (1989)', \"Romy and Michele's High School Reunion (1997)\", 'Brassed Off (1996)', 'Superman III (1983)', 'Prince of Tides, The (1991)', 'Gold Rush, The (1925)', 'Elizabeth (1998)', 'Casablanca (1942)', 'College (1927)', 'Charade (1963)', 'Holes (2003)', 'Green Card (1990)', 'Babylon 5: In the Beginning (1998)', 'Immortal Beloved (1994)', 'Pushing Tin (1999)', 'Boomerang (1992)', 'Harold and Maude (1971)', 'Truly, Madly, Deeply (1991)', 'Before Sunrise (1995)', 'Norma Rae (1979)', \"You'll Never Get Rich (1941)\", 'Bad and the Beautiful, The (1952)', 'Jesus of Montreal (Jésus de Montréal) (1989)', 'Radioland Murders (1994)', 'Virgin Suicides, The (1999)', 'Splendor in the Grass (1961)', 'Meet the Parents (2000)', 'Mighty, The (1998)', '10 Things I Hate About You (1999)', 'Pinocchio (1940)', 'Top Hat (1935)', 'Clueless (1995)', 'Volunteers (1985)', 'Dogfight (1991)', 'Secondhand Lions (2003)', 'Out of Sight (1998)', 'Traffic (2000)', 'City of Lost Children, The (Cité des enfants perdus, La) (1995)', 'Greatest Story Ever Told, The (1965)', 'Friday the 13th Part VI: Jason Lives (1986)', 'Oscar and Lucinda (a.k.a. Oscar & Lucinda) (1997)', 'Duel (1971)', 'Addams Family, The (1991)', 'Maltese Falcon, The (a.k.a. Dangerous Female) (1931)', 'Wizard of Oz, The (1939)', 'Pulp Fiction (1994)', 'Double Life, A (1947)', 'Watership Down (1978)', 'Pillow Talk (1959)', 'Poltergeist (1982)', 'Secrets & Lies (1996)', \"Pete's Dragon (1977)\", 'Superman (1978)', 'Patton (1970)', 'Blazing Saddles (1974)', 'Bad Day at Black Rock (1955)', 'Aladdin (1992)', 'Trainspotting (1996)', \"All the President's Men (1976)\", 'Big Lebowski, The (1998)', 'Shall We Dance (1937)', 'Cry in the Dark, A (1988)', 'Village, The (2004)', 'Camelot (1967)', 'Gilda (1946)', 'How the Grinch Stole Christmas (a.k.a. The Grinch) (2000)', 'Seventh Seal, The (Sjunde inseglet, Det) (1957)', 'Vanishing, The (Spoorloos) (1988)', 'League of Extraordinary Gentlemen, The (a.k.a. LXG) (2003)', 'Keeping the Faith (2000)', 'Carrie (1976)', 'Three Colors: Blue (Trois couleurs: Bleu) (1993)', 'Crossing Delancey (1988)', 'Forget Paris (1995)', 'Bachelor and the Bobby-Soxer, The (1947)', 'Safety Last! (1923)', 'Rock, The (1996)', 'Streetcar Named Desire, A (1951)', 'Stevie (2002)', 'My Left Foot (1989)', 'I.Q. (1994)', 'Strangers on a Train (1951)', 'Limelight (1952)', 'Best in Show (2000)', 'Regarding Henry (1991)', '101 Dalmatians (1996)', 'Mutiny on the Bounty (1935)', 'Good Will Hunting (1997)', 'Dead Again (1991)', 'Hurricane, The (1999)', 'Big Fish (2003)', 'Manchurian Candidate, The (1962)', 'Shaun of the Dead (2004)', 'Last Temptation of Christ, The (1988)', 'Meatballs (1979)', 'Spy Kids (2001)', 'Top Gun (1986)', 'Postman, The (Postino, Il) (1994)', \"Love Me If You Dare (Jeux d'enfants) (2003)\", 'Farewell to Arms, A (1932)', 'To Kill a Mockingbird (1962)', 'Sleepless in Seattle (1993)', \"Devil's Playground (2002)\", 'War of the Worlds, The (1953)', 'Thin Blue Line, The (1988)', 'Fly Away Home (1996)', 'Natural Born Killers (1994)', 'South Park: Bigger, Longer and Uncut (1999)', \"Rosemary's Baby (1968)\", 'Crouching Tiger, Hidden Dragon (Wo hu cang long) (2000)', 'Supergirl (1984)', 'Short Circuit (1986)', 'American Pie (1999)', 'I Was a Male War Bride (1949)', 'Identity (2003)', 'Butterflies Are Free (1972)', 'May (2002)', 'Nights of Cabiria (Notti di Cabiria, Le) (1957)', \"Bug's Life, A (1998)\"]\n"
     ]
    }
   ],
   "source": [
    "# get titles\n",
    "titles_ls = maindf['title'].values\n",
    "titles_ls = titles_ls[:200000]\n",
    "titles_ls = list(set(titles_ls))\n",
    "print(titles_ls)"
   ]
  },
  {
   "cell_type": "code",
   "execution_count": 16,
   "id": "3d86d461-fd1f-4ee2-8385-7316a5248808",
   "metadata": {},
   "outputs": [
    {
     "name": "stdout",
     "output_type": "stream",
     "text": [
      "<class 'pandas.core.frame.DataFrame'>\n",
      "Int64Index: 1267 entries, 0 to 199892\n",
      "Data columns (total 11 columns):\n",
      " #   Column       Non-Null Count  Dtype  \n",
      "---  ------       --------------  -----  \n",
      " 0   movieId      1267 non-null   int64  \n",
      " 1   title        1267 non-null   object \n",
      " 2   genres       1267 non-null   object \n",
      " 3   imdbId       1267 non-null   int64  \n",
      " 4   tmdbId       1267 non-null   float64\n",
      " 5   userId_x     1267 non-null   int64  \n",
      " 6   rating       1267 non-null   float64\n",
      " 7   timestamp_x  1267 non-null   int64  \n",
      " 8   userId_y     1267 non-null   int64  \n",
      " 9   tag          1267 non-null   object \n",
      " 10  timestamp_y  1267 non-null   int64  \n",
      "dtypes: float64(2), int64(6), object(3)\n",
      "memory usage: 118.8+ KB\n"
     ]
    },
    {
     "name": "stderr",
     "output_type": "stream",
     "text": [
      "/var/folders/qk/tw9hw7y536n3q312492k3k3m0000gn/T/ipykernel_44439/2036929244.py:3: SettingWithCopyWarning: \n",
      "A value is trying to be set on a copy of a slice from a DataFrame\n",
      "\n",
      "See the caveats in the documentation: https://pandas.pydata.org/pandas-docs/stable/user_guide/indexing.html#returning-a-view-versus-a-copy\n",
      "  sample_df.drop_duplicates(subset=['title'],inplace=True)\n"
     ]
    },
    {
     "data": {
      "text/html": [
       "<div>\n",
       "<style scoped>\n",
       "    .dataframe tbody tr th:only-of-type {\n",
       "        vertical-align: middle;\n",
       "    }\n",
       "\n",
       "    .dataframe tbody tr th {\n",
       "        vertical-align: top;\n",
       "    }\n",
       "\n",
       "    .dataframe thead th {\n",
       "        text-align: right;\n",
       "    }\n",
       "</style>\n",
       "<table border=\"1\" class=\"dataframe\">\n",
       "  <thead>\n",
       "    <tr style=\"text-align: right;\">\n",
       "      <th></th>\n",
       "      <th>movieId</th>\n",
       "      <th>title</th>\n",
       "      <th>genres</th>\n",
       "      <th>imdbId</th>\n",
       "      <th>tmdbId</th>\n",
       "      <th>userId_x</th>\n",
       "      <th>rating</th>\n",
       "      <th>timestamp_x</th>\n",
       "      <th>userId_y</th>\n",
       "      <th>tag</th>\n",
       "      <th>timestamp_y</th>\n",
       "    </tr>\n",
       "  </thead>\n",
       "  <tbody>\n",
       "    <tr>\n",
       "      <th>0</th>\n",
       "      <td>1</td>\n",
       "      <td>Toy Story (1995)</td>\n",
       "      <td>Adventure|Animation|Children|Comedy|Fantasy</td>\n",
       "      <td>114709</td>\n",
       "      <td>862.0</td>\n",
       "      <td>1</td>\n",
       "      <td>4.0</td>\n",
       "      <td>964982703</td>\n",
       "      <td>336</td>\n",
       "      <td>pixar</td>\n",
       "      <td>1139045764</td>\n",
       "    </tr>\n",
       "    <tr>\n",
       "      <th>645</th>\n",
       "      <td>2</td>\n",
       "      <td>Jumanji (1995)</td>\n",
       "      <td>Adventure|Children|Fantasy</td>\n",
       "      <td>113497</td>\n",
       "      <td>8844.0</td>\n",
       "      <td>6</td>\n",
       "      <td>4.0</td>\n",
       "      <td>845553522</td>\n",
       "      <td>62</td>\n",
       "      <td>fantasy</td>\n",
       "      <td>1528843929</td>\n",
       "    </tr>\n",
       "    <tr>\n",
       "      <th>1085</th>\n",
       "      <td>3</td>\n",
       "      <td>Grumpier Old Men (1995)</td>\n",
       "      <td>Comedy|Romance</td>\n",
       "      <td>113228</td>\n",
       "      <td>15602.0</td>\n",
       "      <td>1</td>\n",
       "      <td>4.0</td>\n",
       "      <td>964981247</td>\n",
       "      <td>289</td>\n",
       "      <td>moldy</td>\n",
       "      <td>1143424860</td>\n",
       "    </tr>\n",
       "  </tbody>\n",
       "</table>\n",
       "</div>"
      ],
      "text/plain": [
       "      movieId                    title  \\\n",
       "0           1         Toy Story (1995)   \n",
       "645         2           Jumanji (1995)   \n",
       "1085        3  Grumpier Old Men (1995)   \n",
       "\n",
       "                                           genres  imdbId   tmdbId  userId_x  \\\n",
       "0     Adventure|Animation|Children|Comedy|Fantasy  114709    862.0         1   \n",
       "645                    Adventure|Children|Fantasy  113497   8844.0         6   \n",
       "1085                               Comedy|Romance  113228  15602.0         1   \n",
       "\n",
       "      rating  timestamp_x  userId_y      tag  timestamp_y  \n",
       "0        4.0    964982703       336    pixar   1139045764  \n",
       "645      4.0    845553522        62  fantasy   1528843929  \n",
       "1085     4.0    964981247       289    moldy   1143424860  "
      ]
     },
     "execution_count": 16,
     "metadata": {},
     "output_type": "execute_result"
    }
   ],
   "source": [
    "# movieId title rating\n",
    "sample_df = maindf.loc[maindf.title.isin(titles_ls)]\n",
    "sample_df.drop_duplicates(subset=['title'],inplace=True)\n",
    "sample_df.reset_index(drop=True)\n",
    "# print(sample_df.index.values)\n",
    "sample_df.info()\n",
    "sample_df.head(3)"
   ]
  },
  {
   "cell_type": "code",
   "execution_count": 12,
   "id": "c2f0e064-6c38-488f-b384-48b699643ec6",
   "metadata": {},
   "outputs": [],
   "source": [
    "def item_based_recom(input_dataframe,input_film_name):    \n",
    "    pivot_item_based = pd.pivot_table(input_dataframe,\n",
    "                                      index='title',\n",
    "                                      columns=['userId_x'], values='rating')  \n",
    "    sparse_pivot = sparse.csr_matrix(pivot_item_based.fillna(0))\n",
    "    recommender = pw.cosine_similarity(sparse_pivot)\n",
    "    recommender_df = pd.DataFrame(recommender, \n",
    "                                  columns=pivot_item_based.index,\n",
    "                                  index=pivot_item_based.index)\n",
    "    ## Item Rating Based Cosine Similarity\n",
    "    cosine_df = pd.DataFrame(recommender_df[film_name].sort_values(ascending=False))\n",
    "    cosine_df.reset_index(level=0, inplace=True)\n",
    "    cosine_df.columns = ['title','cosine_sim']\n",
    "    return cosine_df"
   ]
  },
  {
   "cell_type": "code",
   "execution_count": 13,
   "id": "e83fc214-3160-4421-a13b-128f4a167056",
   "metadata": {},
   "outputs": [],
   "source": [
    "def item_and_genre_based_recom(cosine_df,movies_df,categories):    \n",
    "## Item Rating and Gender Based Cosine Similarity\n",
    "    top_cos_genre = pd.merge(cosine_df, movies, on='title')\n",
    "    # Creating column with genre cosine similarity\n",
    "    top_cos_genre['genre_similarity'] = [pairwise_row_diff(top_cos_genre,0,row,categories) \n",
    "                                          for row in top_cos_genre.index.values]\n",
    "    return top_cos_genre[['title','cosine_sim','genre_similarity']]\n",
    "\n",
    "def pairwise_row_diff(dataframe,row1, row2,column_names):\n",
    "#     display(dataframe)\n",
    "     # Creates 2 Matrix to compare cosine similarity\n",
    "    matrix_row1 = [[dataframe.loc[row1,cat] for cat in column_names]] \n",
    "    matrix_row2 = [[dataframe.loc[row2,cat] for cat in column_names]] \n",
    "    return round(cosine_similarity(matrix_row1,matrix_row2)[0][0],5)"
   ]
  },
  {
   "cell_type": "code",
   "execution_count": 14,
   "id": "eaf5e38c-080e-4ef6-8a45-663550878f61",
   "metadata": {},
   "outputs": [],
   "source": [
    "film_name = \"Batman Forever (1995)\"\n"
   ]
  },
  {
   "cell_type": "code",
   "execution_count": 15,
   "id": "3fceae33-fa26-4264-b24a-c749d1c19916",
   "metadata": {},
   "outputs": [
    {
     "data": {
      "text/html": [
       "<div>\n",
       "<style scoped>\n",
       "    .dataframe tbody tr th:only-of-type {\n",
       "        vertical-align: middle;\n",
       "    }\n",
       "\n",
       "    .dataframe tbody tr th {\n",
       "        vertical-align: top;\n",
       "    }\n",
       "\n",
       "    .dataframe thead th {\n",
       "        text-align: right;\n",
       "    }\n",
       "</style>\n",
       "<table border=\"1\" class=\"dataframe\">\n",
       "  <thead>\n",
       "    <tr style=\"text-align: right;\">\n",
       "      <th></th>\n",
       "      <th>title</th>\n",
       "      <th>cosine_sim</th>\n",
       "    </tr>\n",
       "  </thead>\n",
       "  <tbody>\n",
       "    <tr>\n",
       "      <th>0</th>\n",
       "      <td>Babe (1995)</td>\n",
       "      <td>1.0</td>\n",
       "    </tr>\n",
       "    <tr>\n",
       "      <th>1</th>\n",
       "      <td>Terminator 2: Judgment Day (1991)</td>\n",
       "      <td>1.0</td>\n",
       "    </tr>\n",
       "    <tr>\n",
       "      <th>2</th>\n",
       "      <td>Batman Forever (1995)</td>\n",
       "      <td>1.0</td>\n",
       "    </tr>\n",
       "    <tr>\n",
       "      <th>3</th>\n",
       "      <td>Snow White and the Seven Dwarfs (1937)</td>\n",
       "      <td>1.0</td>\n",
       "    </tr>\n",
       "    <tr>\n",
       "      <th>4</th>\n",
       "      <td>True Lies (1994)</td>\n",
       "      <td>1.0</td>\n",
       "    </tr>\n",
       "    <tr>\n",
       "      <th>...</th>\n",
       "      <td>...</td>\n",
       "      <td>...</td>\n",
       "    </tr>\n",
       "    <tr>\n",
       "      <th>1262</th>\n",
       "      <td>Godfather, The (1972)</td>\n",
       "      <td>0.0</td>\n",
       "    </tr>\n",
       "    <tr>\n",
       "      <th>1263</th>\n",
       "      <td>Glory (1989)</td>\n",
       "      <td>0.0</td>\n",
       "    </tr>\n",
       "    <tr>\n",
       "      <th>1264</th>\n",
       "      <td>Glass Menagerie, The (1987)</td>\n",
       "      <td>0.0</td>\n",
       "    </tr>\n",
       "    <tr>\n",
       "      <th>1265</th>\n",
       "      <td>Gladiator (2000)</td>\n",
       "      <td>0.0</td>\n",
       "    </tr>\n",
       "    <tr>\n",
       "      <th>1266</th>\n",
       "      <td>eXistenZ (1999)</td>\n",
       "      <td>0.0</td>\n",
       "    </tr>\n",
       "  </tbody>\n",
       "</table>\n",
       "<p>1267 rows × 2 columns</p>\n",
       "</div>"
      ],
      "text/plain": [
       "                                       title  cosine_sim\n",
       "0                                Babe (1995)         1.0\n",
       "1          Terminator 2: Judgment Day (1991)         1.0\n",
       "2                      Batman Forever (1995)         1.0\n",
       "3     Snow White and the Seven Dwarfs (1937)         1.0\n",
       "4                           True Lies (1994)         1.0\n",
       "...                                      ...         ...\n",
       "1262                   Godfather, The (1972)         0.0\n",
       "1263                            Glory (1989)         0.0\n",
       "1264             Glass Menagerie, The (1987)         0.0\n",
       "1265                        Gladiator (2000)         0.0\n",
       "1266                         eXistenZ (1999)         0.0\n",
       "\n",
       "[1267 rows x 2 columns]"
      ]
     },
     "metadata": {},
     "output_type": "display_data"
    }
   ],
   "source": [
    "## Item Rating Based Cosine Similarity\n",
    "cos_sim = item_based_recom(sample_df,film_name)\n",
    "display(cos_sim)"
   ]
  },
  {
   "cell_type": "code",
   "execution_count": null,
   "id": "f3ec1428-ae7a-4f66-a9f9-fee18a0a3f7e",
   "metadata": {},
   "outputs": [],
   "source": []
  },
  {
   "cell_type": "code",
   "execution_count": null,
   "id": "2c5ea3c1-a54c-4512-bbcb-3049d774ef58",
   "metadata": {},
   "outputs": [],
   "source": []
  },
  {
   "cell_type": "code",
   "execution_count": null,
   "id": "fccdb471-43bc-419c-b7b6-0056ea2841f0",
   "metadata": {},
   "outputs": [],
   "source": []
  },
  {
   "cell_type": "code",
   "execution_count": null,
   "id": "4d9d5028-ff6d-4171-a217-06b1527ac1e5",
   "metadata": {},
   "outputs": [],
   "source": []
  },
  {
   "cell_type": "code",
   "execution_count": null,
   "id": "31fb2f9d-9f56-47e3-9b8d-3e10b7489ebd",
   "metadata": {},
   "outputs": [],
   "source": []
  },
  {
   "cell_type": "code",
   "execution_count": null,
   "id": "5618b528-5eff-46c1-b636-a1149b826519",
   "metadata": {},
   "outputs": [],
   "source": []
  },
  {
   "cell_type": "code",
   "execution_count": null,
   "id": "97bc1a5d-4aa9-4daa-a0db-884b2315df74",
   "metadata": {},
   "outputs": [],
   "source": []
  },
  {
   "cell_type": "code",
   "execution_count": null,
   "id": "240a48de-b8c6-41dd-b8a2-a1eae125a6a3",
   "metadata": {},
   "outputs": [],
   "source": []
  },
  {
   "cell_type": "code",
   "execution_count": 24,
   "id": "04550a1d-3be7-4dda-a8e8-8f45d0920de8",
   "metadata": {},
   "outputs": [],
   "source": []
  },
  {
   "cell_type": "code",
   "execution_count": null,
   "id": "571de81d-d282-421d-b556-f0bc74c5e5be",
   "metadata": {},
   "outputs": [],
   "source": []
  },
  {
   "cell_type": "code",
   "execution_count": null,
   "id": "9a5447f8-4bb8-4731-b72b-e2dda62c9ef9",
   "metadata": {},
   "outputs": [],
   "source": []
  },
  {
   "cell_type": "code",
   "execution_count": null,
   "id": "61228a7a-1230-4c6a-b4e1-0d57a7bdefcf",
   "metadata": {},
   "outputs": [],
   "source": []
  }
 ],
 "metadata": {
  "kernelspec": {
   "display_name": "Python 3 (ipykernel)",
   "language": "python",
   "name": "python3"
  },
  "language_info": {
   "codemirror_mode": {
    "name": "ipython",
    "version": 3
   },
   "file_extension": ".py",
   "mimetype": "text/x-python",
   "name": "python",
   "nbconvert_exporter": "python",
   "pygments_lexer": "ipython3",
   "version": "3.9.13"
  }
 },
 "nbformat": 4,
 "nbformat_minor": 5
}
