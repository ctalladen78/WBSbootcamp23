{
 "cells": [
  {
   "cell_type": "code",
   "execution_count": 1,
   "id": "fc68a798-2f1b-4940-8215-101a4e7b4593",
   "metadata": {},
   "outputs": [],
   "source": [
    "# pipeline, grid search"
   ]
  },
  {
   "cell_type": "code",
   "execution_count": 2,
   "id": "f4b12602-d635-4e38-a0cc-de434b421c8e",
   "metadata": {},
   "outputs": [],
   "source": [
    "import pandas as pd\n",
    "import numpy as np\n",
    "import seaborn as sns\n",
    "import matplotlib.pyplot as plt\n",
    "\n",
    "housing_df = pd.read_csv('~/Documents/datacamp/WBS-School/wbs-housing-iter-0-2/housing-classification-iter-0-2.csv')\n",
    "\n"
   ]
  },
  {
   "cell_type": "code",
   "execution_count": 3,
   "id": "9565cf11-b613-4730-b2ac-054ac22400d0",
   "metadata": {},
   "outputs": [],
   "source": [
    "X = housing_df.copy()\n"
   ]
  },
  {
   "cell_type": "code",
   "execution_count": 4,
   "id": "16b067a2-e6c3-489b-b3fc-a3e49e2936e2",
   "metadata": {},
   "outputs": [],
   "source": [
    "# target\n",
    "y = X.pop(\"Expensive\")\n",
    "\n"
   ]
  },
  {
   "cell_type": "code",
   "execution_count": 5,
   "id": "5d356672-7ab2-4947-8311-2539ad12fc5c",
   "metadata": {},
   "outputs": [],
   "source": [
    "from sklearn.model_selection import train_test_split\n",
    "\n",
    "X_train, X_test, y_train, y_test = train_test_split(X, y, test_size=0.2, random_state=31416)\n",
    "\n"
   ]
  },
  {
   "cell_type": "code",
   "execution_count": 6,
   "id": "425c7b89-05a7-4b4c-9c02-9b31c92ddb6b",
   "metadata": {},
   "outputs": [],
   "source": [
    "from sklearn.impute import SimpleImputer\n",
    "imp = SimpleImputer()\n"
   ]
  },
  {
   "cell_type": "code",
   "execution_count": 7,
   "id": "9cb4b85c-837d-422d-9f66-752f34027103",
   "metadata": {},
   "outputs": [],
   "source": [
    "imp.fit(X_train)\n",
    "X_imp_train = imp.transform(X_train)\n",
    "df = X_train\n",
    "new_df = pd.DataFrame(X_imp_train, columns=df.columns, index=df.index)\n",
    "\n",
    "# print(new_df.isnull().sum())\n",
    "# print(new_df.shape)"
   ]
  },
  {
   "cell_type": "code",
   "execution_count": 8,
   "id": "e927ce9e-ef68-4fdc-a933-b5cf7b35c5f3",
   "metadata": {},
   "outputs": [],
   "source": [
    "X_train.fillna(X_train.mean(),inplace=True)\n",
    "# X_train.isnull().sum()\n"
   ]
  },
  {
   "cell_type": "code",
   "execution_count": 9,
   "id": "c5a19d61-d9c0-48b5-930f-a98da37af463",
   "metadata": {},
   "outputs": [],
   "source": [
    "# X_test.isnull().sum()\n"
   ]
  },
  {
   "cell_type": "code",
   "execution_count": 10,
   "id": "8696f879-ceb5-4958-822c-46bea76e7526",
   "metadata": {},
   "outputs": [],
   "source": [
    "# X_test.head(3)"
   ]
  },
  {
   "cell_type": "code",
   "execution_count": 11,
   "id": "1255c41c-5dc4-4a5c-812a-948830949868",
   "metadata": {},
   "outputs": [],
   "source": [
    "X_test.fillna(df.mean(),inplace=True) # 88\n"
   ]
  },
  {
   "cell_type": "code",
   "execution_count": 12,
   "id": "704c6e6d-3698-464f-8737-0a458398152a",
   "metadata": {},
   "outputs": [
    {
     "data": {
      "text/plain": [
       "DecisionTreeRegressor()"
      ]
     },
     "execution_count": 12,
     "metadata": {},
     "output_type": "execute_result"
    }
   ],
   "source": [
    "from sklearn.tree import DecisionTreeRegressor\n",
    "from sklearn.metrics import mean_squared_error as MSE\n",
    "\n",
    "model = DecisionTreeRegressor()\n",
    "model.fit(X_imp_train,y_train)\n"
   ]
  },
  {
   "cell_type": "code",
   "execution_count": 13,
   "id": "ec3b498c-cee3-4895-804d-eaa1b1df3f30",
   "metadata": {},
   "outputs": [
    {
     "name": "stderr",
     "output_type": "stream",
     "text": [
      "/Users/cytalladen/opt/anaconda3/lib/python3.9/site-packages/sklearn/base.py:443: UserWarning: X has feature names, but DecisionTreeRegressor was fitted without feature names\n",
      "  warnings.warn(\n"
     ]
    }
   ],
   "source": [
    "y_pred = model.predict(X_test)"
   ]
  },
  {
   "cell_type": "code",
   "execution_count": 14,
   "id": "1bf34c7f-1306-4265-8638-999cfb8f7d80",
   "metadata": {},
   "outputs": [
    {
     "data": {
      "text/plain": [
       "0.8767123287671232"
      ]
     },
     "execution_count": 14,
     "metadata": {},
     "output_type": "execute_result"
    }
   ],
   "source": [
    "from sklearn.metrics import accuracy_score\n",
    "\n",
    "accuracy_score(y_true = y_test,\n",
    "               y_pred = y_pred\n",
    "              )"
   ]
  },
  {
   "cell_type": "code",
   "execution_count": null,
   "id": "c2f22256-0b13-4d77-86fd-8f324d127e4f",
   "metadata": {},
   "outputs": [],
   "source": []
  },
  {
   "cell_type": "code",
   "execution_count": 15,
   "id": "9f3083ec-a6e8-4d42-a876-bf8673675a06",
   "metadata": {},
   "outputs": [],
   "source": [
    "from sklearn.impute import SimpleImputer\n",
    "from sklearn.tree import DecisionTreeRegressor, DecisionTreeClassifier\n",
    "from sklearn.pipeline import make_pipeline\n",
    "from sklearn.preprocessing import StandardScaler\n",
    "from sklearn.model_selection import GridSearchCV\n",
    "from sklearn.neighbors import KNeighborsClassifier, KNeighborsRegressor\n",
    "\n"
   ]
  },
  {
   "cell_type": "code",
   "execution_count": 16,
   "id": "ad671d36-3aaa-483b-b2e0-8b063ff6735c",
   "metadata": {},
   "outputs": [
    {
     "data": {
      "text/plain": [
       "array([0, 0, 0, 0, 0, 0, 0, 0, 0, 0, 0, 0, 0, 0, 0, 0, 0, 1, 0, 0, 0, 0,\n",
       "       0, 0, 0, 1, 0, 0, 0, 0, 0, 0, 1, 0, 0, 0, 1, 0, 0, 0, 0, 0, 0, 0,\n",
       "       0, 1, 0, 0, 0, 0, 0, 0, 0, 0, 0, 0, 0, 0, 0, 1, 1, 0, 1, 0, 1, 1,\n",
       "       0, 0, 0, 0, 0, 0, 0, 0, 0, 0, 0, 0, 0, 0, 0, 0, 0, 0, 0, 1, 0, 1,\n",
       "       0, 0, 0, 1, 0, 0, 1, 0, 0, 0, 0, 0, 0, 0, 0, 0, 0, 0, 0, 0, 1, 0,\n",
       "       0, 0, 0, 0, 0, 0, 1, 0, 0, 0, 1, 0, 0, 0, 0, 0, 0, 0, 0, 0, 0, 0,\n",
       "       0, 0, 0, 0, 0, 0, 0, 0, 0, 0, 0, 0, 0, 0, 0, 0, 0, 0, 0, 0, 0, 0,\n",
       "       0, 0, 0, 0, 0, 0, 0, 0, 0, 0, 0, 0, 0, 0, 0, 0, 0, 0, 0, 0, 0, 1,\n",
       "       0, 0, 0, 1, 0, 0, 0, 0, 0, 0, 0, 0, 0, 0, 0, 0, 0, 0, 0, 0, 0, 0,\n",
       "       1, 1, 0, 0, 0, 1, 0, 0, 0, 0, 0, 0, 0, 0, 1, 0, 0, 0, 0, 0, 0, 0,\n",
       "       0, 0, 0, 0, 0, 0, 0, 0, 0, 0, 0, 0, 0, 0, 0, 0, 0, 0, 0, 0, 0, 0,\n",
       "       0, 0, 0, 0, 0, 0, 1, 0, 0, 0, 0, 0, 1, 0, 1, 0, 1, 0, 0, 0, 0, 0,\n",
       "       0, 0, 0, 0, 0, 0, 0, 1, 0, 0, 0, 1, 0, 0, 0, 0, 0, 0, 0, 0, 0, 0,\n",
       "       0, 0, 0, 1, 0, 0])"
      ]
     },
     "execution_count": 16,
     "metadata": {},
     "output_type": "execute_result"
    }
   ],
   "source": [
    "# # pipeline\n",
    "\n",
    "# # 1. initialize transformers & model\n",
    "imputer = SimpleImputer(strategy=\"median\")\n",
    "scaler = StandardScaler()\n",
    "# dtree = DecisionTreeRegressor(max_depth=6) # best score: 91\n",
    "dtree = DecisionTreeClassifier(max_depth=6) # best score: 94\n",
    "\n",
    "# # 2. Create a pipeline\n",
    "pipe = make_pipeline(imputer, scaler, dtree)\n",
    " \n",
    "# # 3. Fit the pipeline to the training data\n",
    "pipe.fit(X_train, y_train)\n",
    " \n",
    "# # 4. Use the pipeline to make predictions\n",
    "pipe.predict(X_test)"
   ]
  },
  {
   "cell_type": "code",
   "execution_count": 17,
   "id": "1daf0443-c6d0-4530-ba59-8bce2bc0e9a5",
   "metadata": {},
   "outputs": [],
   "source": [
    "# gridsearch"
   ]
  },
  {
   "cell_type": "code",
   "execution_count": null,
   "id": "2abdbe25-ea8e-4992-bba4-942a0c5778e2",
   "metadata": {},
   "outputs": [],
   "source": []
  },
  {
   "cell_type": "code",
   "execution_count": null,
   "id": "22a9e274-bac1-467c-944f-07a12c72ca3f",
   "metadata": {},
   "outputs": [],
   "source": []
  },
  {
   "cell_type": "code",
   "execution_count": 18,
   "id": "4037341c-3254-4bd7-863d-dd53b4329c94",
   "metadata": {},
   "outputs": [],
   "source": [
    "# create parameter grid\n",
    "param_grid = {\n",
    "    \"simpleimputer__strategy\":[\"mean\", \"median\"],\n",
    "    \"standardscaler__with_mean\":[True, False],\n",
    "    \"standardscaler__with_std\":[True, False],\n",
    "    # \"decisiontreeregressor__max_depth\": range(2, 14),\n",
    "    # \"decisiontreeregressor__min_samples_leaf\": range(3, 10),\n",
    "    # \"decisiontreeregressor__criterion\":[\"gini\", \"entropy\"]\n",
    "    \"decisiontreeclassifier__max_depth\": range(2, 14, 2),\n",
    "    \"decisiontreeclassifier__min_samples_leaf\": range(3, 12, 2),\n",
    "    # \"kneighborsregressor__n_neighbors\":[2,20]\n",
    "\n",
    "}"
   ]
  },
  {
   "cell_type": "code",
   "execution_count": 19,
   "id": "70ff1577-cf98-46e8-8773-a56ff22819db",
   "metadata": {},
   "outputs": [],
   "source": [
    "# define cross validation\n",
    "search = GridSearchCV(pipe,\n",
    "                      param_grid,\n",
    "                      cv=10,\n",
    "                      verbose=1)"
   ]
  },
  {
   "cell_type": "code",
   "execution_count": 20,
   "id": "9b41b420-f1bc-4a81-8b25-f6f6f55a8d62",
   "metadata": {},
   "outputs": [
    {
     "name": "stdout",
     "output_type": "stream",
     "text": [
      "Fitting 10 folds for each of 240 candidates, totalling 2400 fits\n"
     ]
    },
    {
     "data": {
      "text/plain": [
       "GridSearchCV(cv=10,\n",
       "             estimator=Pipeline(steps=[('simpleimputer',\n",
       "                                        SimpleImputer(strategy='median')),\n",
       "                                       ('standardscaler', StandardScaler()),\n",
       "                                       ('decisiontreeclassifier',\n",
       "                                        DecisionTreeClassifier(max_depth=6))]),\n",
       "             param_grid={'decisiontreeclassifier__max_depth': range(2, 14, 2),\n",
       "                         'decisiontreeclassifier__min_samples_leaf': range(3, 12, 2),\n",
       "                         'simpleimputer__strategy': ['mean', 'median'],\n",
       "                         'standardscaler__with_mean': [True, False],\n",
       "                         'standardscaler__with_std': [True, False]},\n",
       "             verbose=1)"
      ]
     },
     "execution_count": 20,
     "metadata": {},
     "output_type": "execute_result"
    }
   ],
   "source": [
    "search.fit(X_train, y_train)"
   ]
  },
  {
   "cell_type": "code",
   "execution_count": 21,
   "id": "384d759d-1301-41a6-adfe-d0ba8b37edc5",
   "metadata": {},
   "outputs": [
    {
     "data": {
      "text/plain": [
       "0.9246610669024463"
      ]
     },
     "execution_count": 21,
     "metadata": {},
     "output_type": "execute_result"
    }
   ],
   "source": [
    "search.best_score_"
   ]
  },
  {
   "cell_type": "code",
   "execution_count": 22,
   "id": "b958cb88-46e1-4662-8bd1-c452d3b93d31",
   "metadata": {},
   "outputs": [
    {
     "data": {
      "text/plain": [
       "{'decisiontreeclassifier__max_depth': 6,\n",
       " 'decisiontreeclassifier__min_samples_leaf': 5,\n",
       " 'simpleimputer__strategy': 'median',\n",
       " 'standardscaler__with_mean': True,\n",
       " 'standardscaler__with_std': False}"
      ]
     },
     "execution_count": 22,
     "metadata": {},
     "output_type": "execute_result"
    }
   ],
   "source": [
    "search.best_params_"
   ]
  },
  {
   "cell_type": "code",
   "execution_count": 23,
   "id": "41fa47d1-416a-46f2-b6c4-502574650b6d",
   "metadata": {},
   "outputs": [
    {
     "data": {
      "text/plain": [
       "0.9426369863013698"
      ]
     },
     "execution_count": 23,
     "metadata": {},
     "output_type": "execute_result"
    }
   ],
   "source": [
    "y_train_pred = search.predict(X_train)\n",
    "\n",
    "accuracy_score(y_train, y_train_pred)"
   ]
  },
  {
   "cell_type": "code",
   "execution_count": 24,
   "id": "1f01df22-13af-49de-aaad-25fba898b6e9",
   "metadata": {},
   "outputs": [
    {
     "name": "stdout",
     "output_type": "stream",
     "text": [
      "Train set RMSE of dtree: 0.24\n"
     ]
    }
   ],
   "source": [
    "from sklearn.metrics import mean_squared_error as MSE\n",
    "# Compute mse_dt train set\n",
    "mse_dtree = MSE(y_train, y_train_pred)\n",
    "\n",
    "# Compute rmse_dt\n",
    "rmse_dtree = mse_dtree**(1/2)\n",
    "\n",
    "# Print rmse_dt\n",
    "print(\"Train set RMSE of dtree: {:.2f}\".format(rmse_dtree))"
   ]
  },
  {
   "cell_type": "code",
   "execution_count": 25,
   "id": "7e3c8f11-d367-4844-9bbb-39c24103f229",
   "metadata": {},
   "outputs": [],
   "source": [
    "y_test_pred = search.predict(X_test)\n",
    "\n",
    "# accuracy_score(y_test, y_test_pred)"
   ]
  },
  {
   "cell_type": "code",
   "execution_count": 26,
   "id": "2c768f28-a19e-4317-a23f-162e477854b2",
   "metadata": {},
   "outputs": [
    {
     "name": "stdout",
     "output_type": "stream",
     "text": [
      "Test set RMSE of dtree: 0.27\n"
     ]
    }
   ],
   "source": [
    "# # Compute mse_dt test set\n",
    "mse_dtree = MSE(y_test, y_test_pred)\n",
    "\n",
    "# # Compute rmse_dt\n",
    "rmse_dtree = mse_dtree**(1/2)\n",
    "\n",
    "# # Print rmse_dt\n",
    "print(\"Test set RMSE of dtree: {:.2f}\".format(rmse_dtree))"
   ]
  },
  {
   "cell_type": "code",
   "execution_count": 27,
   "id": "344d3c70-6e61-43d1-90c9-5a08b6035b5f",
   "metadata": {},
   "outputs": [],
   "source": [
    "# knn best score : 91"
   ]
  },
  {
   "cell_type": "code",
   "execution_count": null,
   "id": "e4d3aae6-20b1-4228-96b3-41d82a8826fe",
   "metadata": {},
   "outputs": [],
   "source": [
    "k_range = list(range(1, 26))\n",
    "scores = []\n",
    "for i in k_range:\n",
    "    knn = KNeighborsClassifier(n_neighbors=i)\n",
    "    knn.fit(X_train, y_train)\n",
    "    y_pred = knn.predict(X_test)\n",
    "    scores.append(accuracy_score(y_test, y_pred))\n"
   ]
  },
  {
   "cell_type": "code",
   "execution_count": 29,
   "id": "fbb35eec-ce63-4da9-99df-997fdf596c97",
   "metadata": {},
   "outputs": [
    {
     "data": {
      "image/png": "[encoded data removed]",
      "text/plain": [
       "<Figure size 640x480 with 1 Axes>"
      ]
     },
     "metadata": {},
     "output_type": "display_data"
    }
   ],
   "source": [
    "plt.plot(k_range, scores)\n",
    "plt.show()"
   ]
  },
  {
   "cell_type": "code",
   "execution_count": 30,
   "id": "48647352-a7e2-4c3e-b8cf-860e0794b64e",
   "metadata": {},
   "outputs": [
    {
     "name": "stderr",
     "output_type": "stream",
     "text": [
      "/Users/cytalladen/opt/anaconda3/lib/python3.9/site-packages/sklearn/neighbors/_classification.py:228: FutureWarning: Unlike other reduction functions (e.g. `skew`, `kurtosis`), the default behavior of `mode` typically preserves the axis it acts along. In SciPy 1.11.0, this behavior will change: the default value of `keepdims` will become False, the `axis` over which the statistic is taken will be eliminated, and the value None will no longer be accepted. Set `keepdims` to True or False to avoid this warning.\n",
      "  mode, _ = stats.mode(_y[neigh_ind, k], axis=1)\n"
     ]
    },
    {
     "data": {
      "text/plain": [
       "0.9143835616438356"
      ]
     },
     "execution_count": 30,
     "metadata": {},
     "output_type": "execute_result"
    }
   ],
   "source": [
    "knn = KNeighborsClassifier(n_neighbors=7)\n",
    "knn.fit(X_train, y_train)\n",
    "y_pred = knn.predict(X_test)\n",
    "accuracy_score(y_test, y_pred)"
   ]
  },
  {
   "cell_type": "code",
   "execution_count": 31,
   "id": "575c8102-d2d9-472d-962e-c5583a19a3d3",
   "metadata": {},
   "outputs": [],
   "source": [
    "# knn + scaler : best score "
   ]
  },
  {
   "cell_type": "code",
   "execution_count": null,
   "id": "949db434-3166-466a-86b5-6f03423c0e30",
   "metadata": {},
   "outputs": [],
   "source": []
  },
  {
   "cell_type": "code",
   "execution_count": null,
   "id": "9e6a37c7-72c1-4fd2-9f2a-9ecee4012695",
   "metadata": {},
   "outputs": [],
   "source": []
  },
  {
   "cell_type": "code",
   "execution_count": null,
   "id": "12812be2-63d4-426d-b3cf-e63a76626d07",
   "metadata": {},
   "outputs": [],
   "source": [
    "# {'decisiontreeclassifier__max_depth': 6,\n",
    "#  'decisiontreeclassifier__min_samples_leaf': 5,\n",
    "#  'simpleimputer__strategy': 'median',\n",
    "#  'standardscaler__with_mean': True,\n",
    "#  'standardscaler__with_std': False"
   ]
  },
  {
   "cell_type": "code",
   "execution_count": null,
   "id": "72ecdfc3-1a29-4511-b5b7-bf71a1951e41",
   "metadata": {},
   "outputs": [],
   "source": []
  },
  {
   "cell_type": "code",
   "execution_count": null,
   "id": "f534c7f6-4fc1-45e3-b645-dba2c23f63e8",
   "metadata": {},
   "outputs": [],
   "source": []
  },
  {
   "cell_type": "code",
   "execution_count": null,
   "id": "ba7a92ca-69eb-4cd8-b79c-08bf6b1ef6e7",
   "metadata": {},
   "outputs": [],
   "source": []
  },
  {
   "cell_type": "code",
   "execution_count": null,
   "id": "d45bc556-8578-47f5-8c13-432fff904449",
   "metadata": {},
   "outputs": [],
   "source": []
  },
  {
   "cell_type": "code",
   "execution_count": null,
   "id": "8c698162-b0f8-460f-b6d7-60777d8ea4c1",
   "metadata": {},
   "outputs": [],
   "source": []
  },
  {
   "cell_type": "code",
   "execution_count": null,
   "id": "dbad3c4a-12d7-45a6-b775-300212fe9d16",
   "metadata": {},
   "outputs": [],
   "source": []
  }
 ],
 "metadata": {
  "kernelspec": {
   "display_name": "Python 3 (ipykernel)",
   "language": "python",
   "name": "python3"
  },
  "language_info": {
   "codemirror_mode": {
    "name": "ipython",
    "version": 3
   },
   "file_extension": ".py",
   "mimetype": "text/x-python",
   "name": "python",
   "nbconvert_exporter": "python",
   "pygments_lexer": "ipython3",
   "version": "3.9.13"
  }
 },
 "nbformat": 4,
 "nbformat_minor": 5
}
