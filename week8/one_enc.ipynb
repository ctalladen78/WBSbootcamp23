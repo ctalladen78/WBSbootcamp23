{
 "cells": [
  {
   "cell_type": "code",
   "execution_count": 1,
   "id": "b533b10c-75d1-4cf5-98d1-95a51177c4e3",
   "metadata": {},
   "outputs": [],
   "source": [
    "# one hot encoding"
   ]
  },
  {
   "cell_type": "code",
   "execution_count": 2,
   "id": "2ddaba0b-74bf-4fac-9ff4-4a3954ff7c10",
   "metadata": {},
   "outputs": [],
   "source": [
    "# housing iteration 3"
   ]
  },
  {
   "cell_type": "code",
   "execution_count": 3,
   "id": "975cdf9e-8810-4884-a179-5ca8d500370f",
   "metadata": {},
   "outputs": [],
   "source": [
    "import pandas as pd\n",
    "import numpy as np\n",
    "import seaborn as sns\n",
    "import matplotlib.pyplot as plt\n",
    "\n",
    "housing_maindf = pd.read_csv('~/Documents/datacamp/WBS-School/wbs-housing-iter-0-2/iter-3/housing-classification-iter3.csv')\n",
    "housing5 = pd.read_csv('~/Documents/datacamp/WBS-School/wbs-housing-iter-0-2/housing-classification-iter-0-2.csv')\n",
    "housing6 = pd.read_csv('~/Documents/datacamp/WBS-School/wbs-housing-iter-0-2/iter-6/housing-classification-iter6.csv')\n",
    "kaggle = pd.read_csv('~/Documents/datacamp/WBS-School/wbs-housing-iter-0-2/test-housing-classification.csv')\n",
    "\n",
    "\n",
    "housing_df = housing6.copy()\n"
   ]
  },
  {
   "cell_type": "code",
   "execution_count": 4,
   "id": "fa08251d-d616-443a-8801-9130e531a6bc",
   "metadata": {},
   "outputs": [],
   "source": [
    "# housing_df.info()"
   ]
  },
  {
   "cell_type": "code",
   "execution_count": 5,
   "id": "f20fb013-5539-494f-af60-d61286c239c7",
   "metadata": {},
   "outputs": [],
   "source": [
    "X = housing_df.copy()\n"
   ]
  },
  {
   "cell_type": "code",
   "execution_count": 6,
   "id": "07097205-1ea9-4221-a83c-7a39c410a0c2",
   "metadata": {},
   "outputs": [],
   "source": [
    "# X = kaggle"
   ]
  },
  {
   "cell_type": "code",
   "execution_count": 7,
   "id": "4849528c-216c-487e-bdf7-23834664cc49",
   "metadata": {},
   "outputs": [],
   "source": [
    "# target\n",
    "y = X.pop(\"Expensive\")\n"
   ]
  },
  {
   "cell_type": "code",
   "execution_count": 8,
   "id": "3d9d4a4b-089c-4636-a0b4-65308332014f",
   "metadata": {},
   "outputs": [],
   "source": [
    "from sklearn.model_selection import train_test_split\n",
    "\n",
    "X_train, X_test, y_train, y_test = train_test_split(X, y, test_size=0.2, random_state=31416)\n"
   ]
  },
  {
   "cell_type": "code",
   "execution_count": 9,
   "id": "7007ce00-17fc-4144-9ae0-86a438b5d05b",
   "metadata": {},
   "outputs": [],
   "source": [
    "# imputing train set"
   ]
  },
  {
   "cell_type": "code",
   "execution_count": 10,
   "id": "fc8a9d99-ef8f-463d-9c5e-beebb95fbbcf",
   "metadata": {},
   "outputs": [],
   "source": [
    "# helper\n",
    "def to_df(arr,df):\n",
    "    print(arr.shape)\n",
    "    print(df.shape)\n",
    "    return pd.DataFrame(arr, columns=df.columns, index=df.index)\n",
    "\n"
   ]
  },
  {
   "cell_type": "code",
   "execution_count": 11,
   "id": "f98d8836-55f5-4e74-8624-46d107f4efcc",
   "metadata": {},
   "outputs": [],
   "source": [
    "from sklearn.impute import SimpleImputer\n",
    "\n",
    "# # selecting non-numerical columns\n",
    "# X_train_cat = X_train.select_dtypes(exclude=\"number\")\n",
    "\n",
    "# # defining the imputer to use \"N_A\" as replacement value\n",
    "# cat_imputer = SimpleImputer(strategy=\"constant\", \n",
    "#                             fill_value=\"N_A\")#.set_output(transform='pandas')\n",
    "\n",
    "# # fitting and transforming\n",
    "# X_cat_imputed = cat_imputer.fit_transform(X_train_cat)\n",
    "# X_cat_imputed = to_df(X_cat_imputed,X_train_cat)\n"
   ]
  },
  {
   "cell_type": "code",
   "execution_count": 12,
   "id": "5e027977-6801-46c0-a34e-bbaa4df4494b",
   "metadata": {},
   "outputs": [],
   "source": [
    "# # Selecting numerical columns\n",
    "# X_train_num = X_train.select_dtypes(include=\"number\")\n",
    "\n",
    "# # Imputing the mean\n",
    "# num_imputer = SimpleImputer(strategy=\"mean\")#.set_output(transform='pandas')\n",
    "\n",
    "# # Fitting and transforming\n",
    "# X_num_imputed = num_imputer.fit_transform(X_train_num)\n",
    "# X_num_imputed = to_df(X_num_imputed,X_train_num)\n",
    "# X_num_imputed.head()"
   ]
  },
  {
   "cell_type": "code",
   "execution_count": 13,
   "id": "c63653a2-0ced-4082-8c18-d018df0991cd",
   "metadata": {},
   "outputs": [],
   "source": [
    "# # Concatenating all columns\n",
    "# X_imputed = pd.concat([X_cat_imputed, X_num_imputed], axis=1)\n",
    "\n",
    "# X_imputed.head()"
   ]
  },
  {
   "cell_type": "code",
   "execution_count": 14,
   "id": "41c99a55-b868-463b-9a2b-1d6d8be7627d",
   "metadata": {},
   "outputs": [],
   "source": [
    "# apply one hot encoder"
   ]
  },
  {
   "cell_type": "code",
   "execution_count": 15,
   "id": "77fd7366-64bb-438a-b047-cde9f61d6a9a",
   "metadata": {},
   "outputs": [],
   "source": [
    "from sklearn.preprocessing import OneHotEncoder\n",
    "\n",
    "# # initialize\n",
    "# # my_onehot = OneHotEncoder(drop=\"first\",sparse_output=False).set_output(transform='pandas')\n",
    "# my_onehot = OneHotEncoder()\n",
    "# # fit\n",
    "# my_onehot.fit(X_cat_imputed)\n",
    "\n",
    "# # transform\n",
    "# X_cat_imputed_mat = my_onehot.transform(X_cat_imputed)"
   ]
  },
  {
   "cell_type": "code",
   "execution_count": 16,
   "id": "dda677ce-ce22-48d0-8d97-17370468ab50",
   "metadata": {},
   "outputs": [],
   "source": [
    "# import scipy.sparse\n",
    "# X_cat_imputed_onehot = pd.DataFrame.sparse.from_spmatrix(X_cat_imputed_mat)"
   ]
  },
  {
   "cell_type": "code",
   "execution_count": 17,
   "id": "b6b2e102-3148-43f9-963d-9d7fb8a0a0a5",
   "metadata": {},
   "outputs": [],
   "source": [
    "# X_imputed = pd.concat([X_cat_imputed_onehot, X_num_imputed], axis=1)\n",
    "\n",
    "# X_imputed.head(3)"
   ]
  },
  {
   "cell_type": "code",
   "execution_count": 18,
   "id": "a617f739-230b-4d9e-acf9-415b49fa0a57",
   "metadata": {},
   "outputs": [],
   "source": [
    "from sklearn.preprocessing import StandardScaler, MinMaxScaler\n",
    "stscaler = StandardScaler()\n",
    "mmscaler = MinMaxScaler()"
   ]
  },
  {
   "cell_type": "code",
   "execution_count": 19,
   "id": "b3664c48-866b-4365-9637-f4d5fe04eb10",
   "metadata": {},
   "outputs": [],
   "source": [
    "# preprocessor"
   ]
  },
  {
   "cell_type": "code",
   "execution_count": 20,
   "id": "62b41fe8-f821-45c6-a77b-ff16c450e300",
   "metadata": {},
   "outputs": [],
   "source": [
    "from sklearn.pipeline import make_pipeline\n",
    "\n",
    "# select categorical and numerical column names\n",
    "X_cat_columns = X.select_dtypes(exclude=\"number\").copy().columns\n",
    "X_num_columns = X.select_dtypes(include=\"number\").copy().columns\n",
    "\n",
    "# create numerical pipeline, only with the SimpleImputer(strategy=\"mean\")\n",
    "numeric_pipe = make_pipeline(\n",
    "    SimpleImputer(strategy=\"mean\"),\n",
    "    mmscaler\n",
    ")\n",
    " \n",
    " # create categorical pipeline, with the SimpleImputer(fill_value=\"N_A\") and the OneHotEncoder\n",
    "categoric_pipe = make_pipeline(\n",
    "    SimpleImputer(strategy=\"constant\", fill_value=\"N_A\"),\n",
    "    # OneHotEncoder(sparse_output=False)\n",
    "    OneHotEncoder(handle_unknown='ignore')\n",
    ")"
   ]
  },
  {
   "cell_type": "code",
   "execution_count": 21,
   "id": "56f28657-30b5-455c-9013-457fa22f15c5",
   "metadata": {},
   "outputs": [],
   "source": [
    "# initialize transformer"
   ]
  },
  {
   "cell_type": "code",
   "execution_count": 22,
   "id": "9ca9f670-3811-46ec-b951-f109824f1a3e",
   "metadata": {},
   "outputs": [],
   "source": [
    "from sklearn.compose import ColumnTransformer\n",
    "\n",
    "preprocessor = ColumnTransformer(\n",
    "    transformers=[\n",
    "        (\"num_pipe\", numeric_pipe, X_num_columns),\n",
    "        (\"cat_pipe\", categoric_pipe, X_cat_columns),\n",
    "    ]\n",
    ")"
   ]
  },
  {
   "cell_type": "code",
   "execution_count": 23,
   "id": "a675ca63-db09-430d-9e0d-e1fe19c52946",
   "metadata": {},
   "outputs": [],
   "source": [
    "from sklearn.impute import SimpleImputer\n",
    "from sklearn.tree import DecisionTreeRegressor, DecisionTreeClassifier\n"
   ]
  },
  {
   "cell_type": "code",
   "execution_count": 24,
   "id": "7300006d-6992-4a86-b319-b9323fa24087",
   "metadata": {},
   "outputs": [],
   "source": [
    "from sklearn.model_selection import GridSearchCV\n",
    "\n",
    "dtclass = DecisionTreeClassifier()\n",
    "dtreg = DecisionTreeRegressor()\n",
    "full_pipeline = make_pipeline(preprocessor, \n",
    "                              # dtclass\n",
    "                              dtreg\n",
    "                             )\n",
    "\n",
    "param_grid = {\n",
    "    \"columntransformer__num_pipe__simpleimputer__strategy\":[\"mean\", \"median\"],\n",
    "    # \"decisiontreeclassifier__max_depth\": range(2, 14, 2),\n",
    "    # \"decisiontreeclassifier__min_samples_leaf\": range(3, 12, 2),\n",
    "    \"decisiontreeregressor__max_depth\": range(2, 14, 2),\n",
    "    \"decisiontreeregressor__min_samples_leaf\": range(3, 12, 2),\n",
    "\n",
    "}\n",
    "\n",
    "search = GridSearchCV(full_pipeline,\n",
    "                      param_grid,\n",
    "                      cv=10,\n",
    "                      verbose=0,\n",
    "                      scoring='accuracy'\n",
    "                     )\n",
    "\n"
   ]
  },
  {
   "cell_type": "code",
   "execution_count": null,
   "id": "358416de-dca7-496c-ada5-8263e4f0ab7e",
   "metadata": {},
   "outputs": [],
   "source": [
    "search.fit(X_train, y_train)"
   ]
  },
  {
   "cell_type": "code",
   "execution_count": 26,
   "id": "bbdd5d4b-ce3a-432c-acf8-b926cde0aec5",
   "metadata": {},
   "outputs": [
    {
     "data": {
      "text/plain": [
       "nan"
      ]
     },
     "execution_count": 26,
     "metadata": {},
     "output_type": "execute_result"
    }
   ],
   "source": [
    "search.best_score_"
   ]
  },
  {
   "cell_type": "code",
   "execution_count": 27,
   "id": "9a676c74-abea-47c6-a939-b76378fc2391",
   "metadata": {},
   "outputs": [
    {
     "data": {
      "text/plain": [
       "{'columntransformer__num_pipe__simpleimputer__strategy': 'mean',\n",
       " 'decisiontreeregressor__max_depth': 2,\n",
       " 'decisiontreeregressor__min_samples_leaf': 3}"
      ]
     },
     "execution_count": 27,
     "metadata": {},
     "output_type": "execute_result"
    }
   ],
   "source": [
    "search.best_params_"
   ]
  },
  {
   "cell_type": "code",
   "execution_count": 28,
   "id": "2437a1d6-1d09-45d9-8d46-adf437a17d7f",
   "metadata": {},
   "outputs": [
    {
     "data": {
      "text/plain": [
       "array([nan, nan, nan, nan, nan, nan, nan, nan, nan, nan, nan, nan, nan,\n",
       "       nan, nan, nan, nan, nan, nan, nan, nan, nan, nan, nan, nan, nan,\n",
       "       nan, nan, nan, nan, nan, nan, nan, nan, nan, nan, nan, nan, nan,\n",
       "       nan, nan, nan, nan, nan, nan, nan, nan, nan, nan, nan, nan, nan,\n",
       "       nan, nan, nan, nan, nan, nan, nan, nan])"
      ]
     },
     "execution_count": 28,
     "metadata": {},
     "output_type": "execute_result"
    }
   ],
   "source": [
    "search.cv_results_['mean_test_score']"
   ]
  },
  {
   "cell_type": "code",
   "execution_count": 29,
   "id": "6c3308a0-369e-422d-8528-af7d61640ba1",
   "metadata": {},
   "outputs": [
    {
     "data": {
      "text/plain": [
       "Pipeline(steps=[('columntransformer',\n",
       "                 ColumnTransformer(transformers=[('num_pipe',\n",
       "                                                  Pipeline(steps=[('simpleimputer',\n",
       "                                                                   SimpleImputer()),\n",
       "                                                                  ('minmaxscaler',\n",
       "                                                                   MinMaxScaler())]),\n",
       "                                                  Index(['LotArea', 'LotFrontage', 'TotalBsmtSF', 'BedroomAbvGr', 'Fireplaces',\n",
       "       'PoolArea', 'GarageCars', 'WoodDeckSF', 'ScreenPorch', 'MSSubClass',\n",
       "       'OverallQual', 'OverallCond', 'YearBuilt', 'YearRem...\n",
       "       'Neighborhood', 'Condition2', 'BldgType', 'HouseStyle', 'RoofStyle',\n",
       "       'RoofMatl', 'Exterior1st', 'Exterior2nd', 'MasVnrType', 'BsmtFinType2',\n",
       "       'HeatingQC', 'Electrical', 'Functional', 'GarageType', 'GarageFinish',\n",
       "       'GarageQual', 'GarageCond', 'PavedDrive', 'PoolQC', 'Fence',\n",
       "       'MiscFeature', 'SaleType', 'SaleCondition'],\n",
       "      dtype='object'))])),\n",
       "                ('decisiontreeregressor', DecisionTreeRegressor())])"
      ]
     },
     "execution_count": 29,
     "metadata": {},
     "output_type": "execute_result"
    }
   ],
   "source": [
    "full_pipeline.fit(X_train, y_train)"
   ]
  },
  {
   "cell_type": "code",
   "execution_count": 30,
   "id": "b70b513c-3395-4148-95d1-d85912056a08",
   "metadata": {},
   "outputs": [
    {
     "data": {
      "text/plain": [
       "1.0"
      ]
     },
     "execution_count": 30,
     "metadata": {},
     "output_type": "execute_result"
    }
   ],
   "source": [
    "from sklearn.metrics import accuracy_score, roc_auc_score\n",
    "y_train_pred = full_pipeline.predict(X_train)\n",
    "\n",
    "accuracy_score(y_train, y_train_pred)"
   ]
  },
  {
   "cell_type": "code",
   "execution_count": 31,
   "id": "fb9b2420-a2ef-44da-be2f-a55b040d6e83",
   "metadata": {},
   "outputs": [
    {
     "data": {
      "text/plain": [
       "Pipeline(steps=[('columntransformer',\n",
       "                 ColumnTransformer(transformers=[('num_pipe',\n",
       "                                                  Pipeline(steps=[('simpleimputer',\n",
       "                                                                   SimpleImputer()),\n",
       "                                                                  ('minmaxscaler',\n",
       "                                                                   MinMaxScaler())]),\n",
       "                                                  Index(['LotArea', 'LotFrontage', 'TotalBsmtSF', 'BedroomAbvGr', 'Fireplaces',\n",
       "       'PoolArea', 'GarageCars', 'WoodDeckSF', 'ScreenPorch', 'MSSubClass',\n",
       "       'OverallQual', 'OverallCond', 'YearBuilt', 'YearRem...\n",
       "       'Neighborhood', 'Condition2', 'BldgType', 'HouseStyle', 'RoofStyle',\n",
       "       'RoofMatl', 'Exterior1st', 'Exterior2nd', 'MasVnrType', 'BsmtFinType2',\n",
       "       'HeatingQC', 'Electrical', 'Functional', 'GarageType', 'GarageFinish',\n",
       "       'GarageQual', 'GarageCond', 'PavedDrive', 'PoolQC', 'Fence',\n",
       "       'MiscFeature', 'SaleType', 'SaleCondition'],\n",
       "      dtype='object'))])),\n",
       "                ('decisiontreeregressor', DecisionTreeRegressor())])"
      ]
     },
     "execution_count": 31,
     "metadata": {},
     "output_type": "execute_result"
    }
   ],
   "source": [
    "full_pipeline.fit(X_test, y_test)"
   ]
  },
  {
   "cell_type": "code",
   "execution_count": 32,
   "id": "e543e155-3e78-49cc-9f96-5355bfe00715",
   "metadata": {},
   "outputs": [
    {
     "data": {
      "text/plain": [
       "1.0"
      ]
     },
     "execution_count": 32,
     "metadata": {},
     "output_type": "execute_result"
    }
   ],
   "source": [
    "y_test_pred = full_pipeline.predict(X_test)\n",
    "\n",
    "accuracy_score(y_test, y_test_pred)"
   ]
  },
  {
   "cell_type": "code",
   "execution_count": 33,
   "id": "bae441bc-02db-4603-a32d-51e3d44c0659",
   "metadata": {},
   "outputs": [],
   "source": [
    "# preds = full_pipeline.predict_proba(X_test)\n",
    "\n",
    "# roc_auc_score(y_test, preds, multi_class=\"ovr\")"
   ]
  },
  {
   "cell_type": "code",
   "execution_count": 34,
   "id": "e2d1a7b0-5806-401c-8bac-03267530eace",
   "metadata": {},
   "outputs": [
    {
     "name": "stdout",
     "output_type": "stream",
     "text": [
      "Train set RMSE of dtree: 0.00\n"
     ]
    }
   ],
   "source": [
    "from sklearn.metrics import mean_squared_error as MSE\n",
    "# Compute mse_dt train set\n",
    "mse_dtree = MSE(y_train, y_train_pred)\n",
    "\n",
    "# Compute rmse_dt\n",
    "rmse_dtree = mse_dtree**(1/2)\n",
    "\n",
    "# Print rmse_dt\n",
    "print(\"Train set RMSE of dtree: {:.2f}\".format(rmse_dtree))"
   ]
  },
  {
   "cell_type": "code",
   "execution_count": 35,
   "id": "5b1124cc-2dfa-44dd-9fb5-87ef4c2dbb65",
   "metadata": {},
   "outputs": [
    {
     "name": "stdout",
     "output_type": "stream",
     "text": [
      "Test set RMSE of dtree: 0.00\n"
     ]
    }
   ],
   "source": [
    "# # Compute mse_dt test set\n",
    "mse_dtree = MSE(y_test, y_test_pred)\n",
    "\n",
    "# # Compute rmse_dt\n",
    "rmse_dtree = mse_dtree**(1/2)\n",
    "\n",
    "# # Print rmse_dt\n",
    "print(\"Test set RMSE of dtree: {:.2f}\".format(rmse_dtree))"
   ]
  },
  {
   "cell_type": "code",
   "execution_count": null,
   "id": "0afd79f0-07f5-43eb-9512-13f4f825cdae",
   "metadata": {},
   "outputs": [],
   "source": []
  },
  {
   "cell_type": "code",
   "execution_count": 36,
   "id": "cae73bd9-df18-41e8-ba37-5999fecb95c3",
   "metadata": {},
   "outputs": [],
   "source": [
    "# final model params"
   ]
  },
  {
   "cell_type": "code",
   "execution_count": 37,
   "id": "7221593a-5d92-432e-a04a-87d63589347f",
   "metadata": {},
   "outputs": [],
   "source": [
    "# 'columntransformer__num_pipe__simpleimputer__strategy': 'median',\n",
    "#  'decisiontreeclassifier__max_depth': 4,\n",
    "#  'decisiontreeclassifier__min_samples_leaf': 5"
   ]
  },
  {
   "cell_type": "code",
   "execution_count": 38,
   "id": "b03474b7-89ec-40dd-a72c-00f01529287b",
   "metadata": {},
   "outputs": [],
   "source": [
    "fin_preprocessor = preprocessor\n",
    "\n",
    "findtree = DecisionTreeClassifier(\n",
    "    max_depth= 4,\n",
    "    min_samples_leaf=5\n",
    ")\n",
    "\n",
    "kaggle_pipeline = make_pipeline(fin_preprocessor, findtree)\n",
    "\n"
   ]
  },
  {
   "cell_type": "code",
   "execution_count": 39,
   "id": "b108f5da-dd2d-4ad5-a2db-989e1abcbbe4",
   "metadata": {},
   "outputs": [
    {
     "name": "stdout",
     "output_type": "stream",
     "text": [
      "80\n"
     ]
    }
   ],
   "source": [
    "print(len(list(kaggle.columns)))\n"
   ]
  },
  {
   "cell_type": "code",
   "execution_count": 40,
   "id": "70fdc27b-c6d3-42f6-8dd9-8c914d3e50d4",
   "metadata": {},
   "outputs": [
    {
     "name": "stdout",
     "output_type": "stream",
     "text": [
      "80\n",
      "all features for training -> ['LotArea', 'LotFrontage', 'TotalBsmtSF', 'BedroomAbvGr', 'Fireplaces', 'PoolArea', 'GarageCars', 'WoodDeckSF', 'ScreenPorch', 'MSZoning', 'Condition1', 'Heating', 'Street', 'CentralAir', 'Foundation', 'ExterQual', 'ExterCond', 'BsmtQual', 'BsmtCond', 'BsmtExposure', 'BsmtFinType1', 'KitchenQual', 'FireplaceQu', 'MSSubClass', 'OverallQual', 'OverallCond', 'YearBuilt', 'YearRemodAdd', 'MasVnrArea', 'BsmtFinSF1', 'BsmtFinSF2', 'BsmtUnfSF', '1stFlrSF', '2ndFlrSF', 'LowQualFinSF', 'GrLivArea', 'BsmtFullBath', 'BsmtHalfBath', 'FullBath', 'HalfBath', 'KitchenAbvGr', 'TotRmsAbvGrd', 'GarageYrBlt', 'GarageArea', 'OpenPorchSF', 'EnclosedPorch', '3SsnPorch', 'MiscVal', 'MoSold', 'YrSold', 'Id', 'Alley', 'LotShape', 'LandContour', 'Utilities', 'LotConfig', 'LandSlope', 'Neighborhood', 'Condition2', 'BldgType', 'HouseStyle', 'RoofStyle', 'RoofMatl', 'Exterior1st', 'Exterior2nd', 'MasVnrType', 'BsmtFinType2', 'HeatingQC', 'Electrical', 'Functional', 'GarageType', 'GarageFinish', 'GarageQual', 'GarageCond', 'PavedDrive', 'PoolQC', 'Fence', 'MiscFeature', 'SaleType', 'SaleCondition']\n"
     ]
    }
   ],
   "source": [
    "feature_columns = list(X_train.columns)\n",
    "# feature_columns.remove('target')\n",
    "# feature_columns.remove('Id')\n",
    "print(len(feature_columns))\n",
    "print('all features for training ->',feature_columns)"
   ]
  },
  {
   "cell_type": "code",
   "execution_count": 41,
   "id": "d9d8adb0-5fdf-4416-a354-5bc23783be97",
   "metadata": {},
   "outputs": [
    {
     "name": "stdout",
     "output_type": "stream",
     "text": [
      "80\n"
     ]
    }
   ],
   "source": [
    "# remove columns from kaggle dataset\n",
    "drop_ls = [x for x in kaggle.columns if x not in feature_columns]\n",
    "\n",
    "kaggle.drop(drop_ls, axis=1, inplace=True)\n",
    "print(len(list(kaggle.columns)))\n"
   ]
  },
  {
   "cell_type": "code",
   "execution_count": 42,
   "id": "ce210ac5-4858-4ba9-86d3-136847a03b4f",
   "metadata": {},
   "outputs": [
    {
     "data": {
      "text/plain": [
       "(1459, 80)"
      ]
     },
     "execution_count": 42,
     "metadata": {},
     "output_type": "execute_result"
    }
   ],
   "source": [
    "kaggle.shape\n"
   ]
  },
  {
   "cell_type": "code",
   "execution_count": 43,
   "id": "405484c0-bb08-4012-8cf9-e7792fb6f73e",
   "metadata": {},
   "outputs": [
    {
     "data": {
      "text/plain": [
       "Pipeline(steps=[('columntransformer',\n",
       "                 ColumnTransformer(transformers=[('num_pipe',\n",
       "                                                  Pipeline(steps=[('simpleimputer',\n",
       "                                                                   SimpleImputer()),\n",
       "                                                                  ('minmaxscaler',\n",
       "                                                                   MinMaxScaler())]),\n",
       "                                                  Index(['LotArea', 'LotFrontage', 'TotalBsmtSF', 'BedroomAbvGr', 'Fireplaces',\n",
       "       'PoolArea', 'GarageCars', 'WoodDeckSF', 'ScreenPorch', 'MSSubClass',\n",
       "       'OverallQual', 'OverallCond', 'YearBuilt', 'YearRem...\n",
       "       'Neighborhood', 'Condition2', 'BldgType', 'HouseStyle', 'RoofStyle',\n",
       "       'RoofMatl', 'Exterior1st', 'Exterior2nd', 'MasVnrType', 'BsmtFinType2',\n",
       "       'HeatingQC', 'Electrical', 'Functional', 'GarageType', 'GarageFinish',\n",
       "       'GarageQual', 'GarageCond', 'PavedDrive', 'PoolQC', 'Fence',\n",
       "       'MiscFeature', 'SaleType', 'SaleCondition'],\n",
       "      dtype='object'))])),\n",
       "                ('decisiontreeclassifier',\n",
       "                 DecisionTreeClassifier(max_depth=4, min_samples_leaf=5))])"
      ]
     },
     "execution_count": 43,
     "metadata": {},
     "output_type": "execute_result"
    }
   ],
   "source": [
    "kaggle_pipeline.fit(X_train,y_train)\n"
   ]
  },
  {
   "cell_type": "code",
   "execution_count": 44,
   "id": "f0c96ea1-92ab-4ba6-9d29-6fa7c00700a3",
   "metadata": {},
   "outputs": [],
   "source": [
    "to_predict = kaggle\n",
    "fin_pred = kaggle_pipeline.predict(to_predict)\n",
    "\n",
    "# accuracy_score(y_train, kaggle_pred)"
   ]
  },
  {
   "cell_type": "code",
   "execution_count": 45,
   "id": "52d631eb-2feb-4ef9-bc2e-803c79b7d429",
   "metadata": {},
   "outputs": [],
   "source": [
    "from datetime import datetime\n",
    "\n",
    "now = datetime.utcnow().strftime('%Y-%m-%d %H:%M:%S')\n",
    "my_submission = pd.DataFrame({'Id': to_predict.index, 'Expensive': fin_pred})\n",
    "\n",
    "my_submission.to_csv(f'talladen_submit_{now}.csv', index=False)"
   ]
  },
  {
   "cell_type": "code",
   "execution_count": null,
   "id": "2ad21dca-f6e6-4796-993b-9714d26cefad",
   "metadata": {},
   "outputs": [],
   "source": []
  },
  {
   "cell_type": "code",
   "execution_count": null,
   "id": "e1d4b682-12f2-4b05-a12a-a9655bbb8a0c",
   "metadata": {},
   "outputs": [],
   "source": []
  }
 ],
 "metadata": {
  "kernelspec": {
   "display_name": "Python 3 (ipykernel)",
   "language": "python",
   "name": "python3"
  },
  "language_info": {
   "codemirror_mode": {
    "name": "ipython",
    "version": 3
   },
   "file_extension": ".py",
   "mimetype": "text/x-python",
   "name": "python",
   "nbconvert_exporter": "python",
   "pygments_lexer": "ipython3",
   "version": "3.9.13"
  }
 },
 "nbformat": 4,
 "nbformat_minor": 5
}
