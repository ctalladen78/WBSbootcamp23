{
 "cells": [
  {
   "cell_type": "code",
   "execution_count": 1,
   "id": "97417993-11dd-42ce-ba73-c972da0f9381",
   "metadata": {},
   "outputs": [],
   "source": [
    "# svm log reg random forest"
   ]
  },
  {
   "cell_type": "code",
   "execution_count": 2,
   "id": "f7b1df76-5581-45c2-b397-0bde2b51c532",
   "metadata": {},
   "outputs": [],
   "source": [
    "import pandas as pd\n",
    "import numpy as np\n",
    "import seaborn as sns\n",
    "import matplotlib.pyplot as plt\n",
    "\n",
    "housing_df = pd.read_csv('~/Documents/datacamp/WBS-School/wbs-housing-iter-0-2/iter-6/housing-classification-iter6.csv')\n",
    "\n"
   ]
  },
  {
   "cell_type": "code",
   "execution_count": 3,
   "id": "a3604900-1660-4627-9f43-b697b91b1003",
   "metadata": {},
   "outputs": [],
   "source": [
    "# housing_df.info()"
   ]
  },
  {
   "cell_type": "code",
   "execution_count": 4,
   "id": "387f688b-dc04-44fc-8eb9-218a3b4120e5",
   "metadata": {},
   "outputs": [],
   "source": [
    "housing_df.drop(['GarageYrBlt'],inplace=True,axis=1)"
   ]
  },
  {
   "cell_type": "code",
   "execution_count": 5,
   "id": "c87ccf21-73f2-4fa6-adee-67c4b954fc6c",
   "metadata": {},
   "outputs": [
    {
     "name": "stdout",
     "output_type": "stream",
     "text": [
      "<class 'pandas.core.frame.DataFrame'>\n",
      "RangeIndex: 1460 entries, 0 to 1459\n",
      "Data columns (total 80 columns):\n",
      " #   Column         Non-Null Count  Dtype  \n",
      "---  ------         --------------  -----  \n",
      " 0   LotArea        1460 non-null   int64  \n",
      " 1   LotFrontage    1201 non-null   float64\n",
      " 2   TotalBsmtSF    1460 non-null   int64  \n",
      " 3   BedroomAbvGr   1460 non-null   int64  \n",
      " 4   Fireplaces     1460 non-null   int64  \n",
      " 5   PoolArea       1460 non-null   int64  \n",
      " 6   GarageCars     1460 non-null   int64  \n",
      " 7   WoodDeckSF     1460 non-null   int64  \n",
      " 8   ScreenPorch    1460 non-null   int64  \n",
      " 9   Expensive      1460 non-null   int64  \n",
      " 10  MSZoning       1460 non-null   object \n",
      " 11  Condition1     1460 non-null   object \n",
      " 12  Heating        1460 non-null   object \n",
      " 13  Street         1460 non-null   object \n",
      " 14  CentralAir     1460 non-null   object \n",
      " 15  Foundation     1460 non-null   object \n",
      " 16  ExterQual      1460 non-null   object \n",
      " 17  ExterCond      1460 non-null   object \n",
      " 18  BsmtQual       1423 non-null   object \n",
      " 19  BsmtCond       1423 non-null   object \n",
      " 20  BsmtExposure   1422 non-null   object \n",
      " 21  BsmtFinType1   1423 non-null   object \n",
      " 22  KitchenQual    1460 non-null   object \n",
      " 23  FireplaceQu    770 non-null    object \n",
      " 24  MSSubClass     1460 non-null   int64  \n",
      " 25  OverallQual    1460 non-null   int64  \n",
      " 26  OverallCond    1460 non-null   int64  \n",
      " 27  YearBuilt      1460 non-null   int64  \n",
      " 28  YearRemodAdd   1460 non-null   int64  \n",
      " 29  MasVnrArea     1452 non-null   float64\n",
      " 30  BsmtFinSF1     1460 non-null   int64  \n",
      " 31  BsmtFinSF2     1460 non-null   int64  \n",
      " 32  BsmtUnfSF      1460 non-null   int64  \n",
      " 33  1stFlrSF       1460 non-null   int64  \n",
      " 34  2ndFlrSF       1460 non-null   int64  \n",
      " 35  LowQualFinSF   1460 non-null   int64  \n",
      " 36  GrLivArea      1460 non-null   int64  \n",
      " 37  BsmtFullBath   1460 non-null   int64  \n",
      " 38  BsmtHalfBath   1460 non-null   int64  \n",
      " 39  FullBath       1460 non-null   int64  \n",
      " 40  HalfBath       1460 non-null   int64  \n",
      " 41  KitchenAbvGr   1460 non-null   int64  \n",
      " 42  TotRmsAbvGrd   1460 non-null   int64  \n",
      " 43  GarageArea     1460 non-null   int64  \n",
      " 44  OpenPorchSF    1460 non-null   int64  \n",
      " 45  EnclosedPorch  1460 non-null   int64  \n",
      " 46  3SsnPorch      1460 non-null   int64  \n",
      " 47  MiscVal        1460 non-null   float64\n",
      " 48  MoSold         1460 non-null   int64  \n",
      " 49  YrSold         1460 non-null   int64  \n",
      " 50  Id             1460 non-null   int64  \n",
      " 51  Alley          91 non-null     object \n",
      " 52  LotShape       1460 non-null   object \n",
      " 53  LandContour    1460 non-null   object \n",
      " 54  Utilities      1460 non-null   object \n",
      " 55  LotConfig      1460 non-null   object \n",
      " 56  LandSlope      1460 non-null   object \n",
      " 57  Neighborhood   1460 non-null   object \n",
      " 58  Condition2     1460 non-null   object \n",
      " 59  BldgType       1460 non-null   object \n",
      " 60  HouseStyle     1460 non-null   object \n",
      " 61  RoofStyle      1460 non-null   object \n",
      " 62  RoofMatl       1460 non-null   object \n",
      " 63  Exterior1st    1460 non-null   object \n",
      " 64  Exterior2nd    1460 non-null   object \n",
      " 65  MasVnrType     1452 non-null   object \n",
      " 66  BsmtFinType2   1422 non-null   object \n",
      " 67  HeatingQC      1460 non-null   object \n",
      " 68  Electrical     1459 non-null   object \n",
      " 69  Functional     1460 non-null   object \n",
      " 70  GarageType     1379 non-null   object \n",
      " 71  GarageFinish   1379 non-null   object \n",
      " 72  GarageQual     1379 non-null   object \n",
      " 73  GarageCond     1379 non-null   object \n",
      " 74  PavedDrive     1460 non-null   object \n",
      " 75  PoolQC         7 non-null      object \n",
      " 76  Fence          281 non-null    object \n",
      " 77  MiscFeature    54 non-null     object \n",
      " 78  SaleType       1460 non-null   object \n",
      " 79  SaleCondition  1460 non-null   object \n",
      "dtypes: float64(3), int64(34), object(43)\n",
      "memory usage: 912.6+ KB\n"
     ]
    }
   ],
   "source": [
    "#  replace outliers from MiscVal column\n",
    "# df[df.a < np.percentile(df.a,95)]\n",
    "# df2.loc[df2['Values'].isin(df1['Values']), 'Values'] = 'Other'\n",
    "df = housing_df\n",
    "df.loc[df.MiscVal < np.percentile(df.MiscVal,95), 'MiscVal'] = np.mean(df.MiscVal)\n",
    "\n",
    "\n",
    "housing_df.info()"
   ]
  },
  {
   "cell_type": "code",
   "execution_count": 6,
   "id": "d0feb2c9-2993-40e9-8e4d-cca08709fe32",
   "metadata": {},
   "outputs": [
    {
     "data": {
      "text/plain": [
       "(1460, 80)"
      ]
     },
     "execution_count": 6,
     "metadata": {},
     "output_type": "execute_result"
    }
   ],
   "source": [
    "housing_df.shape"
   ]
  },
  {
   "cell_type": "code",
   "execution_count": 7,
   "id": "42df78f7-1a23-48e1-bb98-7e7093d8f176",
   "metadata": {},
   "outputs": [],
   "source": [
    "X = housing_df.copy()\n"
   ]
  },
  {
   "cell_type": "code",
   "execution_count": 8,
   "id": "703455cd-9e3c-46db-a6ab-2a59aeab7ce5",
   "metadata": {},
   "outputs": [],
   "source": [
    "# X.drop('Floor',inplace=True)"
   ]
  },
  {
   "cell_type": "code",
   "execution_count": 9,
   "id": "9420dc98-b0a3-42f2-8494-b7e0198886c8",
   "metadata": {},
   "outputs": [],
   "source": [
    "# target\n",
    "y = X.pop(\"Expensive\")"
   ]
  },
  {
   "cell_type": "code",
   "execution_count": 10,
   "id": "5feb2539-76e6-46a0-9c3a-b832791756b5",
   "metadata": {},
   "outputs": [],
   "source": [
    "from sklearn.model_selection import train_test_split\n",
    "\n",
    "X_train, X_test, y_train, y_test = train_test_split(X, y, test_size=0.2, random_state=31416)\n",
    "\n"
   ]
  },
  {
   "cell_type": "code",
   "execution_count": 11,
   "id": "53c5a616-142f-4cd2-8e7a-738964bf1fa9",
   "metadata": {},
   "outputs": [],
   "source": [
    "# helper\n",
    "def to_df(arr,df):\n",
    "    print(arr.shape)\n",
    "    print(df.shape)\n",
    "    return pd.DataFrame(arr, columns=df.columns, index=df.index)\n",
    "\n"
   ]
  },
  {
   "cell_type": "code",
   "execution_count": 12,
   "id": "16b150f4-a422-4945-83df-a57dd1c9f8c2",
   "metadata": {},
   "outputs": [
    {
     "name": "stdout",
     "output_type": "stream",
     "text": [
      "(1168, 43)\n",
      "(1168, 43)\n"
     ]
    }
   ],
   "source": [
    "from sklearn.impute import SimpleImputer\n",
    "\n",
    "# selecting non-numerical columns\n",
    "X_train_cat = X_train.select_dtypes(exclude=\"number\")\n",
    "\n",
    "# defining the imputer to use \"N_A\" as replacement value\n",
    "cat_imputer = SimpleImputer(strategy=\"constant\", \n",
    "                            fill_value=\"N_A\")#.set_output(transform='pandas')\n",
    "\n",
    "# fitting and transforming\n",
    "X_cat_imputed = cat_imputer.fit_transform(X_train_cat)\n",
    "X_cat_imputed = to_df(X_cat_imputed,X_train_cat)\n",
    "\n"
   ]
  },
  {
   "cell_type": "code",
   "execution_count": 13,
   "id": "f39d52bf-46f1-476e-ba57-fb167839e714",
   "metadata": {},
   "outputs": [
    {
     "name": "stdout",
     "output_type": "stream",
     "text": [
      "(1168, 36)\n",
      "(1168, 36)\n"
     ]
    },
    {
     "data": {
      "text/html": [
       "<div>\n",
       "<style scoped>\n",
       "    .dataframe tbody tr th:only-of-type {\n",
       "        vertical-align: middle;\n",
       "    }\n",
       "\n",
       "    .dataframe tbody tr th {\n",
       "        vertical-align: top;\n",
       "    }\n",
       "\n",
       "    .dataframe thead th {\n",
       "        text-align: right;\n",
       "    }\n",
       "</style>\n",
       "<table border=\"1\" class=\"dataframe\">\n",
       "  <thead>\n",
       "    <tr style=\"text-align: right;\">\n",
       "      <th></th>\n",
       "      <th>LotArea</th>\n",
       "      <th>LotFrontage</th>\n",
       "      <th>TotalBsmtSF</th>\n",
       "      <th>BedroomAbvGr</th>\n",
       "      <th>Fireplaces</th>\n",
       "      <th>PoolArea</th>\n",
       "      <th>GarageCars</th>\n",
       "      <th>WoodDeckSF</th>\n",
       "      <th>ScreenPorch</th>\n",
       "      <th>MSSubClass</th>\n",
       "      <th>...</th>\n",
       "      <th>KitchenAbvGr</th>\n",
       "      <th>TotRmsAbvGrd</th>\n",
       "      <th>GarageArea</th>\n",
       "      <th>OpenPorchSF</th>\n",
       "      <th>EnclosedPorch</th>\n",
       "      <th>3SsnPorch</th>\n",
       "      <th>MiscVal</th>\n",
       "      <th>MoSold</th>\n",
       "      <th>YrSold</th>\n",
       "      <th>Id</th>\n",
       "    </tr>\n",
       "  </thead>\n",
       "  <tbody>\n",
       "    <tr>\n",
       "      <th>772</th>\n",
       "      <td>7819.0</td>\n",
       "      <td>94.00000</td>\n",
       "      <td>1029.0</td>\n",
       "      <td>3.0</td>\n",
       "      <td>1.0</td>\n",
       "      <td>0.0</td>\n",
       "      <td>2.0</td>\n",
       "      <td>144.0</td>\n",
       "      <td>0.0</td>\n",
       "      <td>80.0</td>\n",
       "      <td>...</td>\n",
       "      <td>1.0</td>\n",
       "      <td>6.0</td>\n",
       "      <td>672.0</td>\n",
       "      <td>0.0</td>\n",
       "      <td>0.0</td>\n",
       "      <td>0.0</td>\n",
       "      <td>0.0</td>\n",
       "      <td>3.0</td>\n",
       "      <td>2010.0</td>\n",
       "      <td>773.0</td>\n",
       "    </tr>\n",
       "    <tr>\n",
       "      <th>157</th>\n",
       "      <td>12003.0</td>\n",
       "      <td>92.00000</td>\n",
       "      <td>774.0</td>\n",
       "      <td>4.0</td>\n",
       "      <td>1.0</td>\n",
       "      <td>0.0</td>\n",
       "      <td>3.0</td>\n",
       "      <td>0.0</td>\n",
       "      <td>0.0</td>\n",
       "      <td>60.0</td>\n",
       "      <td>...</td>\n",
       "      <td>1.0</td>\n",
       "      <td>8.0</td>\n",
       "      <td>680.0</td>\n",
       "      <td>75.0</td>\n",
       "      <td>0.0</td>\n",
       "      <td>0.0</td>\n",
       "      <td>0.0</td>\n",
       "      <td>5.0</td>\n",
       "      <td>2010.0</td>\n",
       "      <td>158.0</td>\n",
       "    </tr>\n",
       "    <tr>\n",
       "      <th>360</th>\n",
       "      <td>7540.0</td>\n",
       "      <td>70.10352</td>\n",
       "      <td>888.0</td>\n",
       "      <td>2.0</td>\n",
       "      <td>1.0</td>\n",
       "      <td>0.0</td>\n",
       "      <td>2.0</td>\n",
       "      <td>0.0</td>\n",
       "      <td>192.0</td>\n",
       "      <td>85.0</td>\n",
       "      <td>...</td>\n",
       "      <td>1.0</td>\n",
       "      <td>5.0</td>\n",
       "      <td>470.0</td>\n",
       "      <td>0.0</td>\n",
       "      <td>0.0</td>\n",
       "      <td>0.0</td>\n",
       "      <td>0.0</td>\n",
       "      <td>6.0</td>\n",
       "      <td>2007.0</td>\n",
       "      <td>361.0</td>\n",
       "    </tr>\n",
       "    <tr>\n",
       "      <th>744</th>\n",
       "      <td>5395.0</td>\n",
       "      <td>41.00000</td>\n",
       "      <td>1337.0</td>\n",
       "      <td>2.0</td>\n",
       "      <td>1.0</td>\n",
       "      <td>0.0</td>\n",
       "      <td>2.0</td>\n",
       "      <td>96.0</td>\n",
       "      <td>0.0</td>\n",
       "      <td>120.0</td>\n",
       "      <td>...</td>\n",
       "      <td>1.0</td>\n",
       "      <td>5.0</td>\n",
       "      <td>462.0</td>\n",
       "      <td>0.0</td>\n",
       "      <td>70.0</td>\n",
       "      <td>168.0</td>\n",
       "      <td>0.0</td>\n",
       "      <td>10.0</td>\n",
       "      <td>2008.0</td>\n",
       "      <td>745.0</td>\n",
       "    </tr>\n",
       "    <tr>\n",
       "      <th>150</th>\n",
       "      <td>10356.0</td>\n",
       "      <td>120.00000</td>\n",
       "      <td>969.0</td>\n",
       "      <td>3.0</td>\n",
       "      <td>0.0</td>\n",
       "      <td>0.0</td>\n",
       "      <td>2.0</td>\n",
       "      <td>0.0</td>\n",
       "      <td>0.0</td>\n",
       "      <td>20.0</td>\n",
       "      <td>...</td>\n",
       "      <td>1.0</td>\n",
       "      <td>5.0</td>\n",
       "      <td>440.0</td>\n",
       "      <td>0.0</td>\n",
       "      <td>0.0</td>\n",
       "      <td>0.0</td>\n",
       "      <td>0.0</td>\n",
       "      <td>1.0</td>\n",
       "      <td>2007.0</td>\n",
       "      <td>151.0</td>\n",
       "    </tr>\n",
       "  </tbody>\n",
       "</table>\n",
       "<p>5 rows × 36 columns</p>\n",
       "</div>"
      ],
      "text/plain": [
       "     LotArea  LotFrontage  TotalBsmtSF  BedroomAbvGr  Fireplaces  PoolArea  \\\n",
       "772   7819.0     94.00000       1029.0           3.0         1.0       0.0   \n",
       "157  12003.0     92.00000        774.0           4.0         1.0       0.0   \n",
       "360   7540.0     70.10352        888.0           2.0         1.0       0.0   \n",
       "744   5395.0     41.00000       1337.0           2.0         1.0       0.0   \n",
       "150  10356.0    120.00000        969.0           3.0         0.0       0.0   \n",
       "\n",
       "     GarageCars  WoodDeckSF  ScreenPorch  MSSubClass  ...  KitchenAbvGr  \\\n",
       "772         2.0       144.0          0.0        80.0  ...           1.0   \n",
       "157         3.0         0.0          0.0        60.0  ...           1.0   \n",
       "360         2.0         0.0        192.0        85.0  ...           1.0   \n",
       "744         2.0        96.0          0.0       120.0  ...           1.0   \n",
       "150         2.0         0.0          0.0        20.0  ...           1.0   \n",
       "\n",
       "     TotRmsAbvGrd  GarageArea  OpenPorchSF  EnclosedPorch  3SsnPorch  MiscVal  \\\n",
       "772           6.0       672.0          0.0            0.0        0.0      0.0   \n",
       "157           8.0       680.0         75.0            0.0        0.0      0.0   \n",
       "360           5.0       470.0          0.0            0.0        0.0      0.0   \n",
       "744           5.0       462.0          0.0           70.0      168.0      0.0   \n",
       "150           5.0       440.0          0.0            0.0        0.0      0.0   \n",
       "\n",
       "     MoSold  YrSold     Id  \n",
       "772     3.0  2010.0  773.0  \n",
       "157     5.0  2010.0  158.0  \n",
       "360     6.0  2007.0  361.0  \n",
       "744    10.0  2008.0  745.0  \n",
       "150     1.0  2007.0  151.0  \n",
       "\n",
       "[5 rows x 36 columns]"
      ]
     },
     "execution_count": 13,
     "metadata": {},
     "output_type": "execute_result"
    }
   ],
   "source": [
    "# Selecting numerical columns\n",
    "X_train_num = X_train.select_dtypes(include=\"number\")\n",
    "\n",
    "# Imputing the mean\n",
    "num_imputer = SimpleImputer(strategy=\"mean\")#.set_output(transform='pandas')\n",
    "\n",
    "# Fitting and transforming\n",
    "X_num_imputed = num_imputer.fit_transform(X_train_num)\n",
    "X_num_imputed = to_df(X_num_imputed,X_train_num)\n",
    "X_num_imputed.head()"
   ]
  },
  {
   "cell_type": "code",
   "execution_count": 14,
   "id": "f89123e6-f2d7-4a75-bfdb-79463de6ed80",
   "metadata": {},
   "outputs": [],
   "source": [
    "from sklearn.preprocessing import OneHotEncoder\n",
    "\n",
    "# initialize\n",
    "# my_onehot = OneHotEncoder(drop=\"first\",sparse_output=False).set_output(transform='pandas')\n",
    "my_onehot = OneHotEncoder(handle_unknown='ignore')\n",
    "# fit\n",
    "my_onehot.fit(X_cat_imputed)\n",
    "\n",
    "# transform\n",
    "X_cat_imputed_mat = my_onehot.transform(X_cat_imputed)"
   ]
  },
  {
   "cell_type": "code",
   "execution_count": 15,
   "id": "6e2d7167-d86f-4de1-b692-f9b14693e1c3",
   "metadata": {},
   "outputs": [
    {
     "data": {
      "text/html": [
       "<div>\n",
       "<style scoped>\n",
       "    .dataframe tbody tr th:only-of-type {\n",
       "        vertical-align: middle;\n",
       "    }\n",
       "\n",
       "    .dataframe tbody tr th {\n",
       "        vertical-align: top;\n",
       "    }\n",
       "\n",
       "    .dataframe thead th {\n",
       "        text-align: right;\n",
       "    }\n",
       "</style>\n",
       "<table border=\"1\" class=\"dataframe\">\n",
       "  <thead>\n",
       "    <tr style=\"text-align: right;\">\n",
       "      <th></th>\n",
       "      <th>0</th>\n",
       "      <th>1</th>\n",
       "      <th>2</th>\n",
       "      <th>3</th>\n",
       "      <th>4</th>\n",
       "      <th>5</th>\n",
       "      <th>6</th>\n",
       "      <th>7</th>\n",
       "      <th>8</th>\n",
       "      <th>9</th>\n",
       "      <th>...</th>\n",
       "      <th>KitchenAbvGr</th>\n",
       "      <th>TotRmsAbvGrd</th>\n",
       "      <th>GarageArea</th>\n",
       "      <th>OpenPorchSF</th>\n",
       "      <th>EnclosedPorch</th>\n",
       "      <th>3SsnPorch</th>\n",
       "      <th>MiscVal</th>\n",
       "      <th>MoSold</th>\n",
       "      <th>YrSold</th>\n",
       "      <th>Id</th>\n",
       "    </tr>\n",
       "  </thead>\n",
       "  <tbody>\n",
       "    <tr>\n",
       "      <th>0</th>\n",
       "      <td>0.0</td>\n",
       "      <td>0.0</td>\n",
       "      <td>0.0</td>\n",
       "      <td>1.0</td>\n",
       "      <td>0.0</td>\n",
       "      <td>0.0</td>\n",
       "      <td>0.0</td>\n",
       "      <td>1.0</td>\n",
       "      <td>0.0</td>\n",
       "      <td>0.0</td>\n",
       "      <td>...</td>\n",
       "      <td>1.0</td>\n",
       "      <td>8.0</td>\n",
       "      <td>548.0</td>\n",
       "      <td>61.0</td>\n",
       "      <td>0.0</td>\n",
       "      <td>0.0</td>\n",
       "      <td>0.0</td>\n",
       "      <td>2.0</td>\n",
       "      <td>2008.0</td>\n",
       "      <td>1.0</td>\n",
       "    </tr>\n",
       "    <tr>\n",
       "      <th>1</th>\n",
       "      <td>0.0</td>\n",
       "      <td>0.0</td>\n",
       "      <td>0.0</td>\n",
       "      <td>1.0</td>\n",
       "      <td>0.0</td>\n",
       "      <td>0.0</td>\n",
       "      <td>0.0</td>\n",
       "      <td>1.0</td>\n",
       "      <td>0.0</td>\n",
       "      <td>0.0</td>\n",
       "      <td>...</td>\n",
       "      <td>1.0</td>\n",
       "      <td>6.0</td>\n",
       "      <td>460.0</td>\n",
       "      <td>0.0</td>\n",
       "      <td>0.0</td>\n",
       "      <td>0.0</td>\n",
       "      <td>0.0</td>\n",
       "      <td>5.0</td>\n",
       "      <td>2007.0</td>\n",
       "      <td>2.0</td>\n",
       "    </tr>\n",
       "    <tr>\n",
       "      <th>2</th>\n",
       "      <td>0.0</td>\n",
       "      <td>0.0</td>\n",
       "      <td>0.0</td>\n",
       "      <td>1.0</td>\n",
       "      <td>0.0</td>\n",
       "      <td>0.0</td>\n",
       "      <td>0.0</td>\n",
       "      <td>1.0</td>\n",
       "      <td>0.0</td>\n",
       "      <td>0.0</td>\n",
       "      <td>...</td>\n",
       "      <td>1.0</td>\n",
       "      <td>6.0</td>\n",
       "      <td>608.0</td>\n",
       "      <td>42.0</td>\n",
       "      <td>0.0</td>\n",
       "      <td>0.0</td>\n",
       "      <td>0.0</td>\n",
       "      <td>9.0</td>\n",
       "      <td>2008.0</td>\n",
       "      <td>3.0</td>\n",
       "    </tr>\n",
       "  </tbody>\n",
       "</table>\n",
       "<p>3 rows × 299 columns</p>\n",
       "</div>"
      ],
      "text/plain": [
       "     0    1    2    3    4    5    6    7    8    9  ...  KitchenAbvGr  \\\n",
       "0  0.0  0.0  0.0  1.0  0.0  0.0  0.0  1.0  0.0  0.0  ...           1.0   \n",
       "1  0.0  0.0  0.0  1.0  0.0  0.0  0.0  1.0  0.0  0.0  ...           1.0   \n",
       "2  0.0  0.0  0.0  1.0  0.0  0.0  0.0  1.0  0.0  0.0  ...           1.0   \n",
       "\n",
       "   TotRmsAbvGrd  GarageArea  OpenPorchSF  EnclosedPorch  3SsnPorch  MiscVal  \\\n",
       "0           8.0       548.0         61.0            0.0        0.0      0.0   \n",
       "1           6.0       460.0          0.0            0.0        0.0      0.0   \n",
       "2           6.0       608.0         42.0            0.0        0.0      0.0   \n",
       "\n",
       "   MoSold  YrSold   Id  \n",
       "0     2.0  2008.0  1.0  \n",
       "1     5.0  2007.0  2.0  \n",
       "2     9.0  2008.0  3.0  \n",
       "\n",
       "[3 rows x 299 columns]"
      ]
     },
     "execution_count": 15,
     "metadata": {},
     "output_type": "execute_result"
    }
   ],
   "source": [
    "import scipy.sparse\n",
    "X_cat_imputed_onehot = pd.DataFrame.sparse.from_spmatrix(X_cat_imputed_mat)\n",
    "X_imputed = pd.concat([X_cat_imputed_onehot, X_num_imputed], axis=1)\n",
    "\n",
    "X_imputed.head(3)"
   ]
  },
  {
   "cell_type": "code",
   "execution_count": 16,
   "id": "ec4b35c8-037a-4fd2-9aea-e66777afcd1b",
   "metadata": {},
   "outputs": [],
   "source": [
    "from sklearn.preprocessing import StandardScaler, MinMaxScaler\n",
    "stscaler = StandardScaler()\n",
    "mmscaler = MinMaxScaler()"
   ]
  },
  {
   "cell_type": "code",
   "execution_count": 17,
   "id": "d54007e6-60bd-43f3-80b3-d43749951bf9",
   "metadata": {},
   "outputs": [],
   "source": [
    "from sklearn.pipeline import make_pipeline\n",
    "\n",
    "# select categorical and numerical column names\n",
    "X_cat_columns = X.select_dtypes(exclude=\"number\").copy().columns\n",
    "X_num_columns = X.select_dtypes(include=\"number\").copy().columns\n",
    "\n",
    "# create numerical pipeline, only with the SimpleImputer(strategy=\"mean\")\n",
    "numeric_pipe = make_pipeline(\n",
    "    SimpleImputer(strategy=\"mean\"),\n",
    "    stscaler\n",
    ")\n",
    "\n",
    "# create categorical pipeline, with the SimpleImputer(fill_value=\"N_A\") and the OneHotEncoder\n",
    "categoric_pipe = make_pipeline(\n",
    "    SimpleImputer(strategy=\"constant\", fill_value=\"N_A\"),\n",
    "    # OneHotEncoder(sparse_output=False)\n",
    "    OneHotEncoder()\n",
    ")"
   ]
  },
  {
   "cell_type": "code",
   "execution_count": 18,
   "id": "855205d0-6e30-485d-b7e6-2043a69ced5e",
   "metadata": {},
   "outputs": [],
   "source": [
    "from sklearn.compose import ColumnTransformer\n",
    "\n",
    "preprocessor = ColumnTransformer(\n",
    "    transformers=[\n",
    "        (\"num_pipe\", numeric_pipe, X_num_columns),\n",
    "        (\"cat_pipe\", categoric_pipe, X_cat_columns),\n",
    "    ]\n",
    ")"
   ]
  },
  {
   "cell_type": "code",
   "execution_count": 19,
   "id": "aeef1c66-eb12-4beb-8399-a42b3b09ebdc",
   "metadata": {},
   "outputs": [],
   "source": [
    "from sklearn.impute import SimpleImputer\n",
    "from sklearn.ensemble import RandomForestClassifier\n",
    "from sklearn.metrics import accuracy_score, r2_score, confusion_matrix, ConfusionMatrixDisplay\n",
    "\n"
   ]
  },
  {
   "cell_type": "code",
   "execution_count": 20,
   "id": "94fd6793-8d72-4df5-a4b8-3af6ba564699",
   "metadata": {},
   "outputs": [],
   "source": [
    "from sklearn.model_selection import KFold\n",
    "\n",
    "kfold_validation=KFold(10)\n",
    "\n"
   ]
  },
  {
   "cell_type": "code",
   "execution_count": 44,
   "id": "227a5f26-e796-439d-a5c5-8450187dc58a",
   "metadata": {},
   "outputs": [],
   "source": [
    "from sklearn.model_selection import GridSearchCV\n",
    "\n",
    "rforest = RandomForestClassifier()\n",
    "full_pipeline = make_pipeline(preprocessor, rforest)\n",
    "# k_range = list(range(1, 10))\n",
    "\n",
    "rfor_grid = {'randomforestclassifier__n_estimators': [100, 150, 200, 250, 300],\n",
    "              'randomforestclassifier__max_depth': [3,5,7,11],\n",
    "              'randomforestclassifier__max_features':['sqrt', 'log2', None]\n",
    "             }\n",
    "rfreg_grid = {'randomforestregressor__n_estimators': [100, 150, 200, 250, 300],\n",
    "              'randomforestregressor__max_depth': [3,5,7,11],\n",
    "              'randomforestregressor__max_features':['sqrt', 'log2', None]\n",
    "             }\n",
    "\n",
    "param_grid = rfor_grid\n",
    "\n",
    "crossval = 10\n",
    "\n",
    "search = GridSearchCV(full_pipeline,\n",
    "                      param_grid,\n",
    "                      cv=crossval,\n",
    "                      verbose=0,\n",
    "                      scoring='r2'\n",
    "                     )\n",
    "\n"
   ]
  },
  {
   "cell_type": "code",
   "execution_count": null,
   "id": "8e5a412f-501d-4599-8d3c-2dc0398329e2",
   "metadata": {},
   "outputs": [],
   "source": [
    "search.fit(X_train, y_train)"
   ]
  },
  {
   "cell_type": "code",
   "execution_count": null,
   "id": "57d069c9-73bc-44cf-977c-92579945c299",
   "metadata": {},
   "outputs": [],
   "source": [
    "# search.get_params().keys()"
   ]
  },
  {
   "cell_type": "code",
   "execution_count": 46,
   "id": "5b6499cc-6cc1-4c8d-9131-22e6e5716da9",
   "metadata": {},
   "outputs": [
    {
     "data": {
      "text/plain": [
       "nan"
      ]
     },
     "execution_count": 46,
     "metadata": {},
     "output_type": "execute_result"
    }
   ],
   "source": [
    "search.best_score_"
   ]
  },
  {
   "cell_type": "code",
   "execution_count": 47,
   "id": "266d3f06-8948-4fd2-8068-be169146950c",
   "metadata": {},
   "outputs": [
    {
     "name": "stdout",
     "output_type": "stream",
     "text": [
      "train grid score: 0.9323630136986302\n"
     ]
    }
   ],
   "source": [
    "# y_test_pred = search.predict(X_test)\n",
    "y_train_pred = search.predict(X_train)\n",
    "\n",
    "print('train grid score:',accuracy_score(y_train, y_train_pred))\n"
   ]
  },
  {
   "cell_type": "code",
   "execution_count": 48,
   "id": "56fd90dd-59ec-445b-98a0-8d7bdaa51d4e",
   "metadata": {},
   "outputs": [
    {
     "name": "stdout",
     "output_type": "stream",
     "text": [
      "R2 test score: 0.4787805525585914\n"
     ]
    }
   ],
   "source": [
    "\n",
    "# print(\"Baseline score = \", r2_score(y_test, y_test_mean))\n",
    "print('R2 test score:',r2_score(y_train, y_train_pred))"
   ]
  },
  {
   "cell_type": "code",
   "execution_count": null,
   "id": "c449052f-4fe9-4f22-aa18-c2d0ded924fe",
   "metadata": {},
   "outputs": [],
   "source": [
    "# y_test_pred = search.predict(X_test)\n",
    "\n",
    "# print(' test score:',accuracy_score(y_test, y_test_pred))\n"
   ]
  },
  {
   "cell_type": "code",
   "execution_count": null,
   "id": "97d785c2-6dd5-4cd9-b160-51ed0521eff0",
   "metadata": {},
   "outputs": [],
   "source": [
    "\n",
    "# print(\"Baseline score = \", r2_score(y_test, y_test_mean))\n",
    "# print('R2 test score:',r2_score(y_test, y_test_pred))"
   ]
  },
  {
   "cell_type": "code",
   "execution_count": 49,
   "id": "fc18f9f4-7807-4e4f-b67c-54816f6ed75c",
   "metadata": {},
   "outputs": [
    {
     "data": {
      "text/plain": [
       "{'randomforestclassifier__max_depth': 3,\n",
       " 'randomforestclassifier__max_features': 'sqrt',\n",
       " 'randomforestclassifier__n_estimators': 100}"
      ]
     },
     "execution_count": 49,
     "metadata": {},
     "output_type": "execute_result"
    }
   ],
   "source": [
    "search.best_params_"
   ]
  },
  {
   "cell_type": "code",
   "execution_count": 50,
   "id": "abe6adb0-a062-4499-b2bc-468abe24bb18",
   "metadata": {},
   "outputs": [
    {
     "name": "stdout",
     "output_type": "stream",
     "text": [
      "Train set RMSE of dtree: 0.26\n"
     ]
    }
   ],
   "source": [
    "from sklearn.metrics import mean_squared_error as MSE\n",
    "# Compute mse_dt train set\n",
    "mse_dtree = MSE(y_train, y_train_pred)\n",
    "\n",
    "# Compute rmse_dt\n",
    "rmse_dtree = mse_dtree**(1/2)\n",
    "\n",
    "# Print rmse_dt\n",
    "print(\"Train set RMSE of dtree: {:.2f}\".format(rmse_dtree))"
   ]
  },
  {
   "cell_type": "code",
   "execution_count": 51,
   "id": "beac8223-5041-46f9-9990-7509a01397c8",
   "metadata": {},
   "outputs": [
    {
     "data": {
      "image/png": "[encoded data removed]",
      "text/plain": [
       "<Figure size 640x480 with 2 Axes>"
      ]
     },
     "metadata": {},
     "output_type": "display_data"
    }
   ],
   "source": [
    "cm = confusion_matrix(y_train, y_train_pred)\n",
    "disp = ConfusionMatrixDisplay(confusion_matrix=cm)\n",
    "disp.plot()\n",
    "plt.show()"
   ]
  },
  {
   "cell_type": "code",
   "execution_count": null,
   "id": "0621825e-0e48-4a06-b1a6-2c1283aed3e2",
   "metadata": {},
   "outputs": [],
   "source": [
    "search.fit(X_test, y_test)"
   ]
  },
  {
   "cell_type": "code",
   "execution_count": 53,
   "id": "d534d57b-410b-42e0-bd13-bf2daf57386d",
   "metadata": {},
   "outputs": [
    {
     "name": "stdout",
     "output_type": "stream",
     "text": [
      "test set grid score: 0.934931506849315\n"
     ]
    }
   ],
   "source": [
    "y_test_pred = search.predict(X_test)\n",
    "\n",
    "print('test set grid score:',accuracy_score(y_test, y_test_pred))\n",
    "\n"
   ]
  },
  {
   "cell_type": "code",
   "execution_count": 54,
   "id": "fff7d9de-723d-4d28-b59f-e7d8bdea52e8",
   "metadata": {},
   "outputs": [
    {
     "data": {
      "image/png": "[encoded data removed]",
      "text/plain": [
       "<Figure size 640x480 with 2 Axes>"
      ]
     },
     "metadata": {},
     "output_type": "display_data"
    }
   ],
   "source": [
    "cm = confusion_matrix(y_test, y_test_pred)\n",
    "disp = ConfusionMatrixDisplay(confusion_matrix=cm)\n",
    "disp.plot()\n",
    "plt.show()"
   ]
  },
  {
   "cell_type": "code",
   "execution_count": null,
   "id": "4e92e9f9-6d27-435b-a959-f2ee75af14cd",
   "metadata": {},
   "outputs": [],
   "source": [
    "full_pipeline.fit(X_train, y_train)"
   ]
  },
  {
   "cell_type": "code",
   "execution_count": 56,
   "id": "c031d93c-b2d1-493c-bc56-00b2b9b58806",
   "metadata": {},
   "outputs": [
    {
     "data": {
      "text/plain": [
       "1.0"
      ]
     },
     "execution_count": 56,
     "metadata": {},
     "output_type": "execute_result"
    }
   ],
   "source": [
    "y_train_pred = full_pipeline.predict(X_train)\n",
    "\n",
    "accuracy_score(y_train, y_train_pred)"
   ]
  },
  {
   "cell_type": "code",
   "execution_count": null,
   "id": "2967c5fe-9b1a-4a4c-8b53-f0c3c5e0f71f",
   "metadata": {},
   "outputs": [],
   "source": [
    "full_pipeline.fit(X_test, y_test)"
   ]
  },
  {
   "cell_type": "code",
   "execution_count": 58,
   "id": "cae86d3b-3f1e-4e38-9616-0edf2b89e6f3",
   "metadata": {},
   "outputs": [
    {
     "data": {
      "text/plain": [
       "1.0"
      ]
     },
     "execution_count": 58,
     "metadata": {},
     "output_type": "execute_result"
    }
   ],
   "source": [
    "y_test_pred = full_pipeline.predict(X_test)\n",
    "\n",
    "accuracy_score(y_test, y_test_pred)"
   ]
  },
  {
   "cell_type": "code",
   "execution_count": null,
   "id": "3fe71ea5-7b2e-4aa1-ac43-dde095beca0c",
   "metadata": {},
   "outputs": [],
   "source": [
    "# ppl = sns.pairplot(X_train)"
   ]
  },
  {
   "cell_type": "code",
   "execution_count": null,
   "id": "43422380-8de1-4d9c-89ee-1498bb42a58c",
   "metadata": {},
   "outputs": [],
   "source": [
    "# ppl.savefig(\"housing.png\") "
   ]
  },
  {
   "cell_type": "code",
   "execution_count": null,
   "id": "d0d1b6c9-49b2-4c6f-b0ac-c9bb3a8a0aa2",
   "metadata": {},
   "outputs": [],
   "source": [
    "# https://medium.com/analytics-vidhya/evaluating-a-random-forest-model-9d165595ad56"
   ]
  },
  {
   "cell_type": "code",
   "execution_count": null,
   "id": "a6c4278e-6724-4381-8b35-19f6157081b9",
   "metadata": {},
   "outputs": [],
   "source": [
    "# final model params"
   ]
  },
  {
   "cell_type": "code",
   "execution_count": null,
   "id": "d0fffc1f-a4c2-4f93-a5fb-ffb614bcc32b",
   "metadata": {},
   "outputs": [],
   "source": [
    "# 'randomforestclassifier__max_depth': 3,\n",
    "#  'randomforestclassifier__max_features': 'sqrt',\n",
    "#  'randomforestclassifier__n_estimators': 100}"
   ]
  },
  {
   "cell_type": "code",
   "execution_count": null,
   "id": "d1bbdcd6-7cb5-4b5a-bc61-2115fd62405f",
   "metadata": {},
   "outputs": [],
   "source": []
  },
  {
   "cell_type": "code",
   "execution_count": null,
   "id": "9d8b7676-0e59-4037-bb76-5e380b3fef5f",
   "metadata": {},
   "outputs": [],
   "source": []
  },
  {
   "cell_type": "code",
   "execution_count": null,
   "id": "cbe8fe98-a785-49bb-b40b-0bc1b3c91db0",
   "metadata": {},
   "outputs": [],
   "source": []
  }
 ],
 "metadata": {
  "kernelspec": {
   "display_name": "Python 3 (ipykernel)",
   "language": "python",
   "name": "python3"
  },
  "language_info": {
   "codemirror_mode": {
    "name": "ipython",
    "version": 3
   },
   "file_extension": ".py",
   "mimetype": "text/x-python",
   "name": "python",
   "nbconvert_exporter": "python",
   "pygments_lexer": "ipython3",
   "version": "3.9.13"
  }
 },
 "nbformat": 4,
 "nbformat_minor": 5
}
