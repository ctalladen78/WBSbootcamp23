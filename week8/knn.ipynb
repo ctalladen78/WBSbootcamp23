{
 "cells": [
  {
   "cell_type": "code",
   "execution_count": 1,
   "id": "62ebc820-126b-409d-8110-6d5b2fdfee0d",
   "metadata": {},
   "outputs": [],
   "source": [
    "# knn"
   ]
  },
  {
   "cell_type": "code",
   "execution_count": 2,
   "id": "9d6f2635-d1df-42c4-b37e-48c9d33bbb07",
   "metadata": {},
   "outputs": [],
   "source": [
    "import pandas as pd\n",
    "import numpy as np\n",
    "import seaborn as sns\n",
    "import matplotlib.pyplot as plt\n",
    "\n",
    "housing_maindf = pd.read_csv('~/Documents/datacamp/WBS-School/wbs-housing-iter-0-2/iter-5/housing-classification-iter5.csv')\n",
    "\n",
    "housing_df = housing_maindf.copy()\n",
    "\n",
    "\n"
   ]
  },
  {
   "cell_type": "code",
   "execution_count": 3,
   "id": "482b0a82-9b57-4470-a327-8187c2b198ff",
   "metadata": {},
   "outputs": [],
   "source": [
    "# housing_df.info()"
   ]
  },
  {
   "cell_type": "code",
   "execution_count": 4,
   "id": "1ea3d4fa-742a-4c2a-ada1-0b6da17b801e",
   "metadata": {},
   "outputs": [],
   "source": [
    "# housing_df.isna().sum()"
   ]
  },
  {
   "cell_type": "code",
   "execution_count": 5,
   "id": "60ee4926-826a-42ef-b23b-76945b5bdb11",
   "metadata": {},
   "outputs": [],
   "source": [
    "X = housing_df.copy()\n"
   ]
  },
  {
   "cell_type": "code",
   "execution_count": 6,
   "id": "66516985-5a4b-46bf-a77a-351f6bacb100",
   "metadata": {},
   "outputs": [],
   "source": [
    "# target\n",
    "y = X.pop(\"Expensive\")\n"
   ]
  },
  {
   "cell_type": "code",
   "execution_count": 7,
   "id": "30d6b822-8c00-4b10-9d95-eae3e019f707",
   "metadata": {},
   "outputs": [],
   "source": [
    "from sklearn.model_selection import train_test_split\n",
    "\n",
    "X_train, X_test, y_train, y_test = train_test_split(X, y, test_size=0.2, random_state=31416)\n",
    "\n"
   ]
  },
  {
   "cell_type": "code",
   "execution_count": 8,
   "id": "25d4a5c0-140a-4ace-b912-81556efbdb16",
   "metadata": {},
   "outputs": [],
   "source": [
    "# helper\n",
    "def to_df(arr,df):\n",
    "    print(arr.shape)\n",
    "    print(df.shape)\n",
    "    return pd.DataFrame(arr, columns=df.columns, index=df.index)\n"
   ]
  },
  {
   "cell_type": "code",
   "execution_count": 9,
   "id": "4f37a161-6708-49d9-935b-497ca4ef496d",
   "metadata": {},
   "outputs": [
    {
     "name": "stdout",
     "output_type": "stream",
     "text": [
      "(1168, 14)\n",
      "(1168, 14)\n"
     ]
    }
   ],
   "source": [
    "from sklearn.impute import SimpleImputer\n",
    "\n",
    "# selecting non-numerical columns\n",
    "X_train_cat = X_train.select_dtypes(exclude=\"number\")\n",
    "\n",
    "# defining the imputer to use \"N_A\" as replacement value\n",
    "cat_imputer = SimpleImputer(strategy=\"constant\", \n",
    "                            fill_value=\"N_A\")#.set_output(transform='pandas')\n",
    "\n",
    "# fitting and transforming\n",
    "X_cat_imputed = cat_imputer.fit_transform(X_train_cat)\n",
    "X_cat_imputed = to_df(X_cat_imputed,X_train_cat)\n",
    "\n"
   ]
  },
  {
   "cell_type": "code",
   "execution_count": 10,
   "id": "0128a053-df49-48dd-b9b3-822812f6dc8c",
   "metadata": {},
   "outputs": [
    {
     "name": "stdout",
     "output_type": "stream",
     "text": [
      "(1168, 36)\n",
      "(1168, 36)\n"
     ]
    },
    {
     "data": {
      "text/html": [
       "<div>\n",
       "<style scoped>\n",
       "    .dataframe tbody tr th:only-of-type {\n",
       "        vertical-align: middle;\n",
       "    }\n",
       "\n",
       "    .dataframe tbody tr th {\n",
       "        vertical-align: top;\n",
       "    }\n",
       "\n",
       "    .dataframe thead th {\n",
       "        text-align: right;\n",
       "    }\n",
       "</style>\n",
       "<table border=\"1\" class=\"dataframe\">\n",
       "  <thead>\n",
       "    <tr style=\"text-align: right;\">\n",
       "      <th></th>\n",
       "      <th>LotArea</th>\n",
       "      <th>LotFrontage</th>\n",
       "      <th>TotalBsmtSF</th>\n",
       "      <th>BedroomAbvGr</th>\n",
       "      <th>Fireplaces</th>\n",
       "      <th>PoolArea</th>\n",
       "      <th>GarageCars</th>\n",
       "      <th>WoodDeckSF</th>\n",
       "      <th>ScreenPorch</th>\n",
       "      <th>MSSubClass</th>\n",
       "      <th>...</th>\n",
       "      <th>KitchenAbvGr</th>\n",
       "      <th>TotRmsAbvGrd</th>\n",
       "      <th>GarageYrBlt</th>\n",
       "      <th>GarageArea</th>\n",
       "      <th>OpenPorchSF</th>\n",
       "      <th>EnclosedPorch</th>\n",
       "      <th>3SsnPorch</th>\n",
       "      <th>MiscVal</th>\n",
       "      <th>MoSold</th>\n",
       "      <th>YrSold</th>\n",
       "    </tr>\n",
       "  </thead>\n",
       "  <tbody>\n",
       "    <tr>\n",
       "      <th>772</th>\n",
       "      <td>7819.0</td>\n",
       "      <td>94.00000</td>\n",
       "      <td>1029.0</td>\n",
       "      <td>3.0</td>\n",
       "      <td>1.0</td>\n",
       "      <td>0.0</td>\n",
       "      <td>2.0</td>\n",
       "      <td>144.0</td>\n",
       "      <td>0.0</td>\n",
       "      <td>80.0</td>\n",
       "      <td>...</td>\n",
       "      <td>1.0</td>\n",
       "      <td>6.0</td>\n",
       "      <td>1976.0</td>\n",
       "      <td>672.0</td>\n",
       "      <td>0.0</td>\n",
       "      <td>0.0</td>\n",
       "      <td>0.0</td>\n",
       "      <td>0.0</td>\n",
       "      <td>3.0</td>\n",
       "      <td>2010.0</td>\n",
       "    </tr>\n",
       "    <tr>\n",
       "      <th>157</th>\n",
       "      <td>12003.0</td>\n",
       "      <td>92.00000</td>\n",
       "      <td>774.0</td>\n",
       "      <td>4.0</td>\n",
       "      <td>1.0</td>\n",
       "      <td>0.0</td>\n",
       "      <td>3.0</td>\n",
       "      <td>0.0</td>\n",
       "      <td>0.0</td>\n",
       "      <td>60.0</td>\n",
       "      <td>...</td>\n",
       "      <td>1.0</td>\n",
       "      <td>8.0</td>\n",
       "      <td>2009.0</td>\n",
       "      <td>680.0</td>\n",
       "      <td>75.0</td>\n",
       "      <td>0.0</td>\n",
       "      <td>0.0</td>\n",
       "      <td>0.0</td>\n",
       "      <td>5.0</td>\n",
       "      <td>2010.0</td>\n",
       "    </tr>\n",
       "    <tr>\n",
       "      <th>360</th>\n",
       "      <td>7540.0</td>\n",
       "      <td>70.10352</td>\n",
       "      <td>888.0</td>\n",
       "      <td>2.0</td>\n",
       "      <td>1.0</td>\n",
       "      <td>0.0</td>\n",
       "      <td>2.0</td>\n",
       "      <td>0.0</td>\n",
       "      <td>192.0</td>\n",
       "      <td>85.0</td>\n",
       "      <td>...</td>\n",
       "      <td>1.0</td>\n",
       "      <td>5.0</td>\n",
       "      <td>1978.0</td>\n",
       "      <td>470.0</td>\n",
       "      <td>0.0</td>\n",
       "      <td>0.0</td>\n",
       "      <td>0.0</td>\n",
       "      <td>0.0</td>\n",
       "      <td>6.0</td>\n",
       "      <td>2007.0</td>\n",
       "    </tr>\n",
       "    <tr>\n",
       "      <th>744</th>\n",
       "      <td>5395.0</td>\n",
       "      <td>41.00000</td>\n",
       "      <td>1337.0</td>\n",
       "      <td>2.0</td>\n",
       "      <td>1.0</td>\n",
       "      <td>0.0</td>\n",
       "      <td>2.0</td>\n",
       "      <td>96.0</td>\n",
       "      <td>0.0</td>\n",
       "      <td>120.0</td>\n",
       "      <td>...</td>\n",
       "      <td>1.0</td>\n",
       "      <td>5.0</td>\n",
       "      <td>1993.0</td>\n",
       "      <td>462.0</td>\n",
       "      <td>0.0</td>\n",
       "      <td>70.0</td>\n",
       "      <td>168.0</td>\n",
       "      <td>0.0</td>\n",
       "      <td>10.0</td>\n",
       "      <td>2008.0</td>\n",
       "    </tr>\n",
       "    <tr>\n",
       "      <th>150</th>\n",
       "      <td>10356.0</td>\n",
       "      <td>120.00000</td>\n",
       "      <td>969.0</td>\n",
       "      <td>3.0</td>\n",
       "      <td>0.0</td>\n",
       "      <td>0.0</td>\n",
       "      <td>2.0</td>\n",
       "      <td>0.0</td>\n",
       "      <td>0.0</td>\n",
       "      <td>20.0</td>\n",
       "      <td>...</td>\n",
       "      <td>1.0</td>\n",
       "      <td>5.0</td>\n",
       "      <td>1975.0</td>\n",
       "      <td>440.0</td>\n",
       "      <td>0.0</td>\n",
       "      <td>0.0</td>\n",
       "      <td>0.0</td>\n",
       "      <td>0.0</td>\n",
       "      <td>1.0</td>\n",
       "      <td>2007.0</td>\n",
       "    </tr>\n",
       "  </tbody>\n",
       "</table>\n",
       "<p>5 rows × 36 columns</p>\n",
       "</div>"
      ],
      "text/plain": [
       "     LotArea  LotFrontage  TotalBsmtSF  BedroomAbvGr  Fireplaces  PoolArea  \\\n",
       "772   7819.0     94.00000       1029.0           3.0         1.0       0.0   \n",
       "157  12003.0     92.00000        774.0           4.0         1.0       0.0   \n",
       "360   7540.0     70.10352        888.0           2.0         1.0       0.0   \n",
       "744   5395.0     41.00000       1337.0           2.0         1.0       0.0   \n",
       "150  10356.0    120.00000        969.0           3.0         0.0       0.0   \n",
       "\n",
       "     GarageCars  WoodDeckSF  ScreenPorch  MSSubClass  ...  KitchenAbvGr  \\\n",
       "772         2.0       144.0          0.0        80.0  ...           1.0   \n",
       "157         3.0         0.0          0.0        60.0  ...           1.0   \n",
       "360         2.0         0.0        192.0        85.0  ...           1.0   \n",
       "744         2.0        96.0          0.0       120.0  ...           1.0   \n",
       "150         2.0         0.0          0.0        20.0  ...           1.0   \n",
       "\n",
       "     TotRmsAbvGrd  GarageYrBlt  GarageArea  OpenPorchSF  EnclosedPorch  \\\n",
       "772           6.0       1976.0       672.0          0.0            0.0   \n",
       "157           8.0       2009.0       680.0         75.0            0.0   \n",
       "360           5.0       1978.0       470.0          0.0            0.0   \n",
       "744           5.0       1993.0       462.0          0.0           70.0   \n",
       "150           5.0       1975.0       440.0          0.0            0.0   \n",
       "\n",
       "     3SsnPorch  MiscVal  MoSold  YrSold  \n",
       "772        0.0      0.0     3.0  2010.0  \n",
       "157        0.0      0.0     5.0  2010.0  \n",
       "360        0.0      0.0     6.0  2007.0  \n",
       "744      168.0      0.0    10.0  2008.0  \n",
       "150        0.0      0.0     1.0  2007.0  \n",
       "\n",
       "[5 rows x 36 columns]"
      ]
     },
     "execution_count": 10,
     "metadata": {},
     "output_type": "execute_result"
    }
   ],
   "source": [
    "# Selecting numerical columns\n",
    "X_train_num = X_train.select_dtypes(include=\"number\")\n",
    "\n",
    "# Imputing the mean\n",
    "num_imputer = SimpleImputer(strategy=\"mean\")#.set_output(transform='pandas')\n",
    "\n",
    "# Fitting and transforming\n",
    "X_num_imputed = num_imputer.fit_transform(X_train_num)\n",
    "X_num_imputed = to_df(X_num_imputed,X_train_num)\n",
    "X_num_imputed.head()"
   ]
  },
  {
   "cell_type": "code",
   "execution_count": 11,
   "id": "78053928-2f60-4284-a4ee-68c3223ea52e",
   "metadata": {},
   "outputs": [],
   "source": [
    "from sklearn.preprocessing import OneHotEncoder\n",
    "\n",
    "# initialize\n",
    "# my_onehot = OneHotEncoder(drop=\"first\",sparse_output=False).set_output(transform='pandas')\n",
    "my_onehot = OneHotEncoder()\n",
    "# fit\n",
    "my_onehot.fit(X_cat_imputed)\n",
    "\n",
    "# transform\n",
    "X_cat_imputed_mat = my_onehot.transform(X_cat_imputed)"
   ]
  },
  {
   "cell_type": "code",
   "execution_count": 12,
   "id": "5f909935-ef2a-431d-8f07-b3ed178beb9d",
   "metadata": {},
   "outputs": [],
   "source": [
    "# X_cat_imputed_onehot = to_df(X_cat_imputed_onehot)\n",
    "import scipy.sparse\n",
    "X_cat_imputed_onehot = pd.DataFrame.sparse.from_spmatrix(X_cat_imputed_mat)"
   ]
  },
  {
   "cell_type": "code",
   "execution_count": 13,
   "id": "b28796d3-f32f-467b-a708-eb018d72af93",
   "metadata": {},
   "outputs": [
    {
     "data": {
      "text/html": [
       "<div>\n",
       "<style scoped>\n",
       "    .dataframe tbody tr th:only-of-type {\n",
       "        vertical-align: middle;\n",
       "    }\n",
       "\n",
       "    .dataframe tbody tr th {\n",
       "        vertical-align: top;\n",
       "    }\n",
       "\n",
       "    .dataframe thead th {\n",
       "        text-align: right;\n",
       "    }\n",
       "</style>\n",
       "<table border=\"1\" class=\"dataframe\">\n",
       "  <thead>\n",
       "    <tr style=\"text-align: right;\">\n",
       "      <th></th>\n",
       "      <th>0</th>\n",
       "      <th>1</th>\n",
       "      <th>2</th>\n",
       "      <th>3</th>\n",
       "      <th>4</th>\n",
       "      <th>5</th>\n",
       "      <th>6</th>\n",
       "      <th>7</th>\n",
       "      <th>8</th>\n",
       "      <th>9</th>\n",
       "      <th>...</th>\n",
       "      <th>KitchenAbvGr</th>\n",
       "      <th>TotRmsAbvGrd</th>\n",
       "      <th>GarageYrBlt</th>\n",
       "      <th>GarageArea</th>\n",
       "      <th>OpenPorchSF</th>\n",
       "      <th>EnclosedPorch</th>\n",
       "      <th>3SsnPorch</th>\n",
       "      <th>MiscVal</th>\n",
       "      <th>MoSold</th>\n",
       "      <th>YrSold</th>\n",
       "    </tr>\n",
       "  </thead>\n",
       "  <tbody>\n",
       "    <tr>\n",
       "      <th>0</th>\n",
       "      <td>0.0</td>\n",
       "      <td>0.0</td>\n",
       "      <td>0.0</td>\n",
       "      <td>1.0</td>\n",
       "      <td>0.0</td>\n",
       "      <td>0.0</td>\n",
       "      <td>0.0</td>\n",
       "      <td>1.0</td>\n",
       "      <td>0.0</td>\n",
       "      <td>0.0</td>\n",
       "      <td>...</td>\n",
       "      <td>1.0</td>\n",
       "      <td>8.0</td>\n",
       "      <td>2003.0</td>\n",
       "      <td>548.0</td>\n",
       "      <td>61.0</td>\n",
       "      <td>0.0</td>\n",
       "      <td>0.0</td>\n",
       "      <td>0.0</td>\n",
       "      <td>2.0</td>\n",
       "      <td>2008.0</td>\n",
       "    </tr>\n",
       "    <tr>\n",
       "      <th>1</th>\n",
       "      <td>0.0</td>\n",
       "      <td>0.0</td>\n",
       "      <td>0.0</td>\n",
       "      <td>1.0</td>\n",
       "      <td>0.0</td>\n",
       "      <td>0.0</td>\n",
       "      <td>0.0</td>\n",
       "      <td>1.0</td>\n",
       "      <td>0.0</td>\n",
       "      <td>0.0</td>\n",
       "      <td>...</td>\n",
       "      <td>1.0</td>\n",
       "      <td>6.0</td>\n",
       "      <td>1976.0</td>\n",
       "      <td>460.0</td>\n",
       "      <td>0.0</td>\n",
       "      <td>0.0</td>\n",
       "      <td>0.0</td>\n",
       "      <td>0.0</td>\n",
       "      <td>5.0</td>\n",
       "      <td>2007.0</td>\n",
       "    </tr>\n",
       "    <tr>\n",
       "      <th>2</th>\n",
       "      <td>0.0</td>\n",
       "      <td>0.0</td>\n",
       "      <td>0.0</td>\n",
       "      <td>1.0</td>\n",
       "      <td>0.0</td>\n",
       "      <td>0.0</td>\n",
       "      <td>0.0</td>\n",
       "      <td>1.0</td>\n",
       "      <td>0.0</td>\n",
       "      <td>0.0</td>\n",
       "      <td>...</td>\n",
       "      <td>1.0</td>\n",
       "      <td>6.0</td>\n",
       "      <td>2001.0</td>\n",
       "      <td>608.0</td>\n",
       "      <td>42.0</td>\n",
       "      <td>0.0</td>\n",
       "      <td>0.0</td>\n",
       "      <td>0.0</td>\n",
       "      <td>9.0</td>\n",
       "      <td>2008.0</td>\n",
       "    </tr>\n",
       "  </tbody>\n",
       "</table>\n",
       "<p>3 rows × 105 columns</p>\n",
       "</div>"
      ],
      "text/plain": [
       "     0    1    2    3    4    5    6    7    8    9  ...  KitchenAbvGr  \\\n",
       "0  0.0  0.0  0.0  1.0  0.0  0.0  0.0  1.0  0.0  0.0  ...           1.0   \n",
       "1  0.0  0.0  0.0  1.0  0.0  0.0  0.0  1.0  0.0  0.0  ...           1.0   \n",
       "2  0.0  0.0  0.0  1.0  0.0  0.0  0.0  1.0  0.0  0.0  ...           1.0   \n",
       "\n",
       "   TotRmsAbvGrd  GarageYrBlt  GarageArea  OpenPorchSF  EnclosedPorch  \\\n",
       "0           8.0       2003.0       548.0         61.0            0.0   \n",
       "1           6.0       1976.0       460.0          0.0            0.0   \n",
       "2           6.0       2001.0       608.0         42.0            0.0   \n",
       "\n",
       "   3SsnPorch  MiscVal  MoSold  YrSold  \n",
       "0        0.0      0.0     2.0  2008.0  \n",
       "1        0.0      0.0     5.0  2007.0  \n",
       "2        0.0      0.0     9.0  2008.0  \n",
       "\n",
       "[3 rows x 105 columns]"
      ]
     },
     "execution_count": 13,
     "metadata": {},
     "output_type": "execute_result"
    }
   ],
   "source": [
    "X_imputed = pd.concat([X_cat_imputed_onehot, X_num_imputed], axis=1)\n",
    "\n",
    "X_imputed.head(3)"
   ]
  },
  {
   "cell_type": "code",
   "execution_count": 14,
   "id": "24ec8c50-7f7b-4cb7-be7e-86b7dbfc271c",
   "metadata": {},
   "outputs": [],
   "source": [
    "from sklearn.pipeline import make_pipeline\n",
    "\n",
    "# select categorical and numerical column names\n",
    "X_cat_columns = X.select_dtypes(exclude=\"number\").copy().columns\n",
    "X_num_columns = X.select_dtypes(include=\"number\").copy().columns\n",
    "\n",
    "# create numerical pipeline, only with the SimpleImputer(strategy=\"mean\")\n",
    "numeric_pipe = make_pipeline(\n",
    "    SimpleImputer(strategy=\"mean\"))\n",
    " \n",
    " # create categorical pipeline, with the SimpleImputer(fill_value=\"N_A\") and the OneHotEncoder\n",
    "categoric_pipe = make_pipeline(\n",
    "    SimpleImputer(strategy=\"constant\", fill_value=\"N_A\"),\n",
    "    # OneHotEncoder(sparse_output=False)\n",
    "    OneHotEncoder()\n",
    ")"
   ]
  },
  {
   "cell_type": "code",
   "execution_count": 15,
   "id": "a1096c9a-825f-485d-b86e-9008a43ff25f",
   "metadata": {},
   "outputs": [],
   "source": [
    "from sklearn.compose import ColumnTransformer\n",
    "\n",
    "preprocessor = ColumnTransformer(\n",
    "    transformers=[\n",
    "        (\"num_pipe\", numeric_pipe, X_num_columns),\n",
    "        (\"cat_pipe\", categoric_pipe, X_cat_columns),\n",
    "    ]\n",
    ")"
   ]
  },
  {
   "cell_type": "code",
   "execution_count": 37,
   "id": "438aacec-2cf2-47a2-a6be-358cc4d16fc0",
   "metadata": {},
   "outputs": [],
   "source": [
    "from sklearn.impute import SimpleImputer\n",
    "from sklearn.neighbors import KNeighborsClassifier\n",
    "from sklearn.metrics import accuracy_score\n"
   ]
  },
  {
   "cell_type": "code",
   "execution_count": 38,
   "id": "c2815d13-932d-4ec5-946f-4716b9c0c74e",
   "metadata": {},
   "outputs": [],
   "source": [
    "from sklearn.model_selection import GridSearchCV\n",
    "\n",
    "knclass = KNeighborsClassifier()\n",
    "full_pipeline = make_pipeline(preprocessor, knclass)\n",
    "k_range = list(range(1, 31))\n",
    "\n",
    "param_grid = {\n",
    "    \"columntransformer__num_pipe__simpleimputer__strategy\":[\"mean\", \"median\"],\n",
    "    \"kneighborsclassifier__n_neighbors\":k_range\n",
    "}\n",
    "\n",
    "search = GridSearchCV(full_pipeline,\n",
    "                      param_grid,\n",
    "                      cv=5,\n",
    "                      verbose=0,\n",
    "                      scoring='accuracy'\n",
    "                     )\n"
   ]
  },
  {
   "cell_type": "code",
   "execution_count": 19,
   "id": "b167982b-2efd-4e89-a094-af2cf0f5e109",
   "metadata": {},
   "outputs": [],
   "source": [
    "# knnreg.get_params().keys()"
   ]
  },
  {
   "cell_type": "code",
   "execution_count": null,
   "id": "83731b1c-9cff-4e70-ae2f-04200efff303",
   "metadata": {},
   "outputs": [],
   "source": [
    "search.fit(X_train, y_train)"
   ]
  },
  {
   "cell_type": "code",
   "execution_count": 21,
   "id": "7faae4e3-127f-4b40-81ec-b648242b9642",
   "metadata": {},
   "outputs": [
    {
     "data": {
      "text/plain": [
       "0.9135174791827152"
      ]
     },
     "execution_count": 21,
     "metadata": {},
     "output_type": "execute_result"
    }
   ],
   "source": [
    "search.best_score_"
   ]
  },
  {
   "cell_type": "code",
   "execution_count": 22,
   "id": "476d0c31-dc14-4db6-88f3-3faf0ea4f557",
   "metadata": {},
   "outputs": [
    {
     "data": {
      "text/plain": [
       "{'columntransformer__num_pipe__simpleimputer__strategy': 'mean',\n",
       " 'kneighborsclassifier__n_neighbors': 5}"
      ]
     },
     "execution_count": 22,
     "metadata": {},
     "output_type": "execute_result"
    }
   ],
   "source": [
    "search.best_params_"
   ]
  },
  {
   "cell_type": "code",
   "execution_count": 23,
   "id": "ef7b6e32-619d-4f77-8d33-6bd0299cca60",
   "metadata": {},
   "outputs": [
    {
     "data": {
      "text/plain": [
       "array([0.87927442, 0.89725249, 0.91351381, 0.89895455, 0.91351748,\n",
       "       0.90066028, 0.90923664, 0.89723781, 0.90665053, 0.89894721,\n",
       "       0.90151865, 0.89552474, 0.90066395, 0.88954184, 0.89725249,\n",
       "       0.88611936, 0.88954184, 0.88526833, 0.89125491, 0.88354426,\n",
       "       0.88697773, 0.88098382, 0.88525733, 0.87926708, 0.88012545,\n",
       "       0.87670298, 0.87841238, 0.87156377, 0.87670298, 0.87241847,\n",
       "       0.87927442, 0.89725249, 0.91351381, 0.89895455, 0.91351748,\n",
       "       0.90066028, 0.90923664, 0.89723781, 0.90665053, 0.89894721,\n",
       "       0.90151865, 0.89552474, 0.90066395, 0.88954184, 0.89725249,\n",
       "       0.88611936, 0.88954184, 0.88526833, 0.89125491, 0.88354426,\n",
       "       0.88697773, 0.88098382, 0.88525733, 0.87926708, 0.88012545,\n",
       "       0.87670298, 0.87841238, 0.87156377, 0.87670298, 0.87241847])"
      ]
     },
     "execution_count": 23,
     "metadata": {},
     "output_type": "execute_result"
    }
   ],
   "source": [
    "search.cv_results_['mean_test_score']"
   ]
  },
  {
   "cell_type": "code",
   "execution_count": null,
   "id": "362410ac-b5a6-425f-ad9a-75ff29985386",
   "metadata": {},
   "outputs": [],
   "source": []
  },
  {
   "cell_type": "code",
   "execution_count": 24,
   "id": "2fb53663-a0e7-4367-bea0-7575614b3efd",
   "metadata": {},
   "outputs": [],
   "source": [
    "# from sklearn.model_selection import KFold\n",
    "# kf = KFold(n_splits=5, shuffle=False).split(range(25))"
   ]
  },
  {
   "cell_type": "code",
   "execution_count": 41,
   "id": "eb2336af-eefc-4691-a8eb-cdb32b7fc31e",
   "metadata": {},
   "outputs": [],
   "source": [
    "# from sklearn.model_selection import cross_val_score\n",
    "\n",
    "# knn = KNeighborsRegressor(n_neighbors=5)\n",
    "# scores = cross_val_score(knn, X, y, cv=10, scoring='accuracy')\n",
    "# print(scores)\n",
    "# print(scores.mean())\n"
   ]
  },
  {
   "cell_type": "code",
   "execution_count": 28,
   "id": "3ad80894-090a-4e64-b65f-46fdb5893d61",
   "metadata": {},
   "outputs": [
    {
     "data": {
      "text/plain": [
       "Pipeline(steps=[('columntransformer',\n",
       "                 ColumnTransformer(transformers=[('num_pipe',\n",
       "                                                  Pipeline(steps=[('simpleimputer',\n",
       "                                                                   SimpleImputer())]),\n",
       "                                                  Index(['LotArea', 'LotFrontage', 'TotalBsmtSF', 'BedroomAbvGr', 'Fireplaces',\n",
       "       'PoolArea', 'GarageCars', 'WoodDeckSF', 'ScreenPorch', 'MSSubClass',\n",
       "       'OverallQual', 'OverallCond', 'YearBuilt', 'YearRemodAdd', 'MasVnrArea',\n",
       "       'BsmtFinSF1'...\n",
       "                                                  Pipeline(steps=[('simpleimputer',\n",
       "                                                                   SimpleImputer(fill_value='N_A',\n",
       "                                                                                 strategy='constant')),\n",
       "                                                                  ('onehotencoder',\n",
       "                                                                   OneHotEncoder())]),\n",
       "                                                  Index(['MSZoning', 'Condition1', 'Heating', 'Street', 'CentralAir',\n",
       "       'Foundation', 'ExterQual', 'ExterCond', 'BsmtQual', 'BsmtCond',\n",
       "       'BsmtExposure', 'BsmtFinType1', 'KitchenQual', 'FireplaceQu'],\n",
       "      dtype='object'))])),\n",
       "                ('kneighborsclassifier', KNeighborsClassifier())])"
      ]
     },
     "execution_count": 28,
     "metadata": {},
     "output_type": "execute_result"
    }
   ],
   "source": [
    "full_pipeline.fit(X_train, y_train)"
   ]
  },
  {
   "cell_type": "code",
   "execution_count": 29,
   "id": "05f54147-9c8e-45e7-92c1-6461d88b5c68",
   "metadata": {},
   "outputs": [
    {
     "name": "stderr",
     "output_type": "stream",
     "text": [
      "/Users/cytalladen/opt/anaconda3/lib/python3.9/site-packages/sklearn/neighbors/_classification.py:228: FutureWarning: Unlike other reduction functions (e.g. `skew`, `kurtosis`), the default behavior of `mode` typically preserves the axis it acts along. In SciPy 1.11.0, this behavior will change: the default value of `keepdims` will become False, the `axis` over which the statistic is taken will be eliminated, and the value None will no longer be accepted. Set `keepdims` to True or False to avoid this warning.\n",
      "  mode, _ = stats.mode(_y[neigh_ind, k], axis=1)\n"
     ]
    },
    {
     "data": {
      "text/plain": [
       "0.9366438356164384"
      ]
     },
     "execution_count": 29,
     "metadata": {},
     "output_type": "execute_result"
    }
   ],
   "source": [
    "y_train_pred = full_pipeline.predict(X_train)\n",
    "\n",
    "accuracy_score(y_train, y_train_pred)"
   ]
  },
  {
   "cell_type": "code",
   "execution_count": 31,
   "id": "b71a30e5-a2c9-4747-85c1-26005ce06d9a",
   "metadata": {},
   "outputs": [
    {
     "data": {
      "text/plain": [
       "Pipeline(steps=[('columntransformer',\n",
       "                 ColumnTransformer(transformers=[('num_pipe',\n",
       "                                                  Pipeline(steps=[('simpleimputer',\n",
       "                                                                   SimpleImputer())]),\n",
       "                                                  Index(['LotArea', 'LotFrontage', 'TotalBsmtSF', 'BedroomAbvGr', 'Fireplaces',\n",
       "       'PoolArea', 'GarageCars', 'WoodDeckSF', 'ScreenPorch', 'MSSubClass',\n",
       "       'OverallQual', 'OverallCond', 'YearBuilt', 'YearRemodAdd', 'MasVnrArea',\n",
       "       'BsmtFinSF1'...\n",
       "                                                  Pipeline(steps=[('simpleimputer',\n",
       "                                                                   SimpleImputer(fill_value='N_A',\n",
       "                                                                                 strategy='constant')),\n",
       "                                                                  ('onehotencoder',\n",
       "                                                                   OneHotEncoder())]),\n",
       "                                                  Index(['MSZoning', 'Condition1', 'Heating', 'Street', 'CentralAir',\n",
       "       'Foundation', 'ExterQual', 'ExterCond', 'BsmtQual', 'BsmtCond',\n",
       "       'BsmtExposure', 'BsmtFinType1', 'KitchenQual', 'FireplaceQu'],\n",
       "      dtype='object'))])),\n",
       "                ('kneighborsclassifier', KNeighborsClassifier())])"
      ]
     },
     "execution_count": 31,
     "metadata": {},
     "output_type": "execute_result"
    }
   ],
   "source": [
    "full_pipeline.fit(X_test, y_test)"
   ]
  },
  {
   "cell_type": "code",
   "execution_count": 32,
   "id": "57f1fda8-13ff-4963-ae84-3ad1ac7f8141",
   "metadata": {},
   "outputs": [
    {
     "name": "stderr",
     "output_type": "stream",
     "text": [
      "/Users/cytalladen/opt/anaconda3/lib/python3.9/site-packages/sklearn/neighbors/_classification.py:228: FutureWarning: Unlike other reduction functions (e.g. `skew`, `kurtosis`), the default behavior of `mode` typically preserves the axis it acts along. In SciPy 1.11.0, this behavior will change: the default value of `keepdims` will become False, the `axis` over which the statistic is taken will be eliminated, and the value None will no longer be accepted. Set `keepdims` to True or False to avoid this warning.\n",
      "  mode, _ = stats.mode(_y[neigh_ind, k], axis=1)\n"
     ]
    },
    {
     "data": {
      "text/plain": [
       "0.9383561643835616"
      ]
     },
     "execution_count": 32,
     "metadata": {},
     "output_type": "execute_result"
    }
   ],
   "source": [
    "y_test_pred = full_pipeline.predict(X_test)\n",
    "\n",
    "accuracy_score(y_test, y_test_pred)"
   ]
  },
  {
   "cell_type": "code",
   "execution_count": null,
   "id": "cfb15951-c304-4bfa-a6ae-159746149018",
   "metadata": {},
   "outputs": [],
   "source": []
  }
 ],
 "metadata": {
  "kernelspec": {
   "display_name": "Python 3 (ipykernel)",
   "language": "python",
   "name": "python3"
  },
  "language_info": {
   "codemirror_mode": {
    "name": "ipython",
    "version": 3
   },
   "file_extension": ".py",
   "mimetype": "text/x-python",
   "name": "python",
   "nbconvert_exporter": "python",
   "pygments_lexer": "ipython3",
   "version": "3.9.13"
  }
 },
 "nbformat": 4,
 "nbformat_minor": 5
}
