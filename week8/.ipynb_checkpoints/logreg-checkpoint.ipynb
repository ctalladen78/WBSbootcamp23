{
 "cells": [
  {
   "cell_type": "code",
   "execution_count": 1,
   "id": "e9884489-5f81-48a1-8a54-97553db1e192",
   "metadata": {},
   "outputs": [],
   "source": [
    "# log reg"
   ]
  },
  {
   "cell_type": "code",
   "execution_count": 2,
   "id": "a7d140a8-6a86-41bd-9dc0-10aa60d38618",
   "metadata": {},
   "outputs": [],
   "source": [
    "import pandas as pd\n",
    "import numpy as np\n",
    "import seaborn as sns\n",
    "import matplotlib.pyplot as plt\n",
    "\n",
    "housing_maindf = pd.read_csv('~/Documents/datacamp/WBS-School/wbs-housing-iter-0-2/iter-6/housing-classification-iter6.csv')\n",
    "\n",
    "housing_df = housing_maindf.copy()\n",
    "\n"
   ]
  },
  {
   "cell_type": "code",
   "execution_count": 3,
   "id": "f93c9417-f17a-41fc-b4fa-00e0901b8c09",
   "metadata": {},
   "outputs": [],
   "source": [
    "# housing_df.info()"
   ]
  },
  {
   "cell_type": "code",
   "execution_count": 4,
   "id": "e75bf51f-bbb8-4079-a022-0c477fbc7458",
   "metadata": {},
   "outputs": [],
   "source": [
    "X = housing_df.copy()\n"
   ]
  },
  {
   "cell_type": "code",
   "execution_count": 5,
   "id": "47faef4e-a0a4-4a24-8288-80d770902715",
   "metadata": {},
   "outputs": [],
   "source": [
    "# target\n",
    "y = X.pop(\"Expensive\")\n"
   ]
  },
  {
   "cell_type": "code",
   "execution_count": 6,
   "id": "bab3aa10-6541-4f64-9c03-857871dc7020",
   "metadata": {},
   "outputs": [],
   "source": [
    "from sklearn.model_selection import train_test_split\n",
    "\n",
    "X_train, X_test, y_train, y_test = train_test_split(X, y, test_size=0.2, random_state=31416)\n",
    "\n"
   ]
  },
  {
   "cell_type": "code",
   "execution_count": 7,
   "id": "a9eda2f2-8c3c-436d-aeea-8f278015e3ba",
   "metadata": {},
   "outputs": [],
   "source": [
    "# helper\n",
    "def to_df(arr,df):\n",
    "    print(arr.shape)\n",
    "    print(df.shape)\n",
    "    return pd.DataFrame(arr, columns=df.columns, index=df.index)\n",
    "\n"
   ]
  },
  {
   "cell_type": "code",
   "execution_count": 8,
   "id": "05e8eb5d-2c9e-4bb2-86f4-d1ba3f9bf804",
   "metadata": {},
   "outputs": [
    {
     "name": "stdout",
     "output_type": "stream",
     "text": [
      "(1168, 43)\n",
      "(1168, 43)\n"
     ]
    }
   ],
   "source": [
    "from sklearn.impute import SimpleImputer\n",
    "\n",
    "# selecting non-numerical columns\n",
    "X_train_cat = X_train.select_dtypes(exclude=\"number\")\n",
    "\n",
    "# defining the imputer to use \"N_A\" as replacement value\n",
    "cat_imputer = SimpleImputer(strategy=\"constant\", \n",
    "                            fill_value=\"N_A\")#.set_output(transform='pandas')\n",
    "\n",
    "# fitting and transforming\n",
    "X_cat_imputed = cat_imputer.fit_transform(X_train_cat)\n",
    "X_cat_imputed = to_df(X_cat_imputed,X_train_cat)\n",
    "\n",
    "\n"
   ]
  },
  {
   "cell_type": "code",
   "execution_count": 9,
   "id": "aa94ff34-e7a9-4c86-8785-a00e0a2d9903",
   "metadata": {},
   "outputs": [
    {
     "name": "stdout",
     "output_type": "stream",
     "text": [
      "(1168, 37)\n",
      "(1168, 37)\n"
     ]
    },
    {
     "data": {
      "text/html": [
       "<div>\n",
       "<style scoped>\n",
       "    .dataframe tbody tr th:only-of-type {\n",
       "        vertical-align: middle;\n",
       "    }\n",
       "\n",
       "    .dataframe tbody tr th {\n",
       "        vertical-align: top;\n",
       "    }\n",
       "\n",
       "    .dataframe thead th {\n",
       "        text-align: right;\n",
       "    }\n",
       "</style>\n",
       "<table border=\"1\" class=\"dataframe\">\n",
       "  <thead>\n",
       "    <tr style=\"text-align: right;\">\n",
       "      <th></th>\n",
       "      <th>LotArea</th>\n",
       "      <th>LotFrontage</th>\n",
       "      <th>TotalBsmtSF</th>\n",
       "      <th>BedroomAbvGr</th>\n",
       "      <th>Fireplaces</th>\n",
       "      <th>PoolArea</th>\n",
       "      <th>GarageCars</th>\n",
       "      <th>WoodDeckSF</th>\n",
       "      <th>ScreenPorch</th>\n",
       "      <th>MSSubClass</th>\n",
       "      <th>...</th>\n",
       "      <th>TotRmsAbvGrd</th>\n",
       "      <th>GarageYrBlt</th>\n",
       "      <th>GarageArea</th>\n",
       "      <th>OpenPorchSF</th>\n",
       "      <th>EnclosedPorch</th>\n",
       "      <th>3SsnPorch</th>\n",
       "      <th>MiscVal</th>\n",
       "      <th>MoSold</th>\n",
       "      <th>YrSold</th>\n",
       "      <th>Id</th>\n",
       "    </tr>\n",
       "  </thead>\n",
       "  <tbody>\n",
       "    <tr>\n",
       "      <th>772</th>\n",
       "      <td>7819.0</td>\n",
       "      <td>94.00000</td>\n",
       "      <td>1029.0</td>\n",
       "      <td>3.0</td>\n",
       "      <td>1.0</td>\n",
       "      <td>0.0</td>\n",
       "      <td>2.0</td>\n",
       "      <td>144.0</td>\n",
       "      <td>0.0</td>\n",
       "      <td>80.0</td>\n",
       "      <td>...</td>\n",
       "      <td>6.0</td>\n",
       "      <td>1976.0</td>\n",
       "      <td>672.0</td>\n",
       "      <td>0.0</td>\n",
       "      <td>0.0</td>\n",
       "      <td>0.0</td>\n",
       "      <td>0.0</td>\n",
       "      <td>3.0</td>\n",
       "      <td>2010.0</td>\n",
       "      <td>773.0</td>\n",
       "    </tr>\n",
       "    <tr>\n",
       "      <th>157</th>\n",
       "      <td>12003.0</td>\n",
       "      <td>92.00000</td>\n",
       "      <td>774.0</td>\n",
       "      <td>4.0</td>\n",
       "      <td>1.0</td>\n",
       "      <td>0.0</td>\n",
       "      <td>3.0</td>\n",
       "      <td>0.0</td>\n",
       "      <td>0.0</td>\n",
       "      <td>60.0</td>\n",
       "      <td>...</td>\n",
       "      <td>8.0</td>\n",
       "      <td>2009.0</td>\n",
       "      <td>680.0</td>\n",
       "      <td>75.0</td>\n",
       "      <td>0.0</td>\n",
       "      <td>0.0</td>\n",
       "      <td>0.0</td>\n",
       "      <td>5.0</td>\n",
       "      <td>2010.0</td>\n",
       "      <td>158.0</td>\n",
       "    </tr>\n",
       "    <tr>\n",
       "      <th>360</th>\n",
       "      <td>7540.0</td>\n",
       "      <td>70.10352</td>\n",
       "      <td>888.0</td>\n",
       "      <td>2.0</td>\n",
       "      <td>1.0</td>\n",
       "      <td>0.0</td>\n",
       "      <td>2.0</td>\n",
       "      <td>0.0</td>\n",
       "      <td>192.0</td>\n",
       "      <td>85.0</td>\n",
       "      <td>...</td>\n",
       "      <td>5.0</td>\n",
       "      <td>1978.0</td>\n",
       "      <td>470.0</td>\n",
       "      <td>0.0</td>\n",
       "      <td>0.0</td>\n",
       "      <td>0.0</td>\n",
       "      <td>0.0</td>\n",
       "      <td>6.0</td>\n",
       "      <td>2007.0</td>\n",
       "      <td>361.0</td>\n",
       "    </tr>\n",
       "    <tr>\n",
       "      <th>744</th>\n",
       "      <td>5395.0</td>\n",
       "      <td>41.00000</td>\n",
       "      <td>1337.0</td>\n",
       "      <td>2.0</td>\n",
       "      <td>1.0</td>\n",
       "      <td>0.0</td>\n",
       "      <td>2.0</td>\n",
       "      <td>96.0</td>\n",
       "      <td>0.0</td>\n",
       "      <td>120.0</td>\n",
       "      <td>...</td>\n",
       "      <td>5.0</td>\n",
       "      <td>1993.0</td>\n",
       "      <td>462.0</td>\n",
       "      <td>0.0</td>\n",
       "      <td>70.0</td>\n",
       "      <td>168.0</td>\n",
       "      <td>0.0</td>\n",
       "      <td>10.0</td>\n",
       "      <td>2008.0</td>\n",
       "      <td>745.0</td>\n",
       "    </tr>\n",
       "    <tr>\n",
       "      <th>150</th>\n",
       "      <td>10356.0</td>\n",
       "      <td>120.00000</td>\n",
       "      <td>969.0</td>\n",
       "      <td>3.0</td>\n",
       "      <td>0.0</td>\n",
       "      <td>0.0</td>\n",
       "      <td>2.0</td>\n",
       "      <td>0.0</td>\n",
       "      <td>0.0</td>\n",
       "      <td>20.0</td>\n",
       "      <td>...</td>\n",
       "      <td>5.0</td>\n",
       "      <td>1975.0</td>\n",
       "      <td>440.0</td>\n",
       "      <td>0.0</td>\n",
       "      <td>0.0</td>\n",
       "      <td>0.0</td>\n",
       "      <td>0.0</td>\n",
       "      <td>1.0</td>\n",
       "      <td>2007.0</td>\n",
       "      <td>151.0</td>\n",
       "    </tr>\n",
       "  </tbody>\n",
       "</table>\n",
       "<p>5 rows × 37 columns</p>\n",
       "</div>"
      ],
      "text/plain": [
       "     LotArea  LotFrontage  TotalBsmtSF  BedroomAbvGr  Fireplaces  PoolArea  \\\n",
       "772   7819.0     94.00000       1029.0           3.0         1.0       0.0   \n",
       "157  12003.0     92.00000        774.0           4.0         1.0       0.0   \n",
       "360   7540.0     70.10352        888.0           2.0         1.0       0.0   \n",
       "744   5395.0     41.00000       1337.0           2.0         1.0       0.0   \n",
       "150  10356.0    120.00000        969.0           3.0         0.0       0.0   \n",
       "\n",
       "     GarageCars  WoodDeckSF  ScreenPorch  MSSubClass  ...  TotRmsAbvGrd  \\\n",
       "772         2.0       144.0          0.0        80.0  ...           6.0   \n",
       "157         3.0         0.0          0.0        60.0  ...           8.0   \n",
       "360         2.0         0.0        192.0        85.0  ...           5.0   \n",
       "744         2.0        96.0          0.0       120.0  ...           5.0   \n",
       "150         2.0         0.0          0.0        20.0  ...           5.0   \n",
       "\n",
       "     GarageYrBlt  GarageArea  OpenPorchSF  EnclosedPorch  3SsnPorch  MiscVal  \\\n",
       "772       1976.0       672.0          0.0            0.0        0.0      0.0   \n",
       "157       2009.0       680.0         75.0            0.0        0.0      0.0   \n",
       "360       1978.0       470.0          0.0            0.0        0.0      0.0   \n",
       "744       1993.0       462.0          0.0           70.0      168.0      0.0   \n",
       "150       1975.0       440.0          0.0            0.0        0.0      0.0   \n",
       "\n",
       "     MoSold  YrSold     Id  \n",
       "772     3.0  2010.0  773.0  \n",
       "157     5.0  2010.0  158.0  \n",
       "360     6.0  2007.0  361.0  \n",
       "744    10.0  2008.0  745.0  \n",
       "150     1.0  2007.0  151.0  \n",
       "\n",
       "[5 rows x 37 columns]"
      ]
     },
     "execution_count": 9,
     "metadata": {},
     "output_type": "execute_result"
    }
   ],
   "source": [
    "# Selecting numerical columns\n",
    "X_train_num = X_train.select_dtypes(include=\"number\")\n",
    "\n",
    "# Imputing the mean\n",
    "num_imputer = SimpleImputer(strategy=\"mean\")#.set_output(transform='pandas')\n",
    "\n",
    "# Fitting and transforming\n",
    "X_num_imputed = num_imputer.fit_transform(X_train_num)\n",
    "X_num_imputed = to_df(X_num_imputed,X_train_num)\n",
    "X_num_imputed.head()"
   ]
  },
  {
   "cell_type": "code",
   "execution_count": 10,
   "id": "2d233306-3fef-4d00-8afa-2d36556f7474",
   "metadata": {},
   "outputs": [],
   "source": [
    "from sklearn.preprocessing import OneHotEncoder\n",
    "\n",
    "# initialize\n",
    "# my_onehot = OneHotEncoder(drop=\"first\",sparse_output=False).set_output(transform='pandas')\n",
    "my_onehot = OneHotEncoder(handle_unknown='ignore')\n",
    "# fit\n",
    "my_onehot.fit(X_cat_imputed)\n",
    "\n",
    "# transform\n",
    "X_cat_imputed_mat = my_onehot.transform(X_cat_imputed)"
   ]
  },
  {
   "cell_type": "code",
   "execution_count": 11,
   "id": "8ff9de83-524e-475f-b62a-e653ef31817f",
   "metadata": {},
   "outputs": [
    {
     "data": {
      "text/html": [
       "<div>\n",
       "<style scoped>\n",
       "    .dataframe tbody tr th:only-of-type {\n",
       "        vertical-align: middle;\n",
       "    }\n",
       "\n",
       "    .dataframe tbody tr th {\n",
       "        vertical-align: top;\n",
       "    }\n",
       "\n",
       "    .dataframe thead th {\n",
       "        text-align: right;\n",
       "    }\n",
       "</style>\n",
       "<table border=\"1\" class=\"dataframe\">\n",
       "  <thead>\n",
       "    <tr style=\"text-align: right;\">\n",
       "      <th></th>\n",
       "      <th>0</th>\n",
       "      <th>1</th>\n",
       "      <th>2</th>\n",
       "      <th>3</th>\n",
       "      <th>4</th>\n",
       "      <th>5</th>\n",
       "      <th>6</th>\n",
       "      <th>7</th>\n",
       "      <th>8</th>\n",
       "      <th>9</th>\n",
       "      <th>...</th>\n",
       "      <th>TotRmsAbvGrd</th>\n",
       "      <th>GarageYrBlt</th>\n",
       "      <th>GarageArea</th>\n",
       "      <th>OpenPorchSF</th>\n",
       "      <th>EnclosedPorch</th>\n",
       "      <th>3SsnPorch</th>\n",
       "      <th>MiscVal</th>\n",
       "      <th>MoSold</th>\n",
       "      <th>YrSold</th>\n",
       "      <th>Id</th>\n",
       "    </tr>\n",
       "  </thead>\n",
       "  <tbody>\n",
       "    <tr>\n",
       "      <th>0</th>\n",
       "      <td>0.0</td>\n",
       "      <td>0.0</td>\n",
       "      <td>0.0</td>\n",
       "      <td>1.0</td>\n",
       "      <td>0.0</td>\n",
       "      <td>0.0</td>\n",
       "      <td>0.0</td>\n",
       "      <td>1.0</td>\n",
       "      <td>0.0</td>\n",
       "      <td>0.0</td>\n",
       "      <td>...</td>\n",
       "      <td>8.0</td>\n",
       "      <td>2003.0</td>\n",
       "      <td>548.0</td>\n",
       "      <td>61.0</td>\n",
       "      <td>0.0</td>\n",
       "      <td>0.0</td>\n",
       "      <td>0.0</td>\n",
       "      <td>2.0</td>\n",
       "      <td>2008.0</td>\n",
       "      <td>1.0</td>\n",
       "    </tr>\n",
       "    <tr>\n",
       "      <th>1</th>\n",
       "      <td>0.0</td>\n",
       "      <td>0.0</td>\n",
       "      <td>0.0</td>\n",
       "      <td>1.0</td>\n",
       "      <td>0.0</td>\n",
       "      <td>0.0</td>\n",
       "      <td>0.0</td>\n",
       "      <td>1.0</td>\n",
       "      <td>0.0</td>\n",
       "      <td>0.0</td>\n",
       "      <td>...</td>\n",
       "      <td>6.0</td>\n",
       "      <td>1976.0</td>\n",
       "      <td>460.0</td>\n",
       "      <td>0.0</td>\n",
       "      <td>0.0</td>\n",
       "      <td>0.0</td>\n",
       "      <td>0.0</td>\n",
       "      <td>5.0</td>\n",
       "      <td>2007.0</td>\n",
       "      <td>2.0</td>\n",
       "    </tr>\n",
       "    <tr>\n",
       "      <th>2</th>\n",
       "      <td>0.0</td>\n",
       "      <td>0.0</td>\n",
       "      <td>0.0</td>\n",
       "      <td>1.0</td>\n",
       "      <td>0.0</td>\n",
       "      <td>0.0</td>\n",
       "      <td>0.0</td>\n",
       "      <td>1.0</td>\n",
       "      <td>0.0</td>\n",
       "      <td>0.0</td>\n",
       "      <td>...</td>\n",
       "      <td>6.0</td>\n",
       "      <td>2001.0</td>\n",
       "      <td>608.0</td>\n",
       "      <td>42.0</td>\n",
       "      <td>0.0</td>\n",
       "      <td>0.0</td>\n",
       "      <td>0.0</td>\n",
       "      <td>9.0</td>\n",
       "      <td>2008.0</td>\n",
       "      <td>3.0</td>\n",
       "    </tr>\n",
       "  </tbody>\n",
       "</table>\n",
       "<p>3 rows × 300 columns</p>\n",
       "</div>"
      ],
      "text/plain": [
       "     0    1    2    3    4    5    6    7    8    9  ...  TotRmsAbvGrd  \\\n",
       "0  0.0  0.0  0.0  1.0  0.0  0.0  0.0  1.0  0.0  0.0  ...           8.0   \n",
       "1  0.0  0.0  0.0  1.0  0.0  0.0  0.0  1.0  0.0  0.0  ...           6.0   \n",
       "2  0.0  0.0  0.0  1.0  0.0  0.0  0.0  1.0  0.0  0.0  ...           6.0   \n",
       "\n",
       "   GarageYrBlt  GarageArea  OpenPorchSF  EnclosedPorch  3SsnPorch  MiscVal  \\\n",
       "0       2003.0       548.0         61.0            0.0        0.0      0.0   \n",
       "1       1976.0       460.0          0.0            0.0        0.0      0.0   \n",
       "2       2001.0       608.0         42.0            0.0        0.0      0.0   \n",
       "\n",
       "   MoSold  YrSold   Id  \n",
       "0     2.0  2008.0  1.0  \n",
       "1     5.0  2007.0  2.0  \n",
       "2     9.0  2008.0  3.0  \n",
       "\n",
       "[3 rows x 300 columns]"
      ]
     },
     "execution_count": 11,
     "metadata": {},
     "output_type": "execute_result"
    }
   ],
   "source": [
    "import scipy.sparse\n",
    "X_cat_imputed_onehot = pd.DataFrame.sparse.from_spmatrix(X_cat_imputed_mat)\n",
    "X_imputed = pd.concat([X_cat_imputed_onehot, X_num_imputed], axis=1)\n",
    "\n",
    "X_imputed.head(3)"
   ]
  },
  {
   "cell_type": "code",
   "execution_count": 12,
   "id": "80b3de37-e732-49e2-b74b-65f53a3aee2a",
   "metadata": {},
   "outputs": [],
   "source": [
    "from sklearn.preprocessing import StandardScaler, MinMaxScaler\n",
    "stscaler = StandardScaler()\n",
    "mmscaler = MinMaxScaler()"
   ]
  },
  {
   "cell_type": "code",
   "execution_count": 13,
   "id": "e6c6efa6-0c9d-42bd-8599-369132f689eb",
   "metadata": {},
   "outputs": [],
   "source": [
    "from sklearn.pipeline import make_pipeline\n",
    "\n",
    "# select categorical and numerical column names\n",
    "X_cat_columns = X.select_dtypes(exclude=\"number\").copy().columns\n",
    "X_num_columns = X.select_dtypes(include=\"number\").copy().columns\n",
    "\n",
    "# create numerical pipeline, only with the SimpleImputer(strategy=\"mean\")\n",
    "numeric_pipe = make_pipeline(\n",
    "    SimpleImputer(strategy=\"mean\"),\n",
    "    stscaler\n",
    ")\n",
    "\n",
    "# create categorical pipeline, with the SimpleImputer(fill_value=\"N_A\") and the OneHotEncoder\n",
    "categoric_pipe = make_pipeline(\n",
    "    SimpleImputer(strategy=\"constant\", fill_value=\"N_A\"),\n",
    "    # OneHotEncoder(sparse_output=False)\n",
    "    OneHotEncoder()\n",
    ")"
   ]
  },
  {
   "cell_type": "code",
   "execution_count": 14,
   "id": "086026eb-085c-4169-89c9-399286eecb67",
   "metadata": {},
   "outputs": [],
   "source": [
    "from sklearn.compose import ColumnTransformer\n",
    "\n",
    "preprocessor = ColumnTransformer(\n",
    "    transformers=[\n",
    "        (\"num_pipe\", numeric_pipe, X_num_columns),\n",
    "        (\"cat_pipe\", categoric_pipe, X_cat_columns),\n",
    "    ]\n",
    ")"
   ]
  },
  {
   "cell_type": "code",
   "execution_count": 15,
   "id": "8e8e65d1-401a-410d-bd00-0e49b1a08ee9",
   "metadata": {},
   "outputs": [],
   "source": [
    "from sklearn.impute import SimpleImputer\n",
    "from sklearn.linear_model import LogisticRegression\n",
    "from sklearn.metrics import accuracy_score, r2_score, confusion_matrix, ConfusionMatrixDisplay\n",
    "\n",
    "\n"
   ]
  },
  {
   "cell_type": "code",
   "execution_count": 16,
   "id": "1b52b6bb-0c56-4384-bae7-bd7a59569ddb",
   "metadata": {},
   "outputs": [],
   "source": [
    "# https://github.com/Aidan-B1409/robot_grasping_classifier/src/train_hyperparams.py"
   ]
  },
  {
   "cell_type": "code",
   "execution_count": 17,
   "id": "e1542dab-8e59-4dce-938c-2bfebbf55879",
   "metadata": {},
   "outputs": [],
   "source": [
    "# cross validation using kfold on pipeline\n",
    "from sklearn.model_selection import KFold\n",
    "\n",
    "kfold_validation=KFold(10)\n"
   ]
  },
  {
   "cell_type": "code",
   "execution_count": 18,
   "id": "f5481503-7ee6-44ef-80df-9bc5d7e098eb",
   "metadata": {},
   "outputs": [],
   "source": [
    "from sklearn.model_selection import GridSearchCV\n",
    "\n",
    "logres = LogisticRegression()\n",
    "full_pipeline = make_pipeline(\n",
    "    preprocessor, \n",
    "    logres\n",
    ")\n",
    "k_range = list(range(1, 10))\n",
    "weight_options = ['uniform', 'distance']\n",
    "\n",
    "\n",
    "rfor_grid = {'logisticregression__max_iter': [100, 150, 200],\n",
    "              'logisticregression__random_state':[42],\n",
    "             'logisticregression__solver':['liblinear'],\n",
    "             'logisticregression__multi_class':['ovr']\n",
    "             }\n",
    "\n",
    "param_grid = rfor_grid\n",
    "crossval = 10\n",
    "# crossval = kfold_validation\n",
    "search = GridSearchCV(full_pipeline,\n",
    "                      param_grid,\n",
    "                      cv=crossval,\n",
    "                      verbose=0,\n",
    "                      scoring='r2'\n",
    "                     )\n",
    "\n"
   ]
  },
  {
   "cell_type": "code",
   "execution_count": null,
   "id": "df9768f5-9e3b-4e19-8993-f2bc364a9705",
   "metadata": {},
   "outputs": [],
   "source": [
    "search.fit(X_train, y_train)"
   ]
  },
  {
   "cell_type": "code",
   "execution_count": 37,
   "id": "2fe933ca-276c-41d4-a8e1-358fec0b4a0a",
   "metadata": {},
   "outputs": [
    {
     "data": {
      "text/plain": [
       "{'logisticregression__max_iter': 100,\n",
       " 'logisticregression__multi_class': 'ovr',\n",
       " 'logisticregression__random_state': 42,\n",
       " 'logisticregression__solver': 'liblinear'}"
      ]
     },
     "execution_count": 37,
     "metadata": {},
     "output_type": "execute_result"
    }
   ],
   "source": [
    "search.best_params_"
   ]
  },
  {
   "cell_type": "code",
   "execution_count": 38,
   "id": "4e205f5d-a63f-4140-a5bc-15a16b8243ca",
   "metadata": {},
   "outputs": [
    {
     "data": {
      "text/plain": [
       "nan"
      ]
     },
     "execution_count": 38,
     "metadata": {},
     "output_type": "execute_result"
    }
   ],
   "source": [
    "search.best_score_"
   ]
  },
  {
   "cell_type": "code",
   "execution_count": 20,
   "id": "7d933cc8-6c84-470f-9c0c-4ce1c4797a11",
   "metadata": {},
   "outputs": [],
   "source": [
    "# https://stackoverflow.com/questions/62658215/convergencewarning-lbfgs-failed-to-converge-status-1-stop-total-no-of-iter"
   ]
  },
  {
   "cell_type": "code",
   "execution_count": null,
   "id": "0f965cca-5983-4147-886a-1d57a91e8856",
   "metadata": {},
   "outputs": [],
   "source": [
    "full_pipeline.fit(X_train, y_train)"
   ]
  },
  {
   "cell_type": "code",
   "execution_count": 22,
   "id": "cc3e2113-e9cc-4d83-9ea9-3b44baf2b0ab",
   "metadata": {},
   "outputs": [
    {
     "data": {
      "text/plain": [
       "0.9820205479452054"
      ]
     },
     "execution_count": 22,
     "metadata": {},
     "output_type": "execute_result"
    }
   ],
   "source": [
    "y_train_pred = full_pipeline.predict(X_train)\n",
    "\n",
    "accuracy_score(y_train, y_train_pred)"
   ]
  },
  {
   "cell_type": "code",
   "execution_count": null,
   "id": "b4f8b3de-892d-4e80-b0d7-084e09e41b30",
   "metadata": {},
   "outputs": [],
   "source": []
  },
  {
   "cell_type": "code",
   "execution_count": 23,
   "id": "15d4fe2a-0072-40a3-8960-a283ac7da055",
   "metadata": {},
   "outputs": [
    {
     "data": {
      "image/png": "[encoded data removed]",
      "text/plain": [
       "<Figure size 640x480 with 2 Axes>"
      ]
     },
     "metadata": {},
     "output_type": "display_data"
    }
   ],
   "source": [
    "cm = confusion_matrix(y_train, y_train_pred)\n",
    "disp = ConfusionMatrixDisplay(confusion_matrix=cm)\n",
    "disp.plot()\n",
    "plt.show()"
   ]
  },
  {
   "cell_type": "code",
   "execution_count": null,
   "id": "a56d3f9b-ec05-4ed7-8750-2c46da54990a",
   "metadata": {},
   "outputs": [],
   "source": []
  },
  {
   "cell_type": "code",
   "execution_count": null,
   "id": "7cadb063-0ea9-4c1c-8483-56e18dc08e4d",
   "metadata": {},
   "outputs": [],
   "source": []
  },
  {
   "cell_type": "code",
   "execution_count": null,
   "id": "b2156d85-97e0-4d1c-8929-2201cbc28685",
   "metadata": {},
   "outputs": [],
   "source": [
    "from sklearn.model_selection import cross_val_score, cross_validate\n",
    "scorers = ['neg_mean_absolute_error', 'neg_root_mean_squared_error', 'r2','accuracy']\n",
    "results = cross_validate(full_pipeline, X, y, cv=kfold_validation, scoring=scorers, return_estimator=True)\n",
    "\n",
    "# results=cross_val_score(full_pipeline,X,y,cv=kfold_validation)\n",
    "# results=cross_val_score(search,X,y,cv=kfold_validation)\n"
   ]
  },
  {
   "cell_type": "code",
   "execution_count": 25,
   "id": "feb04749-af57-4726-8681-27d55d88889e",
   "metadata": {},
   "outputs": [],
   "source": [
    "# https://www.kaggle.com/code/satishgunjal/tutorial-k-fold-cross-validation"
   ]
  },
  {
   "cell_type": "code",
   "execution_count": 26,
   "id": "d2fae0e1-3af4-49fd-8961-5c21be8a43f4",
   "metadata": {},
   "outputs": [
    {
     "name": "stdout",
     "output_type": "stream",
     "text": [
      "[       nan        nan        nan        nan        nan 0.97260274\n",
      "        nan        nan        nan        nan]\n",
      "0.9726027397260274\n"
     ]
    }
   ],
   "source": [
    "# print(results)\n",
    "\n",
    "print(results['test_accuracy'])\n",
    "print(np.mean(results['test_accuracy'][5]))"
   ]
  },
  {
   "cell_type": "code",
   "execution_count": null,
   "id": "d4d08523-0dcb-4752-aed8-d542b0631e26",
   "metadata": {},
   "outputs": [],
   "source": []
  },
  {
   "cell_type": "code",
   "execution_count": null,
   "id": "33ff525f-29b6-454d-8e2e-3a05447a528f",
   "metadata": {},
   "outputs": [],
   "source": [
    "search.fit(X_test, y_test)"
   ]
  },
  {
   "cell_type": "code",
   "execution_count": null,
   "id": "fa8993e8-2668-4f39-a025-9b792a3d38d2",
   "metadata": {},
   "outputs": [],
   "source": [
    "full_pipeline.fit(X_test, y_test)"
   ]
  },
  {
   "cell_type": "code",
   "execution_count": 29,
   "id": "8211eb09-2342-466e-ae43-a328af4fcad0",
   "metadata": {},
   "outputs": [
    {
     "data": {
      "text/plain": [
       "1.0"
      ]
     },
     "execution_count": 29,
     "metadata": {},
     "output_type": "execute_result"
    }
   ],
   "source": [
    "y_test_pred = full_pipeline.predict(X_test)\n",
    "\n",
    "accuracy_score(y_test, y_test_pred)"
   ]
  },
  {
   "cell_type": "code",
   "execution_count": 30,
   "id": "678a2b89-b7bb-4dd0-a4e3-fe1f4b6a676c",
   "metadata": {},
   "outputs": [],
   "source": [
    "# https://towardsdatascience.com/understanding-confusion-matrix-precision-recall-and-f1-score-8061c9270011"
   ]
  },
  {
   "cell_type": "code",
   "execution_count": 31,
   "id": "af854490-9eb5-42fa-ab6c-79d8563fe4aa",
   "metadata": {},
   "outputs": [
    {
     "data": {
      "image/png": "[encoded data removed]",
      "text/plain": [
       "<Figure size 640x480 with 2 Axes>"
      ]
     },
     "metadata": {},
     "output_type": "display_data"
    }
   ],
   "source": [
    "cm = confusion_matrix(y_test, y_test_pred)\n",
    "disp = ConfusionMatrixDisplay(confusion_matrix=cm)\n",
    "disp.plot()\n",
    "plt.show()"
   ]
  },
  {
   "cell_type": "code",
   "execution_count": null,
   "id": "06f79dd3-fced-4dfa-a6cf-2af8308b86ec",
   "metadata": {},
   "outputs": [],
   "source": [
    "# final model params"
   ]
  },
  {
   "cell_type": "code",
   "execution_count": 43,
   "id": "e4f5c662-4857-4b7f-8359-c8994a7e233f",
   "metadata": {},
   "outputs": [
    {
     "name": "stderr",
     "output_type": "stream",
     "text": [
      "/var/folders/qk/tw9hw7y536n3q312492k3k3m0000gn/T/ipykernel_24977/1739776448.py:1: FutureWarning: Dropping of nuisance columns in DataFrame reductions (with 'numeric_only=None') is deprecated; in a future version this will raise TypeError.  Select only valid columns before calling the reduction.\n",
      "  X_train.fillna(X_train.mean(),inplace=True)\n"
     ]
    }
   ],
   "source": [
    "X_train.fillna(X_train.mean(),inplace=True)\n"
   ]
  },
  {
   "cell_type": "code",
   "execution_count": 41,
   "id": "3ebb46ed-1ad8-4699-94e7-a5922dac1669",
   "metadata": {},
   "outputs": [
    {
     "data": {
      "text/plain": [
       "945"
      ]
     },
     "execution_count": 42,
     "metadata": {},
     "output_type": "execute_result"
    }
   ],
   "source": [
    "X_train.isna().sum()"
   ]
  },
  {
   "cell_type": "code",
   "execution_count": 44,
   "id": "2ddcc8c0-a1c0-45ef-a3c7-fbd905ba0c4f",
   "metadata": {},
   "outputs": [
    {
     "name": "stderr",
     "output_type": "stream",
     "text": [
      "/var/folders/qk/tw9hw7y536n3q312492k3k3m0000gn/T/ipykernel_24977/1166781891.py:1: FutureWarning: Dropping of nuisance columns in DataFrame reductions (with 'numeric_only=None') is deprecated; in a future version this will raise TypeError.  Select only valid columns before calling the reduction.\n",
      "  X_test.fillna(X_train.mean(),inplace=True)\n"
     ]
    }
   ],
   "source": [
    "X_test.fillna(X_train.mean(),inplace=True)\n",
    "\n"
   ]
  },
  {
   "cell_type": "code",
   "execution_count": 45,
   "id": "ff10f025-b8ba-456d-b65e-c68080f59f88",
   "metadata": {},
   "outputs": [
    {
     "data": {
      "text/plain": [
       "LotArea            0\n",
       "LotFrontage        0\n",
       "TotalBsmtSF        0\n",
       "BedroomAbvGr       0\n",
       "Fireplaces         0\n",
       "                ... \n",
       "PoolQC           291\n",
       "Fence            234\n",
       "MiscFeature      279\n",
       "SaleType           0\n",
       "SaleCondition      0\n",
       "Length: 80, dtype: int64"
      ]
     },
     "execution_count": 45,
     "metadata": {},
     "output_type": "execute_result"
    }
   ],
   "source": [
    "X_test.isna().sum()"
   ]
  },
  {
   "cell_type": "code",
   "execution_count": null,
   "id": "0d5ca4e2-ee47-42a9-bd14-60205373e1b3",
   "metadata": {},
   "outputs": [],
   "source": [
    "# 'logisticregression__max_iter': 100,\n",
    "#  'logisticregression__multi_class': 'ovr',\n",
    "#  'logisticregression__random_state': 42,\n",
    "#  'logisticregression__solver': 'liblinear'"
   ]
  },
  {
   "cell_type": "code",
   "execution_count": null,
   "id": "397d8ebc-16a1-472d-b2b7-bcf1da215971",
   "metadata": {},
   "outputs": [],
   "source": []
  },
  {
   "cell_type": "code",
   "execution_count": null,
   "id": "ae2faccc-12a7-471f-aa28-984bd6fc5848",
   "metadata": {},
   "outputs": [],
   "source": []
  },
  {
   "cell_type": "code",
   "execution_count": null,
   "id": "f38febd7-b067-4fb5-9b88-2d274473240b",
   "metadata": {},
   "outputs": [],
   "source": []
  }
 ],
 "metadata": {
  "kernelspec": {
   "display_name": "Python 3 (ipykernel)",
   "language": "python",
   "name": "python3"
  },
  "language_info": {
   "codemirror_mode": {
    "name": "ipython",
    "version": 3
   },
   "file_extension": ".py",
   "mimetype": "text/x-python",
   "name": "python",
   "nbconvert_exporter": "python",
   "pygments_lexer": "ipython3",
   "version": "3.9.13"
  }
 },
 "nbformat": 4,
 "nbformat_minor": 5
}
