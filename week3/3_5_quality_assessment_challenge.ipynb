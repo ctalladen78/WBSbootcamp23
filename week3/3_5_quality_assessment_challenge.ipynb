{
  "cells": [
    {
      "cell_type": "markdown",
      "metadata": {
        "id": "aSm5aaRLtFLx"
      },
      "source": [
        "# Quality Assessment\n",
        "Now it's your turn. Follow [the steps on the platform](https://platform.wbscodingschool.com/courses/data-science/9474/) and use what you've learnt to see how reliable the data is."
      ]
    },
    {
      "cell_type": "code",
      "execution_count": null,
      "metadata": {
        "id": "Lq7zsZka4q2m"
      },
      "outputs": [],
      "source": [
        "import pandas as pd"
      ]
    },
    {
      "cell_type": "markdown",
      "metadata": {
        "id": "hzwXSr-xfh97"
      },
      "source": [
        "Load our cleaned DataFrames"
      ]
    },
    {
      "cell_type": "code",
      "execution_count": null,
      "metadata": {
        "id": "30IJsE7t49Eu"
      },
      "outputs": [],
      "source": [
        "# orders_cl.csv\n",
        "url = \"https://drive.google.com/file/d/1Tla62vfu__kCqvgypZyVt2S9VuC016yH/view?usp=sharing\" \n",
        "path = \"https://drive.google.com/uc?export=download&id=\"+url.split(\"/\")[-2]\n",
        "orders_cl = pd.read_csv(path)\n",
        "\n",
        "# orderlines_cl.csv\n",
        "url = \"https://drive.google.com/file/d/1OhtkQS2fwOYdzfd-qPh7im35iLc-L9TA/view?usp=sharing\" \n",
        "path = \"https://drive.google.com/uc?export=download&id=\"+url.split(\"/\")[-2]\n",
        "orderlines_cl = pd.read_csv(path)\n",
        "\n",
        "# products_cl.csv\n",
        "url = \"https://drive.google.com/file/d/1s7Lai4NSlsYjGEPg1QSOUJobNYVsZBOJ/view?usp=sharing\" \n",
        "path = \"https://drive.google.com/uc?export=download&id=\"+url.split(\"/\")[-2]\n",
        "products_cl = pd.read_csv(path)"
      ]
    },
    {
      "cell_type": "markdown",
      "metadata": {
        "id": "GjQD8WPe6h0i"
      },
      "source": [
        "## 1.&nbsp; Define Pandas display format"
      ]
    },
    {
      "cell_type": "code",
      "execution_count": null,
      "metadata": {
        "id": "SLikKmNx4WNo"
      },
      "outputs": [],
      "source": [
        "# your code here\n",
        "# set display format\n",
        "pd.set_option('display.float_format', lambda x: '%.2f' % x)\n",
        "pd.set_option('display.max_rows', 1000)"
      ]
    },
    {
      "cell_type": "markdown",
      "metadata": {
        "id": "M0NhTKzF6jV4"
      },
      "source": [
        "## 2.&nbsp; Exclude unwanted orders"
      ]
    },
    {
      "cell_type": "code",
      "execution_count": null,
      "metadata": {
        "id": "ja0XpsDDkZrT"
      },
      "outputs": [],
      "source": [
        "# your code here\n",
        "or_df = or_df.drop(or_df.loc[or_df['state']=='Shopping Basket'].index)\n",
        "or_df = or_df.drop(or_df.loc[or_df['state']=='Cancelled'].index)"
      ]
    },
    {
      "cell_type": "markdown",
      "metadata": {
        "id": "F-rtzwAn7WyS"
      },
      "source": [
        "## 3.&nbsp; Exclude orders with unknown products\n"
      ]
    },
    {
      "cell_type": "code",
      "execution_count": null,
      "metadata": {
        "id": "EkNqtrfdJGAW"
      },
      "outputs": [],
      "source": [
        "# your code here\n",
        "ol_df.loc[ol_df['sku'].isin(list(pr_df['sku'])),'valid_sku'] = True\n",
        "ol_df.loc[~ol_df['sku'].isin(list(pr_df['sku'])),'valid_sku'] = False\n",
        "or_df.loc[or_df['id_order'].isin(list(ol_df['id_order'])),'valid_ord'] = True\n",
        "or_df.loc[~or_df['id_order'].isin(list(ol_df['id_order'])),'valid_ord'] = False\n",
        "ol_df.loc[ol_df['id_order'].isin(list(or_df['id_order'])),'valid_ord'] = True\n",
        "ol_df.loc[~ol_df['id_order'].isin(list(or_df['id_order'])),'valid_ord'] = False\n",
        "ol_df.drop(ol_df.loc[ol_df['valid_sku']==False].index)\n",
        "or_df = or_df.drop(or_df.loc[or_df['valid_ord']==False].index)\n",
        "ol_df = ol_df.drop(ol_df.loc[ol_df['valid_ord']==False].index)\n"
      ]
    },
    {
      "cell_type": "markdown",
      "metadata": {
        "id": "bCLu78B07gN1"
      },
      "source": [
        "## 4.&nbsp; Explore the revenue from different tables"
      ]
    },
    {
      "cell_type": "markdown",
      "metadata": {
        "id": "CrmrCXypbflw"
      },
      "source": [
        "#### Step 1:\n",
        "Create the `unit_price_total` as `orderlines.unit_price` * `orderlines.product_quantity`"
      ]
    },
    {
      "cell_type": "code",
      "execution_count": null,
      "metadata": {
        "id": "c8MApY6jatlO"
      },
      "outputs": [],
      "source": [
        "# your code here\n",
        "ol_df.loc[:,'unit_price_total'] = ol_df['unit_price'] * ol_df['product_quantity']\n"
      ]
    },
    {
      "cell_type": "markdown",
      "metadata": {
        "id": "gkvMUjymbvSC"
      },
      "source": [
        "#### Step 2: \n",
        "Group by `order_id`, summarising by the sum of `unit_price_total`"
      ]
    },
    {
      "cell_type": "code",
      "execution_count": null,
      "metadata": {
        "id": "4hasZA5BaH1k"
      },
      "outputs": [],
      "source": [
        "# your code here\n",
        "(\n",
        "    ol_df.groupby('id_order')\n",
        "    .agg({'unit_price_total':'sum'})\n",
        "    .sort_values(by='unit_price_total',ascending=False)\n",
        "    .head(10)\n",
        ")"
      ]
    },
    {
      "cell_type": "markdown",
      "metadata": {
        "id": "_d1lwist8F6X"
      },
      "source": [
        "### What is the average difference between `total_paid` and `unit_price_total`?"
      ]
    },
    {
      "cell_type": "code",
      "execution_count": null,
      "metadata": {
        "id": "5N02JPCMgyBU"
      },
      "outputs": [],
      "source": [
        "# your code here\n",
        "ol_or_df = ol_df.merge(or_df,on='id_order',how='inner')\n",
        "ol_or_df.loc[:,'total_paid_per_unit_price'] = ol_or_df['total_paid'] - ol_or_df['unit_price_total']\n",
        "\n",
        "(\n",
        "    ol_or_df.groupby(['id_order','unit_price_total','total_paid'])\n",
        "    .agg({'total_paid_per_unit_price':'mean'})\n",
        "    .nlargest(10,'total_paid_per_unit_price')\n",
        "    \n",
        ")\n"
      ]
    },
    {
      "cell_type": "markdown",
      "metadata": {
        "id": "UpynvRcO8QBr"
      },
      "source": [
        "### What is the distribution of these differences?"
      ]
    },
    {
      "cell_type": "code",
      "execution_count": null,
      "metadata": {
        "id": "O4RDNgttJSPD"
      },
      "outputs": [],
      "source": [
        "# your code here\n",
        "(\n",
        "    ol_or_df.groupby('id_order')\n",
        "    .agg({'total_paid_per_unit_price':'mean'})\n",
        "    .nlargest(100,'total_paid_per_unit_price')\n",
        "    .plot.hist()\n",
        ")"
      ]
    },
    {
      "cell_type": "markdown",
      "metadata": {
        "id": "NINPK4rB8TSY"
      },
      "source": [
        "### Can all the differences be explained by shipping costs? If not, what are other plausible explanations?"
      ]
    },
    {
      "cell_type": "code",
      "execution_count": null,
      "metadata": {
        "id": "_6GvQ28EJUIf"
      },
      "outputs": [],
      "source": [
        "# your explanation here\n",
        "outliers occur in the range where : diff > 14000 mean difference in order total over line item unit price \n",
        "majority of orders have on average lower mean difference\n",
        "price disparity can be explained by shipping fees of high value items, taxes paid, or applied discount"
      ]
    },
    {
      "cell_type": "markdown",
      "metadata": {
        "id": "xPos2ipK8VST"
      },
      "source": [
        "### If there are differences that you can’t explain: what should you do with these orders?"
      ]
    },
    {
      "cell_type": "code",
      "execution_count": null,
      "metadata": {
        "id": "xqeCAJBt8V3T"
      },
      "outputs": [],
      "source": [
        "# your code here\n",
        "many orderlines have a unit price of zero.\n",
        "these should be dropped"
      ]
    },
    {
      "cell_type": "markdown",
      "metadata": {
        "id": "FWROzNEd8b8d"
      },
      "source": [
        "## 5.&nbsp; Become confident about your dataset"
      ]
    },
    {
      "cell_type": "markdown",
      "metadata": {
        "id": "qkiySvbwldvU"
      },
      "source": [
        "Let's hear your thoughts about what you discovered."
      ]
    },
    {
      "cell_type": "code",
      "execution_count": null,
      "metadata": {
        "id": "AR14cjMpfXV0"
      },
      "outputs": [],
      "source": [
        "# your thoughts & code here\n",
        "1. promo price not applied on many orderline items\n",
        "2. orderlines should annotate if promo is applied \n",
        "3. maybe separate promo table with date, price, sku\n",
        "4. apply promo price based on order/orderline condition (date, etc)\n",
        "5. high orders occur in summer (april - june) and holidays (nov - mar)\n",
        "6. ranges between order.created_date and orderline.date maybe explained by order state (ie pending)"
      ]
    },
    {
      "cell_type": "markdown",
      "metadata": {
        "id": "dvyhnpLcfXdd"
      },
      "source": [
        "Do not forget to download your quality controlled DataFrames"
      ]
    },
    {
      "cell_type": "code",
      "execution_count": null,
      "metadata": {
        "id": "gUcJc1E6sVOl"
      },
      "outputs": [],
      "source": [
        "from google.colab import files\n",
        "\n",
        "#orders_quality_controlled.to_csv(\"orders_qu.csv\", index=False)\n",
        "#files.download(\"orders_qu.csv\")\n",
        "\n",
        "#orderlines_quality_controlled.to_csv(\"orderlines_qu.csv\", index=False)\n",
        "#files.download(\"orderlines_qu.csv\")"
      ]
    }
  ],
  "metadata": {
    "colab": {
      "collapsed_sections": [
        "CP3XvAdtSh-W",
        "MGfHi2emuFvJ",
        "6LDe4vd8wOJS",
        "G6ZM_Jxl4-UE",
        "aSm5aaRLtFLx",
        "GjQD8WPe6h0i",
        "M0NhTKzF6jV4",
        "EKolLICj68Ai",
        "Ihny8AC97HY9",
        "F-rtzwAn7WyS",
        "bCLu78B07gN1",
        "_d1lwist8F6X",
        "UpynvRcO8QBr",
        "NINPK4rB8TSY",
        "xPos2ipK8VST",
        "FWROzNEd8b8d"
      ],
      "provenance": []
    },
    "kernelspec": {
      "display_name": "Python 3",
      "name": "python3"
    },
    "language_info": {
      "name": "python"
    }
  },
  "nbformat": 4,
  "nbformat_minor": 0
}
