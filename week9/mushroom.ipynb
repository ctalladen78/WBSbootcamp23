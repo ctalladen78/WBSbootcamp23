{
 "cells": [
  {
   "cell_type": "code",
   "execution_count": 1,
   "id": "fbf98bda-51ce-4991-bf7e-9567ca310246",
   "metadata": {},
   "outputs": [],
   "source": [
    "# https://andreea-avramescu-datathon-app-mushrooms-app-lnlifq.streamlit.app/"
   ]
  },
  {
   "cell_type": "code",
   "execution_count": 2,
   "id": "eca52fa3-037f-4be5-950a-3e72ff4e1833",
   "metadata": {},
   "outputs": [],
   "source": [
    "\n",
    "from sklearn.metrics import mean_squared_error, accuracy_score\n",
    "from sklearn import linear_model\n",
    "from sklearn.model_selection import train_test_split, KFold, cross_val_score\n",
    "from sklearn.model_selection import cross_val_score, GridSearchCV\n",
    "from sklearn.model_selection import GridSearchCV\n",
    "from sklearn.linear_model import LinearRegression\n",
    "from sklearn.ensemble import RandomForestRegressor\n",
    "from sklearn.pipeline import make_pipeline\n",
    "from sklearn.impute import SimpleImputer\n",
    "from sklearn.ensemble import RandomForestRegressor, RandomForestClassifier \n",
    "from sklearn.neighbors import KNeighborsRegressor, KNeighborsClassifier\n",
    "\n",
    "\n",
    "\n"
   ]
  },
  {
   "cell_type": "code",
   "execution_count": 3,
   "id": "cecafccb-9df3-442a-8d2c-7b3f4999309f",
   "metadata": {},
   "outputs": [],
   "source": [
    "import pandas as pd\n",
    "import numpy as np\n",
    "import seaborn as sns\n",
    "import matplotlib.pyplot as plt\n",
    "\n"
   ]
  },
  {
   "cell_type": "code",
   "execution_count": 4,
   "id": "a3692749-c244-4e59-adbe-e816790d88e3",
   "metadata": {},
   "outputs": [],
   "source": [
    "# ! pip install category_encoders"
   ]
  },
  {
   "cell_type": "code",
   "execution_count": 5,
   "id": "95fbd31c-22ca-43cf-832e-e91fcf1821ac",
   "metadata": {},
   "outputs": [],
   "source": [
    "from sklearn.preprocessing import MinMaxScaler, RobustScaler\n",
    "from sklearn.preprocessing import StandardScaler, OneHotEncoder\n",
    "from sklearn.preprocessing import LabelEncoder\n",
    "import category_encoders as ce\n",
    "# https://medium.com/mlearning-ai/category-encoders-c2a9bb192f0a\n",
    "stscaler = StandardScaler()\n",
    "mmscaler = MinMaxScaler()\n",
    "onenc = OneHotEncoder()\n",
    "labenc = LabelEncoder()\n",
    "targenc = ce.TargetEncoder()\n",
    "ordenc = ce.OrdinalEncoder()"
   ]
  },
  {
   "cell_type": "code",
   "execution_count": 6,
   "id": "8dbea260-d16e-4f39-8634-2b48c5bfdf56",
   "metadata": {},
   "outputs": [],
   "source": [
    "# load dataset \n",
    "csv_path = \"train.csv\"\n",
    "df_train = pd.read_csv(csv_path, sep = ',')  \n",
    "\n",
    "csv_path = \"test.csv\"\n",
    "df_test = pd.read_csv(csv_path, sep = ',')  "
   ]
  },
  {
   "cell_type": "code",
   "execution_count": null,
   "id": "50986968-4e86-4b72-8718-f8cfb500e961",
   "metadata": {},
   "outputs": [],
   "source": []
  },
  {
   "cell_type": "code",
   "execution_count": 7,
   "id": "f47e1cfd-e746-448f-82e9-aa7f65852424",
   "metadata": {},
   "outputs": [
    {
     "data": {
      "text/html": [
       "<div>\n",
       "<style scoped>\n",
       "    .dataframe tbody tr th:only-of-type {\n",
       "        vertical-align: middle;\n",
       "    }\n",
       "\n",
       "    .dataframe tbody tr th {\n",
       "        vertical-align: top;\n",
       "    }\n",
       "\n",
       "    .dataframe thead th {\n",
       "        text-align: right;\n",
       "    }\n",
       "</style>\n",
       "<table border=\"1\" class=\"dataframe\">\n",
       "  <thead>\n",
       "    <tr style=\"text-align: right;\">\n",
       "      <th></th>\n",
       "      <th>Total</th>\n",
       "      <th>Percent</th>\n",
       "    </tr>\n",
       "  </thead>\n",
       "  <tbody>\n",
       "    <tr>\n",
       "      <th>cap.shape</th>\n",
       "      <td>0</td>\n",
       "      <td>0.0</td>\n",
       "    </tr>\n",
       "    <tr>\n",
       "      <th>cap.color</th>\n",
       "      <td>0</td>\n",
       "      <td>0.0</td>\n",
       "    </tr>\n",
       "    <tr>\n",
       "      <th>bruises</th>\n",
       "      <td>0</td>\n",
       "      <td>0.0</td>\n",
       "    </tr>\n",
       "    <tr>\n",
       "      <th>stalk.color.above.ring</th>\n",
       "      <td>0</td>\n",
       "      <td>0.0</td>\n",
       "    </tr>\n",
       "    <tr>\n",
       "      <th>stalk.color.below.ring</th>\n",
       "      <td>0</td>\n",
       "      <td>0.0</td>\n",
       "    </tr>\n",
       "    <tr>\n",
       "      <th>population</th>\n",
       "      <td>0</td>\n",
       "      <td>0.0</td>\n",
       "    </tr>\n",
       "    <tr>\n",
       "      <th>Id</th>\n",
       "      <td>0</td>\n",
       "      <td>0.0</td>\n",
       "    </tr>\n",
       "    <tr>\n",
       "      <th>poisonous</th>\n",
       "      <td>0</td>\n",
       "      <td>0.0</td>\n",
       "    </tr>\n",
       "  </tbody>\n",
       "</table>\n",
       "</div>"
      ],
      "text/plain": [
       "                        Total  Percent\n",
       "cap.shape                   0      0.0\n",
       "cap.color                   0      0.0\n",
       "bruises                     0      0.0\n",
       "stalk.color.above.ring      0      0.0\n",
       "stalk.color.below.ring      0      0.0\n",
       "population                  0      0.0\n",
       "Id                          0      0.0\n",
       "poisonous                   0      0.0"
      ]
     },
     "execution_count": 7,
     "metadata": {},
     "output_type": "execute_result"
    }
   ],
   "source": [
    "# missing data\n",
    "total = df_train.isnull().sum().sort_values(ascending=False)\n",
    "percent = (df_train.isnull().sum()/df_train.isnull().count()).sort_values(ascending=False)\n",
    "missing_data = pd.concat([total, percent], axis=1, keys=['Total', 'Percent'])\n",
    "missing_data.head(10)"
   ]
  },
  {
   "cell_type": "code",
   "execution_count": null,
   "id": "ec2bec48-7eb4-4ea3-a447-d1e78c7afd93",
   "metadata": {},
   "outputs": [],
   "source": []
  },
  {
   "cell_type": "code",
   "execution_count": 8,
   "id": "3f1268fc-a3e9-4183-8892-eaf09e9cb9cf",
   "metadata": {},
   "outputs": [],
   "source": [
    "# df_train.hist(figsize=(16,20))"
   ]
  },
  {
   "cell_type": "code",
   "execution_count": 9,
   "id": "ffc16a94-01bc-4f1f-9713-be6283a5859b",
   "metadata": {},
   "outputs": [
    {
     "name": "stdout",
     "output_type": "stream",
     "text": [
      "<class 'pandas.core.frame.DataFrame'>\n",
      "RangeIndex: 6499 entries, 0 to 6498\n",
      "Data columns (total 8 columns):\n",
      " #   Column                  Non-Null Count  Dtype \n",
      "---  ------                  --------------  ----- \n",
      " 0   cap.shape               6499 non-null   object\n",
      " 1   cap.color               6499 non-null   object\n",
      " 2   bruises                 6499 non-null   bool  \n",
      " 3   stalk.color.above.ring  6499 non-null   object\n",
      " 4   stalk.color.below.ring  6499 non-null   object\n",
      " 5   population              6499 non-null   object\n",
      " 6   Id                      6499 non-null   int64 \n",
      " 7   poisonous               6499 non-null   int64 \n",
      "dtypes: bool(1), int64(2), object(5)\n",
      "memory usage: 361.9+ KB\n"
     ]
    }
   ],
   "source": [
    "df_train.info()"
   ]
  },
  {
   "cell_type": "code",
   "execution_count": 10,
   "id": "c1b7f951-5dfe-4cca-a9a2-ca5547eac933",
   "metadata": {},
   "outputs": [
    {
     "data": {
      "text/plain": [
       "cap.shape                    6\n",
       "cap.color                   10\n",
       "bruises                      2\n",
       "stalk.color.above.ring       9\n",
       "stalk.color.below.ring       9\n",
       "population                   6\n",
       "Id                        6499\n",
       "poisonous                    2\n",
       "dtype: int64"
      ]
     },
     "execution_count": 10,
     "metadata": {},
     "output_type": "execute_result"
    }
   ],
   "source": [
    "df_train.nunique()"
   ]
  },
  {
   "cell_type": "code",
   "execution_count": 11,
   "id": "f24bb147-44db-427e-b990-88e8abf78746",
   "metadata": {},
   "outputs": [],
   "source": [
    "# df_train.head(10)"
   ]
  },
  {
   "cell_type": "code",
   "execution_count": 12,
   "id": "deca4a72-9d8f-494f-ad04-5106d362e763",
   "metadata": {},
   "outputs": [],
   "source": [
    "# target encoding pipeline\n",
    "# cap.shape, cap.color, stalk.color.above.ring, stalk.color.below.ring, population\n"
   ]
  },
  {
   "cell_type": "code",
   "execution_count": 13,
   "id": "789e6832-a513-470d-838f-bf774a750fe8",
   "metadata": {},
   "outputs": [
    {
     "data": {
      "text/plain": [
       "<AxesSubplot:>"
      ]
     },
     "execution_count": 13,
     "metadata": {},
     "output_type": "execute_result"
    },
    {
     "data": {
      "image/png": "[encoded data removed]",
      "text/plain": [
       "<Figure size 640x480 with 2 Axes>"
      ]
     },
     "metadata": {},
     "output_type": "display_data"
    }
   ],
   "source": [
    "sns.heatmap(df_train.corr())"
   ]
  },
  {
   "cell_type": "code",
   "execution_count": 14,
   "id": "86054d53-de93-42a2-8f26-107966fb4e73",
   "metadata": {},
   "outputs": [
    {
     "data": {
      "text/plain": [
       "array([<AxesSubplot:title={'center':'False'}>,\n",
       "       <AxesSubplot:title={'center':'True'}>], dtype=object)"
      ]
     },
     "execution_count": 14,
     "metadata": {},
     "output_type": "execute_result"
    },
    {
     "data": {
      "image/png": "[encoded data removed]",
      "text/plain": [
       "<Figure size 640x480 with 2 Axes>"
      ]
     },
     "metadata": {},
     "output_type": "display_data"
    }
   ],
   "source": [
    "df_train.hist('Id','bruises')"
   ]
  },
  {
   "cell_type": "code",
   "execution_count": 15,
   "id": "60b26e07-0d9d-4c02-abff-14d24c91dec7",
   "metadata": {},
   "outputs": [
    {
     "data": {
      "text/plain": [
       "cap.shape                 0\n",
       "cap.color                 0\n",
       "bruises                   0\n",
       "stalk.color.above.ring    0\n",
       "stalk.color.below.ring    0\n",
       "population                0\n",
       "Id                        0\n",
       "poisonous                 0\n",
       "dtype: int64"
      ]
     },
     "execution_count": 15,
     "metadata": {},
     "output_type": "execute_result"
    }
   ],
   "source": [
    "df_train.isna().sum()"
   ]
  },
  {
   "cell_type": "code",
   "execution_count": 16,
   "id": "5fb8b21f-1345-405e-a97d-6511e29e11dc",
   "metadata": {},
   "outputs": [],
   "source": [
    "df_train.drop('Id',axis=1,inplace=True)"
   ]
  },
  {
   "cell_type": "code",
   "execution_count": 17,
   "id": "b011a733-bdf4-4ad2-85bd-1d210bce20ac",
   "metadata": {},
   "outputs": [],
   "source": [
    "X = df_train.copy()"
   ]
  },
  {
   "cell_type": "code",
   "execution_count": 18,
   "id": "bc7150db-0282-4c8f-9e90-f58129eea1e2",
   "metadata": {},
   "outputs": [],
   "source": [
    "y = X.pop('poisonous')"
   ]
  },
  {
   "cell_type": "code",
   "execution_count": 19,
   "id": "57d534ae-72f3-452f-9e9e-ee21beebf549",
   "metadata": {},
   "outputs": [
    {
     "data": {
      "text/plain": [
       "cap.shape                  6\n",
       "cap.color                 10\n",
       "bruises                    2\n",
       "stalk.color.above.ring     9\n",
       "stalk.color.below.ring     9\n",
       "population                 6\n",
       "poisonous                  2\n",
       "dtype: int64"
      ]
     },
     "execution_count": 19,
     "metadata": {},
     "output_type": "execute_result"
    }
   ],
   "source": [
    "df_train.nunique()"
   ]
  },
  {
   "cell_type": "code",
   "execution_count": null,
   "id": "0fbcbcd1-5afb-4998-be83-365d6973380b",
   "metadata": {},
   "outputs": [],
   "source": []
  },
  {
   "cell_type": "code",
   "execution_count": 20,
   "id": "2f533060-a351-4e60-a26d-ba6d1c0459ed",
   "metadata": {},
   "outputs": [
    {
     "data": {
      "text/html": [
       "<div>\n",
       "<style scoped>\n",
       "    .dataframe tbody tr th:only-of-type {\n",
       "        vertical-align: middle;\n",
       "    }\n",
       "\n",
       "    .dataframe tbody tr th {\n",
       "        vertical-align: top;\n",
       "    }\n",
       "\n",
       "    .dataframe thead th {\n",
       "        text-align: right;\n",
       "    }\n",
       "</style>\n",
       "<table border=\"1\" class=\"dataframe\">\n",
       "  <thead>\n",
       "    <tr style=\"text-align: right;\">\n",
       "      <th></th>\n",
       "      <th>cap.shape</th>\n",
       "      <th>cap.color</th>\n",
       "      <th>bruises</th>\n",
       "      <th>stalk.color.above.ring</th>\n",
       "      <th>stalk.color.below.ring</th>\n",
       "      <th>population</th>\n",
       "    </tr>\n",
       "  </thead>\n",
       "  <tbody>\n",
       "    <tr>\n",
       "      <th>0</th>\n",
       "      <td>k</td>\n",
       "      <td>e</td>\n",
       "      <td>False</td>\n",
       "      <td>w</td>\n",
       "      <td>w</td>\n",
       "      <td>v</td>\n",
       "    </tr>\n",
       "  </tbody>\n",
       "</table>\n",
       "</div>"
      ],
      "text/plain": [
       "  cap.shape cap.color  bruises stalk.color.above.ring stalk.color.below.ring  \\\n",
       "0         k         e    False                      w                      w   \n",
       "\n",
       "  population  \n",
       "0          v  "
      ]
     },
     "execution_count": 20,
     "metadata": {},
     "output_type": "execute_result"
    }
   ],
   "source": [
    "X.head(1)"
   ]
  },
  {
   "cell_type": "code",
   "execution_count": 21,
   "id": "6c5017bd-08c8-4bdb-867b-6f052fb6f4a6",
   "metadata": {},
   "outputs": [],
   "source": [
    "from sklearn.compose import ColumnTransformer\n",
    "\n",
    "X_columns = X.columns\n",
    "\n",
    "\n",
    "pr = ColumnTransformer(\n",
    "    transformers=[\n",
    "        # target encoders\n",
    "        # ('enc_pipe', onenc, X_columns),\n",
    "        ('tar_pipe', targenc, ['cap.shape','cap.color','stalk.color.above.ring','stalk.color.below.ring','population']),\n",
    "        # (\"lab_pipe\", ordenc, ['bruises']),\n",
    "        ('', 'passthrough', ['bruises']),\n",
    "    ],\n",
    "    remainder='drop'\n",
    ")"
   ]
  },
  {
   "cell_type": "code",
   "execution_count": 22,
   "id": "a7138bde-79a6-4986-8a77-7ecd6810df21",
   "metadata": {},
   "outputs": [],
   "source": [
    "\n",
    "X_train, X_test, y_train, y_test = train_test_split(X,y,train_size= 0.7, shuffle=False)\n"
   ]
  },
  {
   "cell_type": "code",
   "execution_count": 23,
   "id": "9248b9ca-aba2-4b2e-9722-a965366ece07",
   "metadata": {},
   "outputs": [
    {
     "data": {
      "text/plain": [
       "(4549, 6)"
      ]
     },
     "execution_count": 23,
     "metadata": {},
     "output_type": "execute_result"
    }
   ],
   "source": [
    "X_train.shape"
   ]
  },
  {
   "cell_type": "code",
   "execution_count": 24,
   "id": "2f5b87e8-0e4c-4a76-9cfa-8f6079b4d4c4",
   "metadata": {},
   "outputs": [
    {
     "data": {
      "text/plain": [
       "(4549,)"
      ]
     },
     "execution_count": 24,
     "metadata": {},
     "output_type": "execute_result"
    }
   ],
   "source": [
    "y_train.shape"
   ]
  },
  {
   "cell_type": "code",
   "execution_count": 25,
   "id": "750d4af5-7cf4-4db1-ade0-4720479d2849",
   "metadata": {},
   "outputs": [],
   "source": [
    "# y_train"
   ]
  },
  {
   "cell_type": "code",
   "execution_count": 26,
   "id": "4f9a0f22-0fef-47ec-9b2d-bc15c1008735",
   "metadata": {},
   "outputs": [
    {
     "data": {
      "text/html": [
       "<div>\n",
       "<style scoped>\n",
       "    .dataframe tbody tr th:only-of-type {\n",
       "        vertical-align: middle;\n",
       "    }\n",
       "\n",
       "    .dataframe tbody tr th {\n",
       "        vertical-align: top;\n",
       "    }\n",
       "\n",
       "    .dataframe thead th {\n",
       "        text-align: right;\n",
       "    }\n",
       "</style>\n",
       "<table border=\"1\" class=\"dataframe\">\n",
       "  <thead>\n",
       "    <tr style=\"text-align: right;\">\n",
       "      <th></th>\n",
       "      <th>cap.shape</th>\n",
       "      <th>cap.color</th>\n",
       "      <th>bruises</th>\n",
       "      <th>stalk.color.above.ring</th>\n",
       "      <th>stalk.color.below.ring</th>\n",
       "      <th>population</th>\n",
       "    </tr>\n",
       "  </thead>\n",
       "  <tbody>\n",
       "    <tr>\n",
       "      <th>0</th>\n",
       "      <td>k</td>\n",
       "      <td>e</td>\n",
       "      <td>False</td>\n",
       "      <td>w</td>\n",
       "      <td>w</td>\n",
       "      <td>v</td>\n",
       "    </tr>\n",
       "  </tbody>\n",
       "</table>\n",
       "</div>"
      ],
      "text/plain": [
       "  cap.shape cap.color  bruises stalk.color.above.ring stalk.color.below.ring  \\\n",
       "0         k         e    False                      w                      w   \n",
       "\n",
       "  population  \n",
       "0          v  "
      ]
     },
     "execution_count": 26,
     "metadata": {},
     "output_type": "execute_result"
    }
   ],
   "source": [
    "X_train.head(1)"
   ]
  },
  {
   "cell_type": "code",
   "execution_count": null,
   "id": "bf1fd2a2-3947-477e-af52-a8fef9aa56c9",
   "metadata": {},
   "outputs": [],
   "source": [
    "\n",
    "rfreg_grid = {'n_estimators': [100, 150, 200, 250, 300],\n",
    "              'max_depth': [3,5,7,11],\n",
    "              'max_features':['sqrt', 'log2', None]\n",
    "             }\n",
    "grid000 = GridSearchCV(RandomForestRegressor(), rfreg_grid, cv = 10, scoring='accuracy')\n",
    "grid000.fit(X_train, y_train)\n"
   ]
  },
  {
   "cell_type": "code",
   "execution_count": null,
   "id": "c84f49a4-7b89-4210-a27f-31e7a76be3a6",
   "metadata": {},
   "outputs": [],
   "source": [
    "grid000.best_params_"
   ]
  },
  {
   "cell_type": "code",
   "execution_count": null,
   "id": "4ac7f363-051c-4840-97ea-9462210d4585",
   "metadata": {},
   "outputs": [],
   "source": [
    "# rfreg_grid2 = {'randomforestregressor__n_estimators': [100, 150, 200, 250, 300],\n",
    "#               'randomforestregressor__max_depth': [3,5,7,11],\n",
    "#               'randomforestregressor__max_features':['sqrt', 'log2', None]\n",
    "#              }\n",
    "# cat_pipe = make_pipeline(pr, RandomForestRegressor())\n",
    "# grid0 = GridSearchCV(cat_pipe, rfreg_grid2, cv = 10, scoring='accuracy')\n",
    "# grid0.fit(X_train, y_train)\n",
    "\n"
   ]
  },
  {
   "cell_type": "code",
   "execution_count": null,
   "id": "d4fc669c-ef1a-49f3-b9f1-5b3ad936be54",
   "metadata": {},
   "outputs": [],
   "source": [
    "# grid0.best_params_"
   ]
  },
  {
   "cell_type": "code",
   "execution_count": null,
   "id": "ab429e8b-c95f-41a2-b8af-2568ea0f25b6",
   "metadata": {},
   "outputs": [],
   "source": [
    "# grid0.best_score_"
   ]
  },
  {
   "cell_type": "code",
   "execution_count": 29,
   "id": "e8099d46-a451-42db-a7fa-ef867b3e0757",
   "metadata": {},
   "outputs": [],
   "source": [
    "rfc = make_pipeline(pr, RandomForestClassifier(\n",
    "    max_depth=3, max_features='sqrt', n_estimators=100))"
   ]
  },
  {
   "cell_type": "code",
   "execution_count": 30,
   "id": "149bcb03-9536-43bf-8441-08057b5fdfbe",
   "metadata": {},
   "outputs": [
    {
     "data": {
      "text/plain": [
       "Pipeline(steps=[('columntransformer',\n",
       "                 ColumnTransformer(transformers=[('tar_pipe', TargetEncoder(),\n",
       "                                                  ['cap.shape', 'cap.color',\n",
       "                                                   'stalk.color.above.ring',\n",
       "                                                   'stalk.color.below.ring',\n",
       "                                                   'population']),\n",
       "                                                 ('', 'passthrough',\n",
       "                                                  ['bruises'])])),\n",
       "                ('randomforestclassifier',\n",
       "                 RandomForestClassifier(max_depth=3, max_features='sqrt'))])"
      ]
     },
     "execution_count": 30,
     "metadata": {},
     "output_type": "execute_result"
    }
   ],
   "source": [
    "rfc.fit(X_train,y_train)"
   ]
  },
  {
   "cell_type": "code",
   "execution_count": 31,
   "id": "91563d7a-617e-4bd2-8a70-cd69d1fd7e80",
   "metadata": {},
   "outputs": [],
   "source": [
    "y_train_pred0 = rfc.predict(X_train)\n",
    "\n"
   ]
  },
  {
   "cell_type": "code",
   "execution_count": 32,
   "id": "c8b61f73-5323-4583-bdc6-89f540685671",
   "metadata": {},
   "outputs": [
    {
     "name": "stdout",
     "output_type": "stream",
     "text": [
      "Train set RMSE of dtree: 0.32\n"
     ]
    }
   ],
   "source": [
    "from sklearn.metrics import mean_squared_error as MSE\n",
    "# Compute mse_dt train set\n",
    "mse_dtree = MSE(y_train, y_train_pred0)\n",
    "\n",
    "# Compute rmse_dt\n",
    "rmse_dtree = mse_dtree**(1/2)\n",
    "\n",
    "# Print rmse_dt\n",
    "print(\"Train set RMSE of dtree: {:.2f}\".format(rmse_dtree))"
   ]
  },
  {
   "cell_type": "code",
   "execution_count": 33,
   "id": "21bb2935-78dc-449b-938d-5231998f858a",
   "metadata": {},
   "outputs": [],
   "source": [
    "results=cross_val_score(rfc,X,y,cv=10)\n",
    "\n"
   ]
  },
  {
   "cell_type": "code",
   "execution_count": 34,
   "id": "366e6dad-3fc3-44eb-ad40-e5479b6047f1",
   "metadata": {},
   "outputs": [
    {
     "name": "stdout",
     "output_type": "stream",
     "text": [
      "[0.90461538 0.9        0.90153846 0.89538462 0.91230769 0.89384615\n",
      " 0.89230769 0.87384615 0.88615385 0.88135593]\n"
     ]
    }
   ],
   "source": [
    "print(results)"
   ]
  },
  {
   "cell_type": "code",
   "execution_count": null,
   "id": "41dba7f6-003b-4ad5-b1a3-1d3c536a8c9b",
   "metadata": {},
   "outputs": [],
   "source": [
    "\n",
    "# preprocessor = ColumnTransformer(\n",
    "#     transformers=[\n",
    "#         # target encoders\n",
    "#         ('tar_pipe', targenc, ['cap.shape','cap.color','stalk.color.above.ring','stalk.color.below.ring','population']),\n",
    "#         (\"lab_pipe\", ordenc, ['bruises']),\n",
    "#     ]\n",
    "# )"
   ]
  },
  {
   "cell_type": "code",
   "execution_count": null,
   "id": "e6298469-3183-4c37-b484-ff8f696a8b66",
   "metadata": {},
   "outputs": [],
   "source": [
    "# params1 = {'kneighborsregressor__n_neighbors': [1,3,5,10,50], \n",
    "#            'kneighborsregressor__weights':['uniform', 'distance']}\n"
   ]
  },
  {
   "cell_type": "code",
   "execution_count": null,
   "id": "07e2e6ea-3b98-4216-adaa-67c2d000e2f3",
   "metadata": {},
   "outputs": [],
   "source": [
    "# log_pipe = make_pipeline(preprocessor, KNeighborsRegressor())\n",
    "# grid1 = GridSearchCV(log_pipe, params1, cv = 10, scoring='accuracy')\n",
    "# grid1.fit(X_train, y_train)\n"
   ]
  },
  {
   "cell_type": "code",
   "execution_count": 37,
   "id": "11b65e12-d35a-4cb8-b194-e3fccc359e4b",
   "metadata": {},
   "outputs": [],
   "source": [
    "finpred = rfc.predict(df_test)\n"
   ]
  },
  {
   "cell_type": "code",
   "execution_count": 38,
   "id": "983cfe98-55fb-4131-8fa0-e7d7ea799dbb",
   "metadata": {},
   "outputs": [],
   "source": [
    "from datetime import datetime\n",
    "\n",
    "now = datetime.utcnow().strftime('%Y-%m-%d %H:%M:%S')\n",
    "my_submission = pd.DataFrame({'Id': df_test.index, 'Poisonous': finpred})\n",
    "\n",
    "my_submission.to_csv(f'talladen_submit_{now}.csv', index=False)"
   ]
  },
  {
   "cell_type": "code",
   "execution_count": null,
   "id": "5c09f020-83a2-4084-a4d6-ba84f1f24324",
   "metadata": {},
   "outputs": [],
   "source": []
  },
  {
   "cell_type": "code",
   "execution_count": null,
   "id": "37ca7df7-001e-40c1-85f9-198183ff6b31",
   "metadata": {},
   "outputs": [],
   "source": []
  },
  {
   "cell_type": "code",
   "execution_count": null,
   "id": "c0c247f1-dae3-4cc3-bee0-54b67575f923",
   "metadata": {},
   "outputs": [],
   "source": []
  },
  {
   "cell_type": "code",
   "execution_count": null,
   "id": "eca27199-5d1b-4735-985b-f6cb0c30f528",
   "metadata": {},
   "outputs": [],
   "source": []
  },
  {
   "cell_type": "code",
   "execution_count": null,
   "id": "3cd9af92-2074-4f2c-8330-78a25e5be337",
   "metadata": {},
   "outputs": [],
   "source": []
  },
  {
   "cell_type": "code",
   "execution_count": null,
   "id": "b005b1a6-8843-4a38-a10e-d7fca9bdb13c",
   "metadata": {},
   "outputs": [],
   "source": []
  }
 ],
 "metadata": {
  "kernelspec": {
   "display_name": "Python 3 (ipykernel)",
   "language": "python",
   "name": "python3"
  },
  "language_info": {
   "codemirror_mode": {
    "name": "ipython",
    "version": 3
   },
   "file_extension": ".py",
   "mimetype": "text/x-python",
   "name": "python",
   "nbconvert_exporter": "python",
   "pygments_lexer": "ipython3",
   "version": "3.9.13"
  }
 },
 "nbformat": 4,
 "nbformat_minor": 5
}
