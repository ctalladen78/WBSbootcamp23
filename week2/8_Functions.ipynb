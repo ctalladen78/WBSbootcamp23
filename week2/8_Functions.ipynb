{
  "cells": [
    {
      "cell_type": "markdown",
      "metadata": {
        "id": "m1F11KQNKhZk"
      },
      "source": [
        "## Functions"
      ]
    },
    {
      "cell_type": "markdown",
      "metadata": {
        "id": "KLzPMEttKhZn"
      },
      "source": [
        "Creating a function is super easy. Just follow these steps:\n",
        "\n",
        "- Start with the `def` statment.\n",
        "- Give your function a name and open parentheses.\n",
        "- Optional: write the names of your function's arguments between the parentheses.\n",
        "- Write the code that performs whatever you want to do between parentheses."
      ]
    },
    {
      "cell_type": "markdown",
      "metadata": {
        "id": "9uPHy4qZKhZo"
      },
      "source": [
        "#### Defining a function to divide 2 numbers:"
      ]
    },
    {
      "cell_type": "code",
      "execution_count": null,
      "metadata": {
        "id": "wrZ5ejWoKhZo"
      },
      "outputs": [],
      "source": [
        "def division_func(numerator, denominator):\n",
        "    res = numerator / denominator\n",
        "    return res"
      ]
    },
    {
      "cell_type": "markdown",
      "metadata": {
        "id": "2Fcpl592KhZp"
      },
      "source": [
        "#### Calling the function\n",
        "\n",
        "Unless specified otherwise, arguments are passed in order"
      ]
    },
    {
      "cell_type": "code",
      "execution_count": null,
      "metadata": {
        "id": "qhAhmko3KhZq"
      },
      "outputs": [],
      "source": [
        "division_func(2, 4)"
      ]
    },
    {
      "cell_type": "markdown",
      "metadata": {
        "id": "iIpAkjWjKhZr"
      },
      "source": [
        "You can switch the order of the arguments by being explicit with them:"
      ]
    },
    {
      "cell_type": "code",
      "execution_count": null,
      "metadata": {
        "id": "5ad_YFZqKhZr"
      },
      "outputs": [],
      "source": [
        "division_func(numerator=4, \n",
        "              denominator=2)"
      ]
    },
    {
      "cell_type": "code",
      "execution_count": null,
      "metadata": {
        "id": "u_PVtIyTKhZs"
      },
      "outputs": [],
      "source": [
        "division_func(denominator=4, \n",
        "              numerator=2)"
      ]
    },
    {
      "cell_type": "markdown",
      "metadata": {
        "id": "3OiLXfStKhZs"
      },
      "source": [
        "It might be ugly, but you can be explicit only with some of the arguments..."
      ]
    },
    {
      "cell_type": "code",
      "execution_count": null,
      "metadata": {
        "id": "3qa3Dw99KhZt"
      },
      "outputs": [],
      "source": [
        "division_func(4, denominator=2)"
      ]
    },
    {
      "cell_type": "markdown",
      "metadata": {
        "id": "EXliPEymKhZt"
      },
      "source": [
        "Seting a default value for an argument is possible:"
      ]
    },
    {
      "cell_type": "code",
      "execution_count": null,
      "metadata": {
        "id": "L_X5QkjTKhZt"
      },
      "outputs": [],
      "source": [
        "def division_func(numerator=4, denominator=2):\n",
        "    res = numerator / denominator\n",
        "    return res"
      ]
    },
    {
      "cell_type": "markdown",
      "metadata": {
        "id": "RtQqAP44KhZt"
      },
      "source": [
        "Whenever all arguments of a function have default values, you can call it without especifying them:"
      ]
    },
    {
      "cell_type": "code",
      "execution_count": null,
      "metadata": {
        "id": "6rvCcv1KKhZt"
      },
      "outputs": [],
      "source": [
        "division_func()"
      ]
    },
    {
      "cell_type": "markdown",
      "metadata": {
        "id": "EEXCDtiCKhZu"
      },
      "source": [
        "Arguments are not restricted to an object type (we never declare the types of variables, arguments or return values)"
      ]
    },
    {
      "cell_type": "code",
      "execution_count": null,
      "metadata": {
        "id": "6haAmr_QKhZu"
      },
      "outputs": [],
      "source": [
        "def addition_func(element1=4, element2=2):\n",
        "    res = element1 + element2\n",
        "    return res"
      ]
    },
    {
      "cell_type": "code",
      "execution_count": null,
      "metadata": {
        "id": "NXQ_-qkvKhZu"
      },
      "outputs": [],
      "source": [
        "addition_func(2, 4)"
      ]
    },
    {
      "cell_type": "code",
      "execution_count": null,
      "metadata": {
        "id": "_p1kNUH8KhZu"
      },
      "outputs": [],
      "source": [
        "addition_func(\"hello\", \"there\")"
      ]
    },
    {
      "cell_type": "markdown",
      "metadata": {
        "id": "7Xemr03MKhZu"
      },
      "source": [
        "What if we really want to constrain this `addition_func` to only admit integers?"
      ]
    },
    {
      "cell_type": "markdown",
      "metadata": {
        "id": "Gbc_le89KhZv"
      },
      "source": [
        "Option 1: try to coerce inputs to integers:"
      ]
    },
    {
      "cell_type": "code",
      "execution_count": null,
      "metadata": {
        "id": "nU0zcPrlKhZv"
      },
      "outputs": [],
      "source": [
        "def addition_func(element1=4, element2=2):\n",
        "    return int(element1)+int(element2)"
      ]
    },
    {
      "cell_type": "markdown",
      "metadata": {
        "id": "bPSv7X9VKhZv"
      },
      "source": [
        "Option 2: check for the `type` of the inputs:"
      ]
    },
    {
      "cell_type": "code",
      "execution_count": null,
      "metadata": {
        "id": "LSc8IBLrKhZv"
      },
      "outputs": [],
      "source": [
        "def product_integers(x, y):\n",
        "    if type(x) == int and type(y) == int:\n",
        "            return(x*y)\n",
        "    else:\n",
        "        return \"Are you out of your mind? Only integers allowed!\"\n",
        "\n",
        "print(product_integers(8, 2))\n",
        "print(product_integers(4, \"a\"))"
      ]
    },
    {
      "cell_type": "markdown",
      "metadata": {
        "id": "JxC_91r8KhZv"
      },
      "source": [
        "Testing for types is not a common practice. Embrace python's flexibility!"
      ]
    },
    {
      "cell_type": "markdown",
      "metadata": {
        "id": "LhCesmQtKhZv"
      },
      "source": [
        "The `return` statement allows us to store the output of the function in a variable:"
      ]
    },
    {
      "cell_type": "code",
      "execution_count": null,
      "metadata": {
        "id": "YoMMy1k-KhZv"
      },
      "outputs": [],
      "source": [
        "def addition_func(element1=4, element2=2):\n",
        "    res = element1 + element2\n",
        "    return res"
      ]
    },
    {
      "cell_type": "code",
      "execution_count": null,
      "metadata": {
        "id": "xmUa0ed_KhZw"
      },
      "outputs": [],
      "source": [
        "a = addition_func(2,3)"
      ]
    },
    {
      "cell_type": "code",
      "execution_count": null,
      "metadata": {
        "id": "joI6jYQNKhZw"
      },
      "outputs": [],
      "source": [
        "a"
      ]
    },
    {
      "cell_type": "markdown",
      "metadata": {
        "id": "EUFzqfEFKhZw"
      },
      "source": [
        "What if we use print instead of return?"
      ]
    },
    {
      "cell_type": "code",
      "execution_count": null,
      "metadata": {
        "id": "Vr095lw4KhZw"
      },
      "outputs": [],
      "source": [
        "def addition_func(element1=4, element2=2):\n",
        "    res = element1 + element2\n",
        "    print(res)"
      ]
    },
    {
      "cell_type": "markdown",
      "metadata": {
        "id": "DQXcRO_-KhZw"
      },
      "source": [
        "It may look like the behaviour is the same... But the output gets printed when we are just trying to assign it to a variable:"
      ]
    },
    {
      "cell_type": "code",
      "execution_count": null,
      "metadata": {
        "id": "KJvkF3iVKhZw"
      },
      "outputs": [],
      "source": [
        "b = addition_func(1,8)"
      ]
    },
    {
      "cell_type": "markdown",
      "metadata": {
        "id": "9V_3oOWwKhZw"
      },
      "source": [
        "And the variable has not actually stored the output:"
      ]
    },
    {
      "cell_type": "code",
      "execution_count": null,
      "metadata": {
        "id": "yKvoNcd_KhZx"
      },
      "outputs": [],
      "source": [
        "b"
      ]
    },
    {
      "cell_type": "markdown",
      "metadata": {
        "id": "6j1pAfspKhZx"
      },
      "source": [
        "So, in general, use `return` in functions instead of `print()`!"
      ]
    },
    {
      "cell_type": "markdown",
      "metadata": {
        "id": "kQ-KBaxhKhZx"
      },
      "source": [
        "#### Exercises: "
      ]
    },
    {
      "cell_type": "markdown",
      "metadata": {
        "id": "Y6OVhUabKhZx"
      },
      "source": [
        "##### Build a function to filp coins. It should take as an argument how many coins to flip, and ouptut how many times the coin landed on heads.\n",
        "\n",
        "Hint: use the module `random` inside of your function!"
      ]
    },
    {
      "cell_type": "code",
      "execution_count": 28,
      "metadata": {
        "colab": {
          "base_uri": "https://localhost:8080/"
        },
        "id": "yOjFFzchKhZx",
        "outputId": "6b738f66-60fe-4539-e89b-ec109bb9b6ed"
      },
      "outputs": [
        {
          "name": "stdout",
          "output_type": "stream",
          "text": [
            "heads: 7 out of: 10\n"
          ]
        }
      ],
      "source": [
        "# your code here\n",
        "import random\n",
        "def flip_coin(flips):\n",
        "  # 1:heads 0:tails\n",
        "  heads = 0\n",
        "  for i in range(flips):\n",
        "    r = random.randint(0, 1)\n",
        "    if r == 1 : heads += 1\n",
        "  print('heads: %i out of: %i'%(heads,flips))\n",
        "flip_coin(10)"
      ]
    },
    {
      "cell_type": "markdown",
      "metadata": {
        "id": "JHbhGAAgKhZx"
      },
      "source": [
        "##### Build a function that takes as input a string and returns it reversed\n",
        "\n",
        "Extra challenge: try not to use any built in Python string method!"
      ]
    },
    {
      "cell_type": "code",
      "execution_count": 21,
      "metadata": {
        "id": "CyVfhIvuKhZx"
      },
      "outputs": [],
      "source": [
        "# code here\n",
        "def string_reverse(input):\n",
        "  print(''.join(list(reversed(input))))\n",
        "\n"
      ]
    },
    {
      "cell_type": "markdown",
      "metadata": {
        "id": "YBu20Uc5KhZx"
      },
      "source": [
        "Test your function:"
      ]
    },
    {
      "cell_type": "code",
      "execution_count": 22,
      "metadata": {
        "colab": {
          "base_uri": "https://localhost:8080/"
        },
        "id": "aCvx-pxxKhZx",
        "outputId": "f6ccd0a0-ac85-4749-97fd-597820655183"
      },
      "outputs": [
        {
          "name": "stdout",
          "output_type": "stream",
          "text": [
            "arbadacarbA\n"
          ]
        }
      ],
      "source": [
        "string_reverse(\"Abracadabra\")\n",
        "\n",
        "# expected output: 'arbadacarbA'"
      ]
    },
    {
      "cell_type": "markdown",
      "metadata": {
        "id": "58sWtafMKhZy"
      },
      "source": [
        "##### Build a function to return the intersection of two sets\n",
        "\n",
        "Find out more about Python sets here: https://www.w3schools.com/python/python_sets.asp "
      ]
    },
    {
      "cell_type": "code",
      "execution_count": 53,
      "metadata": {
        "id": "nkopgxA4KhZy"
      },
      "outputs": [],
      "source": [
        "# Build a function to return the intersection of two sets\n",
        "# Code here:\n",
        "def intersect(plane, planet):\n",
        "  s1 = list(plane)\n",
        "  s2 = list(planet)\n",
        "  list_diff = [i for i in s1 + s2 if i in s1 and i in s2]\n",
        "\n",
        "  print(sorted(set(list_diff)))\n",
        "\n"
      ]
    },
    {
      "cell_type": "code",
      "execution_count": 54,
      "metadata": {
        "colab": {
          "base_uri": "https://localhost:8080/"
        },
        "id": "5nEi6xnNKhZy",
        "outputId": "0a044c8c-09c5-401f-ed04-b603e4ebb4b4"
      },
      "outputs": [
        {
          "name": "stdout",
          "output_type": "stream",
          "text": [
            "{1, 2, 3, 5, 13}\n"
          ]
        }
      ],
      "source": [
        "# test your function\n",
        "small_primes = (1, 2, 3, 5, 7, 11, 13)\n",
        "fibonacci = [0, 1, 1, 2, 3, 5, 8, 13]\n",
        "\n",
        "intersect(small_primes, fibonacci)\n",
        "\n",
        "# expected output: {1, 2, 3, 5, 13}"
      ]
    },
    {
      "cell_type": "code",
      "execution_count": 55,
      "metadata": {
        "colab": {
          "base_uri": "https://localhost:8080/"
        },
        "id": "6Ffq6J8uKhZy",
        "outputId": "c9bd0741-598d-44f8-e49f-366499428b62"
      },
      "outputs": [
        {
          "name": "stdout",
          "output_type": "stream",
          "text": [
            "{'a', 'e', 'p', 'n', 'l'}\n"
          ]
        }
      ],
      "source": [
        "# Should work with strings as well\n",
        "plane = \"plane\"\n",
        "planet = \"planet\"\n",
        "\n",
        "intersect(plane, planet)\n",
        "# expected output: {\"a\", \"e\", \"l\", \"n\", \"p\"}"
      ]
    },
    {
      "cell_type": "markdown",
      "metadata": {
        "id": "liOTrexHKhZy"
      },
      "source": [
        "### Modules\n",
        "\n",
        "Convert this function into a module and import it from another notebook."
      ]
    },
    {
      "cell_type": "code",
      "execution_count": null,
      "metadata": {
        "id": "vLtY5Q0dKhZy"
      },
      "outputs": [],
      "source": [
        "# code here\n",
        "import ipynb\n",
        "from ipynb.fs.full.8-Functions import addition_func"
      ]
    },
    {
      "cell_type": "markdown",
      "metadata": {
        "id": "AfD9in0JKhZy"
      },
      "source": [
        "### Bonus: Scopes\n",
        "\n",
        "Let's look again at the `addition function`:"
      ]
    },
    {
      "cell_type": "code",
      "execution_count": null,
      "metadata": {
        "id": "zEpiyQxKKhZy"
      },
      "outputs": [],
      "source": [
        "def addition_func(element1=4, element2=2):\n",
        "    res = element1 + element2\n",
        "    return res"
      ]
    },
    {
      "cell_type": "markdown",
      "metadata": {
        "id": "SUAowLTbKhZz"
      },
      "source": [
        "#### where's the variable `res`?\n",
        "\n",
        "It is a local variable: a name that is visible only to code inside the function def and that exists only while the function runs. \n",
        "\n",
        "When you use a name in a program, Python creates, changes, or looks up the name in what is known as a namespace —a place where names live. When we talk about the search for a name’s value in relation to code, the term scope refers to a namespace: that is, the location of a name’s assignment in your source code determines the scope of the name’s visibility to your code.\n",
        "\n",
        "The place where you assign a name in your source code determines the namespace it will live in, and hence its scope of visibility.\n",
        "\n",
        "- Names assigned inside a def can only be seen by the code within that def. You cannot even refer to such names from outside the function.\n",
        "\n",
        "- Names assigned inside a def do not clash with variables outside the def, even if the same names are used elsewhere. A name X assigned outside a given def (i.e., in a different def or at the top level of a module file) is a completely different variable from a name X assigned inside that def."
      ]
    },
    {
      "cell_type": "code",
      "execution_count": null,
      "metadata": {
        "id": "Uofb9BxuKhZz"
      },
      "outputs": [],
      "source": [
        "x = 1990\n",
        "\n",
        "def func():\n",
        "    x = 2020\n",
        "    print(x)"
      ]
    },
    {
      "cell_type": "code",
      "execution_count": null,
      "metadata": {
        "id": "8MWEcjOFKhZz"
      },
      "outputs": [],
      "source": [
        "func()"
      ]
    },
    {
      "cell_type": "code",
      "execution_count": null,
      "metadata": {
        "id": "oIGgQH4zKhZz"
      },
      "outputs": [],
      "source": [
        "x"
      ]
    },
    {
      "cell_type": "markdown",
      "metadata": {
        "id": "941hAmYzKhZ0"
      },
      "source": [
        "- If you need to assign a name that lives at the top level of the module enclosing the function, you can do so by declaring it in a global statement inside the function. \n",
        "\n",
        "- If you need to assign a name that lives in an enclosing def, as of Python 3.X you can do so by declaring it in a nonlocal statement."
      ]
    },
    {
      "cell_type": "markdown",
      "metadata": {
        "id": "D3x5_79tKhZ0"
      },
      "source": [
        "Type of assignment within a function classifies a name as local. This includes = statements, module names in import, function names in def, function argument names, and so on. If you assign a name in any way within a def, it will become a local to that function by default.\n",
        "\n",
        "In-place changes to objects do not classify names as locals; only actual name assignments do. \n",
        "\n",
        "For instance, if the name L is assigned to a list at the top level of a module, a statement L = X within a function will classify L as a local, but L.append(X) will not. In the latter case, we are changing the list object that L references, not L itself—L is found in the global scope as usual, and Python happily modifies it without requiring a global (or nonlocal) declaration. As usual, it helps to keep the distinction between names and objects clear: changing an object is not an assignment to a name."
      ]
    },
    {
      "cell_type": "code",
      "execution_count": null,
      "metadata": {
        "id": "tEjCdIPJKhZ0"
      },
      "outputs": [],
      "source": [
        "L = [1, 2, 3]\n",
        "\n",
        "def append4():\n",
        "    L.append(4)\n",
        "    return L\n",
        "\n",
        "append4()"
      ]
    },
    {
      "cell_type": "code",
      "execution_count": null,
      "metadata": {
        "id": "38i3oE9JKhZ1"
      },
      "outputs": [],
      "source": [
        "L"
      ]
    },
    {
      "cell_type": "code",
      "execution_count": null,
      "metadata": {
        "id": "V0STK6hgKhZ1"
      },
      "outputs": [],
      "source": [
        "L = [1, 2, 3]\n",
        "\n",
        "def transform_L_into_X():\n",
        "    X = \"This is X\"\n",
        "    L = X\n",
        "    return L\n",
        "\n",
        "transform_L_into_X()"
      ]
    },
    {
      "cell_type": "code",
      "execution_count": null,
      "metadata": {
        "id": "QpNyLq1sKhZ1"
      },
      "outputs": [],
      "source": [
        "L"
      ]
    },
    {
      "cell_type": "markdown",
      "metadata": {
        "id": "F2EgGqYwKhZ1"
      },
      "source": [
        "#### The global statement"
      ]
    },
    {
      "cell_type": "code",
      "execution_count": null,
      "metadata": {
        "id": "b0V8mYwbKhZ1"
      },
      "outputs": [],
      "source": [
        "X = 88                         # Global X\n",
        "\n",
        "def func():\n",
        "    global X\n",
        "    X = 99                     # Global X: outside def\n",
        "    print(X)\n",
        "\n",
        "func()"
      ]
    },
    {
      "cell_type": "code",
      "execution_count": null,
      "metadata": {
        "id": "uWB7RXzNKhZ1"
      },
      "outputs": [],
      "source": [
        "X"
      ]
    },
    {
      "cell_type": "markdown",
      "metadata": {
        "id": "dk4boxILKhZ2"
      },
      "source": [
        "Minimize globals! What is the value of x here? It depends on where you ask during running time, and that's confusing and prone to errors."
      ]
    },
    {
      "cell_type": "markdown",
      "metadata": {
        "id": "uC-rBzxKKhZ2"
      },
      "source": [
        "Some more tips for using functions:\n",
        "\n",
        "- each function should have a single, unified purpose.\n",
        "\n",
        "- each function should be relatively small"
      ]
    }
  ],
  "metadata": {
    "colab": {
      "collapsed_sections": [
        "kQ-KBaxhKhZx"
      ],
      "provenance": []
    },
    "kernelspec": {
      "display_name": "Python 3",
      "language": "python",
      "name": "python3"
    },
    "language_info": {
      "codemirror_mode": {
        "name": "ipython",
        "version": 3
      },
      "file_extension": ".py",
      "mimetype": "text/x-python",
      "name": "python",
      "nbconvert_exporter": "python",
      "pygments_lexer": "ipython3",
      "version": "3.8.5"
    },
    "toc": {
      "base_numbering": 1,
      "nav_menu": {},
      "number_sections": true,
      "sideBar": true,
      "skip_h1_title": false,
      "title_cell": "Table of Contents",
      "title_sidebar": "Contents",
      "toc_cell": false,
      "toc_position": {},
      "toc_section_display": true,
      "toc_window_display": false
    },
    "varInspector": {
      "cols": {
        "lenName": 16,
        "lenType": 16,
        "lenVar": 40
      },
      "kernels_config": {
        "python": {
          "delete_cmd_postfix": "",
          "delete_cmd_prefix": "del ",
          "library": "var_list.py",
          "varRefreshCmd": "print(var_dic_list())"
        },
        "r": {
          "delete_cmd_postfix": ") ",
          "delete_cmd_prefix": "rm(",
          "library": "var_list.r",
          "varRefreshCmd": "cat(var_dic_list()) "
        }
      },
      "types_to_exclude": [
        "module",
        "function",
        "builtin_function_or_method",
        "instance",
        "_Feature"
      ],
      "window_display": false
    }
  },
  "nbformat": 4,
  "nbformat_minor": 0
}
