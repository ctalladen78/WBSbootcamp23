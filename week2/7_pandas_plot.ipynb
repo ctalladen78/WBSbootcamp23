{
  "cells": [
    {
      "cell_type": "markdown",
      "metadata": {
        "id": "uVDBZWYZ87ea"
      },
      "source": [
        "# Data Visualization\n",
        "\n",
        "Data visualization is an important part of data science, it allows us to explore our data, as well as present our findings to others. There are many python libraries that allow you to create beautiful plots. Today we will only look a the `.plot()` function that's built in to pandas. This function is super useful as it's very easy to use, and allows us to make very quick, basic plots, from which we can explore our data.\n",
        "\n",
        "As always, let's start by loading some data. We will start with the small `people_csv`, so that it's easier to understand what's going on:"
      ]
    },
    {
      "cell_type": "code",
      "execution_count": 1,
      "metadata": {
        "collapsed": true,
        "jupyter": {
          "outputs_hidden": true
        },
        "id": "bVdwp5ci87ed",
        "outputId": "5a9087db-2eec-4a06-d329-ca4ef3a134e0",
        "colab": {
          "base_uri": "https://localhost:8080/",
          "height": 582
        }
      },
      "outputs": [
        {
          "output_type": "execute_result",
          "data": {
            "text/plain": [
              "                             name  age country  sibilings favourite_color  \\\n",
              "0                Erika Schumacher   22      DE          2             Red   \n",
              "1                      Javi López   50      ES          5          Yellow   \n",
              "2                    Maria Rovira   23      ES          4          Yellow   \n",
              "3                    Ana Garamond   29      ES          1            Blue   \n",
              "4                  Shekhar Biswas   44      IN          3             Red   \n",
              "5                    Muriel Adams   30      DE          2          Yellow   \n",
              "6                     Saira Polom   25      IN          1            Blue   \n",
              "7                      Alex Edwin   71      UK          7            Blue   \n",
              "8                       Kit Ching   35      UK          2             Red   \n",
              "9                        Dog Woof    2      XX          9            Gray   \n",
              "10                    Gerry Adams   27      UK          2          Orange   \n",
              "11                Paulette Chiraq   40      FR          3            Blue   \n",
              "12                   Justus Fromm   23      DE          1            Blue   \n",
              "13                Léandre Boucher   19      FR          0             Red   \n",
              "14                  Jonatan Maier   32      DE          2            Blue   \n",
              "15  Hildegarde Von Grimmelshausen   38      DE          4             Red   \n",
              "16                   Pankraz Sala   27      IN          3          Yellow   \n",
              "\n",
              "    credit  \n",
              "0      100  \n",
              "1       95  \n",
              "2       89  \n",
              "3       88  \n",
              "4       89  \n",
              "5      100  \n",
              "6       97  \n",
              "7       88  \n",
              "8       98  \n",
              "9       99  \n",
              "10      89  \n",
              "11      89  \n",
              "12     100  \n",
              "13      93  \n",
              "14      91  \n",
              "15      88  \n",
              "16      88  "
            ],
            "text/html": [
              "\n",
              "  <div id=\"df-0ee9eb03-69f3-4bf2-811e-eff16b31c410\">\n",
              "    <div class=\"colab-df-container\">\n",
              "      <div>\n",
              "<style scoped>\n",
              "    .dataframe tbody tr th:only-of-type {\n",
              "        vertical-align: middle;\n",
              "    }\n",
              "\n",
              "    .dataframe tbody tr th {\n",
              "        vertical-align: top;\n",
              "    }\n",
              "\n",
              "    .dataframe thead th {\n",
              "        text-align: right;\n",
              "    }\n",
              "</style>\n",
              "<table border=\"1\" class=\"dataframe\">\n",
              "  <thead>\n",
              "    <tr style=\"text-align: right;\">\n",
              "      <th></th>\n",
              "      <th>name</th>\n",
              "      <th>age</th>\n",
              "      <th>country</th>\n",
              "      <th>sibilings</th>\n",
              "      <th>favourite_color</th>\n",
              "      <th>credit</th>\n",
              "    </tr>\n",
              "  </thead>\n",
              "  <tbody>\n",
              "    <tr>\n",
              "      <th>0</th>\n",
              "      <td>Erika Schumacher</td>\n",
              "      <td>22</td>\n",
              "      <td>DE</td>\n",
              "      <td>2</td>\n",
              "      <td>Red</td>\n",
              "      <td>100</td>\n",
              "    </tr>\n",
              "    <tr>\n",
              "      <th>1</th>\n",
              "      <td>Javi López</td>\n",
              "      <td>50</td>\n",
              "      <td>ES</td>\n",
              "      <td>5</td>\n",
              "      <td>Yellow</td>\n",
              "      <td>95</td>\n",
              "    </tr>\n",
              "    <tr>\n",
              "      <th>2</th>\n",
              "      <td>Maria Rovira</td>\n",
              "      <td>23</td>\n",
              "      <td>ES</td>\n",
              "      <td>4</td>\n",
              "      <td>Yellow</td>\n",
              "      <td>89</td>\n",
              "    </tr>\n",
              "    <tr>\n",
              "      <th>3</th>\n",
              "      <td>Ana Garamond</td>\n",
              "      <td>29</td>\n",
              "      <td>ES</td>\n",
              "      <td>1</td>\n",
              "      <td>Blue</td>\n",
              "      <td>88</td>\n",
              "    </tr>\n",
              "    <tr>\n",
              "      <th>4</th>\n",
              "      <td>Shekhar Biswas</td>\n",
              "      <td>44</td>\n",
              "      <td>IN</td>\n",
              "      <td>3</td>\n",
              "      <td>Red</td>\n",
              "      <td>89</td>\n",
              "    </tr>\n",
              "    <tr>\n",
              "      <th>5</th>\n",
              "      <td>Muriel Adams</td>\n",
              "      <td>30</td>\n",
              "      <td>DE</td>\n",
              "      <td>2</td>\n",
              "      <td>Yellow</td>\n",
              "      <td>100</td>\n",
              "    </tr>\n",
              "    <tr>\n",
              "      <th>6</th>\n",
              "      <td>Saira Polom</td>\n",
              "      <td>25</td>\n",
              "      <td>IN</td>\n",
              "      <td>1</td>\n",
              "      <td>Blue</td>\n",
              "      <td>97</td>\n",
              "    </tr>\n",
              "    <tr>\n",
              "      <th>7</th>\n",
              "      <td>Alex Edwin</td>\n",
              "      <td>71</td>\n",
              "      <td>UK</td>\n",
              "      <td>7</td>\n",
              "      <td>Blue</td>\n",
              "      <td>88</td>\n",
              "    </tr>\n",
              "    <tr>\n",
              "      <th>8</th>\n",
              "      <td>Kit Ching</td>\n",
              "      <td>35</td>\n",
              "      <td>UK</td>\n",
              "      <td>2</td>\n",
              "      <td>Red</td>\n",
              "      <td>98</td>\n",
              "    </tr>\n",
              "    <tr>\n",
              "      <th>9</th>\n",
              "      <td>Dog Woof</td>\n",
              "      <td>2</td>\n",
              "      <td>XX</td>\n",
              "      <td>9</td>\n",
              "      <td>Gray</td>\n",
              "      <td>99</td>\n",
              "    </tr>\n",
              "    <tr>\n",
              "      <th>10</th>\n",
              "      <td>Gerry Adams</td>\n",
              "      <td>27</td>\n",
              "      <td>UK</td>\n",
              "      <td>2</td>\n",
              "      <td>Orange</td>\n",
              "      <td>89</td>\n",
              "    </tr>\n",
              "    <tr>\n",
              "      <th>11</th>\n",
              "      <td>Paulette Chiraq</td>\n",
              "      <td>40</td>\n",
              "      <td>FR</td>\n",
              "      <td>3</td>\n",
              "      <td>Blue</td>\n",
              "      <td>89</td>\n",
              "    </tr>\n",
              "    <tr>\n",
              "      <th>12</th>\n",
              "      <td>Justus Fromm</td>\n",
              "      <td>23</td>\n",
              "      <td>DE</td>\n",
              "      <td>1</td>\n",
              "      <td>Blue</td>\n",
              "      <td>100</td>\n",
              "    </tr>\n",
              "    <tr>\n",
              "      <th>13</th>\n",
              "      <td>Léandre Boucher</td>\n",
              "      <td>19</td>\n",
              "      <td>FR</td>\n",
              "      <td>0</td>\n",
              "      <td>Red</td>\n",
              "      <td>93</td>\n",
              "    </tr>\n",
              "    <tr>\n",
              "      <th>14</th>\n",
              "      <td>Jonatan Maier</td>\n",
              "      <td>32</td>\n",
              "      <td>DE</td>\n",
              "      <td>2</td>\n",
              "      <td>Blue</td>\n",
              "      <td>91</td>\n",
              "    </tr>\n",
              "    <tr>\n",
              "      <th>15</th>\n",
              "      <td>Hildegarde Von Grimmelshausen</td>\n",
              "      <td>38</td>\n",
              "      <td>DE</td>\n",
              "      <td>4</td>\n",
              "      <td>Red</td>\n",
              "      <td>88</td>\n",
              "    </tr>\n",
              "    <tr>\n",
              "      <th>16</th>\n",
              "      <td>Pankraz Sala</td>\n",
              "      <td>27</td>\n",
              "      <td>IN</td>\n",
              "      <td>3</td>\n",
              "      <td>Yellow</td>\n",
              "      <td>88</td>\n",
              "    </tr>\n",
              "  </tbody>\n",
              "</table>\n",
              "</div>\n",
              "      <button class=\"colab-df-convert\" onclick=\"convertToInteractive('df-0ee9eb03-69f3-4bf2-811e-eff16b31c410')\"\n",
              "              title=\"Convert this dataframe to an interactive table.\"\n",
              "              style=\"display:none;\">\n",
              "        \n",
              "  <svg xmlns=\"http://www.w3.org/2000/svg\" height=\"24px\"viewBox=\"0 0 24 24\"\n",
              "       width=\"24px\">\n",
              "    <path d=\"M0 0h24v24H0V0z\" fill=\"none\"/>\n",
              "    <path d=\"M18.56 5.44l.94 2.06.94-2.06 2.06-.94-2.06-.94-.94-2.06-.94 2.06-2.06.94zm-11 1L8.5 8.5l.94-2.06 2.06-.94-2.06-.94L8.5 2.5l-.94 2.06-2.06.94zm10 10l.94 2.06.94-2.06 2.06-.94-2.06-.94-.94-2.06-.94 2.06-2.06.94z\"/><path d=\"M17.41 7.96l-1.37-1.37c-.4-.4-.92-.59-1.43-.59-.52 0-1.04.2-1.43.59L10.3 9.45l-7.72 7.72c-.78.78-.78 2.05 0 2.83L4 21.41c.39.39.9.59 1.41.59.51 0 1.02-.2 1.41-.59l7.78-7.78 2.81-2.81c.8-.78.8-2.07 0-2.86zM5.41 20L4 18.59l7.72-7.72 1.47 1.35L5.41 20z\"/>\n",
              "  </svg>\n",
              "      </button>\n",
              "      \n",
              "  <style>\n",
              "    .colab-df-container {\n",
              "      display:flex;\n",
              "      flex-wrap:wrap;\n",
              "      gap: 12px;\n",
              "    }\n",
              "\n",
              "    .colab-df-convert {\n",
              "      background-color: #E8F0FE;\n",
              "      border: none;\n",
              "      border-radius: 50%;\n",
              "      cursor: pointer;\n",
              "      display: none;\n",
              "      fill: #1967D2;\n",
              "      height: 32px;\n",
              "      padding: 0 0 0 0;\n",
              "      width: 32px;\n",
              "    }\n",
              "\n",
              "    .colab-df-convert:hover {\n",
              "      background-color: #E2EBFA;\n",
              "      box-shadow: 0px 1px 2px rgba(60, 64, 67, 0.3), 0px 1px 3px 1px rgba(60, 64, 67, 0.15);\n",
              "      fill: #174EA6;\n",
              "    }\n",
              "\n",
              "    [theme=dark] .colab-df-convert {\n",
              "      background-color: #3B4455;\n",
              "      fill: #D2E3FC;\n",
              "    }\n",
              "\n",
              "    [theme=dark] .colab-df-convert:hover {\n",
              "      background-color: #434B5C;\n",
              "      box-shadow: 0px 1px 3px 1px rgba(0, 0, 0, 0.15);\n",
              "      filter: drop-shadow(0px 1px 2px rgba(0, 0, 0, 0.3));\n",
              "      fill: #FFFFFF;\n",
              "    }\n",
              "  </style>\n",
              "\n",
              "      <script>\n",
              "        const buttonEl =\n",
              "          document.querySelector('#df-0ee9eb03-69f3-4bf2-811e-eff16b31c410 button.colab-df-convert');\n",
              "        buttonEl.style.display =\n",
              "          google.colab.kernel.accessAllowed ? 'block' : 'none';\n",
              "\n",
              "        async function convertToInteractive(key) {\n",
              "          const element = document.querySelector('#df-0ee9eb03-69f3-4bf2-811e-eff16b31c410');\n",
              "          const dataTable =\n",
              "            await google.colab.kernel.invokeFunction('convertToInteractive',\n",
              "                                                     [key], {});\n",
              "          if (!dataTable) return;\n",
              "\n",
              "          const docLinkHtml = 'Like what you see? Visit the ' +\n",
              "            '<a target=\"_blank\" href=https://colab.research.google.com/notebooks/data_table.ipynb>data table notebook</a>'\n",
              "            + ' to learn more about interactive tables.';\n",
              "          element.innerHTML = '';\n",
              "          dataTable['output_type'] = 'display_data';\n",
              "          await google.colab.output.renderOutput(dataTable, element);\n",
              "          const docLink = document.createElement('div');\n",
              "          docLink.innerHTML = docLinkHtml;\n",
              "          element.appendChild(docLink);\n",
              "        }\n",
              "      </script>\n",
              "    </div>\n",
              "  </div>\n",
              "  "
            ]
          },
          "metadata": {},
          "execution_count": 1
        }
      ],
      "source": [
        "import pandas as pd\n",
        "\n",
        "url = 'https://drive.google.com/file/d/15s7M2QllSR1GyNWM8RgcgabK-4hlMgpk/view?usp=sharing' # people.csv\n",
        "path = 'https://drive.google.com/uc?export=download&id='+url.split('/')[-2]\n",
        "people = pd.read_csv(path)\n",
        "\n",
        "# show dataframe\n",
        "people"
      ]
    },
    {
      "cell_type": "markdown",
      "metadata": {
        "id": "8SM-5XgJ87eh"
      },
      "source": [
        "## Pandas plotting\n",
        "Here we will show you a couple of quick ways to make plots\n",
        "- plotting 1 variable (1 column of the DataFrame)\n",
        "- plotting 2 or more variables (2 or more columns of the DataFrame)"
      ]
    },
    {
      "cell_type": "markdown",
      "source": [
        "### Plotting 1 variable"
      ],
      "metadata": {
        "id": "9oLC3-bRaFb8"
      }
    },
    {
      "cell_type": "markdown",
      "metadata": {
        "id": "uCmQe4iH87ei"
      },
      "source": [
        "In previous notebooks this week we've seen the Pandas `.hist()` and `.plot()` methods. They are incredibly convenient, and more than enough when you are visualizing data for yourself, as part of the exploration process.\n",
        "\n",
        "A histogram is a representation of the distribution of numerical data. Let's remind ourselves of how a histogram looks:"
      ]
    },
    {
      "cell_type": "code",
      "execution_count": null,
      "metadata": {
        "jupyter": {
          "outputs_hidden": true
        },
        "id": "Clv5EQ2m87ei",
        "outputId": "9c9a1f86-f1f9-4535-ad8d-cd8f55dce643",
        "colab": {
          "base_uri": "https://localhost:8080/",
          "height": 265
        }
      },
      "outputs": [
        {
          "output_type": "display_data",
          "data": {
            "text/plain": [
              "<Figure size 432x288 with 1 Axes>"
            ],
            "image/png": "[encoded data removed]"
          },
          "metadata": {
            "needs_background": "light"
          }
        }
      ],
      "source": [
        "# histogram of the age column\n",
        "people.age.hist();"
      ]
    },
    {
      "cell_type": "markdown",
      "source": [
        "From the histogram above we can see that most of the people in our DataFrame are in their late 20s. We can also see that we have just one person under 10 years of age, and one person over 60."
      ],
      "metadata": {
        "id": "kRF2EEjuAFIC"
      }
    },
    {
      "cell_type": "markdown",
      "metadata": {
        "id": "oSwYLVWM87ej"
      },
      "source": [
        "Pandas plotting is limited in terms of tweaking/customizing the plot, but you can still change some basic stuff, like the number of bins in a histogram or the figure size:"
      ]
    },
    {
      "cell_type": "code",
      "execution_count": null,
      "metadata": {
        "jupyter": {
          "outputs_hidden": true
        },
        "id": "4LgnmzNh87ej",
        "outputId": "30c468f9-3f12-478f-d13d-46d5960373ef",
        "colab": {
          "base_uri": "https://localhost:8080/",
          "height": 265
        }
      },
      "outputs": [
        {
          "output_type": "display_data",
          "data": {
            "text/plain": [
              "<Figure size 576x288 with 1 Axes>"
            ],
            "image/png": "[encoded data removed]"
          },
          "metadata": {
            "needs_background": "light"
          }
        }
      ],
      "source": [
        "# bins are the amount of coulmns the histogram is divided into. The more bins, the finer the detail that can be seen\n",
        "# try changing the number of bins and running this cell again, how has the histogram changed?\n",
        "\n",
        "# why not try also changing the figsize numbers one at a time and running the cell again, what changed?\n",
        "\n",
        "people.age.hist(bins=10, figsize=(8,4));"
      ]
    },
    {
      "cell_type": "markdown",
      "metadata": {
        "id": "Y9WSrvbN87ej"
      },
      "source": [
        "For simple frequency plots, which show us how many values are in each category:\n",
        "\n",
        "1. You should first group the categories and generate the frequencies with `value_counts()`\n",
        "\n",
        "2. You should use a **bar plot** not a histogram as we're now using categorical data, not numerical\n",
        "  - Numerical data - histogram\n",
        "  - Categorical data - bar plot\n",
        "\n",
        "Let's see this in action:"
      ]
    },
    {
      "cell_type": "code",
      "execution_count": null,
      "metadata": {
        "id": "CPo0Ed7g87ek",
        "outputId": "e6c4d27c-f82c-4d5a-9871-851ad9ee0560",
        "colab": {
          "base_uri": "https://localhost:8080/"
        }
      },
      "outputs": [
        {
          "output_type": "execute_result",
          "data": {
            "text/plain": [
              "Blue      6\n",
              "Red       5\n",
              "Yellow    4\n",
              "Gray      1\n",
              "Orange    1\n",
              "Name: favourite_color, dtype: int64"
            ]
          },
          "metadata": {},
          "execution_count": 9
        }
      ],
      "source": [
        "# 1. group the categories and generate the frequencies with value_counts()\n",
        "color_freq = people.favourite_color.value_counts()\n",
        "color_freq"
      ]
    },
    {
      "cell_type": "code",
      "execution_count": null,
      "metadata": {
        "jupyter": {
          "outputs_hidden": true
        },
        "id": "rGWVyQze87ek",
        "outputId": "e1d3e08b-7d45-4287-aa3b-aadacaa8e005",
        "colab": {
          "base_uri": "https://localhost:8080/",
          "height": 292
        }
      },
      "outputs": [
        {
          "output_type": "display_data",
          "data": {
            "text/plain": [
              "<Figure size 432x288 with 1 Axes>"
            ],
            "image/png": "[encoded data removed]"
          },
          "metadata": {
            "needs_background": "light"
          }
        }
      ],
      "source": [
        "# 2. plot our value_counts from above as a bar plot\n",
        "color_freq.plot.bar();"
      ]
    },
    {
      "cell_type": "markdown",
      "metadata": {
        "id": "U5zKKGjf87el"
      },
      "source": [
        "Similar to the `.hist()`, there are some parameters available in `.plot()` that you can use to improve your plots, such as color or size. The documentation is always the ultimate source of truth when it comes to understanding which parameters you can tweak and how to do it:\n",
        "\n",
        "- [These are the docs specifically for `DataFrame.plot.bar()`](https://pandas.pydata.org/docs/reference/api/pandas.DataFrame.plot.bar.html)\n",
        "- [Here are the docs for `DataFrame.plot()`](https://pandas.pydata.org/docs/reference/api/pandas.DataFrame.plot.html#pandas.DataFrame.plot), with arguments that apply to all types of plots, not just bar plots."
      ]
    },
    {
      "cell_type": "code",
      "execution_count": null,
      "metadata": {
        "jupyter": {
          "outputs_hidden": true
        },
        "id": "wR0Y2ge187el",
        "outputId": "8e311ecc-da35-4af2-b1a5-1554173eec5b",
        "colab": {
          "base_uri": "https://localhost:8080/",
          "height": 292
        }
      },
      "outputs": [
        {
          "output_type": "display_data",
          "data": {
            "text/plain": [
              "<Figure size 432x288 with 1 Axes>"
            ],
            "image/png": "[encoded data removed]"
          },
          "metadata": {
            "needs_background": "light"
          }
        }
      ],
      "source": [
        "# changing the colors of the bars\n",
        "color_freq.plot.bar(color=[\"blue\", \"red\", \"yellow\", \"gray\", \"orange\"]);"
      ]
    },
    {
      "cell_type": "markdown",
      "metadata": {
        "id": "qWCy4beT87el"
      },
      "source": [
        "###### **Exercise 1:**\n",
        "Make a bar plot for the countries where people are from. Highlight India (IN) in a brighter color.\n",
        "> Tip: if you want to use prettier colors, you'll find some [here](https://matplotlib.org/stable/gallery/color/named_colors.html)\n",
        "\n"
      ]
    },
    {
      "cell_type": "code",
      "execution_count": 2,
      "metadata": {
        "id": "3dtsqMrC87em",
        "outputId": "b43b15c5-1bda-48b0-e138-b5ca1ccc0cea",
        "colab": {
          "base_uri": "https://localhost:8080/",
          "height": 269
        }
      },
      "outputs": [
        {
          "output_type": "display_data",
          "data": {
            "text/plain": [
              "<Figure size 432x288 with 1 Axes>"
            ],
            "image/png": "[encoded data removed]"
          },
          "metadata": {
            "needs_background": "light"
          }
        }
      ],
      "source": [
        "# your code here\n",
        "people.country.value_counts().plot.bar(color=[\"blue\", \"red\", \"yellow\", \"gray\", \"orange\"]);"
      ]
    },
    {
      "cell_type": "markdown",
      "metadata": {
        "id": "ZTHlkMWc87em"
      },
      "source": [
        "### Plotting 2 or more variables\n",
        "\n",
        "Whenever you want to see if there is a relationship between two numerical variables, you could compute something complicated like a linear correlation coefficient or perform more sophisticated statistical tests, but nothing beats a good scatter plot:"
      ]
    },
    {
      "cell_type": "code",
      "execution_count": null,
      "metadata": {
        "id": "MSz0Tq_E87em",
        "outputId": "83246d5a-ed31-40e9-c71a-58f1423476cc",
        "colab": {
          "base_uri": "https://localhost:8080/",
          "height": 279
        }
      },
      "outputs": [
        {
          "output_type": "display_data",
          "data": {
            "text/plain": [
              "<Figure size 432x288 with 1 Axes>"
            ],
            "image/png": "[encoded data removed]"
          },
          "metadata": {
            "needs_background": "light"
          }
        }
      ],
      "source": [
        "people.plot.scatter(x=\"age\", y=\"sibilings\");"
      ]
    },
    {
      "cell_type": "markdown",
      "source": [
        "Scatter plots allow us to quickly see a strong/weak correlation at a glance. You can see a slight trend in the above scatter plot, showing that, on the whole, older people tend to have more siblings than younger one's."
      ],
      "metadata": {
        "id": "4FWAtun4NxL0"
      }
    },
    {
      "cell_type": "markdown",
      "metadata": {
        "id": "rNTIiZ0I87en"
      },
      "source": [
        "Let's tweak some of the scatter plots parameters: \n",
        "\n",
        "- The `c` argument allows **colors** to depend on the values of another (numerical) column.\n",
        "- The `cmap` argument allows the usage of \"**color maps**\" to fill the dots. See all available cmaps [here](https://matplotlib.org/stable/tutorials/colors/colormaps.html)\n",
        "- The `s` argument modifies the **size of the dots**.\n",
        "- The `figsize` argument defines the **size of the whole plot**.\n",
        "- The `sharex` argument allows us to specify that the legend for the colors and the x axis of the scatterplot should not **share the axis** (it's a bit annoying that this is not the default... welcome to the world of plotting with code!)"
      ]
    },
    {
      "cell_type": "markdown",
      "metadata": {
        "id": "t1qAxnQd87en"
      },
      "source": [
        "\n",
        "\n",
        "  > **Note:** Some of these options might only be available if you have one of the latest Pandas versions, as `pandas.plot()` is one of the areas where pandas is growing. You can check your pandas version with `pd.__version__` in the notebook. If your version is substantially older than the one shown in [here](https://pandas.pydata.org/docs/index.html), consider updating pandas by typing on your Terminal `pip install --upgrade pandas`.\n",
        "\n"
      ]
    },
    {
      "cell_type": "code",
      "execution_count": null,
      "metadata": {
        "id": "S0XYerdB87en",
        "outputId": "5ae48514-711c-4ef3-f978-3b23515a9cce",
        "colab": {
          "base_uri": "https://localhost:8080/",
          "height": 501
        }
      },
      "outputs": [
        {
          "output_type": "display_data",
          "data": {
            "text/plain": [
              "<Figure size 864x576 with 2 Axes>"
            ],
            "image/png": "[encoded data removed]"
          },
          "metadata": {
            "needs_background": "light"
          }
        }
      ],
      "source": [
        "# This is the same scatter plot as above, just bigger, more colorful, and now with an added third variable 'credit'.\n",
        "people.plot.scatter(x=\"age\", \n",
        "                    y=\"sibilings\", \n",
        "                    c=\"credit\",\n",
        "                    s=100,\n",
        "                    cmap=\"viridis\",\n",
        "                    figsize=(12,8),\n",
        "                    sharex=False\n",
        "                   );"
      ]
    },
    {
      "cell_type": "markdown",
      "metadata": {
        "id": "c6d-PKSm87eo"
      },
      "source": [
        "### Challenges:\n",
        "Use the `vehicles.csv` dataset to create the plots in the following exercises."
      ]
    },
    {
      "cell_type": "code",
      "execution_count": 2,
      "metadata": {
        "id": "nsjZHCiy87eo",
        "outputId": "4d2d6ee5-17da-46a8-da8f-c4ae15b0d7fa",
        "colab": {
          "base_uri": "https://localhost:8080/",
          "height": 531
        }
      },
      "outputs": [
        {
          "output_type": "execute_result",
          "data": {
            "text/plain": [
              "               Make                Model  Year  Engine Displacement  \\\n",
              "0        AM General    DJ Po Vehicle 2WD  1984                  2.5   \n",
              "1        AM General     FJ8c Post Office  1984                  4.2   \n",
              "2        AM General  Post Office DJ5 2WD  1985                  2.5   \n",
              "3        AM General  Post Office DJ8 2WD  1985                  4.2   \n",
              "4  ASC Incorporated                  GNX  1987                  3.8   \n",
              "\n",
              "   Cylinders     Transmission        Drivetrain                Vehicle Class  \\\n",
              "0        4.0  Automatic 3-spd     2-Wheel Drive  Special Purpose Vehicle 2WD   \n",
              "1        6.0  Automatic 3-spd     2-Wheel Drive  Special Purpose Vehicle 2WD   \n",
              "2        4.0  Automatic 3-spd  Rear-Wheel Drive  Special Purpose Vehicle 2WD   \n",
              "3        6.0  Automatic 3-spd  Rear-Wheel Drive  Special Purpose Vehicle 2WD   \n",
              "4        6.0  Automatic 4-spd  Rear-Wheel Drive                 Midsize Cars   \n",
              "\n",
              "  Fuel Type  Fuel Barrels/Year  City MPG  Highway MPG  Combined MPG  \\\n",
              "0   Regular          19.388824        18           17            17   \n",
              "1   Regular          25.354615        13           13            13   \n",
              "2   Regular          20.600625        16           17            16   \n",
              "3   Regular          25.354615        13           13            13   \n",
              "4   Premium          20.600625        14           21            16   \n",
              "\n",
              "   CO2 Emission Grams/Mile  Fuel Cost/Year  \n",
              "0               522.764706            1950  \n",
              "1               683.615385            2550  \n",
              "2               555.437500            2100  \n",
              "3               683.615385            2550  \n",
              "4               555.437500            2550  "
            ],
            "text/html": [
              "\n",
              "  <div id=\"df-ee077bcd-03ce-43d1-a181-90b512cd5ed8\">\n",
              "    <div class=\"colab-df-container\">\n",
              "      <div>\n",
              "<style scoped>\n",
              "    .dataframe tbody tr th:only-of-type {\n",
              "        vertical-align: middle;\n",
              "    }\n",
              "\n",
              "    .dataframe tbody tr th {\n",
              "        vertical-align: top;\n",
              "    }\n",
              "\n",
              "    .dataframe thead th {\n",
              "        text-align: right;\n",
              "    }\n",
              "</style>\n",
              "<table border=\"1\" class=\"dataframe\">\n",
              "  <thead>\n",
              "    <tr style=\"text-align: right;\">\n",
              "      <th></th>\n",
              "      <th>Make</th>\n",
              "      <th>Model</th>\n",
              "      <th>Year</th>\n",
              "      <th>Engine Displacement</th>\n",
              "      <th>Cylinders</th>\n",
              "      <th>Transmission</th>\n",
              "      <th>Drivetrain</th>\n",
              "      <th>Vehicle Class</th>\n",
              "      <th>Fuel Type</th>\n",
              "      <th>Fuel Barrels/Year</th>\n",
              "      <th>City MPG</th>\n",
              "      <th>Highway MPG</th>\n",
              "      <th>Combined MPG</th>\n",
              "      <th>CO2 Emission Grams/Mile</th>\n",
              "      <th>Fuel Cost/Year</th>\n",
              "    </tr>\n",
              "  </thead>\n",
              "  <tbody>\n",
              "    <tr>\n",
              "      <th>0</th>\n",
              "      <td>AM General</td>\n",
              "      <td>DJ Po Vehicle 2WD</td>\n",
              "      <td>1984</td>\n",
              "      <td>2.5</td>\n",
              "      <td>4.0</td>\n",
              "      <td>Automatic 3-spd</td>\n",
              "      <td>2-Wheel Drive</td>\n",
              "      <td>Special Purpose Vehicle 2WD</td>\n",
              "      <td>Regular</td>\n",
              "      <td>19.388824</td>\n",
              "      <td>18</td>\n",
              "      <td>17</td>\n",
              "      <td>17</td>\n",
              "      <td>522.764706</td>\n",
              "      <td>1950</td>\n",
              "    </tr>\n",
              "    <tr>\n",
              "      <th>1</th>\n",
              "      <td>AM General</td>\n",
              "      <td>FJ8c Post Office</td>\n",
              "      <td>1984</td>\n",
              "      <td>4.2</td>\n",
              "      <td>6.0</td>\n",
              "      <td>Automatic 3-spd</td>\n",
              "      <td>2-Wheel Drive</td>\n",
              "      <td>Special Purpose Vehicle 2WD</td>\n",
              "      <td>Regular</td>\n",
              "      <td>25.354615</td>\n",
              "      <td>13</td>\n",
              "      <td>13</td>\n",
              "      <td>13</td>\n",
              "      <td>683.615385</td>\n",
              "      <td>2550</td>\n",
              "    </tr>\n",
              "    <tr>\n",
              "      <th>2</th>\n",
              "      <td>AM General</td>\n",
              "      <td>Post Office DJ5 2WD</td>\n",
              "      <td>1985</td>\n",
              "      <td>2.5</td>\n",
              "      <td>4.0</td>\n",
              "      <td>Automatic 3-spd</td>\n",
              "      <td>Rear-Wheel Drive</td>\n",
              "      <td>Special Purpose Vehicle 2WD</td>\n",
              "      <td>Regular</td>\n",
              "      <td>20.600625</td>\n",
              "      <td>16</td>\n",
              "      <td>17</td>\n",
              "      <td>16</td>\n",
              "      <td>555.437500</td>\n",
              "      <td>2100</td>\n",
              "    </tr>\n",
              "    <tr>\n",
              "      <th>3</th>\n",
              "      <td>AM General</td>\n",
              "      <td>Post Office DJ8 2WD</td>\n",
              "      <td>1985</td>\n",
              "      <td>4.2</td>\n",
              "      <td>6.0</td>\n",
              "      <td>Automatic 3-spd</td>\n",
              "      <td>Rear-Wheel Drive</td>\n",
              "      <td>Special Purpose Vehicle 2WD</td>\n",
              "      <td>Regular</td>\n",
              "      <td>25.354615</td>\n",
              "      <td>13</td>\n",
              "      <td>13</td>\n",
              "      <td>13</td>\n",
              "      <td>683.615385</td>\n",
              "      <td>2550</td>\n",
              "    </tr>\n",
              "    <tr>\n",
              "      <th>4</th>\n",
              "      <td>ASC Incorporated</td>\n",
              "      <td>GNX</td>\n",
              "      <td>1987</td>\n",
              "      <td>3.8</td>\n",
              "      <td>6.0</td>\n",
              "      <td>Automatic 4-spd</td>\n",
              "      <td>Rear-Wheel Drive</td>\n",
              "      <td>Midsize Cars</td>\n",
              "      <td>Premium</td>\n",
              "      <td>20.600625</td>\n",
              "      <td>14</td>\n",
              "      <td>21</td>\n",
              "      <td>16</td>\n",
              "      <td>555.437500</td>\n",
              "      <td>2550</td>\n",
              "    </tr>\n",
              "  </tbody>\n",
              "</table>\n",
              "</div>\n",
              "      <button class=\"colab-df-convert\" onclick=\"convertToInteractive('df-ee077bcd-03ce-43d1-a181-90b512cd5ed8')\"\n",
              "              title=\"Convert this dataframe to an interactive table.\"\n",
              "              style=\"display:none;\">\n",
              "        \n",
              "  <svg xmlns=\"http://www.w3.org/2000/svg\" height=\"24px\"viewBox=\"0 0 24 24\"\n",
              "       width=\"24px\">\n",
              "    <path d=\"M0 0h24v24H0V0z\" fill=\"none\"/>\n",
              "    <path d=\"M18.56 5.44l.94 2.06.94-2.06 2.06-.94-2.06-.94-.94-2.06-.94 2.06-2.06.94zm-11 1L8.5 8.5l.94-2.06 2.06-.94-2.06-.94L8.5 2.5l-.94 2.06-2.06.94zm10 10l.94 2.06.94-2.06 2.06-.94-2.06-.94-.94-2.06-.94 2.06-2.06.94z\"/><path d=\"M17.41 7.96l-1.37-1.37c-.4-.4-.92-.59-1.43-.59-.52 0-1.04.2-1.43.59L10.3 9.45l-7.72 7.72c-.78.78-.78 2.05 0 2.83L4 21.41c.39.39.9.59 1.41.59.51 0 1.02-.2 1.41-.59l7.78-7.78 2.81-2.81c.8-.78.8-2.07 0-2.86zM5.41 20L4 18.59l7.72-7.72 1.47 1.35L5.41 20z\"/>\n",
              "  </svg>\n",
              "      </button>\n",
              "      \n",
              "  <style>\n",
              "    .colab-df-container {\n",
              "      display:flex;\n",
              "      flex-wrap:wrap;\n",
              "      gap: 12px;\n",
              "    }\n",
              "\n",
              "    .colab-df-convert {\n",
              "      background-color: #E8F0FE;\n",
              "      border: none;\n",
              "      border-radius: 50%;\n",
              "      cursor: pointer;\n",
              "      display: none;\n",
              "      fill: #1967D2;\n",
              "      height: 32px;\n",
              "      padding: 0 0 0 0;\n",
              "      width: 32px;\n",
              "    }\n",
              "\n",
              "    .colab-df-convert:hover {\n",
              "      background-color: #E2EBFA;\n",
              "      box-shadow: 0px 1px 2px rgba(60, 64, 67, 0.3), 0px 1px 3px 1px rgba(60, 64, 67, 0.15);\n",
              "      fill: #174EA6;\n",
              "    }\n",
              "\n",
              "    [theme=dark] .colab-df-convert {\n",
              "      background-color: #3B4455;\n",
              "      fill: #D2E3FC;\n",
              "    }\n",
              "\n",
              "    [theme=dark] .colab-df-convert:hover {\n",
              "      background-color: #434B5C;\n",
              "      box-shadow: 0px 1px 3px 1px rgba(0, 0, 0, 0.15);\n",
              "      filter: drop-shadow(0px 1px 2px rgba(0, 0, 0, 0.3));\n",
              "      fill: #FFFFFF;\n",
              "    }\n",
              "  </style>\n",
              "\n",
              "      <script>\n",
              "        const buttonEl =\n",
              "          document.querySelector('#df-ee077bcd-03ce-43d1-a181-90b512cd5ed8 button.colab-df-convert');\n",
              "        buttonEl.style.display =\n",
              "          google.colab.kernel.accessAllowed ? 'block' : 'none';\n",
              "\n",
              "        async function convertToInteractive(key) {\n",
              "          const element = document.querySelector('#df-ee077bcd-03ce-43d1-a181-90b512cd5ed8');\n",
              "          const dataTable =\n",
              "            await google.colab.kernel.invokeFunction('convertToInteractive',\n",
              "                                                     [key], {});\n",
              "          if (!dataTable) return;\n",
              "\n",
              "          const docLinkHtml = 'Like what you see? Visit the ' +\n",
              "            '<a target=\"_blank\" href=https://colab.research.google.com/notebooks/data_table.ipynb>data table notebook</a>'\n",
              "            + ' to learn more about interactive tables.';\n",
              "          element.innerHTML = '';\n",
              "          dataTable['output_type'] = 'display_data';\n",
              "          await google.colab.output.renderOutput(dataTable, element);\n",
              "          const docLink = document.createElement('div');\n",
              "          docLink.innerHTML = docLinkHtml;\n",
              "          element.appendChild(docLink);\n",
              "        }\n",
              "      </script>\n",
              "    </div>\n",
              "  </div>\n",
              "  "
            ]
          },
          "metadata": {},
          "execution_count": 2
        }
      ],
      "source": [
        "import pandas as pd\n",
        "url = 'https://drive.google.com/file/d/18zYGrzRhn_mz1HJLXxSO_MwR0_nWBS3K/view?usp=sharing' # vehicles.csv\n",
        "path = 'https://drive.google.com/uc?export=download&id='+url.split('/')[-2]\n",
        "cars = pd.read_csv(path)\n",
        "cars.head(5)"
      ]
    },
    {
      "cell_type": "markdown",
      "metadata": {
        "id": "-ivgaVA687er"
      },
      "source": [
        "###### **Exercise 2:**\n",
        "how many cars have Automatic or Manual transmission?\n",
        "\n",
        "  1. We calculated this in the last notebook. You made a new column stating whether a car is 'automatic' or 'manual'. Again, make this column in this notebook (a little copy paste should do the trick), then we will plot the value count of this column.\n",
        "  2. As we are only plotting 1 variable, please feel free to check out the section above `Plotting 1 variable`\n",
        "\n"
      ]
    },
    {
      "cell_type": "code",
      "execution_count": 5,
      "metadata": {
        "id": "apRAEKi487er",
        "outputId": "3095d567-2a82-4ee9-e518-dcdcc2577233",
        "colab": {
          "base_uri": "https://localhost:8080/",
          "height": 281
        }
      },
      "outputs": [
        {
          "output_type": "display_data",
          "data": {
            "text/plain": [
              "<Figure size 432x288 with 1 Axes>"
            ],
            "image/png": "[encoded data removed]"
          },
          "metadata": {
            "needs_background": "light"
          }
        }
      ],
      "source": [
        "# your code here\n",
        "cars.loc[~cars['Transmission'].str.startswith('A'),'Auto'] = 'False'\n",
        "cars.loc[cars['Transmission'].str.startswith('A'),'Auto'] = 'True'\n",
        "cars['Auto'].value_counts().plot.bar(color=[\"blue\", \"gray\",]);"
      ]
    },
    {
      "cell_type": "markdown",
      "metadata": {
        "id": "v1ahmJTK87er"
      },
      "source": [
        "###### **Exercise 3:**\n",
        "how many cars have each type of Drivetrain? Highlight \"All-Wheel Drive\" in a different color to everything else"
      ]
    },
    {
      "cell_type": "code",
      "execution_count": 6,
      "metadata": {
        "id": "MYB8s1cZ87er",
        "outputId": "161cb962-5005-4586-8c9b-6f6e64fefca2",
        "colab": {
          "base_uri": "https://localhost:8080/",
          "height": 390
        }
      },
      "outputs": [
        {
          "output_type": "display_data",
          "data": {
            "text/plain": [
              "<Figure size 432x288 with 1 Axes>"
            ],
            "image/png": "[encoded data removed]"
          },
          "metadata": {
            "needs_background": "light"
          }
        }
      ],
      "source": [
        "# your code here\n",
        "cars['Drivetrain'].value_counts().plot.bar(color=[\"blue\", \"gray\",]);"
      ]
    },
    {
      "cell_type": "markdown",
      "metadata": {
        "id": "G7EtPuhG87es"
      },
      "source": [
        "###### **Exercise 4:**\n",
        "represent the relationship between fuel consumption (`Combined MPG`) and the number of `Cylinders` a car has, using a scatterplot:\n",
        "\n",
        "  > **Tip**: we went through scatter plots in the section above `Plotting 2 or more variables`\n"
      ]
    },
    {
      "cell_type": "code",
      "execution_count": 12,
      "metadata": {
        "id": "pwtEC-E887es",
        "outputId": "bb02d177-4320-4547-a5db-26879dbadbd1",
        "colab": {
          "base_uri": "https://localhost:8080/",
          "height": 497
        }
      },
      "outputs": [
        {
          "output_type": "display_data",
          "data": {
            "text/plain": [
              "<Figure size 864x576 with 2 Axes>"
            ],
            "image/png": "[encoded data removed]"
          },
          "metadata": {
            "needs_background": "light"
          }
        }
      ],
      "source": [
        "# your code here\n",
        "cars.plot.scatter(x=\"Cylinders\", \n",
        "                    y=\"Combined MPG\", \n",
        "                    c=\"Engine Displacement\",\n",
        "                    s=100,\n",
        "                    cmap=\"viridis\",\n",
        "                    figsize=(12,8),\n",
        "                    sharex=False\n",
        "                   );"
      ]
    },
    {
      "cell_type": "markdown",
      "metadata": {
        "id": "LYyDPqIV87es"
      },
      "source": [
        "###### **Exercise 5:**\n",
        "explore the same relationship as in exercise 4, but this time use a [boxplot](https://pandas.pydata.org/docs/reference/api/pandas.DataFrame.boxplot.html):"
      ]
    },
    {
      "cell_type": "code",
      "execution_count": 23,
      "metadata": {
        "id": "OUvE2XFb87es",
        "outputId": "067d84cf-21ff-4b3f-f687-fcd6a352dd06",
        "colab": {
          "base_uri": "https://localhost:8080/",
          "height": 596
        }
      },
      "outputs": [
        {
          "output_type": "stream",
          "name": "stderr",
          "text": [
            "/usr/local/lib/python3.8/dist-packages/matplotlib/cbook/__init__.py:1376: VisibleDeprecationWarning: Creating an ndarray from ragged nested sequences (which is a list-or-tuple of lists-or-tuples-or ndarrays with different lengths or shapes) is deprecated. If you meant to do this, you must specify 'dtype=object' when creating the ndarray.\n",
            "  X = np.atleast_1d(X.T if isinstance(X, np.ndarray) else np.asarray(X))\n"
          ]
        },
        {
          "output_type": "display_data",
          "data": {
            "text/plain": [
              "<Figure size 864x576 with 1 Axes>"
            ],
            "image/png": "[encoded data removed]"
          },
          "metadata": {
            "needs_background": "light"
          }
        }
      ],
      "source": [
        "# your code \n",
        "\n",
        "cars.boxplot(by=\"Cylinders\",column=\"Combined MPG\",figsize=(12,8));"
      ]
    },
    {
      "cell_type": "markdown",
      "metadata": {
        "id": "ApRTBIMo87es"
      },
      "source": [
        "###### **Exercise 6:**\n",
        "create a plot that displays the evolution of the average CO2 emissions by cars over the years.\n",
        "  > **Tip**: first you'll need to find the average CO2 per year, and then plot this\n",
        "\n"
      ]
    },
    {
      "cell_type": "code",
      "execution_count": 34,
      "metadata": {
        "id": "nBG2vdaK87et",
        "outputId": "9135af9f-a8f0-43b5-d2af-1ec3d0a7eedd",
        "colab": {
          "base_uri": "https://localhost:8080/",
          "height": 279
        }
      },
      "outputs": [
        {
          "output_type": "display_data",
          "data": {
            "text/plain": [
              "<Figure size 432x288 with 1 Axes>"
            ],
            "image/png": "[encoded data removed]"
          },
          "metadata": {
            "needs_background": "light"
          }
        }
      ],
      "source": [
        "# your code \n",
        "cars.groupby('Year').agg({'CO2 Emission Grams/Mile':'mean'}).plot.line(color=[\"blue\", \"gray\",]);\n"
      ]
    }
  ],
  "metadata": {
    "kernelspec": {
      "display_name": "Python 3",
      "language": "python",
      "name": "python3"
    },
    "language_info": {
      "codemirror_mode": {
        "name": "ipython",
        "version": 3
      },
      "file_extension": ".py",
      "mimetype": "text/x-python",
      "name": "python",
      "nbconvert_exporter": "python",
      "pygments_lexer": "ipython3",
      "version": "3.8.5"
    },
    "colab": {
      "provenance": []
    }
  },
  "nbformat": 4,
  "nbformat_minor": 0
}