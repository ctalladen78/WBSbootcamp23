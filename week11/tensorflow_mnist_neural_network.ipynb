{
  "nbformat": 4,
  "nbformat_minor": 0,
  "metadata": {
    "colab": {
      "provenance": []
    },
    "kernelspec": {
      "name": "python3",
      "display_name": "Python 3"
    },
    "language_info": {
      "name": "python"
    }
  },
  "cells": [
    {
      "cell_type": "code",
      "execution_count": null,
      "metadata": {
        "id": "39FSO3tz-6yM"
      },
      "outputs": [],
      "source": [
        "# https://github.com/kevinioi/MNIST-Classification/blob/master/kerasCNN_fashion_mnist.ipynb"
      ]
    },
    {
      "cell_type": "code",
      "source": [
        "# https://www.kaggle.com/code/arezoodahesh/fashion-mnist-cnn-model\n",
        "\n",
        "import tensorflow as tf\n",
        "from tensorflow import keras\n",
        "import numpy as np\n",
        "import matplotlib.pyplot as plt\n",
        "\n",
        "data = keras.datasets.fashion_mnist\n",
        "\n",
        "# (X_train,y_train),(X_test,y_test) = fashion.load_data()\n",
        "(train_images, train_labels), (test_images, test_labels) = data.load_data()\n",
        "class_names = ['T-shirt/top', 'Trouser', 'Pullover', 'Dress', 'Coat',\n",
        "               'Sandal', 'Shirt', 'Sneaker', 'Bag', 'Ankle boot']\n",
        "\n",
        "train_images = train_images/255.0\n",
        "test_images = test_images/255.0\n",
        "\n",
        "model = keras.Sequential([\n",
        "    keras.layers.Flatten(input_shape=(28, 28)),\n",
        "    keras.layers.Dense(128, activation=\"relu\"),  # number of hidden neurons\n",
        "    keras.layers.Dense(10, activation=\"softmax\")  # activation function used is softmax\n",
        "])\n",
        "'''creating the neural network model in sequence of input hidden and output alyer'''\n",
        "\n",
        "model.compile(optimizer=\"adam\", loss=\"sparse_categorical_crossentropy\", metrics=[\"accuracy\"])\n",
        "# search for adam optimizer and sparse_categorical_crossentropy for math behind this.\n",
        "model.fit(train_images, train_labels, epochs=5)  # number of time we feed system the image.\n",
        "'''greater epoch doesn't guarantee better model try 5,10 epochs to test'''\n",
        "\n",
        "# test_loss, test_acc = model.evaluate(test_images, test_labels)\n",
        "\n",
        "# print(\"Testing accuracy:\", test_acc)\n",
        "'''use this to check accuracy'''\n",
        "\n",
        "prediction = model.predict(test_images)\n",
        "\n",
        "for i in range(5):\n",
        "    plt.grid(False)\n",
        "    plt.imshow(test_images[i], cmap=plt.cm.binary)\n",
        "    plt.xlabel(\"Actual:\" + class_names[(test_labels[i])])\n",
        "    plt.title(\"Prediction \" + class_names[np.argmax(prediction[i])])\n",
        "    plt.show()\n",
        "# display the images with actual image data and predicted image data.\n",
        "# print(class_names[np.argmax(prediction[0])])"
      ],
      "metadata": {
        "id": "z6sIqoik-7M7"
      },
      "execution_count": null,
      "outputs": []
    },
    {
      "cell_type": "code",
      "source": [],
      "metadata": {
        "id": "X_5J0Qn7-7PT"
      },
      "execution_count": null,
      "outputs": []
    },
    {
      "cell_type": "code",
      "source": [
        "import matplotlib.pyplot as plt\n",
        "\n",
        "plt.figure(figsize=(10,10))\n",
        "for i in range(16):\n",
        "    plt.subplot(4,4,i+1)\n",
        "    plt.xticks([])\n",
        "    plt.yticks([])\n",
        "    plt.grid(False)\n",
        "    plt.imshow(train_images[i], cmap=plt.cm.binary)\n",
        "    plt.title(\"Image label is: {}\".format(train_labels[i]))\n",
        "plt.show()"
      ],
      "metadata": {
        "id": "b5_ajtf8FL0z"
      },
      "execution_count": null,
      "outputs": []
    },
    {
      "cell_type": "code",
      "source": [],
      "metadata": {
        "id": "NQDGzHDSFL3X"
      },
      "execution_count": null,
      "outputs": []
    },
    {
      "cell_type": "code",
      "source": [],
      "metadata": {
        "id": "Ab5-2Lo6-7UR"
      },
      "execution_count": null,
      "outputs": []
    }
  ]
}