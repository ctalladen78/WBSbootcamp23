{
 "cells": [
  {
   "attachments": {},
   "cell_type": "markdown",
   "id": "f4e8d8de-fc70-424a-bfb1-385738e8ab04",
   "metadata": {},
   "source": [
    "### The big picture\n",
    "\n",
    "How many actors are there in the actors table?\n"
   ]
  },
  {
   "cell_type": "code",
   "execution_count": null,
   "id": "ea57e32a",
   "metadata": {},
   "outputs": [],
   "source": [
    "select  count(id) from actors\n"
   ]
  },
  {
   "attachments": {},
   "cell_type": "markdown",
   "id": "cc1d3f8d",
   "metadata": {},
   "source": [
    "How many directors are there in the directors table?\n"
   ]
  },
  {
   "cell_type": "code",
   "execution_count": null,
   "id": "54164162-13e2-4e4e-8504-87057b04f1e5",
   "metadata": {},
   "outputs": [],
   "source": [
    "select  count(id) from directors\n"
   ]
  },
  {
   "attachments": {},
   "cell_type": "markdown",
   "id": "7cd9725e",
   "metadata": {},
   "source": [
    "How many movies are there in the movies table?"
   ]
  },
  {
   "cell_type": "code",
   "execution_count": null,
   "id": "2828614f",
   "metadata": {},
   "outputs": [],
   "source": [
    "select  count(id) from movies\n"
   ]
  },
  {
   "cell_type": "markdown",
   "id": "a779d008-fd40-4ff7-b718-331e071831c4",
   "metadata": {},
   "source": [
    "### Exploring the movies\n",
    "\n",
    "From what year are the oldest and the newest movies? What are the names of those movies?\n",
    "\n",
    "What movies have the highest and the lowest ranks?\n",
    "\n",
    "What is the most common movie title?"
   ]
  },
  {
   "cell_type": "code",
   "execution_count": null,
   "id": "a1dfa950-1235-48ee-b1b0-05406af91744",
   "metadata": {},
   "outputs": [],
   "source": [
    "select name from movies as m \n",
    "order by year asc \n",
    "limit 1\n"
   ]
  },
  {
   "cell_type": "code",
   "execution_count": null,
   "id": "342d72e6",
   "metadata": {},
   "outputs": [],
   "source": [
    "select name from movies as m \n",
    "order by year desc \n",
    "limit 1"
   ]
  },
  {
   "cell_type": "code",
   "execution_count": null,
   "id": "4052929b-027e-4d0f-8369-12e9d0f92a93",
   "metadata": {},
   "outputs": [],
   "source": [
    "select name, count(*) from movies as m \n",
    "group by name\n",
    "order by  count(*) desc \n",
    "limit 1"
   ]
  },
  {
   "cell_type": "markdown",
   "id": "ed23eaab-0f4b-46b6-8500-90178e74e5c0",
   "metadata": {},
   "source": [
    "### Understanding the database\n",
    "\n",
    "Are there movies with multiple directors? `directors.count > 1`\n",
    "\n",
    "What is the movie with the most directors? Why do you think it has so many?\n",
    "\n",
    "On average, how many actors are listed by movie?\n",
    "\n",
    "Are there movies with more than one “genre”?"
   ]
  },
  {
   "cell_type": "code",
   "execution_count": null,
   "id": "041f6f23",
   "metadata": {},
   "outputs": [],
   "source": [
    "select name, count(*) from directors as d\n",
    "join movies_directors as md on md.director_id = d.id\n",
    "join movies as m on md.movie_id = m.id\n",
    "where count(*) > 1"
   ]
  },
  {
   "cell_type": "code",
   "execution_count": null,
   "id": "8944d1fd-c8dd-42d6-bf1e-85e26a5d4ed9",
   "metadata": {},
   "outputs": [],
   "source": [
    "select name, count(*) from directors as d\n",
    "join movies_directors as md on md.director_id = d.id\n",
    "join movies as m on md.movie_id = m.id\n",
    "group by name\n",
    "order by count(*) desc"
   ]
  },
  {
   "cell_type": "code",
   "execution_count": null,
   "id": "81a66644-56dd-4e41-b108-29c147498075",
   "metadata": {},
   "outputs": [],
   "source": [
    "select first_name,name from actors as a\n",
    "join roles as r on r.actor_id = a.id\n",
    "join movies as m on r.movie_id = m.id"
   ]
  },
  {
   "cell_type": "code",
   "execution_count": null,
   "id": "8ead3d36",
   "metadata": {},
   "outputs": [],
   "source": [
    "select genre,count(name) from movies as m\n",
    "join movies_directors as md on md.movie_id = m.id\n",
    "join directors_genres as dg on dg.director_id = m.id\n",
    "group by genre \n",
    "order by count(name) desc"
   ]
  },
  {
   "cell_type": "markdown",
   "id": "6b266796-2ebe-4dc2-adc1-62a51ee0c052",
   "metadata": {},
   "source": [
    "### Looking for specific movies\n",
    "\n",
    "Can you find the movie called “Pulp Fiction”?\n",
    "Who directed it?\n",
    "Which actors where casted on it?\n",
    "\n",
    "Can you find the movie called “La Dolce Vita”?\n",
    "Who directed it?\n",
    "Which actors where casted on it?\n",
    "\n",
    "When was the movie “Titanic” by James Cameron released?\n",
    "Hint: there are many movies named “Titanic”. We want the one directed by James Cameron.\n",
    "Hint 2: the name “James Cameron” is stored with a weird character on it."
   ]
  },
  {
   "cell_type": "code",
   "execution_count": null,
   "id": "9cbabd62-8903-4c26-bc6b-2cfe04525dc9",
   "metadata": {},
   "outputs": [],
   "source": [
    "select * from actors as a\n",
    "join roles as r on r.actor_id = a.id\n",
    "join movies as m on r.movie_id = m.id\n",
    "where m.name = 'Pulp Fiction'\n",
    "\n",
    "select * from directors as d\n",
    "join movies_directors as md on md.director_id = d.id\n",
    "join movies as m on md.movie_id = m.id\n",
    "where m.name = 'Pulp Fiction'"
   ]
  },
  {
   "cell_type": "code",
   "execution_count": null,
   "id": "a3897535-c12c-4c00-aa5f-4d4e6b81b488",
   "metadata": {},
   "outputs": [],
   "source": [
    "select * from directors as d\n",
    "join movies_directors as md on md.director_id = d.id\n",
    "join movies as m on md.movie_id = m.id\n",
    "where m.name = 'Titanic'\n",
    "and d.last_name = 'Cameron'"
   ]
  },
  {
   "cell_type": "markdown",
   "id": "81e88534-4597-4dd5-bf50-c0ecc62e73f4",
   "metadata": {},
   "source": [
    "### Actors and directors\n",
    "\n",
    "Who is the actor that acted more times as “Himself”? `name equals`\n",
    "\n",
    "What is the most common name for actors? And for directors? `count actors.name`"
   ]
  },
  {
   "cell_type": "code",
   "execution_count": null,
   "id": "c27a8262-0b49-4c5e-9ec5-465db6cc1be8",
   "metadata": {},
   "outputs": [],
   "source": [
    "select first_name, last_name, role from actors as a\n",
    "join roles as r on r.actor_id = a.id\n",
    "where a.first_name = r.role"
   ]
  },
  {
   "cell_type": "code",
   "execution_count": null,
   "id": "334207d5-8f24-4f45-980c-58c813e9d0b0",
   "metadata": {},
   "outputs": [],
   "source": [
    "select first_name, count(first_name) from actors\n",
    "group by first_name\n",
    "order by count(first_name) desc\n",
    "limit 1"
   ]
  },
  {
   "cell_type": "code",
   "execution_count": null,
   "id": "31749b9f",
   "metadata": {},
   "outputs": [],
   "source": [
    "select first_name, count(first_name) from directors\n",
    "group by first_name\n",
    "order by count(first_name) desc\n",
    "limit 1"
   ]
  },
  {
   "cell_type": "markdown",
   "id": "25bd3ec1-7e5b-48bf-b526-01cc696b237b",
   "metadata": {},
   "source": [
    "### Analysing genders\n",
    "\n",
    "How many actors are male and how many are female?\n",
    "\n",
    "What percentage of actors are female, and what percentage are male?"
   ]
  },
  {
   "cell_type": "code",
   "execution_count": null,
   "id": "2c583f44-742b-4f72-81a6-9be8e6cef095",
   "metadata": {},
   "outputs": [],
   "source": [
    "\n",
    "select gender, count(*)\n",
    "from actors\n",
    "where gender = 'M'\n",
    "group by gender\n",
    "\n",
    "select gender, count(*)\n",
    "from actors\n",
    "where gender = 'F'\n",
    "group by gender"
   ]
  },
  {
   "cell_type": "code",
   "execution_count": null,
   "id": "117c019e-69fc-4e58-9d35-fd670979f0db",
   "metadata": {},
   "outputs": [],
   "source": [
    "select gender, count(*) * 100.0 / (select count(*) from actors)\n",
    "from actors\n",
    "where gender = 'F'\n",
    "group by gender\n",
    "\n",
    "select gender, count(*) * 100.0 / (select count(*) from actors)\n",
    "from actors\n",
    "where gender = 'M'\n",
    "group by gender"
   ]
  },
  {
   "cell_type": "markdown",
   "id": "56c393a3-6ac5-4cee-b94f-340aed913967",
   "metadata": {},
   "source": [
    "### Movies across time\n",
    "\n",
    "How many of the movies were released after the year 2000?   `year(date_field) > '2000'`\n",
    "\n",
    "How many of the movies where released between the years 1990 and 2000? `year(date_field) between('2000','1990'`\n",
    "\n",
    "Which are the 3 years with the most movies? `count movies group by year sort descending`\n",
    "\n",
    "How many movies were produced on those years? \n",
    "\n",
    "What are the top 5 movie genres?\n",
    "\n",
    "What are the top 5 movie genres before 1920? `count movies where year < 1920 group by genre sort descending`\n",
    "\n",
    "What is the evolution of the top movie genres across all the decades of the 20th century? `plot top movies by decade`"
   ]
  },
  {
   "cell_type": "code",
   "execution_count": null,
   "id": "a235b3d2-7cc7-4457-bfc8-84f6b57b6a2d",
   "metadata": {},
   "outputs": [],
   "source": [
    "select count(*) from movies\n",
    "where year > 2000"
   ]
  },
  {
   "cell_type": "code",
   "execution_count": null,
   "id": "752ac483-99c7-484d-91be-b0a876f2e995",
   "metadata": {},
   "outputs": [],
   "source": [
    "select count(*) from movies\n",
    "where year between 1990 and 2000"
   ]
  },
  {
   "cell_type": "code",
   "execution_count": null,
   "id": "07203bbe",
   "metadata": {},
   "outputs": [],
   "source": [
    "select year, count(name) from movies\n",
    "where year between 1990 and 2000\n",
    "group by year\n",
    "order by count(name) desc\n",
    "limit 3"
   ]
  },
  {
   "cell_type": "code",
   "execution_count": null,
   "id": "d815827f",
   "metadata": {},
   "outputs": [],
   "source": [
    "select genre,count(*) from movies as m\n",
    "join movies_genres as mg on mg.movie_id = m.id\n",
    "group by genre\n",
    "order by count(*) desc\n",
    "limit 5"
   ]
  },
  {
   "cell_type": "code",
   "execution_count": null,
   "id": "db86aa75",
   "metadata": {},
   "outputs": [],
   "source": [
    "select genre,count(*) from movies as m\n",
    "join movies_genres as mg on mg.movie_id = m.id\n",
    "where year < 1920\n",
    "group by genre\n",
    "order by count(*) desc\n",
    "limit 5"
   ]
  },
  {
   "cell_type": "code",
   "execution_count": null,
   "id": "2e1c31ff",
   "metadata": {},
   "outputs": [],
   "source": []
  },
  {
   "cell_type": "markdown",
   "id": "7890ba6d-72e5-431d-82a8-7b54bf2699a2",
   "metadata": {},
   "source": [
    "### Putting it all together: names, genders and time\n",
    "\n",
    "Has the most common name for actors changed over time?\n",
    "\n",
    "Get the most common actor name for each decade in the XX century.\n",
    "\n",
    "Re-do the analysis on most common names, splitted for males and females.\n",
    "\n",
    "How many movies had a majority of females among their cast?\n",
    "\n",
    "What percentage of the total movies had a majority female cast?"
   ]
  },
  {
   "cell_type": "code",
   "execution_count": null,
   "id": "59c0f191-80f7-472e-b21c-7e9ea7fb3eb6",
   "metadata": {},
   "outputs": [],
   "source": [
    "select first_name,count(first_name) from actors as a\n",
    "-- join roles as r on a.id = r.actor_id\n",
    "-- join movies as m on m.id = r.movie_id\n",
    "group by first_name\n",
    "order by count(first_name) desc"
   ]
  },
  {
   "cell_type": "code",
   "execution_count": null,
   "id": "c5cf678a",
   "metadata": {},
   "outputs": [],
   "source": [
    "select count gender from actors\n",
    "join roles on a.id == r.actor_id\n",
    "join movies m.id == r.movie_id\n",
    "group by year\n",
    "sort descending"
   ]
  },
  {
   "cell_type": "code",
   "execution_count": null,
   "id": "3b42439c",
   "metadata": {},
   "outputs": [],
   "source": [
    "select count m.name from actors\n",
    "join roles on a.id == r.actor_id\n",
    "join movies m.id == r.movie_id\n",
    "group by gender\n",
    "sort descending"
   ]
  },
  {
   "cell_type": "code",
   "execution_count": null,
   "id": "d47afa05",
   "metadata": {},
   "outputs": [],
   "source": []
  },
  {
   "cell_type": "code",
   "execution_count": null,
   "id": "c4e5a632",
   "metadata": {},
   "outputs": [],
   "source": [
    "select gender, count(*) * 100.0 / (select count(*) from actors)\n",
    "from actors as a\n",
    "join roles as r on a.id == r.actor_id\n",
    "join movies as m on m.id == r.movie_id\n",
    "where gender = 'F'\n",
    "group by gender"
   ]
  },
  {
   "cell_type": "markdown",
   "id": "9f482d5e-43da-441c-bfaf-3b74bc92a311",
   "metadata": {},
   "source": [
    "### subqueries, views (temporary tables)\n",
    "Now, you will have to implement them in these challenges using the MAGIST database\n",
    "\n",
    "Select all the products from the health_beauty or perfumery categories that\n",
    "have been paid by credit card with a payment amount of more than 1000$,\n",
    "from orders that were purchased during 2018 and have a ‘delivered’ status\n",
    "\n",
    "For the products that you selected, get the following information:\n",
    "The average weight of those products\n",
    "The cities where there are sellers that sell those products\n",
    "The cities where there are customers who bought products\n"
   ]
  },
  {
   "cell_type": "code",
   "execution_count": null,
   "id": "6c492644-7ee4-45e4-82ba-f293cf42dfec",
   "metadata": {},
   "outputs": [],
   "source": [
    "select AVG(product_weight_g) from order_items as oi\n",
    "    join products as p on oi.product_id = p.product_id\n",
    "    left join orders on orders.order_id = oi.order_id\n",
    "    \n",
    "    where oi.order_id in\n",
    "    (select distinct od.order_id from orders as od\n",
    "\tleft join customers as c on c.customer_id = od.customer_id\n",
    "\tleft join order_payments as op on od.order_id = op.order_id\n",
    "    where op.payment_type = 'credit_card'\n",
    "    and op.payment_value > 1000.00\n",
    "    and od.order_status = 'delivered'\n",
    "\tand year(od.order_purchase_timestamp) = '2018'\n",
    "    )\n",
    "    and p.product_id in\n",
    "    (select distinct product_id from products\n",
    "\tjoin product_category_name_translation as pt on p.product_category_name = pt.product_category_name\n",
    "    where product_category_name_english in('health_beauty','perfumery')\n",
    "    )\n",
    "    and orders.customer_id in\n",
    "    (\n",
    "\tselect od.customer_id from orders as od\n",
    "    left join sellers as se on se.seller_id = od.customer_id\n",
    "\tleft join geo on zip_code_prefix = se.seller_zip_code_prefix\n",
    "    group by state\n",
    "    having count(order_id) > 1\n",
    "    )\n",
    "    and orders.customer_id in\n",
    "    (\n",
    "\tselect od.customer_id from orders as od\n",
    "    left join customers as c on c.customer_id = od.customer_id\n",
    "\tleft join geo on zip_code_prefix = c.customer_zip_code_prefix\n",
    "    group by state\n",
    "    having count(order_id) > 1 \n",
    "    )"
   ]
  },
  {
   "cell_type": "code",
   "execution_count": null,
   "id": "a52e16fa-3ad4-4c48-8c19-30187c6f2d63",
   "metadata": {},
   "outputs": [],
   "source": [
    "# stored routines\n",
    "USE `magist`;\n",
    "\n",
    "\n",
    "with product_CTE (weight,pid,oid)\n",
    "as (\n",
    "\tselect product_weight_g, oi.product_id, oi.order_id from order_items as oi\n",
    "    join products as p on oi.product_id = p.product_id    \n",
    "\tjoin product_category_name_translation as pt on p.product_category_name = pt.product_category_name\n",
    "    where product_category_name_english in('health_beauty','perfumery')\n",
    "),\n",
    "payment_CTE (oid, cid) as (\n",
    "\tselect distinct od.order_id,od.customer_id from orders as od\n",
    "\tleft join customers as c on c.customer_id = od.customer_id\n",
    "\tleft join order_payments as op on od.order_id = op.order_id\n",
    "    where op.payment_type = 'credit_card'\n",
    "    and op.payment_value > 1000.00\n",
    "    and od.order_status = 'delivered'\n",
    "\tand year(od.order_purchase_timestamp) = '2018'\n",
    "),\n",
    "seller_CTE (state,cid) as (\n",
    "\tselect state,orders.customer_id from orders\n",
    "    left join sellers as se on se.seller_id = orders.customer_id\n",
    "\tleft join geo on zip_code_prefix = se.seller_zip_code_prefix\n",
    "    group by state\n",
    "    having count(order_id) > 1\n",
    "),\n",
    "customer_CTE (state,cid) as (\n",
    "\tselect state,orders.customer_id from orders\n",
    "    left join customers as c on c.customer_id = orders.customer_id\n",
    "\tleft join geo on zip_code_prefix = c.customer_zip_code_prefix\n",
    "    group by state\n",
    "    having count(order_id) > 1 \n",
    ")\n",
    "select * from product_CTE as prc\n",
    "join payment_CTE as pyc on prc.oid = pyc.oid\n",
    "join seller_CTE as sc on sc.cid = pyc.cid\n",
    "join customer_CTE as cc on cc.cid = pyc.cid\n",
    "\n"
   ]
  },
  {
   "cell_type": "markdown",
   "id": "782e8c6d-8a9f-4886-96d1-6cad123c007d",
   "metadata": {},
   "source": [
    "### Create a stored procedure that gets as input:\n",
    "\n",
    "The name of a state (the full name from the table you imported).\n",
    "The name of a product category (in English).\n",
    "A year\n",
    "\n",
    "### And outputs \n",
    "from the given state & category & year\n",
    "the average score for reviews left by customers \n",
    "for orders with the status “delivered\"\n",
    "containing at least a product in the given category, \n",
    "and placed on the given year."
   ]
  },
  {
   "cell_type": "code",
   "execution_count": null,
   "id": "9993c7b3-18b4-41f5-a825-64df0eb84f1f",
   "metadata": {},
   "outputs": [],
   "source": [
    "# state, category, year\n",
    "\n",
    "create procedure avgReviewsDelivered(\n",
    "    in state mediumtext, \n",
    "    in year timestamp,\n",
    "    in category text,\n",
    "    out retval float)\n",
    "begin\n",
    "    select AVG(review_score) from order_items as oi\n",
    "\tjoin order_reviews as odr on oi.order_id = odr.order_id\n",
    "    join products as p on oi.product_id = p.product_id\n",
    "    \n",
    "    where oi.order_id in\n",
    "    (select distinct order_id from orders as od\n",
    "\tleft join customers as c on c.customer_id = od.customer_id\n",
    "\tleft join geo on zip_code_prefix = c.customer_zip_code_prefix \n",
    "    where geo.state = state\n",
    "    and od.order_status = 'delivered'\n",
    "\tand year(od.order_purchase_timestamp) = year\n",
    "    )\n",
    "    \n",
    "    and p.product_id in\n",
    "    (select distinct product_id from products\n",
    "\tjoin product_category_name_translation as pt on p.product_category_name = pt.product_category_name\n",
    "    where product_category_name_english = category)\n",
    "    \n",
    "end"
   ]
  },
  {
   "cell_type": "code",
   "execution_count": null,
   "id": "9fd2fd20-9a0f-4dfd-9d1b-6767cfffb3e2",
   "metadata": {},
   "outputs": [],
   "source": [
    "\n",
    "# test state = 'SP', order_status = 'delivered'\n",
    "# year = '2018', category = 'agro_industry_and_commerce'\n",
    "call avgReviewsDelivered(state,year,category,@retval);\n",
    "select @retval"
   ]
  },
  {
   "cell_type": "code",
   "execution_count": null,
   "id": "31303c2a",
   "metadata": {},
   "outputs": [],
   "source": []
  },
  {
   "attachments": {},
   "cell_type": "markdown",
   "id": "a04e46b3",
   "metadata": {},
   "source": [
    "### SQL Challenge\n",
    "\n",
    "### Expand the database\n",
    "* Find online a dataset that contains the abbreviations for the Brazilian states and the full names of the states. It does not need to contain any other information about the states, but it is ok if it does.\n",
    "\n",
    "* Import the dataset as an SQL table in the Magist database.\n",
    "\n",
    "* Create the appropriate relationships with other tables in the database.\n"
   ]
  },
  {
   "cell_type": "code",
   "execution_count": null,
   "id": "ae312f0d",
   "metadata": {},
   "outputs": [],
   "source": [
    "CREATE TABLE magist.brstates (\n",
    "  id INT PRIMARY KEY AUTO_INCREMENT,\n",
    "  name VARCHAR(255) NOT NULL,\n",
    "  code VARCHAR(255) NOT NULL,\n",
    ");\n",
    "\n",
    "\n",
    "INSERT INTO brstates (full_name, abbreviation)\n",
    "VALUES\n",
    "  ('Acre', 'AC'),\n",
    "  ('Alagoas', 'AL'),\n",
    "  ('Amapá', 'AP'),\n",
    "  ('Amazonas', 'AM'),\n",
    "  ('Bahia', 'BA'),\n",
    "  ('Ceará', 'CE'),\n",
    "  ('Distrito Federal', 'DF'),\n",
    "  ('Espírito Santo', 'ES'),\n",
    "  ('Goiás', 'GO'),\n",
    "  ('Maranhão', 'MA'),\n",
    "  ('Mato Grosso', 'MT'),\n",
    "  ('Mato Grosso do Sul', 'MS'),\n",
    "  ('Minas Gerais', 'MG'),\n",
    "  ('Pará', 'PA'),\n",
    "  ('Paraíba', 'PB'),\n",
    "  ('Paraná', 'PR'),\n",
    "  ('Pernambuco', 'PE'),\n",
    "  ('Piauí', 'PI'),\n",
    "  ('Rio de Janeiro', 'RJ'),\n",
    "  ('Rio Grande do Norte', 'RN'),\n",
    "  ('Rio Grande do Sul', 'RS'),\n",
    "  ('Rondônia', 'RO'),\n",
    "  ('Roraima', 'RR'),\n",
    "  ('Santa Catarina', 'SC'),\n",
    "  ('São Paulo', 'SP'),\n",
    "  ('Sergipe', 'SE'),\n",
    "  ('Tocantins', 'TO');\n"
   ]
  },
  {
   "cell_type": "code",
   "execution_count": null,
   "id": "36c87fab",
   "metadata": {},
   "outputs": [],
   "source": []
  },
  {
   "attachments": {},
   "cell_type": "markdown",
   "id": "4e343f25",
   "metadata": {},
   "source": [
    "### Analyze customer reviews\n",
    "* Find the average review score by state of the customer.\n",
    "\n",
    "* Do reviews containing positive words have a better score? Some Portuguese positive words are: “bom”, “otimo”, “gostei”, “recomendo” and “excelente”.\n",
    "\n",
    "* Considering only states having at least 30 reviews containing these words, what is the state with the highest score?\n",
    "* What is the state where there is a greater score change between all reviews and reviews containing positive words?"
   ]
  },
  {
   "cell_type": "code",
   "execution_count": null,
   "id": "55a015f1",
   "metadata": {},
   "outputs": [],
   "source": []
  },
  {
   "attachments": {},
   "cell_type": "markdown",
   "id": "bbb74a17",
   "metadata": {},
   "source": [
    "### Automatize a KPI\n",
    "* Create a stored procedure that gets as input:\n",
    "\n",
    "The name of a state (the full name from the table you imported).\n",
    "The name of a product category (in English).\n",
    "A year\n",
    "And outputs the average score for reviews left by customers from the given state for orders with the status “delivered, containing at least a product in the given category, and placed on the given year."
   ]
  },
  {
   "cell_type": "code",
   "execution_count": null,
   "id": "5a83ffa5",
   "metadata": {},
   "outputs": [],
   "source": [
    "CREATE PROCEDURE `GetStateProductCategoryScore` (\n",
    "  IN stateName VARCHAR(255),\n",
    "  IN categoryName VARCHAR(255),\n",
    "  IN orderYear INT,\n",
    "  OUT avgScore DECIMAL(10,2)\n",
    ")\n",
    "BEGIN\n",
    "  SELECT AVG(reviews.score) INTO avgScore\n",
    "  FROM orders\n",
    "  JOIN order_items ON orders.id = order_items.order_id\n",
    "  JOIN products ON order_items.product_id = products.id\n",
    "  JOIN reviews ON orders.id = reviews.order_id\n",
    "  JOIN addresses ON orders.shipping_address_id = addresses.id\n",
    "  JOIN states ON addresses.state_id = states.id\n",
    "  WHERE states.state = stateName\n",
    "    AND products.category = categoryName\n",
    "    AND orders.status = 'delivered'\n",
    "    AND YEAR(orders.created_at) = orderYear;\n",
    "END\n",
    "\n",
    "CALL GetStateProductCategoryScore('São Paulo', 'Electronics', 2022, @avgScore);\n",
    "SELECT @avgScore;"
   ]
  }
 ],
 "metadata": {
  "kernelspec": {
   "display_name": "Python 3 (ipykernel)",
   "language": "python",
   "name": "python3"
  },
  "language_info": {
   "codemirror_mode": {
    "name": "ipython",
    "version": 3
   },
   "file_extension": ".py",
   "mimetype": "text/x-python",
   "name": "python",
   "nbconvert_exporter": "python",
   "pygments_lexer": "ipython3",
   "version": "3.9.13"
  }
 },
 "nbformat": 4,
 "nbformat_minor": 5
}
