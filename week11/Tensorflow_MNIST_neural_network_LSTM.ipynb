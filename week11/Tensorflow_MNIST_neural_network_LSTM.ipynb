{
  "nbformat": 4,
  "nbformat_minor": 0,
  "metadata": {
    "colab": {
      "provenance": []
    },
    "kernelspec": {
      "name": "python3",
      "display_name": "Python 3"
    },
    "language_info": {
      "name": "python"
    }
  },
  "cells": [
    {
      "cell_type": "markdown",
      "source": [
        "## 2 layer neural network\n",
        "* MNIST image classification dataset"
      ],
      "metadata": {
        "id": "q5kMuPrQB5_w"
      }
    },
    {
      "cell_type": "code",
      "source": [
        "# https://saturncloud.io/blog/how-to-build-a-2layer-neural-network-in-tensorflow/\n",
        "\n",
        "# https://www.tensorflow.org/datasets/keras_example"
      ],
      "metadata": {
        "id": "Xlm80jK2B5M5"
      },
      "execution_count": null,
      "outputs": []
    },
    {
      "cell_type": "code",
      "source": [
        "import tensorflow as tf\n",
        "import numpy as np\n",
        "import matplotlib.pyplot as plt"
      ],
      "metadata": {
        "id": "pJ0aaDSmCDG1"
      },
      "execution_count": 1,
      "outputs": []
    },
    {
      "cell_type": "code",
      "source": [
        "# MNIST handwritten digit dataset\n",
        "# https://www.tensorflow.org/datasets/catalog/mnist\n",
        "\n",
        "mnist = tf.keras.datasets.mnist\n",
        "(x_train, y_train), (x_test, y_test) = mnist.load_data()"
      ],
      "metadata": {
        "id": "ZI0G3jIgCDJq"
      },
      "execution_count": null,
      "outputs": []
    },
    {
      "cell_type": "markdown",
      "source": [
        "### Model metrics\n",
        "loss: 0.0456 - accuracy: 0.9857"
      ],
      "metadata": {
        "id": "kKaYbBeBB8gt"
      }
    },
    {
      "cell_type": "code",
      "source": [
        "# preprocess\n",
        "x_train, x_test = x_train / 255.0, x_test / 255.0\n",
        "y_train = tf.keras.utils.to_categorical(y_train, 10)\n",
        "y_test = tf.keras.utils.to_categorical(y_test, 10)"
      ],
      "metadata": {
        "id": "Oi4_148oCDMR"
      },
      "execution_count": null,
      "outputs": []
    },
    {
      "cell_type": "code",
      "source": [
        "x_train, x_test = x_train.astype('float') / 255.0, x_test.astype('float') / 255.0\n",
        "x_train.shape"
      ],
      "metadata": {
        "id": "zaMvkrPvCDOe"
      },
      "execution_count": null,
      "outputs": []
    },
    {
      "cell_type": "code",
      "source": [
        "model = tf.keras.models.Sequential([\n",
        "  tf.keras.layers.Flatten(input_shape=(28, 28)),\n",
        "  tf.keras.layers.Dense(128, activation='relu'),\n",
        "  tf.keras.layers.Dense(10, activation='softmax')\n",
        "])\n",
        "model.compile(optimizer='adam',\n",
        "              loss='categorical_crossentropy',\n",
        "              metrics=['accuracy'])\n",
        "\n",
        "model.summary()"
      ],
      "metadata": {
        "id": "YT7xdkArCVN3"
      },
      "execution_count": null,
      "outputs": []
    },
    {
      "cell_type": "code",
      "source": [
        "# https://stackoverflow.com/questions/58352326/running-the-tensorflow-2-0-code-gives-valueerror-tf-function-decorated-functio\n",
        "\n",
        "tf.config.run_functions_eagerly(True)\n"
      ],
      "metadata": {
        "id": "02SxHdSMCVQN"
      },
      "execution_count": null,
      "outputs": []
    },
    {
      "cell_type": "code",
      "source": [
        "history = model.fit(x_train, y_train, epochs=5, validation_data=(x_test, y_test))"
      ],
      "metadata": {
        "id": "AkbbDO41B93j"
      },
      "execution_count": null,
      "outputs": []
    },
    {
      "cell_type": "code",
      "source": [
        "test_loss, test_acc = model.evaluate(x_test, y_test, verbose=2)\n",
        "print('Test accuracy:', test_acc)"
      ],
      "metadata": {
        "id": "BJRbtODyCcr1"
      },
      "execution_count": null,
      "outputs": []
    },
    {
      "cell_type": "code",
      "source": [],
      "metadata": {
        "id": "PrGmky53Ccvg"
      },
      "execution_count": null,
      "outputs": []
    },
    {
      "cell_type": "markdown",
      "source": [
        "## Model 2 metrics\n",
        "loss: 0.2331 - accuracy: 0.9316"
      ],
      "metadata": {
        "id": "bQMy8tSAB8qt"
      }
    },
    {
      "cell_type": "code",
      "source": [
        "# MNIST handwritten digit dataset\n",
        "# https://www.tensorflow.org/datasets/catalog/mnist\n",
        "\n",
        "mnist = tf.keras.datasets.mnist\n",
        "(x_train, y_train), (x_test, y_test) = mnist.load_data()"
      ],
      "metadata": {
        "id": "SyKiGAhBB_PX"
      },
      "execution_count": null,
      "outputs": []
    },
    {
      "cell_type": "code",
      "source": [
        "x_train, x_test = x_train/255.0, x_test/255.0\n",
        "y_train = tf.keras.utils.to_categorical(y_train, 10)\n",
        "y_test = tf.keras.utils.to_categorical(y_test, 10)"
      ],
      "metadata": {
        "id": "iCS-lwK4Ck1f"
      },
      "execution_count": null,
      "outputs": []
    },
    {
      "cell_type": "code",
      "source": [
        "# https://saturncloud.io/blog/simple-lstm-training-with-returnsequencestrue-in-keras\n",
        "# https://jasdeep06.github.io/posts/Understanding-LSTM-in-Tensorflow-MNIST/\n",
        "\n",
        "from keras.models import Sequential\n",
        "from keras.layers import LSTM, Dense, Flatten, Dropout\n",
        "\n",
        "model_lstm = Sequential()\n",
        "# model_lstm.add(Flatten(input_shape=(28, 28)))\n",
        "model_lstm.add(LSTM(10, activation='relu', input_shape=(28,28),return_sequences=True))\n",
        "# model_lstm.add(Dropout(0.2))\n",
        "model_lstm.add(LSTM(10))\n",
        "\n",
        "# model_lstm.add(Dense(128, activation='relu'))\n",
        "# model_lstm.add(Dropout(0.2))\n",
        "\n",
        "model_lstm.add(Dense(10, activation='softmax'))\n",
        "\n",
        "model_lstm.compile(optimizer='adam',\n",
        "              loss='categorical_crossentropy',\n",
        "              metrics=['accuracy'])\n",
        "# model_lstm.build(input_shape=(28, 28))\n",
        "model_lstm.summary()"
      ],
      "metadata": {
        "colab": {
          "base_uri": "https://localhost:8080/"
        },
        "id": "fYMteR-WCk4K",
        "outputId": "13ff638f-3987-4cee-c533-b4fa32f969bc"
      },
      "execution_count": 7,
      "outputs": [
        {
          "output_type": "stream",
          "name": "stdout",
          "text": [
            "Model: \"sequential_1\"\n",
            "_________________________________________________________________\n",
            " Layer (type)                Output Shape              Param #   \n",
            "=================================================================\n",
            " lstm_1 (LSTM)               (None, 28, 10)            1560      \n",
            "                                                                 \n",
            " lstm_2 (LSTM)               (None, 10)                840       \n",
            "                                                                 \n",
            " dense_1 (Dense)             (None, 10)                110       \n",
            "                                                                 \n",
            "=================================================================\n",
            "Total params: 2,510\n",
            "Trainable params: 2,510\n",
            "Non-trainable params: 0\n",
            "_________________________________________________________________\n"
          ]
        }
      ]
    },
    {
      "cell_type": "code",
      "source": [
        "history = model_lstm.fit(x_train, y_train, epochs=5, validation_data=(x_test, y_test))"
      ],
      "metadata": {
        "colab": {
          "base_uri": "https://localhost:8080/"
        },
        "id": "wnoor-Q3C0sc",
        "outputId": "8e9f677e-74c3-4375-9006-b13d2bfd7f42"
      },
      "execution_count": 9,
      "outputs": [
        {
          "output_type": "stream",
          "name": "stdout",
          "text": [
            "Epoch 1/5\n",
            "1875/1875 [==============================] - 53s 24ms/step - loss: 0.9827 - accuracy: 0.6824 - val_loss: 0.5208 - val_accuracy: 0.8559\n",
            "Epoch 2/5\n",
            "1875/1875 [==============================] - 38s 20ms/step - loss: 0.4091 - accuracy: 0.8843 - val_loss: 0.3305 - val_accuracy: 0.9051\n",
            "Epoch 3/5\n",
            "1875/1875 [==============================] - 41s 22ms/step - loss: 0.3030 - accuracy: 0.9134 - val_loss: 0.2489 - val_accuracy: 0.9279\n",
            "Epoch 4/5\n",
            "1875/1875 [==============================] - 39s 21ms/step - loss: 0.2503 - accuracy: 0.9285 - val_loss: 0.2139 - val_accuracy: 0.9386\n",
            "Epoch 5/5\n",
            "1875/1875 [==============================] - 41s 22ms/step - loss: 0.2184 - accuracy: 0.9374 - val_loss: 0.2039 - val_accuracy: 0.9417\n"
          ]
        }
      ]
    },
    {
      "cell_type": "markdown",
      "source": [
        "## Model 3 metrics\n",
        "loss: 0.1228 - accuracy: 0.9641"
      ],
      "metadata": {
        "id": "mbrLEAvOClFi"
      }
    },
    {
      "cell_type": "code",
      "source": [
        "# MNIST handwritten digit dataset\n",
        "# https://www.tensorflow.org/datasets/catalog/mnist\n",
        "\n",
        "mnist = tf.keras.datasets.mnist\n",
        "(x_train, y_train), (x_test, y_test) = mnist.load_data()"
      ],
      "metadata": {
        "colab": {
          "base_uri": "https://localhost:8080/"
        },
        "id": "3Hirk2p3C0va",
        "outputId": "0e19f103-fe34-4d0b-b171-19a62679b9a1"
      },
      "execution_count": 3,
      "outputs": [
        {
          "output_type": "stream",
          "name": "stdout",
          "text": [
            "Downloading data from https://storage.googleapis.com/tensorflow/tf-keras-datasets/mnist.npz\n",
            "11490434/11490434 [==============================] - 0s 0us/step\n"
          ]
        }
      ]
    },
    {
      "cell_type": "code",
      "source": [
        "x_train, x_test = x_train/255.0, x_test/255.0\n",
        "y_train = tf.keras.utils.to_categorical(y_train, 10)\n",
        "y_test = tf.keras.utils.to_categorical(y_test, 10)"
      ],
      "metadata": {
        "id": "hDUNljHYC64Z"
      },
      "execution_count": 4,
      "outputs": []
    },
    {
      "cell_type": "code",
      "source": [
        "# https://wizardforcel.gitbooks.io/keras-tutorials-tgjeon/content/07_lstm.html\n",
        "\n",
        "from keras.models import Sequential\n",
        "from keras.layers import LSTM, Dense, Flatten, Dropout\n",
        "\n",
        "model3 = Sequential()\n",
        "model3.add(LSTM(30, input_shape=(28,28)))\n",
        "model3.add(Dense(10, activation='softmax'))\n",
        "model3.compile(optimizer='rmsprop', loss='categorical_crossentropy', metrics=['accuracy'])\n",
        "model3.summary()"
      ],
      "metadata": {
        "colab": {
          "base_uri": "https://localhost:8080/"
        },
        "id": "oG25wftmC7As",
        "outputId": "6d73e3d7-09c8-43e5-b89d-0333e6efb997"
      },
      "execution_count": 8,
      "outputs": [
        {
          "output_type": "stream",
          "name": "stdout",
          "text": [
            "Model: \"sequential_1\"\n",
            "_________________________________________________________________\n",
            " Layer (type)                Output Shape              Param #   \n",
            "=================================================================\n",
            " lstm_1 (LSTM)               (None, 28, 10)            1560      \n",
            "                                                                 \n",
            " lstm_2 (LSTM)               (None, 10)                840       \n",
            "                                                                 \n",
            " dense_1 (Dense)             (None, 10)                110       \n",
            "                                                                 \n",
            "=================================================================\n",
            "Total params: 2,510\n",
            "Trainable params: 2,510\n",
            "Non-trainable params: 0\n",
            "_________________________________________________________________\n"
          ]
        }
      ]
    },
    {
      "cell_type": "code",
      "source": [
        "history = model3.fit(x_train, y_train, epochs=5, validation_data=(x_test, y_test))"
      ],
      "metadata": {
        "colab": {
          "base_uri": "https://localhost:8080/"
        },
        "id": "vRsWymIrC7Dq",
        "outputId": "4e80f473-0120-4703-9fb3-ba7d7a57c066"
      },
      "execution_count": 6,
      "outputs": [
        {
          "output_type": "stream",
          "name": "stdout",
          "text": [
            "Epoch 1/5\n",
            "1875/1875 [==============================] - 26s 13ms/step - loss: 0.7355 - accuracy: 0.7664 - val_loss: 0.3529 - val_accuracy: 0.8946\n",
            "Epoch 2/5\n",
            "1875/1875 [==============================] - 22s 12ms/step - loss: 0.2524 - accuracy: 0.9241 - val_loss: 0.1704 - val_accuracy: 0.9506\n",
            "Epoch 3/5\n",
            "1875/1875 [==============================] - 24s 13ms/step - loss: 0.1613 - accuracy: 0.9520 - val_loss: 0.1596 - val_accuracy: 0.9517\n",
            "Epoch 4/5\n",
            "1875/1875 [==============================] - 32s 17ms/step - loss: 0.1257 - accuracy: 0.9631 - val_loss: 0.1166 - val_accuracy: 0.9667\n",
            "Epoch 5/5\n",
            "1875/1875 [==============================] - 26s 14ms/step - loss: 0.1053 - accuracy: 0.9691 - val_loss: 0.0948 - val_accuracy: 0.9726\n"
          ]
        }
      ]
    },
    {
      "cell_type": "code",
      "source": [],
      "metadata": {
        "id": "dobm-PufDJXb"
      },
      "execution_count": null,
      "outputs": []
    },
    {
      "cell_type": "code",
      "execution_count": null,
      "metadata": {
        "id": "39FSO3tz-6yM"
      },
      "outputs": [],
      "source": [
        "# https://github.com/kevinioi/MNIST-Classification/blob/master/kerasCNN_fashion_mnist.ipynb"
      ]
    },
    {
      "cell_type": "code",
      "source": [
        "# https://www.kaggle.com/code/arezoodahesh/fashion-mnist-cnn-model\n",
        "\n",
        "import tensorflow as tf\n",
        "from tensorflow import keras\n",
        "import numpy as np\n",
        "import matplotlib.pyplot as plt\n",
        "\n",
        "data = keras.datasets.fashion_mnist\n",
        "\n",
        "# (X_train,y_train),(X_test,y_test) = fashion.load_data()\n",
        "(train_images, train_labels), (test_images, test_labels) = data.load_data()\n",
        "class_names = ['T-shirt/top', 'Trouser', 'Pullover', 'Dress', 'Coat',\n",
        "               'Sandal', 'Shirt', 'Sneaker', 'Bag', 'Ankle boot']\n",
        "\n",
        "train_images = train_images/255.0\n",
        "test_images = test_images/255.0\n",
        "\n",
        "# model = keras.Sequential([\n",
        "#     keras.layers.Flatten(input_shape=(28, 28)),\n",
        "#     keras.layers.Dense(128, activation=\"relu\"),  # number of hidden neurons\n",
        "#     keras.layers.Dense(10, activation=\"softmax\")  # activation function used is softmax\n",
        "# ])\n",
        "model3 = Sequential()\n",
        "model3.add(LSTM(30, input_shape=(28,28)))\n",
        "model3.add(Dense(10, activation='softmax'))\n",
        "'''creating the neural network model in sequence of input hidden and output alyer'''\n",
        "\n",
        "model3.compile(optimizer=\"adam\", loss=\"sparse_categorical_crossentropy\", metrics=[\"accuracy\"])\n",
        "# search for adam optimizer and sparse_categorical_crossentropy for math behind this.\n",
        "model3.fit(train_images, train_labels, epochs=5)  # number of time we feed system the image.\n",
        "'''greater epoch doesn't guarantee better model try 5,10 epochs to test'''\n",
        "\n",
        "# test_loss, test_acc = model.evaluate(test_images, test_labels)\n",
        "\n",
        "# print(\"Testing accuracy:\", test_acc)\n",
        "'''use this to check accuracy'''\n",
        "\n",
        "prediction = model3.predict(test_images)\n",
        "\n",
        "for i in range(5):\n",
        "    plt.grid(False)\n",
        "    plt.imshow(test_images[i], cmap=plt.cm.binary)\n",
        "    plt.xlabel(\"Actual:\" + class_names[(test_labels[i])])\n",
        "    plt.title(\"Prediction \" + class_names[np.argmax(prediction[i])])\n",
        "    plt.show()\n",
        "# display the images with actual image data and predicted image data.\n",
        "# print(class_names[np.argmax(prediction[0])])"
      ],
      "metadata": {
        "id": "z6sIqoik-7M7",
        "colab": {
          "base_uri": "https://localhost:8080/",
          "height": 1000
        },
        "outputId": "cd0592e2-37df-4800-9b2f-83ca66357804"
      },
      "execution_count": 10,
      "outputs": [
        {
          "output_type": "stream",
          "name": "stdout",
          "text": [
            "Downloading data from https://storage.googleapis.com/tensorflow/tf-keras-datasets/train-labels-idx1-ubyte.gz\n",
            "29515/29515 [==============================] - 0s 0us/step\n",
            "Downloading data from https://storage.googleapis.com/tensorflow/tf-keras-datasets/train-images-idx3-ubyte.gz\n",
            "26421880/26421880 [==============================] - 0s 0us/step\n",
            "Downloading data from https://storage.googleapis.com/tensorflow/tf-keras-datasets/t10k-labels-idx1-ubyte.gz\n",
            "5148/5148 [==============================] - 0s 0us/step\n",
            "Downloading data from https://storage.googleapis.com/tensorflow/tf-keras-datasets/t10k-images-idx3-ubyte.gz\n",
            "4422102/4422102 [==============================] - 0s 0us/step\n",
            "Epoch 1/5\n",
            "1875/1875 [==============================] - 24s 11ms/step - loss: 0.7164 - accuracy: 0.7460\n",
            "Epoch 2/5\n",
            "1875/1875 [==============================] - 22s 12ms/step - loss: 0.4854 - accuracy: 0.8265\n",
            "Epoch 3/5\n",
            "1875/1875 [==============================] - 24s 13ms/step - loss: 0.4337 - accuracy: 0.8442\n",
            "Epoch 4/5\n",
            "1875/1875 [==============================] - 24s 13ms/step - loss: 0.4008 - accuracy: 0.8557\n",
            "Epoch 5/5\n",
            "1875/1875 [==============================] - 27s 15ms/step - loss: 0.3833 - accuracy: 0.8630\n",
            "313/313 [==============================] - 2s 5ms/step\n"
          ]
        },
        {
          "output_type": "display_data",
          "data": {
            "text/plain": [
              "<Figure size 640x480 with 1 Axes>"
            ],
            "image/png": "[encoded data removed]"
          },
          "metadata": {}
        },
        {
          "output_type": "display_data",
          "data": {
            "text/plain": [
              "<Figure size 640x480 with 1 Axes>"
            ],
            "image/png": "[encoded data removed]"
          },
          "metadata": {}
        },
        {
          "output_type": "display_data",
          "data": {
            "text/plain": [
              "<Figure size 640x480 with 1 Axes>"
            ],
            "image/png": "[encoded data removed]"
          },
          "metadata": {}
        },
        {
          "output_type": "display_data",
          "data": {
            "text/plain": [
              "<Figure size 640x480 with 1 Axes>"
            ],
            "image/png": "[encoded data removed]"
          },
          "metadata": {}
        },
        {
          "output_type": "display_data",
          "data": {
            "text/plain": [
              "<Figure size 640x480 with 1 Axes>"
            ],
            "image/png": "[encoded data removed]"
          },
          "metadata": {}
        }
      ]
    },
    {
      "cell_type": "code",
      "source": [],
      "metadata": {
        "id": "X_5J0Qn7-7PT"
      },
      "execution_count": null,
      "outputs": []
    },
    {
      "cell_type": "code",
      "source": [
        "import matplotlib.pyplot as plt\n",
        "\n",
        "plt.figure(figsize=(10,10))\n",
        "for i in range(16):\n",
        "    plt.subplot(4,4,i+1)\n",
        "    plt.xticks([])\n",
        "    plt.yticks([])\n",
        "    plt.grid(False)\n",
        "    plt.imshow(train_images[i], cmap=plt.cm.binary)\n",
        "    plt.title(\"Image label is: {}\".format(train_labels[i]))\n",
        "plt.show()"
      ],
      "metadata": {
        "id": "b5_ajtf8FL0z"
      },
      "execution_count": null,
      "outputs": []
    },
    {
      "cell_type": "code",
      "source": [],
      "metadata": {
        "id": "NQDGzHDSFL3X"
      },
      "execution_count": null,
      "outputs": []
    },
    {
      "cell_type": "code",
      "source": [],
      "metadata": {
        "id": "Ab5-2Lo6-7UR"
      },
      "execution_count": null,
      "outputs": []
    }
  ]
}